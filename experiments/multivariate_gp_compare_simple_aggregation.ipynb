{
 "cells": [
  {
   "cell_type": "code",
   "execution_count": 1,
   "metadata": {
    "colab": {},
    "colab_type": "code",
    "executionInfo": {
     "elapsed": 1044,
     "status": "ok",
     "timestamp": 1592479524645,
     "user": {
      "displayName": "Fred Che",
      "photoUrl": "",
      "userId": "07612464138287230381"
     },
     "user_tz": -120
    },
    "id": "FURHvuGKhZdq"
   },
   "outputs": [],
   "source": [
    "%load_ext autoreload\n",
    "%autoreload 2"
   ]
  },
  {
   "cell_type": "code",
   "execution_count": 2,
   "metadata": {
    "colab": {
     "base_uri": "https://localhost:8080/",
     "height": 68
    },
    "colab_type": "code",
    "executionInfo": {
     "elapsed": 4179,
     "status": "ok",
     "timestamp": 1592479528073,
     "user": {
      "displayName": "Fred Che",
      "photoUrl": "",
      "userId": "07612464138287230381"
     },
     "user_tz": -120
    },
    "id": "sf1IdGXyHp9b",
    "outputId": "5fde6dfe-7401-45dd-bb8a-73ed40f5a0fd"
   },
   "outputs": [
    {
     "name": "stdout",
     "output_type": "stream",
     "text": [
      "Running on Colab?\n",
      "no\n",
      "Top level directory is set to /Users/frederik/Google Drive/University/UC3M/TFM/cnp_repo/neural-processes\n"
     ]
    }
   ],
   "source": [
    "import os\n",
    "google_colab = input('Running on Colab?\\n')\n",
    "if google_colab=='yes' : \n",
    "    BASE_DIR = 'University/UC3M/TFM/cnp_repo/neural-processes'\n",
    "\n",
    "    # Load the Drive helper and mount\n",
    "    from google.colab import drive\n",
    "\n",
    "    # This will prompt for authorization.\n",
    "    drive.mount('/content/drive')\n",
    "\n",
    "      # Change to assignment directory ('Lab_Exercises_DASS/Lab_Exercise4' by default)\n",
    "    import os\n",
    "    os.chdir(f'/content/drive/My Drive/{BASE_DIR}')\n",
    "    \n",
    "else:\n",
    "    import sys, os \n",
    "    BASE_DIR = '/'.join(os.getcwd().split('/')[:-1])\n",
    "    sys.path.append(BASE_DIR)\n",
    "    print(f'Top level directory is set to {BASE_DIR}')\n",
    "    os.chdir(BASE_DIR)\n",
    "\n",
    "    \n",
    "# custom imports\n",
    "from cnp.trainer import RegressionTrainer\n",
    "from cnp.datageneration import DataGenerator\n",
    "from cnp.helpers import Helper\n",
    "from cnp.cnp import RegressionCNP\n",
    "\n",
    "\n",
    "# import utils\n",
    "import json\n",
    "from datetime import date"
   ]
  },
  {
   "cell_type": "code",
   "execution_count": 3,
   "metadata": {
    "colab": {},
    "colab_type": "code",
    "executionInfo": {
     "elapsed": 4058,
     "status": "ok",
     "timestamp": 1592479528074,
     "user": {
      "displayName": "Fred Che",
      "photoUrl": "",
      "userId": "07612464138287230381"
     },
     "user_tz": -120
    },
    "id": "dgX31aWtVX9P",
    "pycharm": {
     "is_executing": false
    }
   },
   "outputs": [],
   "source": [
    "\n",
    "# we first get the variables for the configuration file\n",
    "os.environ[\"CHECKPOINT_DIR\"] = \"checkpoints\"\n",
    "os.environ[\"MODEL_PARAMS\"] = \"default\"\n",
    "\n",
    "CHECKPOINT_DIR = os.environ['CHECKPOINT_DIR']\n",
    "MODEL_PARAMS = os.environ['MODEL_PARAMS']\n",
    "config_dir = os.path.join('configs')"
   ]
  },
  {
   "cell_type": "markdown",
   "metadata": {
    "colab_type": "text",
    "id": "2Uh33yfUVX9U"
   },
   "source": [
    "## Simple Mean Experiment "
   ]
  },
  {
   "cell_type": "code",
   "execution_count": 4,
   "metadata": {
    "colab": {},
    "colab_type": "code",
    "executionInfo": {
     "elapsed": 908,
     "status": "ok",
     "timestamp": 1592479537244,
     "user": {
      "displayName": "Fred Che",
      "photoUrl": "",
      "userId": "07612464138287230381"
     },
     "user_tz": -120
    },
    "id": "v86IWsKWJpfv"
   },
   "outputs": [],
   "source": [
    "with open(os.path.join(config_dir,'multivariate_gp_compare_simple_aggregation.json')) as f:\n",
    "    file = f.read()\n",
    "    default_conf = json.loads(file)"
   ]
  },
  {
   "cell_type": "code",
   "execution_count": 5,
   "metadata": {
    "colab": {
     "base_uri": "https://localhost:8080/",
     "height": 612
    },
    "colab_type": "code",
    "executionInfo": {
     "elapsed": 601,
     "status": "ok",
     "timestamp": 1592479538738,
     "user": {
      "displayName": "Fred Che",
      "photoUrl": "",
      "userId": "07612464138287230381"
     },
     "user_tz": -120
    },
    "id": "IqO8ADN7KlEx",
    "outputId": "00378540-01ca-47db-f171-a51c43fdd56c"
   },
   "outputs": [
    {
     "data": {
      "text/plain": [
       "{'cnp_params': {'dimout': 2,\n",
       "  'dimr': 128,\n",
       "  'dimx': 4,\n",
       "  'dimy': 1,\n",
       "  'dropout': 0,\n",
       "  'max_contx': 10,\n",
       "  'max_funcs': 10,\n",
       "  'min_contx': 3,\n",
       "  'min_funcs': 2,\n",
       "  'fix_num_contxt': False,\n",
       "  'num_layers_decoder': 3,\n",
       "  'num_layers_encoder': 4,\n",
       "  'num_neurons_decoder': 128,\n",
       "  'num_neurons_encoder': 128,\n",
       "  'aggregation_kwargs': {'aggregator': None,\n",
       "   'simple_aggregator_type': 'mean'}},\n",
       " 'data_kwargs': {'datagenerator': 'cnp.datageneration.GaussianProcess',\n",
       "  'num_instances_train': 64,\n",
       "  'num_instances_vali': 10,\n",
       "  'num_instances_test': 10,\n",
       "  'noise': 0.0004,\n",
       "  'length_scale': 0.4,\n",
       "  'gamma': 1},\n",
       " 'experiment_params': {'dim_observation': 400,\n",
       "  'lr': 0.001,\n",
       "  'n_epochs': 200000,\n",
       "  'range_x': [-2, 2],\n",
       "  'seed': None,\n",
       "  'dimx': 4,\n",
       "  'train_on_gpu': False},\n",
       " 'train_kwargs': {'batch_size_train': 64,\n",
       "  'batch_size_vali': 3,\n",
       "  'batch_size_test': 3,\n",
       "  'plotting': True,\n",
       "  'print_after': 1000}}"
      ]
     },
     "execution_count": 5,
     "metadata": {},
     "output_type": "execute_result"
    }
   ],
   "source": [
    "default_conf"
   ]
  },
  {
   "cell_type": "code",
   "execution_count": 6,
   "metadata": {
    "colab": {
     "base_uri": "https://localhost:8080/",
     "height": 357
    },
    "colab_type": "code",
    "executionInfo": {
     "elapsed": 898,
     "status": "ok",
     "timestamp": 1592479543333,
     "user": {
      "displayName": "Fred Che",
      "photoUrl": "",
      "userId": "07612464138287230381"
     },
     "user_tz": -120
    },
    "id": "lqU3MXzPJpf0",
    "outputId": "c6371aec-f5ee-4bb6-b81e-b9171a6dbd6e"
   },
   "outputs": [
    {
     "name": "stdout",
     "output_type": "stream",
     "text": [
      "Decoder(\n",
      "  (_process_input): Sequential(\n",
      "    (0): Linear(in_features=132, out_features=128, bias=True)\n",
      "    (1): ReLU()\n",
      "    (2): Linear(in_features=128, out_features=128, bias=True)\n",
      "    (3): ReLU()\n",
      "    (4): Linear(in_features=128, out_features=2, bias=True)\n",
      "  )\n",
      ")\n",
      "Encoder(\n",
      "  (_process_input): Sequential(\n",
      "    (0): Linear(in_features=5, out_features=128, bias=True)\n",
      "    (1): ReLU()\n",
      "    (2): Linear(in_features=128, out_features=128, bias=True)\n",
      "    (3): ReLU()\n",
      "    (4): Linear(in_features=128, out_features=128, bias=True)\n",
      "    (5): ReLU()\n",
      "    (6): Linear(in_features=128, out_features=128, bias=True)\n",
      "  )\n",
      ")\n",
      "None\n"
     ]
    }
   ],
   "source": [
    "CondNeuralProcess = RegressionCNP(**default_conf['cnp_params'])"
   ]
  },
  {
   "cell_type": "code",
   "execution_count": 7,
   "metadata": {
    "colab": {},
    "colab_type": "code",
    "executionInfo": {
     "elapsed": 560,
     "status": "ok",
     "timestamp": 1592479544551,
     "user": {
      "displayName": "Fred Che",
      "photoUrl": "",
      "userId": "07612464138287230381"
     },
     "user_tz": -120
    },
    "id": "5ihjWlKq5ylu"
   },
   "outputs": [],
   "source": [
    "trainer = RegressionTrainer(\n",
    "    cnp=CondNeuralProcess,\n",
    "    data_kwargs=default_conf['data_kwargs'],\n",
    "    **default_conf['experiment_params'])\n",
    "                         "
   ]
  },
  {
   "cell_type": "code",
   "execution_count": null,
   "metadata": {
    "colab": {
     "base_uri": "https://localhost:8080/",
     "height": 1000
    },
    "colab_type": "code",
    "executionInfo": {
     "elapsed": 4351761,
     "status": "ok",
     "timestamp": 1592483896825,
     "user": {
      "displayName": "Fred Che",
      "photoUrl": "",
      "userId": "07612464138287230381"
     },
     "user_tz": -120
    },
    "id": "Herzps7VVX91",
    "outputId": "f7ada405-90c1-43c1-ff28-cf0d820a1b6b",
    "scrolled": true
   },
   "outputs": [
    {
     "name": "stderr",
     "output_type": "stream",
     "text": [
      "  0%|          | 7/200000 [00:00<2:33:32, 21.71it/s]"
     ]
    },
    {
     "name": "stdout",
     "output_type": "stream",
     "text": [
      "Mean training loss at epoch 0 :                         1.416\n",
      "Mean Validation loss after 0 equals                     1.417\n",
      "\n",
      "Validation loss for the function plotted:                 1.441\n"
     ]
    },
    {
     "name": "stderr",
     "output_type": "stream",
     "text": [
      "  1%|          | 1006/200000 [00:29<1:19:27, 41.74it/s]"
     ]
    },
    {
     "name": "stdout",
     "output_type": "stream",
     "text": [
      "Mean training loss at epoch 1000 :                         1.248\n",
      "Mean Validation loss after 1000 equals                     1.571\n",
      "\n",
      "Validation loss for the function plotted:                 1.463\n"
     ]
    },
    {
     "name": "stderr",
     "output_type": "stream",
     "text": [
      "  1%|          | 2005/200000 [00:56<1:13:16, 45.03it/s]"
     ]
    },
    {
     "name": "stdout",
     "output_type": "stream",
     "text": [
      "Mean training loss at epoch 2000 :                         1.303\n",
      "Mean Validation loss after 2000 equals                     1.514\n",
      "\n",
      "Validation loss for the function plotted:                 1.569\n"
     ]
    },
    {
     "name": "stderr",
     "output_type": "stream",
     "text": [
      "  2%|▏         | 3005/200000 [01:18<1:15:48, 43.31it/s]"
     ]
    },
    {
     "name": "stdout",
     "output_type": "stream",
     "text": [
      "Mean training loss at epoch 3000 :                         1.291\n",
      "Mean Validation loss after 3000 equals                     1.763\n",
      "\n",
      "Validation loss for the function plotted:                 2.131\n"
     ]
    },
    {
     "name": "stderr",
     "output_type": "stream",
     "text": [
      "  2%|▏         | 4006/200000 [01:42<1:12:05, 45.31it/s]"
     ]
    },
    {
     "name": "stdout",
     "output_type": "stream",
     "text": [
      "Mean training loss at epoch 4000 :                         1.3\n",
      "Mean Validation loss after 4000 equals                     2.382\n",
      "\n",
      "Validation loss for the function plotted:                 2.934\n"
     ]
    },
    {
     "name": "stderr",
     "output_type": "stream",
     "text": [
      "  3%|▎         | 5008/200000 [02:06<1:14:06, 43.86it/s]"
     ]
    },
    {
     "name": "stdout",
     "output_type": "stream",
     "text": [
      "Mean training loss at epoch 5000 :                         0.848\n",
      "Mean Validation loss after 5000 equals                     1.667\n",
      "\n",
      "Validation loss for the function plotted:                 1.338\n"
     ]
    },
    {
     "name": "stderr",
     "output_type": "stream",
     "text": [
      "  3%|▎         | 6005/200000 [02:35<1:15:45, 42.68it/s]"
     ]
    },
    {
     "name": "stdout",
     "output_type": "stream",
     "text": [
      "Mean training loss at epoch 6000 :                         1.384\n",
      "Mean Validation loss after 6000 equals                     1.666\n",
      "\n",
      "Validation loss for the function plotted:                 1.49\n"
     ]
    },
    {
     "name": "stderr",
     "output_type": "stream",
     "text": [
      "  4%|▎         | 7005/200000 [03:03<1:56:25, 27.63it/s]"
     ]
    },
    {
     "name": "stdout",
     "output_type": "stream",
     "text": [
      "Mean training loss at epoch 7000 :                         1.413\n",
      "Mean Validation loss after 7000 equals                     1.82\n",
      "\n",
      "Validation loss for the function plotted:                 1.726\n"
     ]
    },
    {
     "name": "stderr",
     "output_type": "stream",
     "text": [
      "  4%|▍         | 8007/200000 [03:28<1:27:30, 36.56it/s]"
     ]
    },
    {
     "name": "stdout",
     "output_type": "stream",
     "text": [
      "Mean training loss at epoch 8000 :                         1.148\n",
      "Mean Validation loss after 8000 equals                     1.598\n",
      "\n",
      "Validation loss for the function plotted:                 1.356\n"
     ]
    },
    {
     "name": "stderr",
     "output_type": "stream",
     "text": [
      "  5%|▍         | 9008/200000 [03:54<1:14:53, 42.50it/s]"
     ]
    },
    {
     "name": "stdout",
     "output_type": "stream",
     "text": [
      "Mean training loss at epoch 9000 :                         1.258\n",
      "Mean Validation loss after 9000 equals                     1.552\n",
      "\n",
      "Validation loss for the function plotted:                 1.678\n"
     ]
    },
    {
     "name": "stderr",
     "output_type": "stream",
     "text": [
      "  5%|▌         | 10009/200000 [04:18<1:10:06, 45.17it/s]"
     ]
    },
    {
     "name": "stdout",
     "output_type": "stream",
     "text": [
      "Mean training loss at epoch 10000 :                         1.059\n",
      "Mean Validation loss after 10000 equals                     1.589\n",
      "\n",
      "Validation loss for the function plotted:                 1.385\n"
     ]
    },
    {
     "name": "stderr",
     "output_type": "stream",
     "text": [
      "  6%|▌         | 11006/200000 [04:40<1:12:57, 43.17it/s]"
     ]
    },
    {
     "name": "stdout",
     "output_type": "stream",
     "text": [
      "Mean training loss at epoch 11000 :                         1.34\n",
      "Mean Validation loss after 11000 equals                     1.989\n",
      "\n",
      "Validation loss for the function plotted:                 3.072\n"
     ]
    },
    {
     "name": "stderr",
     "output_type": "stream",
     "text": [
      "  6%|▌         | 12007/200000 [05:03<1:11:18, 43.94it/s]"
     ]
    },
    {
     "name": "stdout",
     "output_type": "stream",
     "text": [
      "Mean training loss at epoch 12000 :                         1.218\n",
      "Mean Validation loss after 12000 equals                     1.633\n",
      "\n",
      "Validation loss for the function plotted:                 1.534\n"
     ]
    },
    {
     "name": "stderr",
     "output_type": "stream",
     "text": [
      "  7%|▋         | 13006/200000 [05:27<1:11:22, 43.66it/s]"
     ]
    },
    {
     "name": "stdout",
     "output_type": "stream",
     "text": [
      "Mean training loss at epoch 13000 :                         1.094\n",
      "Mean Validation loss after 13000 equals                     1.634\n",
      "\n",
      "Validation loss for the function plotted:                 1.504\n"
     ]
    },
    {
     "name": "stderr",
     "output_type": "stream",
     "text": [
      "  7%|▋         | 14008/200000 [05:53<1:22:00, 37.80it/s]"
     ]
    },
    {
     "name": "stdout",
     "output_type": "stream",
     "text": [
      "Mean training loss at epoch 14000 :                         1.154\n",
      "Mean Validation loss after 14000 equals                     2.168\n",
      "\n",
      "Validation loss for the function plotted:                 1.446\n"
     ]
    },
    {
     "name": "stderr",
     "output_type": "stream",
     "text": [
      "  8%|▊         | 15009/200000 [06:23<1:10:02, 44.02it/s]"
     ]
    },
    {
     "name": "stdout",
     "output_type": "stream",
     "text": [
      "Mean training loss at epoch 15000 :                         1.324\n",
      "Mean Validation loss after 15000 equals                     2.285\n",
      "\n",
      "Validation loss for the function plotted:                 2.745\n"
     ]
    },
    {
     "name": "stderr",
     "output_type": "stream",
     "text": [
      "  8%|▊         | 16007/200000 [06:45<1:16:44, 39.96it/s]"
     ]
    },
    {
     "name": "stdout",
     "output_type": "stream",
     "text": [
      "Mean training loss at epoch 16000 :                         1.342\n",
      "Mean Validation loss after 16000 equals                     1.661\n",
      "\n",
      "Validation loss for the function plotted:                 1.614\n"
     ]
    },
    {
     "name": "stderr",
     "output_type": "stream",
     "text": [
      "  9%|▊         | 17009/200000 [07:09<1:32:09, 33.09it/s]"
     ]
    },
    {
     "name": "stdout",
     "output_type": "stream",
     "text": [
      "Mean training loss at epoch 17000 :                         1.328\n",
      "Mean Validation loss after 17000 equals                     1.671\n",
      "\n",
      "Validation loss for the function plotted:                 1.63\n"
     ]
    },
    {
     "name": "stderr",
     "output_type": "stream",
     "text": [
      "  9%|▉         | 18009/200000 [07:34<1:08:44, 44.12it/s]"
     ]
    },
    {
     "name": "stdout",
     "output_type": "stream",
     "text": [
      "Mean training loss at epoch 18000 :                         1.332\n",
      "Mean Validation loss after 18000 equals                     1.747\n",
      "\n",
      "Validation loss for the function plotted:                 2.126\n"
     ]
    },
    {
     "name": "stderr",
     "output_type": "stream",
     "text": [
      " 10%|▉         | 19005/200000 [07:56<1:21:56, 36.81it/s]"
     ]
    },
    {
     "name": "stdout",
     "output_type": "stream",
     "text": [
      "Mean training loss at epoch 19000 :                         1.504\n",
      "Mean Validation loss after 19000 equals                     1.676\n",
      "\n",
      "Validation loss for the function plotted:                 1.412\n"
     ]
    },
    {
     "name": "stderr",
     "output_type": "stream",
     "text": [
      " 10%|█         | 20005/200000 [08:23<1:10:22, 42.62it/s]"
     ]
    },
    {
     "name": "stdout",
     "output_type": "stream",
     "text": [
      "Mean training loss at epoch 20000 :                         1.142\n",
      "Mean Validation loss after 20000 equals                     1.759\n",
      "\n",
      "Validation loss for the function plotted:                 1.524\n"
     ]
    },
    {
     "name": "stderr",
     "output_type": "stream",
     "text": [
      " 11%|█         | 21006/200000 [08:48<1:36:25, 30.94it/s]"
     ]
    },
    {
     "name": "stdout",
     "output_type": "stream",
     "text": [
      "Mean training loss at epoch 21000 :                         1.045\n",
      "Mean Validation loss after 21000 equals                     1.651\n",
      "\n",
      "Validation loss for the function plotted:                 1.65\n"
     ]
    },
    {
     "name": "stderr",
     "output_type": "stream",
     "text": [
      " 11%|█         | 22004/200000 [09:21<1:41:08, 29.33it/s]"
     ]
    },
    {
     "name": "stdout",
     "output_type": "stream",
     "text": [
      "Mean training loss at epoch 22000 :                         1.376\n",
      "Mean Validation loss after 22000 equals                     1.896\n",
      "\n",
      "Validation loss for the function plotted:                 3.069\n"
     ]
    },
    {
     "name": "stderr",
     "output_type": "stream",
     "text": [
      " 12%|█▏        | 23006/200000 [09:59<2:05:26, 23.52it/s]"
     ]
    },
    {
     "name": "stdout",
     "output_type": "stream",
     "text": [
      "Mean training loss at epoch 23000 :                         1.091\n",
      "Mean Validation loss after 23000 equals                     1.699\n",
      "\n",
      "Validation loss for the function plotted:                 1.96\n"
     ]
    },
    {
     "name": "stderr",
     "output_type": "stream",
     "text": [
      " 12%|█▏        | 24004/200000 [10:38<1:15:00, 39.11it/s] "
     ]
    },
    {
     "name": "stdout",
     "output_type": "stream",
     "text": [
      "Mean training loss at epoch 24000 :                         1.318\n",
      "Mean Validation loss after 24000 equals                     1.647\n",
      "\n",
      "Validation loss for the function plotted:                 1.386\n"
     ]
    },
    {
     "name": "stderr",
     "output_type": "stream",
     "text": [
      " 13%|█▎        | 25006/200000 [11:02<1:04:36, 45.14it/s]"
     ]
    },
    {
     "name": "stdout",
     "output_type": "stream",
     "text": [
      "Mean training loss at epoch 25000 :                         1.684\n",
      "Mean Validation loss after 25000 equals                     1.752\n",
      "\n",
      "Validation loss for the function plotted:                 1.823\n"
     ]
    },
    {
     "name": "stderr",
     "output_type": "stream",
     "text": [
      " 13%|█▎        | 26003/200000 [11:25<1:23:08, 34.88it/s]"
     ]
    },
    {
     "name": "stdout",
     "output_type": "stream",
     "text": [
      "Mean training loss at epoch 26000 :                         1.282\n",
      "Mean Validation loss after 26000 equals                     1.692\n",
      "\n",
      "Validation loss for the function plotted:                 1.739\n"
     ]
    },
    {
     "name": "stderr",
     "output_type": "stream",
     "text": [
      " 14%|█▎        | 27004/200000 [11:56<1:29:38, 32.16it/s]"
     ]
    },
    {
     "name": "stdout",
     "output_type": "stream",
     "text": [
      "Mean training loss at epoch 27000 :                         1.225\n",
      "Mean Validation loss after 27000 equals                     1.961\n",
      "\n",
      "Validation loss for the function plotted:                 1.756\n"
     ]
    },
    {
     "name": "stderr",
     "output_type": "stream",
     "text": [
      " 14%|█▍        | 28005/200000 [12:26<1:09:07, 41.47it/s]"
     ]
    },
    {
     "name": "stdout",
     "output_type": "stream",
     "text": [
      "Mean training loss at epoch 28000 :                         0.739\n",
      "Mean Validation loss after 28000 equals                     1.974\n",
      "\n",
      "Validation loss for the function plotted:                 2.129\n"
     ]
    },
    {
     "name": "stderr",
     "output_type": "stream",
     "text": [
      " 15%|█▍        | 29005/200000 [12:51<1:43:38, 27.50it/s]"
     ]
    },
    {
     "name": "stdout",
     "output_type": "stream",
     "text": [
      "Mean training loss at epoch 29000 :                         1.4\n",
      "Mean Validation loss after 29000 equals                     1.989\n",
      "\n",
      "Validation loss for the function plotted:                 2.206\n"
     ]
    },
    {
     "name": "stderr",
     "output_type": "stream",
     "text": [
      " 15%|█▌        | 30005/200000 [13:24<1:09:55, 40.52it/s] "
     ]
    },
    {
     "name": "stdout",
     "output_type": "stream",
     "text": [
      "Mean training loss at epoch 30000 :                         1.392\n",
      "Mean Validation loss after 30000 equals                     1.937\n",
      "\n",
      "Validation loss for the function plotted:                 1.848\n"
     ]
    },
    {
     "name": "stderr",
     "output_type": "stream",
     "text": [
      " 16%|█▌        | 31007/200000 [13:53<1:18:40, 35.80it/s]"
     ]
    },
    {
     "name": "stdout",
     "output_type": "stream",
     "text": [
      "Mean training loss at epoch 31000 :                         1.151\n",
      "Mean Validation loss after 31000 equals                     1.982\n",
      "\n",
      "Validation loss for the function plotted:                 1.939\n"
     ]
    },
    {
     "name": "stderr",
     "output_type": "stream",
     "text": [
      " 16%|█▌        | 32008/200000 [14:22<1:05:34, 42.69it/s]"
     ]
    },
    {
     "name": "stdout",
     "output_type": "stream",
     "text": [
      "Mean training loss at epoch 32000 :                         1.236\n",
      "Mean Validation loss after 32000 equals                     2.017\n",
      "\n",
      "Validation loss for the function plotted:                 1.777\n"
     ]
    },
    {
     "name": "stderr",
     "output_type": "stream",
     "text": [
      " 17%|█▋        | 33005/200000 [14:47<1:11:49, 38.75it/s]"
     ]
    },
    {
     "name": "stdout",
     "output_type": "stream",
     "text": [
      "Mean training loss at epoch 33000 :                         0.903\n",
      "Mean Validation loss after 33000 equals                     1.977\n",
      "\n",
      "Validation loss for the function plotted:                 1.812\n"
     ]
    },
    {
     "name": "stderr",
     "output_type": "stream",
     "text": [
      " 17%|█▋        | 34004/200000 [15:12<2:07:12, 21.75it/s]"
     ]
    },
    {
     "name": "stdout",
     "output_type": "stream",
     "text": [
      "Mean training loss at epoch 34000 :                         0.805\n",
      "Mean Validation loss after 34000 equals                     1.896\n",
      "\n",
      "Validation loss for the function plotted:                 1.918\n"
     ]
    },
    {
     "name": "stderr",
     "output_type": "stream",
     "text": [
      " 18%|█▊        | 35004/200000 [15:36<1:06:21, 41.44it/s]"
     ]
    },
    {
     "name": "stdout",
     "output_type": "stream",
     "text": [
      "Mean training loss at epoch 35000 :                         1.018\n",
      "Mean Validation loss after 35000 equals                     2.002\n",
      "\n",
      "Validation loss for the function plotted:                 2.097\n"
     ]
    },
    {
     "name": "stderr",
     "output_type": "stream",
     "text": [
      " 18%|█▊        | 36008/200000 [16:01<1:07:50, 40.29it/s]"
     ]
    },
    {
     "name": "stdout",
     "output_type": "stream",
     "text": [
      "Mean training loss at epoch 36000 :                         0.545\n",
      "Mean Validation loss after 36000 equals                     1.795\n",
      "\n",
      "Validation loss for the function plotted:                 1.703\n"
     ]
    },
    {
     "name": "stderr",
     "output_type": "stream",
     "text": [
      " 19%|█▊        | 37009/200000 [16:24<1:00:12, 45.12it/s]"
     ]
    },
    {
     "name": "stdout",
     "output_type": "stream",
     "text": [
      "Mean training loss at epoch 37000 :                         0.717\n",
      "Mean Validation loss after 37000 equals                     2.317\n",
      "\n",
      "Validation loss for the function plotted:                 1.764\n"
     ]
    },
    {
     "name": "stderr",
     "output_type": "stream",
     "text": [
      " 19%|█▉        | 38008/200000 [16:52<1:05:49, 41.02it/s]"
     ]
    },
    {
     "name": "stdout",
     "output_type": "stream",
     "text": [
      "Mean training loss at epoch 38000 :                         1.148\n",
      "Mean Validation loss after 38000 equals                     2.191\n",
      "\n",
      "Validation loss for the function plotted:                 2.902\n"
     ]
    },
    {
     "name": "stderr",
     "output_type": "stream",
     "text": [
      " 20%|█▉        | 39008/200000 [17:25<1:02:46, 42.74it/s]"
     ]
    },
    {
     "name": "stdout",
     "output_type": "stream",
     "text": [
      "Mean training loss at epoch 39000 :                         1.871\n",
      "Mean Validation loss after 39000 equals                     2.461\n",
      "\n",
      "Validation loss for the function plotted:                 2.209\n"
     ]
    },
    {
     "name": "stderr",
     "output_type": "stream",
     "text": [
      " 20%|██        | 40007/200000 [17:49<1:08:04, 39.17it/s]"
     ]
    },
    {
     "name": "stdout",
     "output_type": "stream",
     "text": [
      "Mean training loss at epoch 40000 :                         1.17\n",
      "Mean Validation loss after 40000 equals                     2.376\n",
      "\n",
      "Validation loss for the function plotted:                 1.978\n"
     ]
    },
    {
     "name": "stderr",
     "output_type": "stream",
     "text": [
      " 21%|██        | 41008/200000 [18:21<1:01:52, 42.82it/s]"
     ]
    },
    {
     "name": "stdout",
     "output_type": "stream",
     "text": [
      "Mean training loss at epoch 41000 :                         0.424\n",
      "Mean Validation loss after 41000 equals                     2.732\n",
      "\n",
      "Validation loss for the function plotted:                 4.232\n"
     ]
    },
    {
     "name": "stderr",
     "output_type": "stream",
     "text": [
      " 21%|██        | 42006/200000 [18:46<1:11:59, 36.58it/s]"
     ]
    },
    {
     "name": "stdout",
     "output_type": "stream",
     "text": [
      "Mean training loss at epoch 42000 :                         0.823\n",
      "Mean Validation loss after 42000 equals                     2.053\n",
      "\n",
      "Validation loss for the function plotted:                 1.52\n"
     ]
    },
    {
     "name": "stderr",
     "output_type": "stream",
     "text": [
      " 22%|██▏       | 43007/200000 [19:15<1:09:45, 37.50it/s]"
     ]
    },
    {
     "name": "stdout",
     "output_type": "stream",
     "text": [
      "Mean training loss at epoch 43000 :                         1.005\n",
      "Mean Validation loss after 43000 equals                     2.539\n",
      "\n",
      "Validation loss for the function plotted:                 3.103\n"
     ]
    },
    {
     "name": "stderr",
     "output_type": "stream",
     "text": [
      " 22%|██▏       | 44005/200000 [19:43<1:21:12, 32.01it/s]"
     ]
    },
    {
     "name": "stdout",
     "output_type": "stream",
     "text": [
      "Mean training loss at epoch 44000 :                         0.903\n",
      "Mean Validation loss after 44000 equals                     1.848\n",
      "\n",
      "Validation loss for the function plotted:                 1.68\n"
     ]
    },
    {
     "name": "stderr",
     "output_type": "stream",
     "text": [
      " 23%|██▎       | 45003/200000 [20:10<1:21:05, 31.86it/s]"
     ]
    },
    {
     "name": "stdout",
     "output_type": "stream",
     "text": [
      "Mean training loss at epoch 45000 :                         0.727\n",
      "Mean Validation loss after 45000 equals                     1.878\n",
      "\n",
      "Validation loss for the function plotted:                 1.887\n"
     ]
    },
    {
     "name": "stderr",
     "output_type": "stream",
     "text": [
      " 23%|██▎       | 46005/200000 [20:37<58:19, 44.01it/s]  "
     ]
    },
    {
     "name": "stdout",
     "output_type": "stream",
     "text": [
      "Mean training loss at epoch 46000 :                         -0.182\n",
      "Mean Validation loss after 46000 equals                     2.854\n",
      "\n",
      "Validation loss for the function plotted:                 2.983\n"
     ]
    },
    {
     "name": "stderr",
     "output_type": "stream",
     "text": [
      " 24%|██▎       | 47006/200000 [21:00<59:08, 43.11it/s]  "
     ]
    },
    {
     "name": "stdout",
     "output_type": "stream",
     "text": [
      "Mean training loss at epoch 47000 :                         0.675\n",
      "Mean Validation loss after 47000 equals                     2.381\n",
      "\n",
      "Validation loss for the function plotted:                 1.811\n"
     ]
    },
    {
     "name": "stderr",
     "output_type": "stream",
     "text": [
      " 24%|██▍       | 48009/200000 [21:25<58:04, 43.61it/s]  "
     ]
    },
    {
     "name": "stdout",
     "output_type": "stream",
     "text": [
      "Mean training loss at epoch 48000 :                         0.712\n",
      "Mean Validation loss after 48000 equals                     1.849\n",
      "\n",
      "Validation loss for the function plotted:                 1.565\n"
     ]
    },
    {
     "name": "stderr",
     "output_type": "stream",
     "text": [
      " 25%|██▍       | 49008/200000 [21:48<59:52, 42.03it/s]  "
     ]
    },
    {
     "name": "stdout",
     "output_type": "stream",
     "text": [
      "Mean training loss at epoch 49000 :                         0.736\n",
      "Mean Validation loss after 49000 equals                     2.347\n",
      "\n",
      "Validation loss for the function plotted:                 2.625\n"
     ]
    },
    {
     "name": "stderr",
     "output_type": "stream",
     "text": [
      " 25%|██▌       | 50006/200000 [22:13<55:58, 44.66it/s]  "
     ]
    },
    {
     "name": "stdout",
     "output_type": "stream",
     "text": [
      "Mean training loss at epoch 50000 :                         0.678\n",
      "Mean Validation loss after 50000 equals                     2.55\n",
      "\n",
      "Validation loss for the function plotted:                 1.989\n"
     ]
    },
    {
     "name": "stderr",
     "output_type": "stream",
     "text": [
      " 26%|██▌       | 51009/200000 [22:36<53:54, 46.06it/s]  "
     ]
    },
    {
     "name": "stdout",
     "output_type": "stream",
     "text": [
      "Mean training loss at epoch 51000 :                         0.017\n",
      "Mean Validation loss after 51000 equals                     2.226\n",
      "\n",
      "Validation loss for the function plotted:                 2.195\n"
     ]
    },
    {
     "name": "stderr",
     "output_type": "stream",
     "text": [
      " 26%|██▌       | 52005/200000 [22:59<56:55, 43.32it/s]  "
     ]
    },
    {
     "name": "stdout",
     "output_type": "stream",
     "text": [
      "Mean training loss at epoch 52000 :                         0.264\n",
      "Mean Validation loss after 52000 equals                     1.894\n",
      "\n",
      "Validation loss for the function plotted:                 1.822\n"
     ]
    },
    {
     "name": "stderr",
     "output_type": "stream",
     "text": [
      " 27%|██▋       | 53006/200000 [23:23<58:25, 41.94it/s]  "
     ]
    },
    {
     "name": "stdout",
     "output_type": "stream",
     "text": [
      "Mean training loss at epoch 53000 :                         0.899\n",
      "Mean Validation loss after 53000 equals                     2.177\n",
      "\n",
      "Validation loss for the function plotted:                 2.051\n"
     ]
    },
    {
     "name": "stderr",
     "output_type": "stream",
     "text": [
      " 27%|██▋       | 54006/200000 [23:46<54:26, 44.70it/s]  "
     ]
    },
    {
     "name": "stdout",
     "output_type": "stream",
     "text": [
      "Mean training loss at epoch 54000 :                         0.345\n",
      "Mean Validation loss after 54000 equals                     2.008\n",
      "\n",
      "Validation loss for the function plotted:                 1.602\n"
     ]
    },
    {
     "name": "stderr",
     "output_type": "stream",
     "text": [
      " 28%|██▊       | 55006/200000 [24:09<1:05:21, 36.97it/s]"
     ]
    },
    {
     "name": "stdout",
     "output_type": "stream",
     "text": [
      "Mean training loss at epoch 55000 :                         0.405\n",
      "Mean Validation loss after 55000 equals                     3.03\n",
      "\n",
      "Validation loss for the function plotted:                 2.697\n"
     ]
    },
    {
     "name": "stderr",
     "output_type": "stream",
     "text": [
      " 28%|██▊       | 56005/200000 [24:37<1:01:16, 39.17it/s]"
     ]
    },
    {
     "name": "stdout",
     "output_type": "stream",
     "text": [
      "Mean training loss at epoch 56000 :                         0.813\n",
      "Mean Validation loss after 56000 equals                     2.657\n",
      "\n",
      "Validation loss for the function plotted:                 3.561\n"
     ]
    },
    {
     "name": "stderr",
     "output_type": "stream",
     "text": [
      " 29%|██▊       | 57005/200000 [25:08<1:42:25, 23.27it/s]"
     ]
    },
    {
     "name": "stdout",
     "output_type": "stream",
     "text": [
      "Mean training loss at epoch 57000 :                         0.728\n",
      "Mean Validation loss after 57000 equals                     1.949\n",
      "\n",
      "Validation loss for the function plotted:                 2.237\n"
     ]
    },
    {
     "name": "stderr",
     "output_type": "stream",
     "text": [
      " 29%|██▉       | 58007/200000 [25:33<52:58, 44.67it/s]  "
     ]
    },
    {
     "name": "stdout",
     "output_type": "stream",
     "text": [
      "Mean training loss at epoch 58000 :                         0.271\n",
      "Mean Validation loss after 58000 equals                     2.065\n",
      "\n",
      "Validation loss for the function plotted:                 2.067\n"
     ]
    },
    {
     "name": "stderr",
     "output_type": "stream",
     "text": [
      " 30%|██▉       | 59005/200000 [25:55<59:14, 39.66it/s]  "
     ]
    },
    {
     "name": "stdout",
     "output_type": "stream",
     "text": [
      "Mean training loss at epoch 59000 :                         1.138\n",
      "Mean Validation loss after 59000 equals                     2.843\n",
      "\n",
      "Validation loss for the function plotted:                 1.742\n"
     ]
    },
    {
     "name": "stderr",
     "output_type": "stream",
     "text": [
      " 30%|███       | 60008/200000 [26:19<53:35, 43.53it/s]  "
     ]
    },
    {
     "name": "stdout",
     "output_type": "stream",
     "text": [
      "Mean training loss at epoch 60000 :                         0.465\n",
      "Mean Validation loss after 60000 equals                     2.349\n",
      "\n",
      "Validation loss for the function plotted:                 3.13\n"
     ]
    },
    {
     "name": "stderr",
     "output_type": "stream",
     "text": [
      " 31%|███       | 61005/200000 [26:40<52:19, 44.28it/s]"
     ]
    },
    {
     "name": "stdout",
     "output_type": "stream",
     "text": [
      "Mean training loss at epoch 61000 :                         1.006\n",
      "Mean Validation loss after 61000 equals                     2.158\n",
      "\n",
      "Validation loss for the function plotted:                 2.072\n"
     ]
    },
    {
     "name": "stderr",
     "output_type": "stream",
     "text": [
      " 31%|███       | 62005/200000 [27:04<57:12, 40.20it/s]  "
     ]
    },
    {
     "name": "stdout",
     "output_type": "stream",
     "text": [
      "Mean training loss at epoch 62000 :                         0.534\n",
      "Mean Validation loss after 62000 equals                     2.441\n",
      "\n",
      "Validation loss for the function plotted:                 1.785\n"
     ]
    },
    {
     "name": "stderr",
     "output_type": "stream",
     "text": [
      " 32%|███▏      | 63009/200000 [27:28<49:21, 46.25it/s]  "
     ]
    },
    {
     "name": "stdout",
     "output_type": "stream",
     "text": [
      "Mean training loss at epoch 63000 :                         0.361\n",
      "Mean Validation loss after 63000 equals                     1.891\n",
      "\n",
      "Validation loss for the function plotted:                 1.694\n"
     ]
    },
    {
     "name": "stderr",
     "output_type": "stream",
     "text": [
      " 32%|███▏      | 64006/200000 [27:52<50:11, 45.16it/s]  "
     ]
    },
    {
     "name": "stdout",
     "output_type": "stream",
     "text": [
      "Mean training loss at epoch 64000 :                         0.011\n",
      "Mean Validation loss after 64000 equals                     2.641\n",
      "\n",
      "Validation loss for the function plotted:                 3.567\n"
     ]
    },
    {
     "name": "stderr",
     "output_type": "stream",
     "text": [
      " 33%|███▎      | 65007/200000 [28:15<49:02, 45.88it/s]  "
     ]
    },
    {
     "name": "stdout",
     "output_type": "stream",
     "text": [
      "Mean training loss at epoch 65000 :                         1.041\n",
      "Mean Validation loss after 65000 equals                     1.886\n",
      "\n",
      "Validation loss for the function plotted:                 1.615\n"
     ]
    },
    {
     "name": "stderr",
     "output_type": "stream",
     "text": [
      " 33%|███▎      | 66009/200000 [28:38<51:13, 43.59it/s]  "
     ]
    },
    {
     "name": "stdout",
     "output_type": "stream",
     "text": [
      "Mean training loss at epoch 66000 :                         0.979\n",
      "Mean Validation loss after 66000 equals                     2.275\n",
      "\n",
      "Validation loss for the function plotted:                 2.376\n"
     ]
    },
    {
     "name": "stderr",
     "output_type": "stream",
     "text": [
      " 34%|███▎      | 67008/200000 [29:02<53:20, 41.56it/s]  "
     ]
    },
    {
     "name": "stdout",
     "output_type": "stream",
     "text": [
      "Mean training loss at epoch 67000 :                         0.968\n",
      "Mean Validation loss after 67000 equals                     2.289\n",
      "\n",
      "Validation loss for the function plotted:                 1.918\n"
     ]
    },
    {
     "name": "stderr",
     "output_type": "stream",
     "text": [
      " 34%|███▍      | 68006/200000 [29:33<59:13, 37.14it/s]  "
     ]
    },
    {
     "name": "stdout",
     "output_type": "stream",
     "text": [
      "Mean training loss at epoch 68000 :                         1.009\n",
      "Mean Validation loss after 68000 equals                     2.916\n",
      "\n",
      "Validation loss for the function plotted:                 2.376\n"
     ]
    },
    {
     "name": "stderr",
     "output_type": "stream",
     "text": [
      " 35%|███▍      | 69008/200000 [29:59<50:21, 43.36it/s]  "
     ]
    },
    {
     "name": "stdout",
     "output_type": "stream",
     "text": [
      "Mean training loss at epoch 69000 :                         1.834\n",
      "Mean Validation loss after 69000 equals                     1.992\n",
      "\n",
      "Validation loss for the function plotted:                 2.032\n"
     ]
    },
    {
     "name": "stderr",
     "output_type": "stream",
     "text": [
      " 35%|███▌      | 70004/200000 [30:22<1:00:43, 35.67it/s]"
     ]
    },
    {
     "name": "stdout",
     "output_type": "stream",
     "text": [
      "Mean training loss at epoch 70000 :                         1.244\n",
      "Mean Validation loss after 70000 equals                     1.998\n",
      "\n",
      "Validation loss for the function plotted:                 1.673\n"
     ]
    },
    {
     "name": "stderr",
     "output_type": "stream",
     "text": [
      " 36%|███▌      | 71006/200000 [30:44<1:03:27, 33.88it/s]"
     ]
    },
    {
     "name": "stdout",
     "output_type": "stream",
     "text": [
      "Mean training loss at epoch 71000 :                         0.356\n",
      "Mean Validation loss after 71000 equals                     2.604\n",
      "\n",
      "Validation loss for the function plotted:                 1.898\n"
     ]
    },
    {
     "name": "stderr",
     "output_type": "stream",
     "text": [
      " 36%|███▌      | 72007/200000 [31:11<49:24, 43.17it/s]  "
     ]
    },
    {
     "name": "stdout",
     "output_type": "stream",
     "text": [
      "Mean training loss at epoch 72000 :                         0.767\n",
      "Mean Validation loss after 72000 equals                     2.481\n",
      "\n",
      "Validation loss for the function plotted:                 1.648\n"
     ]
    },
    {
     "name": "stderr",
     "output_type": "stream",
     "text": [
      " 37%|███▋      | 73007/200000 [31:34<49:59, 42.34it/s]"
     ]
    },
    {
     "name": "stdout",
     "output_type": "stream",
     "text": [
      "Mean training loss at epoch 73000 :                         0.781\n",
      "Mean Validation loss after 73000 equals                     2.24\n",
      "\n",
      "Validation loss for the function plotted:                 1.912\n"
     ]
    },
    {
     "name": "stderr",
     "output_type": "stream",
     "text": [
      " 37%|███▋      | 74006/200000 [31:57<53:34, 39.19it/s]"
     ]
    },
    {
     "name": "stdout",
     "output_type": "stream",
     "text": [
      "Mean training loss at epoch 74000 :                         1.173\n",
      "Mean Validation loss after 74000 equals                     2.477\n",
      "\n",
      "Validation loss for the function plotted:                 2.621\n"
     ]
    },
    {
     "name": "stderr",
     "output_type": "stream",
     "text": [
      " 38%|███▊      | 75009/200000 [32:21<49:27, 42.12it/s]"
     ]
    },
    {
     "name": "stdout",
     "output_type": "stream",
     "text": [
      "Mean training loss at epoch 75000 :                         0.975\n",
      "Mean Validation loss after 75000 equals                     2.612\n",
      "\n",
      "Validation loss for the function plotted:                 1.581\n"
     ]
    },
    {
     "name": "stderr",
     "output_type": "stream",
     "text": [
      " 38%|███▊      | 76006/200000 [32:45<55:42, 37.10it/s]"
     ]
    },
    {
     "name": "stdout",
     "output_type": "stream",
     "text": [
      "Mean training loss at epoch 76000 :                         0.71\n",
      "Mean Validation loss after 76000 equals                     2.27\n",
      "\n",
      "Validation loss for the function plotted:                 1.869\n"
     ]
    },
    {
     "name": "stderr",
     "output_type": "stream",
     "text": [
      " 39%|███▊      | 77004/200000 [33:08<49:14, 41.62it/s]  "
     ]
    },
    {
     "name": "stdout",
     "output_type": "stream",
     "text": [
      "Mean training loss at epoch 77000 :                         2.478\n",
      "Mean Validation loss after 77000 equals                     2.22\n",
      "\n",
      "Validation loss for the function plotted:                 2.501\n"
     ]
    },
    {
     "name": "stderr",
     "output_type": "stream",
     "text": [
      " 39%|███▉      | 78005/200000 [33:31<47:07, 43.15it/s]"
     ]
    },
    {
     "name": "stdout",
     "output_type": "stream",
     "text": [
      "Mean training loss at epoch 78000 :                         1.14\n",
      "Mean Validation loss after 78000 equals                     2.531\n",
      "\n",
      "Validation loss for the function plotted:                 2.647\n"
     ]
    },
    {
     "name": "stderr",
     "output_type": "stream",
     "text": [
      " 40%|███▉      | 79009/200000 [33:55<45:42, 44.12it/s]  "
     ]
    },
    {
     "name": "stdout",
     "output_type": "stream",
     "text": [
      "Mean training loss at epoch 79000 :                         0.866\n",
      "Mean Validation loss after 79000 equals                     4.358\n",
      "\n",
      "Validation loss for the function plotted:                 4.595\n"
     ]
    },
    {
     "name": "stderr",
     "output_type": "stream",
     "text": [
      " 40%|████      | 80009/200000 [34:20<45:53, 43.57it/s]  "
     ]
    },
    {
     "name": "stdout",
     "output_type": "stream",
     "text": [
      "Mean training loss at epoch 80000 :                         0.309\n",
      "Mean Validation loss after 80000 equals                     2.375\n",
      "\n",
      "Validation loss for the function plotted:                 2.836\n"
     ]
    },
    {
     "name": "stderr",
     "output_type": "stream",
     "text": [
      " 41%|████      | 81003/200000 [34:47<1:16:11, 26.03it/s]"
     ]
    },
    {
     "name": "stdout",
     "output_type": "stream",
     "text": [
      "Mean training loss at epoch 81000 :                         0.745\n",
      "Mean Validation loss after 81000 equals                     2.87\n",
      "\n",
      "Validation loss for the function plotted:                 3.112\n"
     ]
    },
    {
     "name": "stderr",
     "output_type": "stream",
     "text": [
      " 41%|████      | 82006/200000 [35:16<57:32, 34.18it/s]  "
     ]
    },
    {
     "name": "stdout",
     "output_type": "stream",
     "text": [
      "Mean training loss at epoch 82000 :                         1.046\n",
      "Mean Validation loss after 82000 equals                     2.503\n",
      "\n",
      "Validation loss for the function plotted:                 2.155\n"
     ]
    },
    {
     "name": "stderr",
     "output_type": "stream",
     "text": [
      " 42%|████▏     | 83006/200000 [35:42<42:43, 45.64it/s]  "
     ]
    },
    {
     "name": "stdout",
     "output_type": "stream",
     "text": [
      "Mean training loss at epoch 83000 :                         0.478\n",
      "Mean Validation loss after 83000 equals                     3.61\n",
      "\n",
      "Validation loss for the function plotted:                 2.034\n"
     ]
    },
    {
     "name": "stderr",
     "output_type": "stream",
     "text": [
      " 42%|████▏     | 84005/200000 [36:05<47:11, 40.96it/s]  "
     ]
    },
    {
     "name": "stdout",
     "output_type": "stream",
     "text": [
      "Mean training loss at epoch 84000 :                         0.187\n",
      "Mean Validation loss after 84000 equals                     2.306\n",
      "\n",
      "Validation loss for the function plotted:                 2.032\n"
     ]
    },
    {
     "name": "stderr",
     "output_type": "stream",
     "text": [
      " 43%|████▎     | 85008/200000 [36:28<45:44, 41.90it/s]"
     ]
    },
    {
     "name": "stdout",
     "output_type": "stream",
     "text": [
      "Mean training loss at epoch 85000 :                         0.861\n",
      "Mean Validation loss after 85000 equals                     2.255\n",
      "\n",
      "Validation loss for the function plotted:                 1.698\n"
     ]
    },
    {
     "name": "stderr",
     "output_type": "stream",
     "text": [
      " 43%|████▎     | 86008/200000 [36:51<45:46, 41.50it/s]  "
     ]
    },
    {
     "name": "stdout",
     "output_type": "stream",
     "text": [
      "Mean training loss at epoch 86000 :                         0.847\n",
      "Mean Validation loss after 86000 equals                     2.259\n",
      "\n",
      "Validation loss for the function plotted:                 1.852\n"
     ]
    },
    {
     "name": "stderr",
     "output_type": "stream",
     "text": [
      " 44%|████▎     | 87005/200000 [37:13<51:54, 36.28it/s]  "
     ]
    },
    {
     "name": "stdout",
     "output_type": "stream",
     "text": [
      "Mean training loss at epoch 87000 :                         1.558\n",
      "Mean Validation loss after 87000 equals                     2.555\n",
      "\n",
      "Validation loss for the function plotted:                 2.141\n"
     ]
    },
    {
     "name": "stderr",
     "output_type": "stream",
     "text": [
      " 44%|████▍     | 88008/200000 [37:36<44:41, 41.76it/s]"
     ]
    },
    {
     "name": "stdout",
     "output_type": "stream",
     "text": [
      "Mean training loss at epoch 88000 :                         0.506\n",
      "Mean Validation loss after 88000 equals                     2.509\n",
      "\n",
      "Validation loss for the function plotted:                 1.939\n"
     ]
    },
    {
     "name": "stderr",
     "output_type": "stream",
     "text": [
      " 45%|████▍     | 89003/200000 [37:58<47:02, 39.33it/s]"
     ]
    },
    {
     "name": "stdout",
     "output_type": "stream",
     "text": [
      "Mean training loss at epoch 89000 :                         1.049\n",
      "Mean Validation loss after 89000 equals                     2.442\n",
      "\n",
      "Validation loss for the function plotted:                 2.066\n"
     ]
    },
    {
     "name": "stderr",
     "output_type": "stream",
     "text": [
      " 45%|████▌     | 90005/200000 [38:30<47:43, 38.41it/s]  "
     ]
    },
    {
     "name": "stdout",
     "output_type": "stream",
     "text": [
      "Mean training loss at epoch 90000 :                         1.894\n",
      "Mean Validation loss after 90000 equals                     2.49\n",
      "\n",
      "Validation loss for the function plotted:                 2.259\n"
     ]
    },
    {
     "name": "stderr",
     "output_type": "stream",
     "text": [
      " 46%|████▌     | 91006/200000 [38:53<42:19, 42.92it/s]  "
     ]
    },
    {
     "name": "stdout",
     "output_type": "stream",
     "text": [
      "Mean training loss at epoch 91000 :                         0.557\n",
      "Mean Validation loss after 91000 equals                     2.21\n",
      "\n",
      "Validation loss for the function plotted:                 2.297\n"
     ]
    },
    {
     "name": "stderr",
     "output_type": "stream",
     "text": [
      " 46%|████▌     | 92004/200000 [39:16<43:20, 41.53it/s]"
     ]
    },
    {
     "name": "stdout",
     "output_type": "stream",
     "text": [
      "Mean training loss at epoch 92000 :                         1.235\n",
      "Mean Validation loss after 92000 equals                     2.019\n",
      "\n",
      "Validation loss for the function plotted:                 1.709\n"
     ]
    },
    {
     "name": "stderr",
     "output_type": "stream",
     "text": [
      " 47%|████▋     | 93010/200000 [39:39<39:46, 44.83it/s]"
     ]
    },
    {
     "name": "stdout",
     "output_type": "stream",
     "text": [
      "Mean training loss at epoch 93000 :                         0.825\n",
      "Mean Validation loss after 93000 equals                     2.412\n",
      "\n",
      "Validation loss for the function plotted:                 1.74\n"
     ]
    },
    {
     "name": "stderr",
     "output_type": "stream",
     "text": [
      " 47%|████▋     | 94008/200000 [40:02<47:30, 37.18it/s]  "
     ]
    },
    {
     "name": "stdout",
     "output_type": "stream",
     "text": [
      "Mean training loss at epoch 94000 :                         0.417\n",
      "Mean Validation loss after 94000 equals                     2.535\n",
      "\n",
      "Validation loss for the function plotted:                 2.516\n"
     ]
    },
    {
     "name": "stderr",
     "output_type": "stream",
     "text": [
      " 48%|████▊     | 95004/200000 [40:24<40:28, 43.24it/s]"
     ]
    },
    {
     "name": "stdout",
     "output_type": "stream",
     "text": [
      "Mean training loss at epoch 95000 :                         0.346\n",
      "Mean Validation loss after 95000 equals                     2.545\n",
      "\n",
      "Validation loss for the function plotted:                 2.714\n"
     ]
    },
    {
     "name": "stderr",
     "output_type": "stream",
     "text": [
      " 48%|████▊     | 95757/200000 [40:41<36:30, 47.59it/s]"
     ]
    }
   ],
   "source": [
    "state_dict_encoder, state_dict_decoder, state_dict_aggregator, train_loss, vali_loss = trainer.run_training(\n",
    "    batch_size_train=default_conf['train_kwargs']['batch_size_train'],\n",
    "    batch_size_vali=default_conf['train_kwargs']['batch_size_vali'],\n",
    "    print_after=default_conf['train_kwargs']['print_after'])"
   ]
  },
  {
   "cell_type": "code",
   "execution_count": 11,
   "metadata": {
    "colab": {
     "base_uri": "https://localhost:8080/",
     "height": 1000
    },
    "colab_type": "code",
    "executionInfo": {
     "elapsed": 2903,
     "status": "ok",
     "timestamp": 1592485523864,
     "user": {
      "displayName": "Fred Che",
      "photoUrl": "",
      "userId": "07612464138287230381"
     },
     "user_tz": -120
    },
    "id": "XU-vep82JpgS",
    "outputId": "d9f517c2-38c5-4897-a230-1233fab5e82e"
   },
   "outputs": [
    {
     "data": {
      "image/png": "[encoded data removed]",
      "text/plain": [
       "<Figure size 432x288 with 1 Axes>"
      ]
     },
     "metadata": {
      "needs_background": "light",
      "tags": []
     },
     "output_type": "display_data"
    },
    {
     "data": {
      "image/png": "[encoded data removed]",
      "text/plain": [
       "<Figure size 432x288 with 1 Axes>"
      ]
     },
     "metadata": {
      "needs_background": "light",
      "tags": []
     },
     "output_type": "display_data"
    },
    {
     "data": {
      "image/png": "[encoded data removed]",
      "text/plain": [
       "<Figure size 432x288 with 1 Axes>"
      ]
     },
     "metadata": {
      "needs_background": "light",
      "tags": []
     },
     "output_type": "display_data"
    },
    {
     "data": {
      "image/png": "[encoded data removed]",
      "text/plain": [
       "<Figure size 432x288 with 1 Axes>"
      ]
     },
     "metadata": {
      "needs_background": "light",
      "tags": []
     },
     "output_type": "display_data"
    },
    {
     "name": "stdout",
     "output_type": "stream",
     "text": [
      "0.40400904417037964\n"
     ]
    }
   ],
   "source": [
    "MSE = trainer.run_test(encoder_state_dict=state_dict_encoder,\n",
    "              decoder_state_dict=state_dict_decoder,\n",
    "              aggregator_state_dict=state_dict_aggregator,\n",
    "              batch_size_test=default_conf['train_kwargs']['batch_size_test'])\n",
    "print(MSE)"
   ]
  },
  {
   "cell_type": "code",
   "execution_count": 26,
   "metadata": {
    "colab": {},
    "colab_type": "code",
    "executionInfo": {
     "elapsed": 1969,
     "status": "ok",
     "timestamp": 1592486056913,
     "user": {
      "displayName": "Fred Che",
      "photoUrl": "",
      "userId": "07612464138287230381"
     },
     "user_tz": -120
    },
    "id": "gbuvUvsfJpgX"
   },
   "outputs": [],
   "source": [
    "values = [state_dict_encoder, state_dict_decoder, state_dict_aggregator, train_loss, vali_loss, MSE]\n",
    "names = ['encoder', 'decoder', 'aggregator', 'train_loss', 'vali_loss', 'mse']\n",
    "to_save = [(name, value) for name, value in zip(names, values)]\n",
    "directory = os.path.join(BASE_DIR,'experiments/results')\n",
    "\n",
    "\n",
    "Helper.save_results('', '1dpaper_simple_mean_agregation', to_save)\n"
   ]
  },
  {
   "cell_type": "code",
   "execution_count": 24,
   "metadata": {
    "colab": {
     "base_uri": "https://localhost:8080/",
     "height": 34
    },
    "colab_type": "code",
    "executionInfo": {
     "elapsed": 829,
     "status": "ok",
     "timestamp": 1592485949455,
     "user": {
      "displayName": "Fred Che",
      "photoUrl": "",
      "userId": "07612464138287230381"
     },
     "user_tz": -120
    },
    "id": "m6JJs9FnjVoY",
    "outputId": "55603133-61fe-4c18-857b-22d2d4fc9f51"
   },
   "outputs": [
    {
     "data": {
      "text/plain": [
       "'yes'"
      ]
     },
     "execution_count": 24,
     "metadata": {
      "tags": []
     },
     "output_type": "execute_result"
    }
   ],
   "source": [
    "google_colab"
   ]
  },
  {
   "cell_type": "code",
   "execution_count": 21,
   "metadata": {
    "colab": {
     "base_uri": "https://localhost:8080/",
     "height": 119
    },
    "colab_type": "code",
    "executionInfo": {
     "elapsed": 2488,
     "status": "ok",
     "timestamp": 1592485903085,
     "user": {
      "displayName": "Fred Che",
      "photoUrl": "",
      "userId": "07612464138287230381"
     },
     "user_tz": -120
    },
    "id": "XgAV8n9Nji0t",
    "outputId": "20e09fc5-fa79-4c60-fc42-95979cb5fd2f"
   },
   "outputs": [
    {
     "name": "stdout",
     "output_type": "stream",
     "text": [
      "architecture_improvement  neural_processes.egg-info  setup.py\n",
      "cnp\t\t\t  notebooks\t\t     test\n",
      "configs\t\t\t  notes\t\t\t     tests\n",
      "data\t\t\t  README.md\t\t     tfm\n",
      "experiments\t\t  requirements_local.txt\n",
      "LICENSE\t\t\t  requirements.txt\n"
     ]
    }
   ],
   "source": [
    "!ls "
   ]
  },
  {
   "cell_type": "code",
   "execution_count": 22,
   "metadata": {
    "colab": {},
    "colab_type": "code",
    "executionInfo": {
     "elapsed": 2473,
     "status": "ok",
     "timestamp": 1592485916213,
     "user": {
      "displayName": "Fred Che",
      "photoUrl": "",
      "userId": "07612464138287230381"
     },
     "user_tz": -120
    },
    "id": "yZb8Z5bZjnDd"
   },
   "outputs": [],
   "source": [
    "! rmdir test"
   ]
  },
  {
   "cell_type": "code",
   "execution_count": null,
   "metadata": {
    "colab": {},
    "colab_type": "code",
    "id": "18Wktlz9jqQ6"
   },
   "outputs": [],
   "source": []
  }
 ],
 "metadata": {
  "accelerator": "GPU",
  "colab": {
   "collapsed_sections": [],
   "name": "1d_paper_model_compare_simple_aggregation.ipynb",
   "provenance": []
  },
  "kernelspec": {
   "display_name": "tfm",
   "language": "python",
   "name": "tfm"
  },
  "language_info": {
   "codemirror_mode": {
    "name": "ipython",
    "version": 3
   },
   "file_extension": ".py",
   "mimetype": "text/x-python",
   "name": "python",
   "nbconvert_exporter": "python",
   "pygments_lexer": "ipython3",
   "version": "3.8.2+"
  },
  "pycharm": {
   "stem_cell": {
    "cell_type": "raw",
    "metadata": {
     "collapsed": false
    },
    "source": []
   }
  }
 },
 "nbformat": 4,
 "nbformat_minor": 1
}
