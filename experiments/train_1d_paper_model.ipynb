{
 "cells": [
  {
   "cell_type": "code",
   "execution_count": 1,
   "metadata": {},
   "outputs": [],
   "source": [
    "%load_ext autoreload\n",
    "%autoreload 2"
   ]
  },
  {
   "cell_type": "code",
   "execution_count": 2,
   "metadata": {
    "colab": {
     "base_uri": "https://localhost:8080/",
     "height": 51
    },
    "colab_type": "code",
    "executionInfo": {
     "elapsed": 10717,
     "status": "ok",
     "timestamp": 1588854751226,
     "user": {
      "displayName": "Fred Che",
      "photoUrl": "",
      "userId": "07612464138287230381"
     },
     "user_tz": -120
    },
    "id": "sf1IdGXyHp9b",
    "outputId": "89035aa9-87b7-4814-dee7-f678e97a8a6e"
   },
   "outputs": [
    {
     "name": "stdout",
     "output_type": "stream",
     "text": [
      "Running on Colab?\n",
      "no\n",
      "Top level directory is set to /Users/frederik/Google Drive/University/UC3M/TFM/cnp_repo/neural-processes\n"
     ]
    }
   ],
   "source": [
    " #%%\n",
    "\n",
    "# google colab configurations \n",
    "# these might change\n",
    "\n",
    "# torch imports\n",
    "import torch\n",
    "\n",
    "# import utils\n",
    "import json\n",
    "from datetime import date\n",
    "import os\n",
    "\n",
    "google_colab = input('Running on Colab?\\n')\n",
    "if google_colab=='yes' : \n",
    "\n",
    "    from pydrive.auth import GoogleAuth\n",
    "    from pydrive.drive import GoogleDrive\n",
    "    from google.colab import auth\n",
    "    from oauth2client.client import GoogleCredentials\n",
    "\n",
    "    auth.authenticate_user()\n",
    "    gauth = GoogleAuth()\n",
    "    gauth.credentials = GoogleCredentials.get_application_default()\n",
    "    drive = GoogleDrive(gauth)\n",
    "\n",
    "\n",
    "    COLAB_CONFIG = '1o5nZNVmNBq3UQRxwYIwOATX0c0GyHPRN'\n",
    "    COLAB_CONFIG_FILE ='colab_config.json'\n",
    "\n",
    "    colab_json = drive.CreateFile({'id': COLAB_CONFIG})\n",
    "    colab_json.GetContentFile(COLAB_CONFIG_FILE)\n",
    "\n",
    "    with open(COLAB_CONFIG_FILE) as f:\n",
    "        temp = f.read()\n",
    "    colab_config = json.loads(temp)\n",
    "\n",
    "    for key in colab_config:\n",
    "        globals()[key] = drive.CreateFile({\"id\":colab_config[key]['id']})\n",
    "        globals()[key].GetContentFile(colab_config[key]['file'])\n",
    "\n",
    "    from trainer import RegressionTrainer\n",
    "    from datageneration import DataGenerator\n",
    "    from helpers import Helper, Plotter\n",
    "    \n",
    "else:\n",
    "    import sys, os \n",
    "    BASE_DIR = '/'.join(os.getcwd().split('/')[:-1])\n",
    "    sys.path.append(BASE_DIR)\n",
    "    print(f'Top level directory is set to {BASE_DIR}')\n",
    "\n",
    "    # custom imports\n",
    "    from cnp.trainer import RegressionTrainer\n",
    "    from cnp.datageneration import DataGenerator\n",
    "    from cnp.helpers import Helper"
   ]
  },
  {
   "cell_type": "code",
   "execution_count": 7,
   "metadata": {
    "colab": {},
    "colab_type": "code",
    "id": "dgX31aWtVX9P",
    "pycharm": {
     "is_executing": false
    }
   },
   "outputs": [],
   "source": [
    "\n",
    "# we first get the variables for the configuration file\n",
    "os.environ[\"CHECKPOINT_DIR\"] = \"checkpoints\"\n",
    "os.environ[\"MODEL_PARAMS\"] = \"default\"\n",
    "\n",
    "CHECKPOINT_DIR = os.environ['CHECKPOINT_DIR']\n",
    "MODEL_PARAMS = os.environ['MODEL_PARAMS']\n",
    "\n",
    "if google_colab=='yes':\n",
    "    config_dir = ''\n",
    "else:\n",
    "    config_dir = os.path.join(BASE_DIR,'configs')\n",
    "\n",
    "with open(os.path.join(config_dir,'paper_config.json')) as f:\n",
    "    file = f.read()\n",
    "    default_conf = json.loads(file)\n",
    "\n"
   ]
  },
  {
   "cell_type": "markdown",
   "metadata": {
    "colab_type": "text",
    "id": "2Uh33yfUVX9U"
   },
   "source": [
    "## Generating a dataset"
   ]
  },
  {
   "cell_type": "code",
   "execution_count": 11,
   "metadata": {
    "colab": {},
    "colab_type": "code",
    "id": "5ihjWlKq5ylu"
   },
   "outputs": [],
   "source": [
    "# creating an instance of to orchestrate the training\n",
    "trainer = RegressionTrainer(**default_conf['experiment_params'])"
   ]
  },
  {
   "cell_type": "code",
   "execution_count": 12,
   "metadata": {
    "colab": {},
    "colab_type": "code",
    "id": "Herzps7VVX91",
    "scrolled": true
   },
   "outputs": [
    {
     "name": "stderr",
     "output_type": "stream",
     "text": [
      "\r",
      "  0%|          | 0/200000 [00:00<?, ?it/s]"
     ]
    },
    {
     "name": "stdout",
     "output_type": "stream",
     "text": [
      "torch.Size([192, 128])\n",
      "Mean loss at epoch 0 : 1.6750435829162598\n",
      "torch.Size([9, 128])\n",
      " Validation loss after 0 equals 2.1675071716308594\n"
     ]
    },
    {
     "data": {
      "image/png": "[encoded data removed]",
      "text/plain": [
       "<Figure size 432x288 with 1 Axes>"
      ]
     },
     "metadata": {
      "needs_background": "light"
     },
     "output_type": "display_data"
    },
    {
     "name": "stderr",
     "output_type": "stream",
     "text": [
      "  0%|          | 7/200000 [00:00<11:00:06,  5.05it/s]"
     ]
    },
    {
     "name": "stdout",
     "output_type": "stream",
     "text": [
      "torch.Size([256, 128])\n",
      "torch.Size([512, 128])\n",
      "torch.Size([576, 128])\n",
      "torch.Size([448, 128])\n",
      "torch.Size([320, 128])\n",
      "torch.Size([384, 128])\n",
      "torch.Size([448, 128])\n",
      "torch.Size([320, 128])\n",
      "torch.Size([512, 128])\n",
      "torch.Size([384, 128])\n",
      "torch.Size([384, 128])\n",
      "torch.Size([512, 128])\n",
      "torch.Size([256, 128])\n"
     ]
    },
    {
     "name": "stderr",
     "output_type": "stream",
     "text": [
      "  0%|          | 24/200000 [00:00<4:32:13, 12.24it/s]"
     ]
    },
    {
     "name": "stdout",
     "output_type": "stream",
     "text": [
      "torch.Size([512, 128])\n",
      "torch.Size([192, 128])\n",
      "torch.Size([384, 128])\n",
      "torch.Size([384, 128])\n",
      "torch.Size([448, 128])\n",
      "torch.Size([256, 128])\n",
      "torch.Size([512, 128])\n",
      "torch.Size([256, 128])\n",
      "torch.Size([512, 128])\n",
      "torch.Size([512, 128])\n"
     ]
    },
    {
     "name": "stderr",
     "output_type": "stream",
     "text": [
      "  0%|          | 34/200000 [00:00<2:49:38, 19.65it/s]"
     ]
    },
    {
     "name": "stdout",
     "output_type": "stream",
     "text": [
      "torch.Size([384, 128])\n",
      "torch.Size([512, 128])\n",
      "torch.Size([256, 128])\n",
      "torch.Size([576, 128])\n",
      "torch.Size([448, 128])\n",
      "torch.Size([448, 128])\n",
      "torch.Size([320, 128])\n",
      "torch.Size([576, 128])\n",
      "torch.Size([512, 128])\n",
      "torch.Size([192, 128])\n"
     ]
    },
    {
     "name": "stderr",
     "output_type": "stream",
     "text": [
      "\r",
      "  0%|          | 39/200000 [00:01<2:21:21, 23.58it/s]"
     ]
    },
    {
     "name": "stdout",
     "output_type": "stream",
     "text": [
      "torch.Size([448, 128])\n",
      "torch.Size([320, 128])\n",
      "torch.Size([448, 128])\n",
      "torch.Size([256, 128])\n",
      "torch.Size([512, 128])\n",
      "torch.Size([320, 128])\n",
      "torch.Size([448, 128])\n",
      "torch.Size([256, 128])\n",
      "torch.Size([320, 128])\n"
     ]
    },
    {
     "name": "stderr",
     "output_type": "stream",
     "text": [
      "  0%|          | 49/200000 [00:01<1:46:29, 31.29it/s]"
     ]
    },
    {
     "name": "stdout",
     "output_type": "stream",
     "text": [
      "torch.Size([576, 128])\n",
      "torch.Size([448, 128])\n",
      "torch.Size([576, 128])\n",
      "torch.Size([448, 128])\n",
      "torch.Size([320, 128])\n",
      "torch.Size([448, 128])\n",
      "torch.Size([256, 128])\n",
      "torch.Size([320, 128])\n",
      "torch.Size([256, 128])\n",
      "torch.Size([448, 128])\n",
      "torch.Size([192, 128])\n"
     ]
    },
    {
     "name": "stderr",
     "output_type": "stream",
     "text": [
      "  0%|          | 61/200000 [00:01<1:24:17, 39.53it/s]"
     ]
    },
    {
     "name": "stdout",
     "output_type": "stream",
     "text": [
      "torch.Size([576, 128])\n",
      "torch.Size([320, 128])\n",
      "torch.Size([384, 128])\n",
      "torch.Size([320, 128])\n",
      "torch.Size([512, 128])\n",
      "torch.Size([384, 128])\n",
      "torch.Size([576, 128])\n",
      "torch.Size([320, 128])\n",
      "torch.Size([192, 128])\n",
      "torch.Size([256, 128])\n",
      "torch.Size([448, 128])\n",
      "torch.Size([448, 128])\n"
     ]
    },
    {
     "name": "stderr",
     "output_type": "stream",
     "text": [
      "  0%|          | 73/200000 [00:01<1:13:24, 45.39it/s]"
     ]
    },
    {
     "name": "stdout",
     "output_type": "stream",
     "text": [
      "torch.Size([448, 128])\n",
      "torch.Size([256, 128])\n",
      "torch.Size([384, 128])\n",
      "torch.Size([192, 128])\n",
      "torch.Size([256, 128])\n",
      "torch.Size([448, 128])\n",
      "torch.Size([448, 128])\n",
      "torch.Size([576, 128])\n",
      "torch.Size([384, 128])\n",
      "torch.Size([576, 128])\n",
      "torch.Size([384, 128])\n"
     ]
    },
    {
     "name": "stderr",
     "output_type": "stream",
     "text": [
      "  0%|          | 85/200000 [00:01<1:07:53, 49.08it/s]"
     ]
    },
    {
     "name": "stdout",
     "output_type": "stream",
     "text": [
      "torch.Size([192, 128])\n",
      "torch.Size([384, 128])\n",
      "torch.Size([256, 128])\n",
      "torch.Size([448, 128])\n",
      "torch.Size([256, 128])\n",
      "torch.Size([192, 128])\n",
      "torch.Size([576, 128])\n",
      "torch.Size([576, 128])\n",
      "torch.Size([256, 128])\n",
      "torch.Size([384, 128])\n",
      "torch.Size([512, 128])\n",
      "torch.Size([576, 128])\n"
     ]
    },
    {
     "name": "stderr",
     "output_type": "stream",
     "text": [
      "  0%|          | 97/200000 [00:02<1:06:59, 49.74it/s]"
     ]
    },
    {
     "name": "stdout",
     "output_type": "stream",
     "text": [
      "torch.Size([192, 128])\n",
      "torch.Size([384, 128])\n",
      "torch.Size([448, 128])\n",
      "torch.Size([576, 128])\n",
      "torch.Size([256, 128])\n",
      "torch.Size([448, 128])\n",
      "torch.Size([448, 128])\n",
      "torch.Size([320, 128])\n",
      "torch.Size([256, 128])\n",
      "torch.Size([576, 128])\n"
     ]
    },
    {
     "name": "stderr",
     "output_type": "stream",
     "text": [
      "  0%|          | 109/200000 [00:02<1:05:17, 51.02it/s]"
     ]
    },
    {
     "name": "stdout",
     "output_type": "stream",
     "text": [
      "torch.Size([256, 128])\n",
      "torch.Size([192, 128])\n",
      "torch.Size([576, 128])\n",
      "torch.Size([320, 128])\n",
      "torch.Size([320, 128])\n",
      "torch.Size([384, 128])\n",
      "torch.Size([192, 128])\n",
      "torch.Size([512, 128])\n",
      "torch.Size([448, 128])\n",
      "torch.Size([512, 128])\n",
      "torch.Size([256, 128])\n"
     ]
    },
    {
     "name": "stderr",
     "output_type": "stream",
     "text": [
      "  0%|          | 121/200000 [00:02<1:04:34, 51.59it/s]"
     ]
    },
    {
     "name": "stdout",
     "output_type": "stream",
     "text": [
      "torch.Size([512, 128])\n",
      "torch.Size([320, 128])\n",
      "torch.Size([512, 128])\n",
      "torch.Size([576, 128])\n",
      "torch.Size([384, 128])\n",
      "torch.Size([448, 128])\n",
      "torch.Size([576, 128])\n",
      "torch.Size([512, 128])\n",
      "torch.Size([256, 128])\n",
      "torch.Size([384, 128])\n",
      "torch.Size([448, 128])\n"
     ]
    },
    {
     "name": "stderr",
     "output_type": "stream",
     "text": [
      "\r",
      "  0%|          | 127/200000 [00:02<1:08:02, 48.96it/s]"
     ]
    },
    {
     "name": "stdout",
     "output_type": "stream",
     "text": [
      "torch.Size([512, 128])\n",
      "torch.Size([256, 128])\n",
      "torch.Size([448, 128])\n",
      "torch.Size([384, 128])\n",
      "torch.Size([576, 128])\n",
      "torch.Size([576, 128])\n",
      "torch.Size([256, 128])\n",
      "torch.Size([512, 128])\n",
      "torch.Size([448, 128])\n",
      "torch.Size([512, 128])\n"
     ]
    },
    {
     "name": "stderr",
     "output_type": "stream",
     "text": [
      "  0%|          | 137/200000 [00:03<1:09:34, 47.88it/s]"
     ]
    },
    {
     "name": "stdout",
     "output_type": "stream",
     "text": [
      "torch.Size([448, 128])\n",
      "torch.Size([512, 128])\n",
      "torch.Size([320, 128])\n",
      "torch.Size([448, 128])\n",
      "torch.Size([384, 128])\n",
      "torch.Size([448, 128])\n",
      "torch.Size([576, 128])\n",
      "torch.Size([576, 128])\n",
      "torch.Size([256, 128])\n",
      "torch.Size([320, 128])\n"
     ]
    },
    {
     "name": "stderr",
     "output_type": "stream",
     "text": [
      "  0%|          | 147/200000 [00:03<1:11:36, 46.51it/s]"
     ]
    },
    {
     "name": "stdout",
     "output_type": "stream",
     "text": [
      "torch.Size([192, 128])\n",
      "torch.Size([512, 128])\n",
      "torch.Size([576, 128])\n",
      "torch.Size([576, 128])\n",
      "torch.Size([512, 128])\n",
      "torch.Size([448, 128])\n",
      "torch.Size([512, 128])\n",
      "torch.Size([448, 128])\n",
      "torch.Size([384, 128])\n",
      "torch.Size([448, 128])\n"
     ]
    },
    {
     "name": "stderr",
     "output_type": "stream",
     "text": [
      "  0%|          | 157/200000 [00:03<1:11:40, 46.46it/s]"
     ]
    },
    {
     "name": "stdout",
     "output_type": "stream",
     "text": [
      "torch.Size([384, 128])\n",
      "torch.Size([448, 128])\n",
      "torch.Size([320, 128])\n",
      "torch.Size([384, 128])\n",
      "torch.Size([192, 128])\n",
      "torch.Size([256, 128])\n",
      "torch.Size([576, 128])\n",
      "torch.Size([320, 128])\n",
      "torch.Size([576, 128])\n",
      "torch.Size([512, 128])\n"
     ]
    },
    {
     "name": "stderr",
     "output_type": "stream",
     "text": [
      "  0%|          | 168/200000 [00:03<1:09:36, 47.84it/s]"
     ]
    },
    {
     "name": "stdout",
     "output_type": "stream",
     "text": [
      "torch.Size([384, 128])\n",
      "torch.Size([320, 128])\n",
      "torch.Size([256, 128])\n",
      "torch.Size([256, 128])\n",
      "torch.Size([192, 128])\n",
      "torch.Size([320, 128])\n",
      "torch.Size([384, 128])\n",
      "torch.Size([576, 128])\n",
      "torch.Size([192, 128])\n",
      "torch.Size([384, 128])\n",
      "torch.Size([384, 128])\n"
     ]
    },
    {
     "name": "stderr",
     "output_type": "stream",
     "text": [
      "  0%|          | 179/200000 [00:03<1:08:22, 48.71it/s]"
     ]
    },
    {
     "name": "stdout",
     "output_type": "stream",
     "text": [
      "torch.Size([576, 128])\n",
      "torch.Size([256, 128])\n",
      "torch.Size([256, 128])\n",
      "torch.Size([576, 128])\n",
      "torch.Size([320, 128])\n",
      "torch.Size([320, 128])\n",
      "torch.Size([320, 128])\n",
      "torch.Size([576, 128])\n",
      "torch.Size([512, 128])\n",
      "torch.Size([448, 128])\n"
     ]
    },
    {
     "name": "stderr",
     "output_type": "stream",
     "text": [
      "  0%|          | 189/200000 [00:04<1:08:17, 48.77it/s]"
     ]
    },
    {
     "name": "stdout",
     "output_type": "stream",
     "text": [
      "torch.Size([384, 128])\n",
      "torch.Size([192, 128])\n",
      "torch.Size([384, 128])\n",
      "torch.Size([384, 128])\n",
      "torch.Size([576, 128])\n",
      "torch.Size([576, 128])\n",
      "torch.Size([448, 128])\n",
      "torch.Size([512, 128])\n",
      "torch.Size([192, 128])\n",
      "torch.Size([320, 128])\n",
      "torch.Size([320, 128])"
     ]
    },
    {
     "name": "stderr",
     "output_type": "stream",
     "text": [
      "  0%|          | 200/200000 [00:04<1:08:08, 48.87it/s]"
     ]
    },
    {
     "name": "stdout",
     "output_type": "stream",
     "text": [
      "\n",
      "torch.Size([192, 128])\n",
      "torch.Size([384, 128])\n",
      "torch.Size([448, 128])\n",
      "torch.Size([576, 128])\n",
      "torch.Size([576, 128])\n",
      "torch.Size([448, 128])\n",
      "torch.Size([256, 128])\n",
      "torch.Size([256, 128])\n",
      "torch.Size([320, 128])\n"
     ]
    },
    {
     "name": "stderr",
     "output_type": "stream",
     "text": [
      "  0%|          | 211/200000 [00:04<1:07:55, 49.02it/s]"
     ]
    },
    {
     "name": "stdout",
     "output_type": "stream",
     "text": [
      "torch.Size([512, 128])\n",
      "torch.Size([192, 128])\n",
      "torch.Size([448, 128])\n",
      "torch.Size([448, 128])\n",
      "torch.Size([256, 128])\n",
      "torch.Size([512, 128])\n",
      "torch.Size([256, 128])\n",
      "torch.Size([256, 128])\n",
      "torch.Size([384, 128])\n",
      "torch.Size([384, 128])\n",
      "torch.Size([384, 128])\n"
     ]
    },
    {
     "name": "stderr",
     "output_type": "stream",
     "text": [
      "  0%|          | 222/200000 [00:04<1:08:00, 48.96it/s]"
     ]
    },
    {
     "name": "stdout",
     "output_type": "stream",
     "text": [
      "torch.Size([448, 128])\n",
      "torch.Size([512, 128])\n",
      "torch.Size([576, 128])\n",
      "torch.Size([320, 128])\n",
      "torch.Size([320, 128])\n",
      "torch.Size([384, 128])\n",
      "torch.Size([192, 128])\n",
      "torch.Size([384, 128])\n",
      "torch.Size([320, 128])\n",
      "torch.Size([192, 128])\n"
     ]
    },
    {
     "name": "stderr",
     "output_type": "stream",
     "text": [
      "\r",
      "  0%|          | 227/200000 [00:04<1:18:30, 42.41it/s]"
     ]
    },
    {
     "name": "stdout",
     "output_type": "stream",
     "text": [
      "torch.Size([192, 128])\n",
      "torch.Size([320, 128])\n",
      "torch.Size([192, 128])\n",
      "torch.Size([448, 128])\n",
      "torch.Size([192, 128])\n",
      "torch.Size([192, 128])\n"
     ]
    },
    {
     "name": "stderr",
     "output_type": "stream",
     "text": [
      "  0%|          | 238/200000 [00:05<1:19:28, 41.89it/s]"
     ]
    },
    {
     "name": "stdout",
     "output_type": "stream",
     "text": [
      "torch.Size([576, 128])\n",
      "torch.Size([576, 128])\n",
      "torch.Size([512, 128])\n",
      "torch.Size([576, 128])\n",
      "torch.Size([576, 128])\n",
      "torch.Size([320, 128])\n",
      "torch.Size([384, 128])\n",
      "torch.Size([384, 128])\n",
      "torch.Size([576, 128])\n",
      "torch.Size([256, 128])\n"
     ]
    },
    {
     "name": "stderr",
     "output_type": "stream",
     "text": [
      "  0%|          | 249/200000 [00:05<1:14:49, 44.50it/s]"
     ]
    },
    {
     "name": "stdout",
     "output_type": "stream",
     "text": [
      "torch.Size([512, 128])\n",
      "torch.Size([192, 128])\n",
      "torch.Size([384, 128])\n",
      "torch.Size([320, 128])\n",
      "torch.Size([384, 128])\n",
      "torch.Size([384, 128])\n",
      "torch.Size([320, 128])\n",
      "torch.Size([448, 128])\n",
      "torch.Size([448, 128])\n",
      "torch.Size([320, 128])\n",
      "torch.Size([512, 128])\n"
     ]
    },
    {
     "name": "stderr",
     "output_type": "stream",
     "text": [
      "  0%|          | 260/200000 [00:05<1:09:27, 47.92it/s]"
     ]
    },
    {
     "name": "stdout",
     "output_type": "stream",
     "text": [
      "torch.Size([512, 128])\n",
      "torch.Size([256, 128])\n",
      "torch.Size([576, 128])\n",
      "torch.Size([448, 128])\n",
      "torch.Size([512, 128])\n",
      "torch.Size([448, 128])\n",
      "torch.Size([256, 128])\n",
      "torch.Size([256, 128])\n",
      "torch.Size([192, 128])\n",
      "torch.Size([192, 128])\n",
      "torch.Size([192, 128])\n"
     ]
    },
    {
     "name": "stderr",
     "output_type": "stream",
     "text": [
      "  0%|          | 270/200000 [00:05<1:10:13, 47.40it/s]"
     ]
    },
    {
     "name": "stdout",
     "output_type": "stream",
     "text": [
      "torch.Size([320, 128])\n",
      "torch.Size([192, 128])\n",
      "torch.Size([320, 128])\n",
      "torch.Size([192, 128])\n",
      "torch.Size([384, 128])\n",
      "torch.Size([384, 128])\n",
      "torch.Size([384, 128])\n",
      "torch.Size([448, 128])\n",
      "torch.Size([512, 128])\n",
      "torch.Size([448, 128])\n"
     ]
    },
    {
     "name": "stderr",
     "output_type": "stream",
     "text": [
      "  0%|          | 280/200000 [00:06<1:10:25, 47.27it/s]"
     ]
    },
    {
     "name": "stdout",
     "output_type": "stream",
     "text": [
      "torch.Size([384, 128])\n",
      "torch.Size([384, 128])\n",
      "torch.Size([448, 128])\n",
      "torch.Size([384, 128])\n",
      "torch.Size([384, 128])\n",
      "torch.Size([448, 128])\n",
      "torch.Size([320, 128])\n",
      "torch.Size([384, 128])\n",
      "torch.Size([512, 128])\n",
      "torch.Size([384, 128])\n",
      "torch.Size([192, 128])\n"
     ]
    },
    {
     "name": "stderr",
     "output_type": "stream",
     "text": [
      "  0%|          | 291/200000 [00:06<1:07:52, 49.04it/s]"
     ]
    },
    {
     "name": "stdout",
     "output_type": "stream",
     "text": [
      "torch.Size([576, 128])\n",
      "torch.Size([192, 128])\n",
      "torch.Size([576, 128])\n",
      "torch.Size([384, 128])\n",
      "torch.Size([384, 128])\n",
      "torch.Size([384, 128])\n",
      "torch.Size([512, 128])\n",
      "torch.Size([192, 128])\n",
      "torch.Size([256, 128])\n",
      "torch.Size([384, 128])\n",
      "torch.Size([256, 128])\n"
     ]
    },
    {
     "name": "stderr",
     "output_type": "stream",
     "text": [
      "  0%|          | 301/200000 [00:06<1:10:49, 47.00it/s]"
     ]
    },
    {
     "name": "stdout",
     "output_type": "stream",
     "text": [
      "torch.Size([320, 128])\n",
      "torch.Size([320, 128])\n",
      "torch.Size([448, 128])\n",
      "torch.Size([192, 128])\n",
      "torch.Size([384, 128])\n",
      "torch.Size([192, 128])\n",
      "torch.Size([512, 128])\n",
      "torch.Size([448, 128])\n",
      "torch.Size([192, 128])\n",
      "torch.Size([448, 128])\n"
     ]
    },
    {
     "name": "stderr",
     "output_type": "stream",
     "text": [
      "  0%|          | 311/200000 [00:06<1:16:12, 43.67it/s]"
     ]
    },
    {
     "name": "stdout",
     "output_type": "stream",
     "text": [
      "torch.Size([384, 128])\n",
      "torch.Size([320, 128])\n",
      "torch.Size([448, 128])\n",
      "torch.Size([512, 128])\n",
      "torch.Size([576, 128])\n",
      "torch.Size([256, 128])\n",
      "torch.Size([512, 128])\n",
      "torch.Size([192, 128])\n",
      "torch.Size([576, 128])\n"
     ]
    },
    {
     "name": "stderr",
     "output_type": "stream",
     "text": [
      "  0%|          | 321/200000 [00:06<1:16:41, 43.39it/s]"
     ]
    },
    {
     "name": "stdout",
     "output_type": "stream",
     "text": [
      "torch.Size([512, 128])\n",
      "torch.Size([192, 128])\n",
      "torch.Size([384, 128])\n",
      "torch.Size([512, 128])\n",
      "torch.Size([192, 128])\n",
      "torch.Size([192, 128])\n",
      "torch.Size([320, 128])\n",
      "torch.Size([384, 128])\n",
      "torch.Size([320, 128])\n",
      "torch.Size([192, 128])\n"
     ]
    },
    {
     "name": "stderr",
     "output_type": "stream",
     "text": [
      "  0%|          | 331/200000 [00:07<1:12:53, 45.66it/s]"
     ]
    },
    {
     "name": "stdout",
     "output_type": "stream",
     "text": [
      "torch.Size([448, 128])\n",
      "torch.Size([512, 128])\n",
      "torch.Size([448, 128])\n",
      "torch.Size([256, 128])\n",
      "torch.Size([384, 128])\n",
      "torch.Size([384, 128])\n",
      "torch.Size([384, 128])\n",
      "torch.Size([384, 128])\n",
      "torch.Size([384, 128])\n",
      "torch.Size([256, 128])\n"
     ]
    },
    {
     "name": "stderr",
     "output_type": "stream",
     "text": [
      "\r",
      "  0%|          | 335/200000 [00:07<1:12:38, 45.81it/s]"
     ]
    },
    {
     "name": "stdout",
     "output_type": "stream",
     "text": [
      "torch.Size([512, 128])\n",
      "torch.Size([576, 128])\n",
      "torch.Size([192, 128])\n"
     ]
    },
    {
     "name": "stderr",
     "output_type": "stream",
     "text": [
      "\n"
     ]
    },
    {
     "ename": "KeyboardInterrupt",
     "evalue": "",
     "output_type": "error",
     "traceback": [
      "\u001b[0;31m---------------------------------------------------------------------------\u001b[0m",
      "\u001b[0;31mKeyboardInterrupt\u001b[0m                         Traceback (most recent call last)",
      "\u001b[0;32m<ipython-input-12-a10b94649fa7>\u001b[0m in \u001b[0;36m<module>\u001b[0;34m\u001b[0m\n\u001b[0;32m----> 1\u001b[0;31m \u001b[0mmodel_weights\u001b[0m \u001b[0;34m=\u001b[0m \u001b[0mtrainer\u001b[0m\u001b[0;34m.\u001b[0m\u001b[0mrun_training\u001b[0m\u001b[0;34m(\u001b[0m\u001b[0;34m**\u001b[0m\u001b[0mdefault_conf\u001b[0m\u001b[0;34m[\u001b[0m\u001b[0;34m'training_params'\u001b[0m\u001b[0;34m]\u001b[0m\u001b[0;34m)\u001b[0m\u001b[0;34m\u001b[0m\u001b[0;34m\u001b[0m\u001b[0m\n\u001b[0m",
      "\u001b[0;32m~/Google Drive/University/UC3M/TFM/cnp_repo/neural-processes/cnp/trainer.py\u001b[0m in \u001b[0;36mrun_training\u001b[0;34m(self, plotting, batch_size_train, batch_size_vali, kwargs)\u001b[0m\n\u001b[1;32m    298\u001b[0m \u001b[0;34m\u001b[0m\u001b[0m\n\u001b[1;32m    299\u001b[0m \u001b[0;34m\u001b[0m\u001b[0m\n\u001b[0;32m--> 300\u001b[0;31m                 X_train, y_train = self._datagenerator.generate_curves(\n\u001b[0m\u001b[1;32m    301\u001b[0m                     **kwargs)\n\u001b[1;32m    302\u001b[0m                     \u001b[0;31m# num_instances=kwargs['num_instances_train'],\u001b[0m\u001b[0;34m\u001b[0m\u001b[0;34m\u001b[0m\u001b[0;34m\u001b[0m\u001b[0m\n",
      "\u001b[0;32m~/Google Drive/University/UC3M/TFM/cnp_repo/neural-processes/cnp/datageneration.py\u001b[0m in \u001b[0;36mgenerate_curves\u001b[0;34m(self, num_instances_train, num_instances_vali, noise, length_scale, gamma, train)\u001b[0m\n\u001b[1;32m     72\u001b[0m             \u001b[0;31m# creating as many standard\u001b[0m\u001b[0;34m\u001b[0m\u001b[0;34m\u001b[0m\u001b[0;34m\u001b[0m\u001b[0m\n\u001b[1;32m     73\u001b[0m             \u001b[0mstandard_normals\u001b[0m \u001b[0;34m=\u001b[0m \u001b[0mtorch\u001b[0m\u001b[0;34m.\u001b[0m\u001b[0mnormal\u001b[0m\u001b[0;34m(\u001b[0m\u001b[0;36m0\u001b[0m\u001b[0;34m,\u001b[0m \u001b[0;36m1\u001b[0m\u001b[0;34m,\u001b[0m \u001b[0;34m(\u001b[0m\u001b[0mself\u001b[0m\u001b[0;34m.\u001b[0m\u001b[0m_steps\u001b[0m\u001b[0;34m,\u001b[0m \u001b[0mself\u001b[0m\u001b[0;34m.\u001b[0m\u001b[0m_xdim\u001b[0m\u001b[0;34m)\u001b[0m\u001b[0;34m)\u001b[0m\u001b[0;34m\u001b[0m\u001b[0;34m\u001b[0m\u001b[0m\n\u001b[0;32m---> 74\u001b[0;31m             \u001b[0mfunc_x\u001b[0m \u001b[0;34m=\u001b[0m \u001b[0mcholesky_decomp\u001b[0m \u001b[0;34m@\u001b[0m \u001b[0mstandard_normals\u001b[0m\u001b[0;34m\u001b[0m\u001b[0;34m\u001b[0m\u001b[0m\n\u001b[0m\u001b[1;32m     75\u001b[0m             \u001b[0mdatasets\u001b[0m\u001b[0;34m.\u001b[0m\u001b[0mappend\u001b[0m\u001b[0;34m(\u001b[0m\u001b[0mfunc_x\u001b[0m\u001b[0;34m)\u001b[0m\u001b[0;34m\u001b[0m\u001b[0;34m\u001b[0m\u001b[0m\n\u001b[1;32m     76\u001b[0m         \u001b[0;32mreturn\u001b[0m \u001b[0mx_values\u001b[0m\u001b[0;34m,\u001b[0m \u001b[0mdatasets\u001b[0m\u001b[0;34m\u001b[0m\u001b[0;34m\u001b[0m\u001b[0m\n",
      "\u001b[0;31mKeyboardInterrupt\u001b[0m: "
     ]
    }
   ],
   "source": [
    "model_weights = trainer.run_training(**default_conf['training_params'])"
   ]
  },
  {
   "cell_type": "code",
   "execution_count": 8,
   "metadata": {},
   "outputs": [
    {
     "data": {
      "text/plain": [
       "{'kwargs': {'num_instances_train': 64,\n",
       "  'num_instances_vali': 1,\n",
       "  'noise': 0.0004,\n",
       "  'length_scale': 0.4,\n",
       "  'gamma': 1},\n",
       " 'batch_size_train': 64,\n",
       " 'batch_size_vali': 1,\n",
       " 'plotting': True}"
      ]
     },
     "execution_count": 8,
     "metadata": {},
     "output_type": "execute_result"
    }
   ],
   "source": [
    "default_conf['training_params']"
   ]
  },
  {
   "cell_type": "code",
   "execution_count": null,
   "metadata": {},
   "outputs": [],
   "source": []
  }
 ],
 "metadata": {
  "accelerator": "GPU",
  "colab": {
   "collapsed_sections": [],
   "name": "train_1d_paper_model.ipynb",
   "provenance": []
  },
  "kernelspec": {
   "display_name": "tfm",
   "language": "python",
   "name": "tfm"
  },
  "language_info": {
   "codemirror_mode": {
    "name": "ipython",
    "version": 3
   },
   "file_extension": ".py",
   "mimetype": "text/x-python",
   "name": "python",
   "nbconvert_exporter": "python",
   "pygments_lexer": "ipython3",
   "version": "3.8.2+"
  },
  "pycharm": {
   "stem_cell": {
    "cell_type": "raw",
    "metadata": {
     "collapsed": false
    },
    "source": []
   }
  }
 },
 "nbformat": 4,
 "nbformat_minor": 1
}
