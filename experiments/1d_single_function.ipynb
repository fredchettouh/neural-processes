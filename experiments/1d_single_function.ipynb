{
 "cells": [
  {
   "cell_type": "code",
   "execution_count": 2,
   "metadata": {},
   "outputs": [
    {
     "name": "stdout",
     "output_type": "stream",
     "text": [
      "The autoreload extension is already loaded. To reload it, use:\n",
      "  %reload_ext autoreload\n"
     ]
    }
   ],
   "source": [
    "%load_ext autoreload\n",
    "%autoreload 2\n"
   ]
  },
  {
   "cell_type": "code",
   "execution_count": 3,
   "metadata": {
    "colab": {
     "base_uri": "https://localhost:8080/",
     "height": 51
    },
    "colab_type": "code",
    "executionInfo": {
     "elapsed": 10717,
     "status": "ok",
     "timestamp": 1588854751226,
     "user": {
      "displayName": "Fred Che",
      "photoUrl": "",
      "userId": "07612464138287230381"
     },
     "user_tz": -120
    },
    "id": "sf1IdGXyHp9b",
    "outputId": "89035aa9-87b7-4814-dee7-f678e97a8a6e"
   },
   "outputs": [
    {
     "name": "stdout",
     "output_type": "stream",
     "text": [
      "Running on Colab?\n",
      "no\n",
      "Top level directory is set to /Users/frederik/Google Drive/University/UC3M/TFM/cnp_repo/neural-processes\n"
     ]
    }
   ],
   "source": [
    "import os\n",
    "google_colab = input('Running on Colab?\\n')\n",
    "if google_colab=='yes' : \n",
    "    BASE_DIR = 'University/UC3M/TFM/cnp_repo/neural-processes'\n",
    "\n",
    "    # Load the Drive helper and mount\n",
    "    from google.colab import drive\n",
    "\n",
    "    # This will prompt for authorization.\n",
    "    drive.mount('/content/drive')\n",
    "\n",
    "      # Change to assignment directory ('Lab_Exercises_DASS/Lab_Exercise4' by default)\n",
    "    import os\n",
    "    os.chdir(f'/content/drive/My Drive/{BASE_DIR}')\n",
    "    \n",
    "else:\n",
    "    import sys, os \n",
    "    BASE_DIR = '/'.join(os.getcwd().split('/')[:-1])\n",
    "    sys.path.append(BASE_DIR)\n",
    "    print(f'Top level directory is set to {BASE_DIR}')\n",
    "    os.chdir(BASE_DIR)\n",
    "\n",
    "    \n",
    "# custom imports\n",
    "from cnp.trainer import RegressionTrainer\n",
    "from cnp.datageneration import DataGenerator\n",
    "from cnp.helpers import Helper\n",
    "\n",
    "import torch\n",
    "import numpy as np\n",
    "\n",
    "# import utils\n",
    "import json\n",
    "from datetime import date"
   ]
  },
  {
   "cell_type": "code",
   "execution_count": 4,
   "metadata": {
    "colab": {},
    "colab_type": "code",
    "id": "dgX31aWtVX9P",
    "pycharm": {
     "is_executing": false
    }
   },
   "outputs": [],
   "source": [
    "\n",
    "# we first get the variables for the configuration file\n",
    "os.environ[\"CHECKPOINT_DIR\"] = \"checkpoints\"\n",
    "os.environ[\"MODEL_PARAMS\"] = \"default\"\n",
    "\n",
    "CHECKPOINT_DIR = os.environ['CHECKPOINT_DIR']\n",
    "MODEL_PARAMS = os.environ['MODEL_PARAMS']\n",
    "\n",
    "if google_colab=='yes':\n",
    "    config_dir = ''\n",
    "else:\n",
    "    config_dir = os.path.join(BASE_DIR,'configs')\n",
    "\n",
    "with open(os.path.join(config_dir,'1d_singlefunc_config.json')) as f:\n",
    "    file = f.read()\n",
    "    default_conf = json.loads(file)\n",
    "\n"
   ]
  },
  {
   "cell_type": "code",
   "execution_count": 5,
   "metadata": {
    "colab": {
     "base_uri": "https://localhost:8080/",
     "height": 34
    },
    "colab_type": "code",
    "executionInfo": {
     "elapsed": 364,
     "status": "ok",
     "timestamp": 1588854759021,
     "user": {
      "displayName": "Fred Che",
      "photoUrl": "",
      "userId": "07612464138287230381"
     },
     "user_tz": -120
    },
    "id": "aviCJYdobf2t",
    "outputId": "daa036cd-e55b-4761-ff5f-ba04f2814c5e"
   },
   "outputs": [
    {
     "name": "stdout",
     "output_type": "stream",
     "text": [
      "No GPU available, training on CPU\n"
     ]
    }
   ],
   "source": [
    "\n",
    "# checking whether CUDA is available \n",
    "train_on_gpu = torch.cuda.is_available()\n",
    "if(train_on_gpu):\n",
    "    print('Training on GPU!')\n",
    "    default_conf['single_function']['experiment_params']['train_on_gpu'] = True\n",
    "else: \n",
    "    print('No GPU available, training on CPU')\n",
    "    default_conf['single_function']['experiment_params']['train_on_gpu'] = False"
   ]
  },
  {
   "cell_type": "code",
   "execution_count": 6,
   "metadata": {},
   "outputs": [],
   "source": [
    "default_conf['single_function']['training_params']['kwargs']['data_path'] = os.path.join(\n",
    "    BASE_DIR,\n",
    "    default_conf['single_function']['training_params']['kwargs']['data_dir'],\n",
    "     default_conf['single_function']['training_params']['kwargs']['extension'],\n",
    "    default_conf['single_function']['training_params']['kwargs']['data_file'])"
   ]
  },
  {
   "cell_type": "markdown",
   "metadata": {
    "colab_type": "text",
    "id": "2Uh33yfUVX9U"
   },
   "source": [
    "## Generating data on the fly from a simple function."
   ]
  },
  {
   "cell_type": "code",
   "execution_count": 7,
   "metadata": {
    "colab": {},
    "colab_type": "code",
    "id": "5ihjWlKq5ylu"
   },
   "outputs": [],
   "source": [
    "# creating an instance of to orchestrate the training\n",
    "trainer = RegressionTrainer(**default_conf['multiple_functions']['experiment_params'])"
   ]
  },
  {
   "cell_type": "code",
   "execution_count": 8,
   "metadata": {},
   "outputs": [],
   "source": [
    "kwargs = default_conf['multiple_functions']['training_params']['kwargs']"
   ]
  },
  {
   "cell_type": "code",
   "execution_count": 9,
   "metadata": {
    "scrolled": true
   },
   "outputs": [
    {
     "name": "stderr",
     "output_type": "stream",
     "text": [
      "\r",
      "  0%|          | 0/100 [00:00<?, ?it/s]"
     ]
    },
    {
     "name": "stdout",
     "output_type": "stream",
     "text": [
      "torch.Size([2, 1, 128])\n",
      "torch.Size([2, 1, 128])\n",
      "torch.Size([2, 1, 128])\n",
      "torch.Size([2, 1, 128])\n",
      "torch.Size([2, 1, 128])\n",
      "torch.Size([2, 1, 128])\n",
      "torch.Size([2, 1, 128])\n",
      "torch.Size([2, 1, 128])\n",
      "torch.Size([2, 1, 128])\n",
      "torch.Size([2, 1, 128])\n",
      "torch.Size([2, 1, 128])\n",
      "torch.Size([2, 1, 128])\n",
      "torch.Size([2, 1, 128])\n",
      "torch.Size([2, 1, 128])\n",
      "torch.Size([2, 1, 128])\n",
      "torch.Size([2, 1, 128])\n",
      "torch.Size([2, 1, 128])\n",
      "torch.Size([2, 1, 128])\n",
      "torch.Size([2, 1, 128])\n",
      "torch.Size([2, 1, 128])\n",
      "torch.Size([2, 1, 128])\n",
      "torch.Size([2, 1, 128])\n",
      "torch.Size([2, 1, 128])\n",
      "torch.Size([2, 1, 128])\n",
      "torch.Size([2, 1, 128])\n",
      "torch.Size([2, 1, 128])\n",
      "torch.Size([2, 1, 128])\n",
      "torch.Size([2, 1, 128])\n",
      "torch.Size([2, 1, 128])\n",
      "torch.Size([2, 1, 128])\n",
      "torch.Size([2, 1, 128])\n",
      "torch.Size([2, 1, 128])\n",
      "Mean training loss at epoch 0 :                         20.635\n",
      "torch.Size([1, 1, 128])\n",
      "torch.Size([1, 1, 128])\n",
      "Mean Validation loss after 0 equals                     3.959\n",
      "\n",
      "Validation loss for the function plotted:                 3.803\n"
     ]
    },
    {
     "data": {
      "image/png": "[encoded data removed]",
      "text/plain": [
       "<Figure size 432x288 with 1 Axes>"
      ]
     },
     "metadata": {
      "needs_background": "light"
     },
     "output_type": "display_data"
    },
    {
     "name": "stderr",
     "output_type": "stream",
     "text": [
      "  2%|▏         | 2/100 [00:00<00:35,  2.76it/s]"
     ]
    },
    {
     "name": "stdout",
     "output_type": "stream",
     "text": [
      "torch.Size([2, 1, 128])\n",
      "torch.Size([2, 1, 128])\n",
      "torch.Size([2, 1, 128])\n",
      "torch.Size([2, 1, 128])\n",
      "torch.Size([2, 1, 128])\n",
      "torch.Size([2, 1, 128])\n",
      "torch.Size([2, 1, 128])\n",
      "torch.Size([2, 1, 128])\n",
      "torch.Size([2, 1, 128])\n",
      "torch.Size([2, 1, 128])\n",
      "torch.Size([2, 1, 128])\n",
      "torch.Size([2, 1, 128])\n",
      "torch.Size([2, 1, 128])\n",
      "torch.Size([2, 1, 128])\n",
      "torch.Size([2, 1, 128])\n",
      "torch.Size([2, 1, 128])\n",
      "torch.Size([2, 1, 128])\n",
      "torch.Size([2, 1, 128])\n",
      "torch.Size([2, 1, 128])\n",
      "torch.Size([2, 1, 128])\n",
      "torch.Size([2, 1, 128])\n",
      "torch.Size([2, 1, 128])\n",
      "torch.Size([2, 1, 128])\n",
      "torch.Size([2, 1, 128])\n",
      "torch.Size([2, 1, 128])\n",
      "torch.Size([2, 1, 128])\n",
      "torch.Size([2, 1, 128])\n",
      "torch.Size([2, 1, 128])\n",
      "torch.Size([2, 1, 128])\n",
      "torch.Size([2, 1, 128])\n",
      "torch.Size([2, 1, 128])\n",
      "torch.Size([2, 1, 128])\n",
      "torch.Size([2, 1, 128])\n",
      "torch.Size([2, 1, 128])\n",
      "torch.Size([2, 1, 128])\n",
      "torch.Size([2, 1, 128])\n",
      "torch.Size([2, 1, 128])\n",
      "torch.Size([2, 1, 128])\n",
      "torch.Size([2, 1, 128])\n",
      "torch.Size([2, 1, 128])\n",
      "torch.Size([2, 1, 128])\n",
      "torch.Size([2, 1, 128])\n",
      "torch.Size([2, 1, 128])\n",
      "torch.Size([2, 1, 128])\n",
      "torch.Size([2, 1, 128])\n",
      "torch.Size([2, 1, 128])\n"
     ]
    },
    {
     "name": "stderr",
     "output_type": "stream",
     "text": [
      "\r",
      "  3%|▎         | 3/100 [00:00<00:29,  3.34it/s]"
     ]
    },
    {
     "name": "stdout",
     "output_type": "stream",
     "text": [
      "torch.Size([2, 1, 128])\n",
      "torch.Size([2, 1, 128])\n",
      "torch.Size([2, 1, 128])\n",
      "torch.Size([2, 1, 128])\n",
      "torch.Size([2, 1, 128])\n",
      "torch.Size([2, 1, 128])\n",
      "torch.Size([2, 1, 128])\n",
      "torch.Size([2, 1, 128])\n",
      "torch.Size([2, 1, 128])\n",
      "torch.Size([2, 1, 128])\n",
      "torch.Size([2, 1, 128])\n",
      "torch.Size([2, 1, 128])\n",
      "torch.Size([2, 1, 128])\n",
      "torch.Size([2, 1, 128])\n",
      "torch.Size([2, 1, 128])\n",
      "torch.Size([2, 1, 128])\n",
      "torch.Size([2, 1, 128])\n",
      "torch.Size([2, 1, 128])\n",
      "torch.Size([2, 1, 128])\n",
      "torch.Size([2, 1, 128])\n",
      "torch.Size([2, 1, 128])\n",
      "torch.Size([2, 1, 128])\n",
      "torch.Size([2, 1, 128])\n",
      "torch.Size([2, 1, 128])\n",
      "torch.Size([2, 1, 128])\n",
      "torch.Size([2, 1, 128])\n",
      "torch.Size([2, 1, 128])\n",
      "torch.Size([2, 1, 128])\n",
      "torch.Size([2, 1, 128])\n",
      "torch.Size([2, 1, 128])\n",
      "torch.Size([2, 1, 128])\n",
      "torch.Size([2, 1, 128])\n",
      "torch.Size([2, 1, 128])\n",
      "torch.Size([2, 1, 128])\n",
      "torch.Size([2, 1, 128])\n",
      "torch.Size([2, 1, 128])\n",
      "torch.Size([2, 1, 128])\n",
      "torch.Size([2, 1, 128])\n",
      "torch.Size([2, 1, 128])\n",
      "torch.Size([2, 1, 128])\n",
      "torch.Size([2, 1, 128])\n",
      "torch.Size([2, 1, 128])\n",
      "torch.Size([2, 1, 128])\n",
      "torch.Size([2, 1, 128])\n",
      "torch.Size([2, 1, 128])\n"
     ]
    },
    {
     "name": "stderr",
     "output_type": "stream",
     "text": [
      "  5%|▌         | 5/100 [00:01<00:21,  4.42it/s]"
     ]
    },
    {
     "name": "stdout",
     "output_type": "stream",
     "text": [
      "torch.Size([2, 1, 128])\n",
      "torch.Size([2, 1, 128])\n",
      "torch.Size([2, 1, 128])\n",
      "torch.Size([2, 1, 128])\n",
      "torch.Size([2, 1, 128])\n",
      "torch.Size([2, 1, 128])\n",
      "torch.Size([2, 1, 128])\n",
      "torch.Size([2, 1, 128])\n",
      "torch.Size([2, 1, 128])\n",
      "torch.Size([2, 1, 128])\n",
      "torch.Size([2, 1, 128])\n",
      "torch.Size([2, 1, 128])\n",
      "torch.Size([2, 1, 128])\n",
      "torch.Size([2, 1, 128])\n",
      "torch.Size([2, 1, 128])\n",
      "torch.Size([2, 1, 128])\n",
      "torch.Size([2, 1, 128])\n",
      "torch.Size([2, 1, 128])\n",
      "torch.Size([2, 1, 128])\n",
      "torch.Size([2, 1, 128])\n",
      "torch.Size([2, 1, 128])\n",
      "torch.Size([2, 1, 128])\n",
      "torch.Size([2, 1, 128])\n",
      "torch.Size([2, 1, 128])\n",
      "torch.Size([2, 1, 128])\n",
      "torch.Size([2, 1, 128])\n",
      "torch.Size([2, 1, 128])\n",
      "torch.Size([2, 1, 128])\n",
      "torch.Size([2, 1, 128])\n",
      "torch.Size([2, 1, 128])\n",
      "torch.Size([2, 1, 128])\n",
      "torch.Size([2, 1, 128])\n",
      "torch.Size([2, 1, 128])\n",
      "torch.Size([2, 1, 128])\n",
      "torch.Size([2, 1, 128])\n",
      "torch.Size([2, 1, 128])\n",
      "torch.Size([2, 1, 128])\n",
      "torch.Size([2, 1, 128])\n",
      "torch.Size([2, 1, 128])\n",
      "torch.Size([2, 1, 128])\n"
     ]
    },
    {
     "name": "stderr",
     "output_type": "stream",
     "text": [
      "\r",
      "  6%|▌         | 6/100 [00:01<00:19,  4.85it/s]"
     ]
    },
    {
     "name": "stdout",
     "output_type": "stream",
     "text": [
      "torch.Size([2, 1, 128])\n",
      "torch.Size([2, 1, 128])\n",
      "torch.Size([2, 1, 128])\n",
      "torch.Size([2, 1, 128])\n",
      "torch.Size([2, 1, 128])\n",
      "torch.Size([2, 1, 128])\n",
      "torch.Size([2, 1, 128])\n",
      "torch.Size([2, 1, 128])\n",
      "torch.Size([2, 1, 128])\n",
      "torch.Size([2, 1, 128])\n",
      "torch.Size([2, 1, 128])\n",
      "torch.Size([2, 1, 128])\n",
      "torch.Size([2, 1, 128])\n",
      "torch.Size([2, 1, 128])\n",
      "torch.Size([2, 1, 128])\n",
      "torch.Size([2, 1, 128])\n",
      "torch.Size([2, 1, 128])\n",
      "torch.Size([2, 1, 128])\n",
      "torch.Size([2, 1, 128])\n",
      "torch.Size([2, 1, 128])\n",
      "torch.Size([2, 1, 128])\n",
      "torch.Size([2, 1, 128])\n",
      "torch.Size([2, 1, 128])\n",
      "torch.Size([2, 1, 128])\n",
      "torch.Size([2, 1, 128])\n",
      "torch.Size([2, 1, 128])\n",
      "torch.Size([2, 1, 128])\n",
      "torch.Size([2, 1, 128])\n",
      "torch.Size([2, 1, 128])\n",
      "torch.Size([2, 1, 128])\n",
      "torch.Size([2, 1, 128])\n",
      "torch.Size([2, 1, 128])\n",
      "torch.Size([2, 1, 128])\n",
      "torch.Size([2, 1, 128])\n",
      "torch.Size([2, 1, 128])\n",
      "torch.Size([2, 1, 128])\n",
      "torch.Size([2, 1, 128])\n",
      "torch.Size([2, 1, 128])\n",
      "torch.Size([2, 1, 128])\n",
      "torch.Size([2, 1, 128])\n",
      "torch.Size([2, 1, 128])\n"
     ]
    },
    {
     "name": "stderr",
     "output_type": "stream",
     "text": [
      "\r",
      "  7%|▋         | 7/100 [00:01<00:17,  5.25it/s]"
     ]
    },
    {
     "name": "stdout",
     "output_type": "stream",
     "text": [
      "torch.Size([2, 1, 128])\n",
      "torch.Size([2, 1, 128])\n",
      "torch.Size([2, 1, 128])\n",
      "torch.Size([2, 1, 128])\n",
      "torch.Size([2, 1, 128])\n",
      "torch.Size([2, 1, 128])\n",
      "torch.Size([2, 1, 128])\n",
      "torch.Size([2, 1, 128])\n",
      "torch.Size([2, 1, 128])\n",
      "torch.Size([2, 1, 128])\n",
      "torch.Size([2, 1, 128])\n",
      "torch.Size([2, 1, 128])\n",
      "torch.Size([2, 1, 128])\n",
      "torch.Size([2, 1, 128])\n",
      "torch.Size([2, 1, 128])\n",
      "torch.Size([2, 1, 128])\n",
      "torch.Size([2, 1, 128])\n",
      "torch.Size([2, 1, 128])\n",
      "torch.Size([2, 1, 128])\n",
      "torch.Size([2, 1, 128])\n",
      "torch.Size([2, 1, 128])\n",
      "torch.Size([2, 1, 128])\n",
      "torch.Size([2, 1, 128])\n",
      "torch.Size([2, 1, 128])\n",
      "torch.Size([2, 1, 128])\n",
      "torch.Size([2, 1, 128])\n",
      "torch.Size([2, 1, 128])\n",
      "torch.Size([2, 1, 128])\n",
      "torch.Size([2, 1, 128])\n",
      "torch.Size([2, 1, 128])\n",
      "torch.Size([2, 1, 128])\n",
      "torch.Size([2, 1, 128])\n",
      "torch.Size([2, 1, 128])\n",
      "torch.Size([2, 1, 128])\n",
      "torch.Size([2, 1, 128])\n",
      "torch.Size([2, 1, 128])\n",
      "torch.Size([2, 1, 128])\n",
      "torch.Size([2, 1, 128])\n",
      "torch.Size([2, 1, 128])\n",
      "torch.Size([2, 1, 128])\n",
      "torch.Size([2, 1, 128])\n",
      "torch.Size([2, 1, 128])\n",
      "torch.Size([2, 1, 128])\n",
      "torch.Size([2, 1, 128])\n",
      "torch.Size([2, 1, 128])\n",
      "torch.Size([2, 1, 128])\n",
      "torch.Size([2, 1, 128])\n",
      "torch.Size([2, 1, 128])\n",
      "torch.Size([2, 1, 128])\n"
     ]
    },
    {
     "name": "stderr",
     "output_type": "stream",
     "text": [
      "  9%|▉         | 9/100 [00:01<00:14,  6.09it/s]"
     ]
    },
    {
     "name": "stdout",
     "output_type": "stream",
     "text": [
      "torch.Size([2, 1, 128])\n",
      "torch.Size([2, 1, 128])\n",
      "torch.Size([2, 1, 128])\n",
      "torch.Size([2, 1, 128])\n",
      "torch.Size([2, 1, 128])\n",
      "torch.Size([2, 1, 128])\n",
      "torch.Size([2, 1, 128])\n",
      "torch.Size([2, 1, 128])\n",
      "torch.Size([2, 1, 128])\n",
      "torch.Size([2, 1, 128])\n",
      "torch.Size([2, 1, 128])\n",
      "torch.Size([2, 1, 128])\n",
      "torch.Size([2, 1, 128])\n",
      "torch.Size([2, 1, 128])\n",
      "torch.Size([2, 1, 128])\n",
      "torch.Size([2, 1, 128])\n",
      "torch.Size([2, 1, 128])\n",
      "torch.Size([2, 1, 128])\n",
      "torch.Size([2, 1, 128])\n",
      "torch.Size([2, 1, 128])\n",
      "torch.Size([2, 1, 128])\n",
      "torch.Size([2, 1, 128])\n",
      "torch.Size([2, 1, 128])\n",
      "torch.Size([2, 1, 128])\n",
      "torch.Size([2, 1, 128])\n",
      "torch.Size([2, 1, 128])\n",
      "torch.Size([2, 1, 128])\n",
      "torch.Size([2, 1, 128])\n",
      "torch.Size([2, 1, 128])\n",
      "torch.Size([2, 1, 128])\n",
      "torch.Size([2, 1, 128])\n",
      "torch.Size([2, 1, 128])\n",
      "torch.Size([2, 1, 128])\n",
      "torch.Size([2, 1, 128])\n",
      "torch.Size([2, 1, 128])\n",
      "torch.Size([2, 1, 128])\n",
      "torch.Size([2, 1, 128])\n",
      "torch.Size([2, 1, 128])\n",
      "torch.Size([2, 1, 128])\n",
      "torch.Size([2, 1, 128])\n",
      "torch.Size([2, 1, 128])\n",
      "torch.Size([2, 1, 128])\n",
      "torch.Size([2, 1, 128])\n",
      "torch.Size([2, 1, 128])"
     ]
    },
    {
     "name": "stderr",
     "output_type": "stream",
     "text": [
      "\r",
      " 10%|█         | 10/100 [00:01<00:14,  6.19it/s]"
     ]
    },
    {
     "name": "stdout",
     "output_type": "stream",
     "text": [
      "\n",
      "torch.Size([2, 1, 128])\n",
      "torch.Size([2, 1, 128])\n",
      "torch.Size([2, 1, 128])\n",
      "torch.Size([2, 1, 128])\n",
      "torch.Size([2, 1, 128])\n",
      "torch.Size([2, 1, 128])\n",
      "torch.Size([2, 1, 128])\n",
      "torch.Size([2, 1, 128])\n",
      "torch.Size([2, 1, 128])\n",
      "torch.Size([2, 1, 128])\n",
      "torch.Size([2, 1, 128])\n",
      "torch.Size([2, 1, 128])\n",
      "torch.Size([2, 1, 128])\n",
      "torch.Size([2, 1, 128])\n",
      "torch.Size([2, 1, 128])\n",
      "torch.Size([2, 1, 128])\n",
      "torch.Size([2, 1, 128])\n",
      "torch.Size([2, 1, 128])\n",
      "torch.Size([2, 1, 128])\n",
      "torch.Size([2, 1, 128])\n",
      "torch.Size([2, 1, 128])\n",
      "torch.Size([2, 1, 128])\n",
      "torch.Size([2, 1, 128])\n",
      "torch.Size([2, 1, 128])\n",
      "torch.Size([2, 1, 128])\n",
      "torch.Size([2, 1, 128])\n",
      "torch.Size([2, 1, 128])\n",
      "torch.Size([2, 1, 128])\n",
      "torch.Size([2, 1, 128])\n",
      "torch.Size([2, 1, 128])\n",
      "torch.Size([2, 1, 128])\n",
      "torch.Size([2, 1, 128])\n",
      "torch.Size([2, 1, 128])\n",
      "torch.Size([2, 1, 128])\n",
      "torch.Size([2, 1, 128])\n",
      "torch.Size([2, 1, 128])\n",
      "torch.Size([2, 1, 128])\n",
      "torch.Size([2, 1, 128])\n",
      "torch.Size([2, 1, 128])\n",
      "torch.Size([2, 1, 128])\n",
      "torch.Size([2, 1, 128])\n",
      "torch.Size([2, 1, 128])\n"
     ]
    },
    {
     "name": "stderr",
     "output_type": "stream",
     "text": [
      "\r",
      " 11%|█         | 11/100 [00:01<00:14,  6.25it/s]"
     ]
    },
    {
     "name": "stdout",
     "output_type": "stream",
     "text": [
      "torch.Size([2, 1, 128])\n",
      "torch.Size([2, 1, 128])\n",
      "torch.Size([2, 1, 128])\n",
      "torch.Size([2, 1, 128])\n",
      "torch.Size([2, 1, 128])\n",
      "torch.Size([2, 1, 128])\n",
      "torch.Size([2, 1, 128])\n",
      "torch.Size([2, 1, 128])\n",
      "torch.Size([2, 1, 128])\n",
      "torch.Size([2, 1, 128])\n",
      "torch.Size([2, 1, 128])\n",
      "torch.Size([2, 1, 128])\n",
      "torch.Size([2, 1, 128])\n",
      "torch.Size([2, 1, 128])\n",
      "torch.Size([2, 1, 128])\n",
      "torch.Size([2, 1, 128])\n",
      "torch.Size([2, 1, 128])\n",
      "torch.Size([2, 1, 128])\n",
      "torch.Size([2, 1, 128])\n",
      "torch.Size([2, 1, 128])\n",
      "torch.Size([2, 1, 128])\n",
      "torch.Size([2, 1, 128])\n",
      "torch.Size([2, 1, 128])\n",
      "torch.Size([2, 1, 128])\n",
      "torch.Size([2, 1, 128])\n",
      "torch.Size([2, 1, 128])\n",
      "torch.Size([2, 1, 128])\n",
      "torch.Size([2, 1, 128])\n",
      "torch.Size([2, 1, 128])\n",
      "torch.Size([2, 1, 128])\n",
      "torch.Size([2, 1, 128])\n",
      "torch.Size([2, 1, 128])\n",
      "torch.Size([2, 1, 128])\n",
      "torch.Size([2, 1, 128])\n",
      "torch.Size([2, 1, 128])\n",
      "torch.Size([2, 1, 128])\n",
      "torch.Size([2, 1, 128])\n",
      "torch.Size([2, 1, 128])\n",
      "torch.Size([2, 1, 128])\n",
      "torch.Size([2, 1, 128])\n",
      "torch.Size([2, 1, 128])\n",
      "torch.Size([2, 1, 128])\n",
      "torch.Size([2, 1, 128])\n"
     ]
    },
    {
     "name": "stderr",
     "output_type": "stream",
     "text": [
      " 13%|█▎        | 13/100 [00:02<00:13,  6.33it/s]"
     ]
    },
    {
     "name": "stdout",
     "output_type": "stream",
     "text": [
      "torch.Size([2, 1, 128])\n",
      "torch.Size([2, 1, 128])\n",
      "torch.Size([2, 1, 128])\n",
      "torch.Size([2, 1, 128])\n",
      "torch.Size([2, 1, 128])\n",
      "torch.Size([2, 1, 128])\n",
      "torch.Size([2, 1, 128])\n",
      "torch.Size([2, 1, 128])\n",
      "torch.Size([2, 1, 128])\n",
      "torch.Size([2, 1, 128])\n",
      "torch.Size([2, 1, 128])\n",
      "torch.Size([2, 1, 128])\n",
      "torch.Size([2, 1, 128])\n",
      "torch.Size([2, 1, 128])\n",
      "torch.Size([2, 1, 128])\n",
      "torch.Size([2, 1, 128])\n",
      "torch.Size([2, 1, 128])\n",
      "torch.Size([2, 1, 128])\n",
      "torch.Size([2, 1, 128])\n",
      "torch.Size([2, 1, 128])\n",
      "torch.Size([2, 1, 128])\n",
      "torch.Size([2, 1, 128])\n",
      "torch.Size([2, 1, 128])\n",
      "torch.Size([2, 1, 128])\n",
      "torch.Size([2, 1, 128])\n",
      "torch.Size([2, 1, 128])\n",
      "torch.Size([2, 1, 128])\n",
      "torch.Size([2, 1, 128])\n",
      "torch.Size([2, 1, 128])\n",
      "torch.Size([2, 1, 128])\n",
      "torch.Size([2, 1, 128])\n",
      "torch.Size([2, 1, 128])\n",
      "torch.Size([2, 1, 128])\n",
      "torch.Size([2, 1, 128])\n",
      "torch.Size([2, 1, 128])\n",
      "torch.Size([2, 1, 128])\n",
      "torch.Size([2, 1, 128])\n",
      "torch.Size([2, 1, 128])\n",
      "torch.Size([2, 1, 128])\n",
      "torch.Size([2, 1, 128])"
     ]
    },
    {
     "name": "stderr",
     "output_type": "stream",
     "text": [
      "\r",
      " 14%|█▍        | 14/100 [00:02<00:13,  6.41it/s]"
     ]
    },
    {
     "name": "stdout",
     "output_type": "stream",
     "text": [
      "\n",
      "torch.Size([2, 1, 128])\n",
      "torch.Size([2, 1, 128])\n",
      "torch.Size([2, 1, 128])\n",
      "torch.Size([2, 1, 128])\n",
      "torch.Size([2, 1, 128])\n",
      "torch.Size([2, 1, 128])\n",
      "torch.Size([2, 1, 128])\n",
      "torch.Size([2, 1, 128])\n",
      "torch.Size([2, 1, 128])\n",
      "torch.Size([2, 1, 128])\n",
      "torch.Size([2, 1, 128])\n",
      "torch.Size([2, 1, 128])\n",
      "torch.Size([2, 1, 128])\n",
      "torch.Size([2, 1, 128])\n",
      "torch.Size([2, 1, 128])\n",
      "torch.Size([2, 1, 128])\n",
      "torch.Size([2, 1, 128])\n",
      "torch.Size([2, 1, 128])\n",
      "torch.Size([2, 1, 128])\n",
      "torch.Size([2, 1, 128])\n",
      "torch.Size([2, 1, 128])\n",
      "torch.Size([2, 1, 128])\n",
      "torch.Size([2, 1, 128])\n",
      "torch.Size([2, 1, 128])\n",
      "torch.Size([2, 1, 128])\n",
      "torch.Size([2, 1, 128])\n",
      "torch.Size([2, 1, 128])\n",
      "torch.Size([2, 1, 128])\n",
      "torch.Size([2, 1, 128])\n",
      "torch.Size([2, 1, 128])\n",
      "torch.Size([2, 1, 128])\n",
      "torch.Size([2, 1, 128])\n",
      "torch.Size([2, 1, 128])\n",
      "torch.Size([2, 1, 128])\n",
      "torch.Size([2, 1, 128])\n",
      "torch.Size([2, 1, 128])\n",
      "torch.Size([2, 1, 128])\n",
      "torch.Size([2, 1, 128])\n",
      "torch.Size([2, 1, 128])\n",
      "torch.Size([2, 1, 128])\n",
      "torch.Size([2, 1, 128])\n",
      "torch.Size([2, 1, 128])\n",
      "torch.Size([2, 1, 128])\n",
      "torch.Size([2, 1, 128])\n"
     ]
    },
    {
     "name": "stderr",
     "output_type": "stream",
     "text": [
      "\r",
      " 15%|█▌        | 15/100 [00:02<00:13,  6.42it/s]"
     ]
    },
    {
     "name": "stdout",
     "output_type": "stream",
     "text": [
      "torch.Size([2, 1, 128])\n",
      "torch.Size([2, 1, 128])\n",
      "torch.Size([2, 1, 128])\n",
      "torch.Size([2, 1, 128])\n",
      "torch.Size([2, 1, 128])\n",
      "torch.Size([2, 1, 128])\n",
      "torch.Size([2, 1, 128])\n",
      "torch.Size([2, 1, 128])\n",
      "torch.Size([2, 1, 128])\n",
      "torch.Size([2, 1, 128])\n",
      "torch.Size([2, 1, 128])\n",
      "torch.Size([2, 1, 128])\n",
      "torch.Size([2, 1, 128])\n",
      "torch.Size([2, 1, 128])\n",
      "torch.Size([2, 1, 128])\n",
      "torch.Size([2, 1, 128])\n",
      "torch.Size([2, 1, 128])\n",
      "torch.Size([2, 1, 128])\n",
      "torch.Size([2, 1, 128])\n",
      "torch.Size([2, 1, 128])\n",
      "torch.Size([2, 1, 128])\n",
      "torch.Size([2, 1, 128])\n",
      "torch.Size([2, 1, 128])\n",
      "torch.Size([2, 1, 128])\n",
      "torch.Size([2, 1, 128])\n",
      "torch.Size([2, 1, 128])\n",
      "torch.Size([2, 1, 128])\n",
      "torch.Size([2, 1, 128])\n",
      "torch.Size([2, 1, 128])\n",
      "torch.Size([2, 1, 128])\n",
      "torch.Size([2, 1, 128])\n",
      "torch.Size([2, 1, 128])\n",
      "torch.Size([2, 1, 128])\n",
      "torch.Size([2, 1, 128])\n",
      "torch.Size([2, 1, 128])\n",
      "torch.Size([2, 1, 128])\n",
      "torch.Size([2, 1, 128])\n"
     ]
    },
    {
     "name": "stderr",
     "output_type": "stream",
     "text": [
      " 17%|█▋        | 17/100 [00:02<00:13,  6.33it/s]"
     ]
    },
    {
     "name": "stdout",
     "output_type": "stream",
     "text": [
      "torch.Size([2, 1, 128])\n",
      "torch.Size([2, 1, 128])\n",
      "torch.Size([2, 1, 128])\n",
      "torch.Size([2, 1, 128])\n",
      "torch.Size([2, 1, 128])\n",
      "torch.Size([2, 1, 128])\n",
      "torch.Size([2, 1, 128])\n",
      "torch.Size([2, 1, 128])\n",
      "torch.Size([2, 1, 128])\n",
      "torch.Size([2, 1, 128])\n",
      "torch.Size([2, 1, 128])\n",
      "torch.Size([2, 1, 128])\n",
      "torch.Size([2, 1, 128])\n",
      "torch.Size([2, 1, 128])\n",
      "torch.Size([2, 1, 128])\n",
      "torch.Size([2, 1, 128])\n",
      "torch.Size([2, 1, 128])\n",
      "torch.Size([2, 1, 128])\n",
      "torch.Size([2, 1, 128])\n",
      "torch.Size([2, 1, 128])\n",
      "torch.Size([2, 1, 128])\n",
      "torch.Size([2, 1, 128])\n",
      "torch.Size([2, 1, 128])\n",
      "torch.Size([2, 1, 128])\n",
      "torch.Size([2, 1, 128])\n",
      "torch.Size([2, 1, 128])\n",
      "torch.Size([2, 1, 128])\n",
      "torch.Size([2, 1, 128])\n",
      "torch.Size([2, 1, 128])\n",
      "torch.Size([2, 1, 128])\n",
      "torch.Size([2, 1, 128])\n",
      "torch.Size([2, 1, 128])\n",
      "torch.Size([2, 1, 128])\n",
      "torch.Size([2, 1, 128])\n",
      "torch.Size([2, 1, 128])\n",
      "torch.Size([2, 1, 128])\n",
      "torch.Size([2, 1, 128])\n",
      "torch.Size([2, 1, 128])\n",
      "torch.Size([2, 1, 128])\n",
      "torch.Size([2, 1, 128])\n",
      "torch.Size([2, 1, 128])\n"
     ]
    },
    {
     "name": "stderr",
     "output_type": "stream",
     "text": [
      "\r",
      " 18%|█▊        | 18/100 [00:03<00:13,  6.30it/s]"
     ]
    },
    {
     "name": "stdout",
     "output_type": "stream",
     "text": [
      "torch.Size([2, 1, 128])\n",
      "torch.Size([2, 1, 128])\n",
      "torch.Size([2, 1, 128])\n",
      "torch.Size([2, 1, 128])\n",
      "torch.Size([2, 1, 128])\n",
      "torch.Size([2, 1, 128])\n",
      "torch.Size([2, 1, 128])\n",
      "torch.Size([2, 1, 128])\n",
      "torch.Size([2, 1, 128])\n",
      "torch.Size([2, 1, 128])\n",
      "torch.Size([2, 1, 128])\n",
      "torch.Size([2, 1, 128])\n",
      "torch.Size([2, 1, 128])\n",
      "torch.Size([2, 1, 128])\n",
      "torch.Size([2, 1, 128])\n",
      "torch.Size([2, 1, 128])\n",
      "torch.Size([2, 1, 128])\n",
      "torch.Size([2, 1, 128])\n",
      "torch.Size([2, 1, 128])\n",
      "torch.Size([2, 1, 128])\n",
      "torch.Size([2, 1, 128])\n",
      "torch.Size([2, 1, 128])\n",
      "torch.Size([2, 1, 128])\n",
      "torch.Size([2, 1, 128])\n",
      "torch.Size([2, 1, 128])\n",
      "torch.Size([2, 1, 128])\n",
      "torch.Size([2, 1, 128])\n",
      "torch.Size([2, 1, 128])\n",
      "torch.Size([2, 1, 128])\n",
      "torch.Size([2, 1, 128])\n",
      "torch.Size([2, 1, 128])\n",
      "torch.Size([2, 1, 128])\n",
      "torch.Size([2, 1, 128])\n",
      "torch.Size([2, 1, 128])\n",
      "torch.Size([2, 1, 128])\n",
      "torch.Size([2, 1, 128])\n",
      "torch.Size([2, 1, 128])\n",
      "torch.Size([2, 1, 128])\n",
      "torch.Size([2, 1, 128])\n",
      "torch.Size([2, 1, 128])\n",
      "torch.Size([2, 1, 128])\n",
      "torch.Size([2, 1, 128])\n"
     ]
    },
    {
     "name": "stderr",
     "output_type": "stream",
     "text": [
      " 18%|█▊        | 18/100 [00:03<00:14,  5.63it/s]\n"
     ]
    },
    {
     "name": "stdout",
     "output_type": "stream",
     "text": [
      "torch.Size([2, 1, 128])\n",
      "torch.Size([2, 1, 128])\n",
      "torch.Size([2, 1, 128])\n",
      "torch.Size([2, 1, 128])\n",
      "torch.Size([2, 1, 128])\n",
      "torch.Size([2, 1, 128])\n",
      "torch.Size([2, 1, 128])\n",
      "torch.Size([2, 1, 128])\n",
      "torch.Size([2, 1, 128])\n",
      "torch.Size([2, 1, 128])\n",
      "torch.Size([2, 1, 128])\n",
      "torch.Size([2, 1, 128])\n",
      "torch.Size([2, 1, 128])\n",
      "torch.Size([2, 1, 128])\n"
     ]
    },
    {
     "ename": "KeyboardInterrupt",
     "evalue": "",
     "output_type": "error",
     "traceback": [
      "\u001b[0;31m---------------------------------------------------------------------------\u001b[0m",
      "\u001b[0;31mKeyboardInterrupt\u001b[0m                         Traceback (most recent call last)",
      "\u001b[0;32m<ipython-input-9-452ac8ec2f6c>\u001b[0m in \u001b[0;36m<module>\u001b[0;34m\u001b[0m\n\u001b[0;32m----> 1\u001b[0;31m state_dict_encoder, state_dict_decoder = trainer.run_training(batch_size_train=2,\n\u001b[0m\u001b[1;32m      2\u001b[0m              \u001b[0mbatch_size_vali\u001b[0m\u001b[0;34m=\u001b[0m\u001b[0;36m1\u001b[0m\u001b[0;34m,\u001b[0m\u001b[0;34m\u001b[0m\u001b[0;34m\u001b[0m\u001b[0m\n\u001b[1;32m      3\u001b[0m              \u001b[0mplotting\u001b[0m\u001b[0;34m=\u001b[0m\u001b[0;32mTrue\u001b[0m\u001b[0;34m,\u001b[0m\u001b[0;34m\u001b[0m\u001b[0;34m\u001b[0m\u001b[0m\n\u001b[1;32m      4\u001b[0m              kwargs=kwargs)\n",
      "\u001b[0;32m~/Google Drive/University/UC3M/TFM/cnp_repo/neural-processes/cnp/trainer.py\u001b[0m in \u001b[0;36mrun_training\u001b[0;34m(self, plotting, batch_size_train, batch_size_vali, kwargs)\u001b[0m\n\u001b[1;32m    253\u001b[0m \u001b[0;34m\u001b[0m\u001b[0m\n\u001b[1;32m    254\u001b[0m                 \u001b[0mloss\u001b[0m\u001b[0;34m.\u001b[0m\u001b[0mbackward\u001b[0m\u001b[0;34m(\u001b[0m\u001b[0;34m)\u001b[0m\u001b[0;34m\u001b[0m\u001b[0;34m\u001b[0m\u001b[0m\n\u001b[0;32m--> 255\u001b[0;31m                 \u001b[0moptimizer\u001b[0m\u001b[0;34m.\u001b[0m\u001b[0mstep\u001b[0m\u001b[0;34m(\u001b[0m\u001b[0;34m)\u001b[0m\u001b[0;34m\u001b[0m\u001b[0;34m\u001b[0m\u001b[0m\n\u001b[0m\u001b[1;32m    256\u001b[0m \u001b[0;34m\u001b[0m\u001b[0m\n\u001b[1;32m    257\u001b[0m             \u001b[0;32melse\u001b[0m\u001b[0;34m:\u001b[0m\u001b[0;34m\u001b[0m\u001b[0;34m\u001b[0m\u001b[0m\n",
      "\u001b[0;32m~/Google Drive/University/UC3M/TFM/cnp_repo/neural-processes/tfm/lib/python3.8/site-packages/torch/optim/adam.py\u001b[0m in \u001b[0;36mstep\u001b[0;34m(self, closure)\u001b[0m\n\u001b[1;32m     93\u001b[0m \u001b[0;34m\u001b[0m\u001b[0m\n\u001b[1;32m     94\u001b[0m                 \u001b[0;31m# Decay the first and second moment running average coefficient\u001b[0m\u001b[0;34m\u001b[0m\u001b[0;34m\u001b[0m\u001b[0;34m\u001b[0m\u001b[0m\n\u001b[0;32m---> 95\u001b[0;31m                 \u001b[0mexp_avg\u001b[0m\u001b[0;34m.\u001b[0m\u001b[0mmul_\u001b[0m\u001b[0;34m(\u001b[0m\u001b[0mbeta1\u001b[0m\u001b[0;34m)\u001b[0m\u001b[0;34m.\u001b[0m\u001b[0madd_\u001b[0m\u001b[0;34m(\u001b[0m\u001b[0;36m1\u001b[0m \u001b[0;34m-\u001b[0m \u001b[0mbeta1\u001b[0m\u001b[0;34m,\u001b[0m \u001b[0mgrad\u001b[0m\u001b[0;34m)\u001b[0m\u001b[0;34m\u001b[0m\u001b[0;34m\u001b[0m\u001b[0m\n\u001b[0m\u001b[1;32m     96\u001b[0m                 \u001b[0mexp_avg_sq\u001b[0m\u001b[0;34m.\u001b[0m\u001b[0mmul_\u001b[0m\u001b[0;34m(\u001b[0m\u001b[0mbeta2\u001b[0m\u001b[0;34m)\u001b[0m\u001b[0;34m.\u001b[0m\u001b[0maddcmul_\u001b[0m\u001b[0;34m(\u001b[0m\u001b[0;36m1\u001b[0m \u001b[0;34m-\u001b[0m \u001b[0mbeta2\u001b[0m\u001b[0;34m,\u001b[0m \u001b[0mgrad\u001b[0m\u001b[0;34m,\u001b[0m \u001b[0mgrad\u001b[0m\u001b[0;34m)\u001b[0m\u001b[0;34m\u001b[0m\u001b[0;34m\u001b[0m\u001b[0m\n\u001b[1;32m     97\u001b[0m                 \u001b[0;32mif\u001b[0m \u001b[0mamsgrad\u001b[0m\u001b[0;34m:\u001b[0m\u001b[0;34m\u001b[0m\u001b[0;34m\u001b[0m\u001b[0m\n",
      "\u001b[0;31mKeyboardInterrupt\u001b[0m: "
     ]
    }
   ],
   "source": [
    "state_dict_encoder, state_dict_decoder = trainer.run_training(batch_size_train=2,\n",
    "             batch_size_vali=1,\n",
    "             plotting=True,\n",
    "             kwargs=kwargs)"
   ]
  },
  {
   "cell_type": "code",
   "execution_count": 36,
   "metadata": {},
   "outputs": [
    {
     "data": {
      "text/plain": [
       "[Parameter containing:\n",
       " tensor([[ 7.2975e-01,  5.3375e-01],\n",
       "         [ 6.1496e-01,  1.7312e-01],\n",
       "         [ 7.5103e-01,  4.9718e-01],\n",
       "         [ 2.6038e-01,  8.5026e-02],\n",
       "         [ 4.0558e-01,  5.6986e-01],\n",
       "         [ 2.0291e-01,  5.0194e-01],\n",
       "         [ 4.6889e-01,  4.3959e-01],\n",
       "         [ 6.1846e-01,  3.0888e-01],\n",
       "         [ 5.9269e-01,  2.9935e-01],\n",
       "         [ 6.3606e-01,  1.3207e-01],\n",
       "         [ 1.6583e-02, -5.9078e-04],\n",
       "         [ 1.2877e-02, -5.9466e-04],\n",
       "         [ 4.0761e-01,  1.2195e-03],\n",
       "         [ 4.8442e-01,  5.0527e-01],\n",
       "         [ 3.0201e-01,  1.6912e-01],\n",
       "         [ 1.4996e-01,  2.4640e-01],\n",
       "         [ 4.4745e-01,  4.8564e-02],\n",
       "         [ 9.1951e-02,  4.3686e-01],\n",
       "         [ 8.2030e-03,  4.7629e-03],\n",
       "         [ 8.7791e-01,  3.2184e-01],\n",
       "         [ 1.5150e-01,  1.3538e-02],\n",
       "         [ 2.9035e-01,  3.3011e-01],\n",
       "         [ 7.9197e-01,  3.5945e-01],\n",
       "         [ 2.6455e-01, -2.7930e-03],\n",
       "         [ 6.6525e-01,  3.4271e-01],\n",
       "         [ 8.7981e-01,  2.4656e-01],\n",
       "         [ 5.8179e-01,  1.7764e-01],\n",
       "         [ 3.6890e-01,  1.8154e-01],\n",
       "         [ 1.6541e-02, -1.1316e-02],\n",
       "         [ 1.3698e-01,  5.9520e-02],\n",
       "         [ 5.2339e-01,  4.6797e-01],\n",
       "         [ 2.1893e-01,  4.3193e-02],\n",
       "         [ 1.7500e-01,  9.5059e-02],\n",
       "         [ 2.6703e-01,  9.9592e-02],\n",
       "         [ 3.9254e-01,  5.1124e-01],\n",
       "         [ 1.8742e-01,  5.4028e-02],\n",
       "         [ 5.6941e-01,  1.1055e-01],\n",
       "         [ 6.0027e-01,  9.0031e-02],\n",
       "         [ 7.4924e-02, -7.4605e-04],\n",
       "         [ 6.8196e-01,  2.0486e-01],\n",
       "         [ 8.5372e-02,  3.5371e-02],\n",
       "         [ 8.7813e-03,  3.7701e-02],\n",
       "         [ 7.1145e-01,  2.7552e-01],\n",
       "         [ 3.6245e-01,  2.6243e-01],\n",
       "         [ 5.7981e-01,  7.7737e-02],\n",
       "         [ 1.2944e-01,  3.7635e-02],\n",
       "         [ 7.0321e-01,  3.8949e-01],\n",
       "         [ 4.4065e-01,  4.8159e-01],\n",
       "         [ 7.1327e-01,  4.6433e-01],\n",
       "         [ 3.8055e-01,  2.4473e-01],\n",
       "         [ 2.9813e-01,  5.1324e-02],\n",
       "         [ 6.6190e-01,  1.5877e-01],\n",
       "         [ 2.4156e-01,  2.5251e-01],\n",
       "         [ 2.1136e-01,  2.8613e-01],\n",
       "         [ 5.4916e-01,  2.6923e-01],\n",
       "         [ 7.4724e-01,  6.0689e-01],\n",
       "         [ 4.0959e-01,  1.2439e-01],\n",
       "         [ 5.0127e-01,  4.4298e-01],\n",
       "         [ 2.5324e-01,  1.2629e-01],\n",
       "         [ 5.9068e-01,  2.3320e-01],\n",
       "         [ 8.3074e-01,  4.4682e-01],\n",
       "         [ 7.3023e-01,  5.1103e-01],\n",
       "         [ 1.3009e-01,  1.1165e-02],\n",
       "         [ 6.7298e-02,  6.4100e-03],\n",
       "         [ 1.2613e-01, -2.7319e-03],\n",
       "         [ 6.4817e-02,  1.0245e-01],\n",
       "         [ 3.9692e-01,  5.6295e-02],\n",
       "         [ 6.6657e-01,  5.2455e-01],\n",
       "         [ 4.6415e-03,  5.9424e-02],\n",
       "         [ 2.5037e-01,  3.1020e-01],\n",
       "         [ 2.6150e-01,  2.9991e-01],\n",
       "         [ 1.5961e-01,  1.0698e-01],\n",
       "         [ 5.6849e-02, -9.9059e-04],\n",
       "         [ 4.7893e-01,  3.0617e-01],\n",
       "         [ 2.7664e-02, -3.2232e-04],\n",
       "         [ 4.8203e-01,  6.0163e-01],\n",
       "         [ 3.3451e-01,  9.1618e-02],\n",
       "         [ 5.6928e-01,  1.4592e-01],\n",
       "         [ 6.3736e-01,  2.1499e-01],\n",
       "         [ 7.0100e-01,  2.9206e-01],\n",
       "         [ 1.3480e-01, -9.8232e-03],\n",
       "         [ 5.6079e-01,  1.3348e-01],\n",
       "         [ 2.5375e-01,  9.4447e-03],\n",
       "         [ 4.8423e-01,  5.4364e-01],\n",
       "         [ 3.0770e-01,  3.9122e-01],\n",
       "         [ 6.4014e-01,  4.1397e-01],\n",
       "         [ 4.8589e-01,  4.8583e-01],\n",
       "         [ 5.4763e-01,  4.0153e-01],\n",
       "         [ 1.1923e-01, -2.4331e-02],\n",
       "         [ 5.1319e-01,  1.9270e-01],\n",
       "         [ 1.2929e-01,  2.6529e-01],\n",
       "         [ 3.5209e-01,  3.7549e-01],\n",
       "         [ 5.0683e-01,  1.8969e-01],\n",
       "         [ 3.9917e-01,  3.2658e-01],\n",
       "         [ 1.9399e-01,  3.4315e-02],\n",
       "         [ 5.0006e-01,  2.0305e-01],\n",
       "         [ 2.6336e-01,  2.9922e-02],\n",
       "         [ 9.0454e-02,  4.7490e-04],\n",
       "         [ 5.8823e-02,  4.5944e-01],\n",
       "         [ 4.1995e-01,  9.1274e-02],\n",
       "         [ 6.5411e-01,  3.3234e-01],\n",
       "         [ 6.2116e-01,  6.9572e-01],\n",
       "         [ 5.2713e-01,  3.6932e-01],\n",
       "         [ 3.0442e-01,  4.5205e-01],\n",
       "         [ 4.9309e-01,  4.9858e-02],\n",
       "         [ 4.3976e-01,  8.4271e-02],\n",
       "         [ 6.4081e-01,  4.4408e-01],\n",
       "         [ 4.0191e-01,  4.4750e-01],\n",
       "         [ 3.3488e-01,  3.1632e-01],\n",
       "         [ 2.3282e-01,  8.4830e-03],\n",
       "         [ 8.4201e-01,  5.3031e-01],\n",
       "         [ 1.4688e-02, -1.1652e-03],\n",
       "         [ 3.1129e-01, -4.4870e-03],\n",
       "         [ 1.6951e-01,  8.6383e-02],\n",
       "         [ 5.2651e-01,  1.9956e-01],\n",
       "         [ 6.6312e-01,  7.2669e-02],\n",
       "         [ 2.6674e-01,  1.8732e-01],\n",
       "         [ 4.7886e-01,  1.1114e-01],\n",
       "         [ 8.2591e-01,  5.8835e-01],\n",
       "         [ 7.1637e-01,  5.3271e-01],\n",
       "         [ 6.3371e-01,  1.5162e-01],\n",
       "         [ 3.0032e-01,  1.3871e-01],\n",
       "         [ 4.9237e-01,  2.2383e-01],\n",
       "         [ 4.6934e-01,  4.2017e-01],\n",
       "         [ 5.7004e-01,  4.3247e-01],\n",
       "         [ 5.8969e-02,  1.9903e-01],\n",
       "         [ 8.1027e-01,  4.0858e-01],\n",
       "         [ 4.7250e-01,  3.2868e-01]], requires_grad=True),\n",
       " Parameter containing:\n",
       " tensor([-0.1077, -0.4263,  0.4648,  0.4349,  0.5309,  0.0104, -0.3753,  0.0403,\n",
       "          0.3694,  0.2424, -0.1214, -0.0737, -0.4064,  0.3152,  0.2064,  0.5036,\n",
       "         -0.3702,  0.0930, -0.2232,  0.5234, -0.0728,  0.3407, -0.1242,  0.0664,\n",
       "          0.4406,  0.5128,  0.5151,  0.2799,  0.0041, -0.4228, -0.1882,  0.4747,\n",
       "         -0.1233,  0.4594,  0.1713,  0.4626, -0.0072,  0.5900, -0.1898,  0.3811,\n",
       "          0.1688, -0.1438,  0.5694, -0.0767, -0.1084,  0.2502,  0.1093,  0.5407,\n",
       "          0.3561,  0.0058,  0.2738, -0.1788,  0.4231,  0.0119, -0.1119, -0.1051,\n",
       "          0.3870,  0.5158,  0.2689,  0.6035, -0.3703, -0.0192,  0.2352,  0.3081,\n",
       "         -0.3275, -0.2709,  0.4095, -0.1841,  0.2964, -0.3738,  0.3961,  0.2479,\n",
       "          0.0673, -0.2263, -0.1521,  0.4009, -0.1894,  0.3957, -0.3667,  0.6017,\n",
       "          0.1495,  0.1720, -0.1538,  0.3153, -0.3043,  0.6488, -0.2215,  0.5632,\n",
       "         -0.1328, -0.3584, -0.1270,  0.3726,  0.5914, -0.2606,  0.4089,  0.1392,\n",
       "         -0.1220, -0.2591, -0.4357, -0.3236,  0.3916,  0.4297,  0.0370,  0.4242,\n",
       "         -0.1832, -0.1594,  0.4422,  0.4594,  0.3399,  0.0095, -0.3538, -0.0649,\n",
       "         -0.1315,  0.3538,  0.4068, -0.2514,  0.4136,  0.4872,  0.2603,  0.4877,\n",
       "          0.1484, -0.2831,  0.2543,  0.4366, -0.3554,  0.0851, -0.3678, -0.2198],\n",
       "        requires_grad=True),\n",
       " Parameter containing:\n",
       " tensor([[ 0.2939, -0.2528,  0.1981,  ..., -0.0410,  0.5703,  0.0992],\n",
       "         [-0.2504,  0.0395, -0.5130,  ..., -0.3724, -0.3428,  0.2029],\n",
       "         [-0.3744,  0.5109, -0.3662,  ...,  0.2087, -0.4317,  0.4834],\n",
       "         ...,\n",
       "         [ 0.5559,  0.0206,  0.3629,  ...,  0.1302, -0.3869,  0.4784],\n",
       "         [ 0.1724, -0.3629,  0.0410,  ...,  0.1591, -0.3422, -0.3677],\n",
       "         [-0.0865,  0.4388,  0.2051,  ...,  0.2731, -0.1532, -0.1644]],\n",
       "        requires_grad=True),\n",
       " Parameter containing:\n",
       " tensor([ 0.1794,  0.2514,  0.1340,  0.4494, -0.2395, -0.1541, -0.2833,  0.7046,\n",
       "         -0.1821,  0.0075,  0.1814, -0.1944, -0.1973, -0.0549, -0.1926, -0.2938,\n",
       "         -0.0457,  0.3056, -0.0523, -0.0013, -0.1813,  0.1745,  0.3063,  0.2669,\n",
       "         -0.0049, -0.0922,  0.0020,  0.3236,  0.1930, -0.0441,  0.3455,  0.6231,\n",
       "         -0.3178, -0.0337, -0.1808,  0.4102,  0.2933, -0.0361, -0.0413, -0.3470,\n",
       "         -0.2176, -0.1359, -0.1907, -0.3296, -0.2975, -0.1256, -0.2479, -0.1133,\n",
       "          0.2885,  0.5094, -0.0186,  0.4102,  0.2427,  0.2267,  0.2803,  0.0705,\n",
       "          0.0226,  0.0295,  0.4116,  0.0881, -0.3420,  0.1718,  0.3394,  0.3629,\n",
       "          0.0527,  0.6440,  0.4248, -0.0804, -0.1844,  0.3479,  0.1846, -0.4114,\n",
       "         -0.3342,  0.1336,  0.3079, -0.0562,  0.4397,  0.2123,  0.5455,  0.2191,\n",
       "          0.5116,  0.4208,  0.1187, -0.0636,  0.3237, -0.3117, -0.2464,  0.2035,\n",
       "         -0.3250,  0.1904, -0.1338,  0.0532,  0.1954,  0.1969,  0.3061,  0.1654,\n",
       "         -0.1195,  0.3318,  0.6065,  0.4952,  0.2485,  0.1106,  0.1758,  0.1741,\n",
       "         -0.0314,  0.3541, -0.1233,  0.2716, -0.3727,  0.3909,  0.4213, -0.1656,\n",
       "          0.0774, -0.1386,  0.2288,  0.1017, -0.0247,  0.0013, -0.1706,  0.0687,\n",
       "         -0.2633,  0.1565,  0.2428,  0.4301,  0.2257,  0.5911,  0.2987, -0.3772],\n",
       "        requires_grad=True),\n",
       " Parameter containing:\n",
       " tensor([[-0.1401,  0.4694, -0.4511,  ...,  0.1156, -0.0236, -0.2581],\n",
       "         [-0.2084,  0.1096, -0.4804,  ..., -0.4071, -0.3009,  0.4691],\n",
       "         [-0.3549,  0.2505, -0.1509,  ..., -0.3010, -0.0807,  0.1837],\n",
       "         ...,\n",
       "         [-0.3969, -0.3665,  0.1611,  ..., -0.4197, -0.4326,  0.1425],\n",
       "         [-0.0149,  0.4807,  0.0179,  ...,  0.3465,  0.2525,  0.4470],\n",
       "         [ 0.4113,  0.2788,  0.3406,  ..., -0.1134,  0.4466,  0.2985]],\n",
       "        requires_grad=True),\n",
       " Parameter containing:\n",
       " tensor([-0.0927,  0.4014, -0.1746, -0.3215, -0.0620, -0.3646, -0.4571, -0.1872,\n",
       "          0.2882,  0.1747,  0.3593,  0.0031,  0.0412, -0.2687,  0.1835,  0.1127,\n",
       "          0.5131,  0.5420,  0.2313, -0.3876, -0.2615, -0.0676,  0.1813,  0.3554,\n",
       "          0.4720,  0.0783, -0.3039, -0.3865, -0.1430, -0.0368, -0.3337, -0.4210,\n",
       "          0.3818,  0.0580,  0.1005,  0.2107,  0.2551,  0.2938, -0.0875,  0.1066,\n",
       "          0.4934,  0.1634, -0.3311, -0.2267,  0.1781, -0.2974, -0.1943,  0.1843,\n",
       "          0.4312,  0.2151,  0.4124, -0.4064, -0.4656,  0.0463, -0.1540, -0.0583,\n",
       "         -0.2227,  0.1959, -0.0490, -0.3759,  0.5254, -0.0845,  0.3318,  0.3536,\n",
       "         -0.2417, -0.0975, -0.2096,  0.5005,  0.2202, -0.0182, -0.4313,  0.3697,\n",
       "          0.0851,  0.3957, -0.3710,  0.1316,  0.2468,  0.3467, -0.0614, -0.1864,\n",
       "          0.4308,  0.5392,  0.5259,  0.1329,  0.3173, -0.3961, -0.1611,  0.4759,\n",
       "          0.3726, -0.3478,  0.3946, -0.1758, -0.1081,  0.0323, -0.1908, -0.4893,\n",
       "          0.5039, -0.3077, -0.1244, -0.3448,  0.5947, -0.1968, -0.3174,  0.4562,\n",
       "         -0.3136,  0.4631,  0.3820,  0.4480,  0.3742,  0.3574, -0.4255, -0.4876,\n",
       "          0.1470, -0.2204, -0.1236, -0.0199,  0.2071, -0.2797, -0.3989,  0.1739,\n",
       "          0.3189,  0.2682, -0.3433, -0.1397, -0.2458, -0.0539, -0.0266,  0.1804],\n",
       "        requires_grad=True),\n",
       " Parameter containing:\n",
       " tensor([[ 1.8661e-01, -8.4690e-02,  4.4365e-01,  ...,  4.4287e-01,\n",
       "           3.2496e-01, -3.9457e-01],\n",
       "         [ 4.4998e-01,  2.8755e-04,  5.9520e-02,  ...,  3.7933e-01,\n",
       "          -3.5696e-02,  3.5338e-02],\n",
       "         [-3.7826e-01,  1.4720e-01,  4.4255e-01,  ...,  4.7721e-01,\n",
       "           1.1595e-01, -2.1353e-01],\n",
       "         ...,\n",
       "         [ 4.3806e-01, -4.2631e-01,  1.8426e-01,  ..., -4.1662e-01,\n",
       "          -4.1162e-01,  1.0550e-01],\n",
       "         [-2.6125e-01,  5.0294e-01, -2.8969e-01,  ...,  3.3398e-01,\n",
       "           1.5512e-01,  3.9704e-01],\n",
       "         [ 2.7262e-01,  2.2709e-01, -2.1404e-01,  ..., -5.1813e-03,\n",
       "          -3.6565e-01, -3.4593e-01]], requires_grad=True),\n",
       " Parameter containing:\n",
       " tensor([ 0.3515,  0.4387,  0.2630,  0.5483, -0.3116,  0.1595,  0.5041, -0.3568,\n",
       "         -0.3315, -0.1724, -0.0919, -0.1427,  0.3338,  0.4223, -0.2892, -0.2447,\n",
       "         -0.0209,  0.4455,  0.1403,  0.3655,  0.1541, -0.3867, -0.1347, -0.4417,\n",
       "          0.0644, -0.1997, -0.0566, -0.2856,  0.1960,  0.1630,  0.0093,  0.0095,\n",
       "         -0.3469,  0.1883, -0.5021, -0.0708, -0.4122,  0.0173,  0.2097,  0.5285,\n",
       "          0.4506, -0.1942,  0.2290,  0.1862,  0.3117,  0.4415,  0.5457, -0.0009,\n",
       "          0.4012, -0.4066, -0.0718, -0.3573, -0.0451,  0.1173,  0.1041,  0.0225,\n",
       "         -0.2566,  0.1295,  0.4742, -0.2267,  0.0832,  0.1456,  0.2564,  0.3577,\n",
       "         -0.4980,  0.2709, -0.0735, -0.4283, -0.0592,  0.4551, -0.3088, -0.1018,\n",
       "          0.0796,  0.2000,  0.5052, -0.1318,  0.3358, -0.0972,  0.0551, -0.2126,\n",
       "          0.4712, -0.3119,  0.2365, -0.3177, -0.2624,  0.2200, -0.0304, -0.3126,\n",
       "         -0.2931,  0.2397, -0.1640,  0.3754,  0.1514,  0.3051,  0.1518, -0.5140,\n",
       "          0.0249,  0.0732, -0.0768, -0.5292,  0.3804,  0.1694, -0.0124,  0.1695,\n",
       "          0.3949, -0.1923, -0.3516, -0.0621,  0.2746, -0.1742, -0.4185,  0.0821,\n",
       "         -0.3795,  0.5039,  0.3883,  0.3809, -0.0172, -0.2045,  0.2691, -0.3987,\n",
       "         -0.4489, -0.1884,  0.2249, -0.3878,  0.4467,  0.0490,  0.2899, -0.4893],\n",
       "        requires_grad=True)]"
      ]
     },
     "execution_count": 36,
     "metadata": {},
     "output_type": "execute_result"
    }
   ],
   "source": [
    "list(trainer._cnp.encoder.parameters())"
   ]
  },
  {
   "cell_type": "code",
   "execution_count": null,
   "metadata": {},
   "outputs": [],
   "source": []
  },
  {
   "cell_type": "code",
   "execution_count": 30,
   "metadata": {
    "colab": {},
    "colab_type": "code",
    "id": "Herzps7VVX91",
    "scrolled": false
   },
   "outputs": [
    {
     "ename": "AttributeError",
     "evalue": "'RegressionTrainer' object has no attribute 'seed'",
     "output_type": "error",
     "traceback": [
      "\u001b[0;31m---------------------------------------------------------------------------\u001b[0m",
      "\u001b[0;31mAttributeError\u001b[0m                            Traceback (most recent call last)",
      "\u001b[0;32m<ipython-input-30-dc8ef5bdaa5c>\u001b[0m in \u001b[0;36m<module>\u001b[0;34m\u001b[0m\n\u001b[0;32m----> 1\u001b[0;31m trainer.run_test(\n\u001b[0m\u001b[1;32m      2\u001b[0m     \u001b[0mstate_dict_encoder\u001b[0m\u001b[0;34m=\u001b[0m\u001b[0mstate_dict_encoder\u001b[0m\u001b[0;34m,\u001b[0m\u001b[0;34m\u001b[0m\u001b[0;34m\u001b[0m\u001b[0m\n\u001b[1;32m      3\u001b[0m     \u001b[0mstate_dict_decoder\u001b[0m\u001b[0;34m=\u001b[0m\u001b[0mstate_dict_decoder\u001b[0m\u001b[0;34m,\u001b[0m\u001b[0;34m\u001b[0m\u001b[0;34m\u001b[0m\u001b[0m\n\u001b[1;32m      4\u001b[0m     \u001b[0mbatch_size_test\u001b[0m\u001b[0;34m=\u001b[0m\u001b[0;36m1\u001b[0m\u001b[0;34m,\u001b[0m\u001b[0;34m\u001b[0m\u001b[0;34m\u001b[0m\u001b[0m\n\u001b[1;32m      5\u001b[0m     \u001b[0mplotting\u001b[0m\u001b[0;34m=\u001b[0m\u001b[0;32mTrue\u001b[0m\u001b[0;34m,\u001b[0m\u001b[0;34m\u001b[0m\u001b[0;34m\u001b[0m\u001b[0m\n",
      "\u001b[0;32m~/Google Drive/University/UC3M/TFM/cnp_repo/neural-processes/cnp/trainer.py\u001b[0m in \u001b[0;36mrun_test\u001b[0;34m(self, state_dict_encoder, state_dict_decoder, batch_size_test, plotting, kwargs)\u001b[0m\n\u001b[1;32m    276\u001b[0m                 \u001b[0mstate_dict\u001b[0m\u001b[0;34m:\u001b[0m \u001b[0mdictionary\u001b[0m\u001b[0;34m:\u001b[0m \u001b[0mpytorch\u001b[0m \u001b[0mdictionary\u001b[0m \u001b[0mto\u001b[0m \u001b[0mload\u001b[0m \u001b[0mweights\u001b[0m \u001b[0;32mfrom\u001b[0m\u001b[0;34m\u001b[0m\u001b[0;34m\u001b[0m\u001b[0m\n\u001b[1;32m    277\u001b[0m         \"\"\"\n\u001b[0;32m--> 278\u001b[0;31m         \u001b[0mnp\u001b[0m\u001b[0;34m.\u001b[0m\u001b[0mrandom\u001b[0m\u001b[0;34m.\u001b[0m\u001b[0mseed\u001b[0m\u001b[0;34m(\u001b[0m\u001b[0mself\u001b[0m\u001b[0;34m.\u001b[0m\u001b[0mseed\u001b[0m\u001b[0;34m)\u001b[0m\u001b[0;34m\u001b[0m\u001b[0;34m\u001b[0m\u001b[0m\n\u001b[0m\u001b[1;32m    279\u001b[0m         \u001b[0mself\u001b[0m\u001b[0;34m.\u001b[0m\u001b[0m_cnp\u001b[0m\u001b[0;34m.\u001b[0m\u001b[0mencoder\u001b[0m\u001b[0;34m.\u001b[0m\u001b[0mload_state_dict\u001b[0m\u001b[0;34m(\u001b[0m\u001b[0mstate_dict_encoder\u001b[0m\u001b[0;34m)\u001b[0m\u001b[0;34m\u001b[0m\u001b[0;34m\u001b[0m\u001b[0m\n\u001b[1;32m    280\u001b[0m         \u001b[0mself\u001b[0m\u001b[0;34m.\u001b[0m\u001b[0m_cnp\u001b[0m\u001b[0;34m.\u001b[0m\u001b[0mdecoder\u001b[0m\u001b[0;34m.\u001b[0m\u001b[0mload_state_dict\u001b[0m\u001b[0;34m(\u001b[0m\u001b[0mstate_dict_decoder\u001b[0m\u001b[0;34m)\u001b[0m\u001b[0;34m\u001b[0m\u001b[0;34m\u001b[0m\u001b[0m\n",
      "\u001b[0;31mAttributeError\u001b[0m: 'RegressionTrainer' object has no attribute 'seed'"
     ]
    }
   ],
   "source": [
    "trainer.run_test(\n",
    "    state_dict_encoder=state_dict_encoder,\n",
    "    state_dict_decoder=state_dict_decoder, \n",
    "    batch_size_test=1,\n",
    "    plotting=True,\n",
    "    kwargs=kwargs)\n"
   ]
  },
  {
   "cell_type": "code",
   "execution_count": 11,
   "metadata": {},
   "outputs": [
    {
     "data": {
      "text/plain": [
       "{'mu': 0,\n",
       " 'sigma': 2,\n",
       " 'num_instances_train': 64,\n",
       " 'num_instances_vali': 2,\n",
       " 'purpose': 'test'}"
      ]
     },
     "execution_count": 11,
     "metadata": {},
     "output_type": "execute_result"
    }
   ],
   "source": [
    "kwargs"
   ]
  },
  {
   "cell_type": "markdown",
   "metadata": {},
   "source": [
    "## Using different datapoints from the same function"
   ]
  },
  {
   "cell_type": "code",
   "execution_count": 6,
   "metadata": {},
   "outputs": [],
   "source": [
    "trainer = RegressionTrainer(**default_conf['single_function']['experiment_params'])"
   ]
  },
  {
   "cell_type": "code",
   "execution_count": 7,
   "metadata": {
    "scrolled": true
   },
   "outputs": [
    {
     "name": "stderr",
     "output_type": "stream",
     "text": [
      "\r",
      "  0%|          | 0/100000 [00:00<?, ?it/s]"
     ]
    },
    {
     "name": "stdout",
     "output_type": "stream",
     "text": [
      "Mean training loss at epoch 0 :                         39.673\n",
      "Mean Validation loss after 0 equals                     15.658\n",
      "\n",
      "Validation loss for the function plotted:                 18.812\n"
     ]
    },
    {
     "data": {
      "image/png": "[encoded data removed]",
      "text/plain": [
       "<Figure size 432x288 with 1 Axes>"
      ]
     },
     "metadata": {
      "needs_background": "light"
     },
     "output_type": "display_data"
    },
    {
     "name": "stderr",
     "output_type": "stream",
     "text": [
      "  1%|          | 998/100000 [00:38<1:01:10, 26.97it/s]"
     ]
    },
    {
     "name": "stdout",
     "output_type": "stream",
     "text": [
      "Mean training loss at epoch 1000 :                         3.24\n",
      "Mean Validation loss after 1000 equals                     3.114\n",
      "\n",
      "Validation loss for the function plotted:                 3.118\n"
     ]
    },
    {
     "data": {
      "image/png": "[encoded data removed]",
      "text/plain": [
       "<Figure size 432x288 with 1 Axes>"
      ]
     },
     "metadata": {
      "needs_background": "light"
     },
     "output_type": "display_data"
    },
    {
     "name": "stderr",
     "output_type": "stream",
     "text": [
      "  2%|▏         | 2000/100000 [01:17<1:02:36, 26.09it/s]"
     ]
    },
    {
     "name": "stdout",
     "output_type": "stream",
     "text": [
      "Mean training loss at epoch 2000 :                         3.244\n",
      "Mean Validation loss after 2000 equals                     3.138\n",
      "\n",
      "Validation loss for the function plotted:                 3.146\n"
     ]
    },
    {
     "data": {
      "image/png": "[encoded data removed]",
      "text/plain": [
       "<Figure size 432x288 with 1 Axes>"
      ]
     },
     "metadata": {
      "needs_background": "light"
     },
     "output_type": "display_data"
    },
    {
     "name": "stderr",
     "output_type": "stream",
     "text": [
      "  3%|▎         | 2999/100000 [01:58<1:11:02, 22.76it/s]"
     ]
    },
    {
     "name": "stdout",
     "output_type": "stream",
     "text": [
      "Mean training loss at epoch 3000 :                         3.24\n",
      "Mean Validation loss after 3000 equals                     3.13\n",
      "\n",
      "Validation loss for the function plotted:                 3.132\n"
     ]
    },
    {
     "data": {
      "image/png": "[encoded data removed]",
      "text/plain": [
       "<Figure size 432x288 with 1 Axes>"
      ]
     },
     "metadata": {
      "needs_background": "light"
     },
     "output_type": "display_data"
    },
    {
     "name": "stderr",
     "output_type": "stream",
     "text": [
      "  4%|▍         | 4000/100000 [02:38<1:00:43, 26.35it/s]"
     ]
    },
    {
     "name": "stdout",
     "output_type": "stream",
     "text": [
      "Mean training loss at epoch 4000 :                         3.238\n",
      "Mean Validation loss after 4000 equals                     3.123\n",
      "\n",
      "Validation loss for the function plotted:                 3.126\n"
     ]
    },
    {
     "data": {
      "image/png": "[encoded data removed]",
      "text/plain": [
       "<Figure size 432x288 with 1 Axes>"
      ]
     },
     "metadata": {
      "needs_background": "light"
     },
     "output_type": "display_data"
    },
    {
     "name": "stderr",
     "output_type": "stream",
     "text": [
      "  5%|▍         | 4999/100000 [03:25<1:00:48, 26.04it/s]"
     ]
    },
    {
     "name": "stdout",
     "output_type": "stream",
     "text": [
      "Mean training loss at epoch 5000 :                         3.232\n",
      "Mean Validation loss after 5000 equals                     3.106\n",
      "\n",
      "Validation loss for the function plotted:                 3.103\n"
     ]
    },
    {
     "data": {
      "image/png": "[encoded data removed]",
      "text/plain": [
       "<Figure size 432x288 with 1 Axes>"
      ]
     },
     "metadata": {
      "needs_background": "light"
     },
     "output_type": "display_data"
    },
    {
     "name": "stderr",
     "output_type": "stream",
     "text": [
      "  6%|▌         | 5999/100000 [04:12<1:06:58, 23.39it/s]"
     ]
    },
    {
     "name": "stdout",
     "output_type": "stream",
     "text": [
      "Mean training loss at epoch 6000 :                         3.24\n",
      "Mean Validation loss after 6000 equals                     3.13\n",
      "\n",
      "Validation loss for the function plotted:                 3.133\n"
     ]
    },
    {
     "data": {
      "image/png": "[encoded data removed]",
      "text/plain": [
       "<Figure size 432x288 with 1 Axes>"
      ]
     },
     "metadata": {
      "needs_background": "light"
     },
     "output_type": "display_data"
    },
    {
     "name": "stderr",
     "output_type": "stream",
     "text": [
      "  7%|▋         | 6998/100000 [04:55<1:03:08, 24.55it/s]"
     ]
    },
    {
     "name": "stdout",
     "output_type": "stream",
     "text": [
      "Mean training loss at epoch 7000 :                         3.244\n",
      "Mean Validation loss after 7000 equals                     3.129\n",
      "\n",
      "Validation loss for the function plotted:                 3.134\n"
     ]
    },
    {
     "data": {
      "image/png": "[encoded data removed]",
      "text/plain": [
       "<Figure size 432x288 with 1 Axes>"
      ]
     },
     "metadata": {
      "needs_background": "light"
     },
     "output_type": "display_data"
    },
    {
     "name": "stderr",
     "output_type": "stream",
     "text": [
      "  7%|▋         | 7051/100000 [04:58<1:05:29, 23.66it/s]\n"
     ]
    },
    {
     "ename": "KeyboardInterrupt",
     "evalue": "",
     "output_type": "error",
     "traceback": [
      "\u001b[0;31m---------------------------------------------------------------------------\u001b[0m",
      "\u001b[0;31mKeyboardInterrupt\u001b[0m                         Traceback (most recent call last)",
      "\u001b[0;32m<ipython-input-7-57409b3ba380>\u001b[0m in \u001b[0;36m<module>\u001b[0;34m\u001b[0m\n\u001b[0;32m----> 1\u001b[0;31m \u001b[0mmodel_weights\u001b[0m \u001b[0;34m=\u001b[0m \u001b[0mtrainer\u001b[0m\u001b[0;34m.\u001b[0m\u001b[0mrun_training\u001b[0m\u001b[0;34m(\u001b[0m\u001b[0;34m**\u001b[0m\u001b[0mdefault_conf\u001b[0m\u001b[0;34m[\u001b[0m\u001b[0;34m'single_function'\u001b[0m\u001b[0;34m]\u001b[0m\u001b[0;34m[\u001b[0m\u001b[0;34m'training_params'\u001b[0m\u001b[0;34m]\u001b[0m\u001b[0;34m)\u001b[0m\u001b[0;34m\u001b[0m\u001b[0;34m\u001b[0m\u001b[0m\n\u001b[0m",
      "\u001b[0;32m~/Google Drive/University/UC3M/TFM/cnp_repo/neural-processes/cnp/trainer.py\u001b[0m in \u001b[0;36mrun_training\u001b[0;34m(self, plotting, batch_size_train, batch_size_vali, kwargs)\u001b[0m\n\u001b[1;32m    239\u001b[0m                 \u001b[0mrunning_loss\u001b[0m \u001b[0;34m+=\u001b[0m \u001b[0mloss\u001b[0m\u001b[0;34m.\u001b[0m\u001b[0mitem\u001b[0m\u001b[0;34m(\u001b[0m\u001b[0;34m)\u001b[0m\u001b[0;34m\u001b[0m\u001b[0;34m\u001b[0m\u001b[0m\n\u001b[1;32m    240\u001b[0m \u001b[0;34m\u001b[0m\u001b[0m\n\u001b[0;32m--> 241\u001b[0;31m                 \u001b[0mloss\u001b[0m\u001b[0;34m.\u001b[0m\u001b[0mbackward\u001b[0m\u001b[0;34m(\u001b[0m\u001b[0;34m)\u001b[0m\u001b[0;34m\u001b[0m\u001b[0;34m\u001b[0m\u001b[0m\n\u001b[0m\u001b[1;32m    242\u001b[0m                 \u001b[0moptimizer\u001b[0m\u001b[0;34m.\u001b[0m\u001b[0mstep\u001b[0m\u001b[0;34m(\u001b[0m\u001b[0;34m)\u001b[0m\u001b[0;34m\u001b[0m\u001b[0;34m\u001b[0m\u001b[0m\n\u001b[1;32m    243\u001b[0m \u001b[0;34m\u001b[0m\u001b[0m\n",
      "\u001b[0;32m~/Google Drive/University/UC3M/TFM/cnp_repo/neural-processes/tfm/lib/python3.8/site-packages/torch/tensor.py\u001b[0m in \u001b[0;36mbackward\u001b[0;34m(self, gradient, retain_graph, create_graph)\u001b[0m\n\u001b[1;32m    193\u001b[0m                 \u001b[0mproducts\u001b[0m\u001b[0;34m.\u001b[0m \u001b[0mDefaults\u001b[0m \u001b[0mto\u001b[0m\u001b[0;31m \u001b[0m\u001b[0;31m`\u001b[0m\u001b[0;31m`\u001b[0m\u001b[0;32mFalse\u001b[0m\u001b[0;31m`\u001b[0m\u001b[0;31m`\u001b[0m\u001b[0;34m.\u001b[0m\u001b[0;34m\u001b[0m\u001b[0;34m\u001b[0m\u001b[0m\n\u001b[1;32m    194\u001b[0m         \"\"\"\n\u001b[0;32m--> 195\u001b[0;31m         \u001b[0mtorch\u001b[0m\u001b[0;34m.\u001b[0m\u001b[0mautograd\u001b[0m\u001b[0;34m.\u001b[0m\u001b[0mbackward\u001b[0m\u001b[0;34m(\u001b[0m\u001b[0mself\u001b[0m\u001b[0;34m,\u001b[0m \u001b[0mgradient\u001b[0m\u001b[0;34m,\u001b[0m \u001b[0mretain_graph\u001b[0m\u001b[0;34m,\u001b[0m \u001b[0mcreate_graph\u001b[0m\u001b[0;34m)\u001b[0m\u001b[0;34m\u001b[0m\u001b[0;34m\u001b[0m\u001b[0m\n\u001b[0m\u001b[1;32m    196\u001b[0m \u001b[0;34m\u001b[0m\u001b[0m\n\u001b[1;32m    197\u001b[0m     \u001b[0;32mdef\u001b[0m \u001b[0mregister_hook\u001b[0m\u001b[0;34m(\u001b[0m\u001b[0mself\u001b[0m\u001b[0;34m,\u001b[0m \u001b[0mhook\u001b[0m\u001b[0;34m)\u001b[0m\u001b[0;34m:\u001b[0m\u001b[0;34m\u001b[0m\u001b[0;34m\u001b[0m\u001b[0m\n",
      "\u001b[0;32m~/Google Drive/University/UC3M/TFM/cnp_repo/neural-processes/tfm/lib/python3.8/site-packages/torch/autograd/__init__.py\u001b[0m in \u001b[0;36mbackward\u001b[0;34m(tensors, grad_tensors, retain_graph, create_graph, grad_variables)\u001b[0m\n\u001b[1;32m     95\u001b[0m         \u001b[0mretain_graph\u001b[0m \u001b[0;34m=\u001b[0m \u001b[0mcreate_graph\u001b[0m\u001b[0;34m\u001b[0m\u001b[0;34m\u001b[0m\u001b[0m\n\u001b[1;32m     96\u001b[0m \u001b[0;34m\u001b[0m\u001b[0m\n\u001b[0;32m---> 97\u001b[0;31m     Variable._execution_engine.run_backward(\n\u001b[0m\u001b[1;32m     98\u001b[0m         \u001b[0mtensors\u001b[0m\u001b[0;34m,\u001b[0m \u001b[0mgrad_tensors\u001b[0m\u001b[0;34m,\u001b[0m \u001b[0mretain_graph\u001b[0m\u001b[0;34m,\u001b[0m \u001b[0mcreate_graph\u001b[0m\u001b[0;34m,\u001b[0m\u001b[0;34m\u001b[0m\u001b[0;34m\u001b[0m\u001b[0m\n\u001b[1;32m     99\u001b[0m         allow_unreachable=True)  # allow_unreachable flag\n",
      "\u001b[0;31mKeyboardInterrupt\u001b[0m: "
     ]
    }
   ],
   "source": [
    "model_weights = trainer.run_training(**default_conf['single_function']['training_params'])\n"
   ]
  },
  {
   "cell_type": "code",
   "execution_count": 36,
   "metadata": {},
   "outputs": [],
   "source": [
    "from sklearn.gaussian_process import GaussianProcessRegressor\n",
    "from sklearn.model_selection import train_test_split\n",
    "import pandas as pd\n",
    "import matplotlib.pyplot as plt\n",
    "import numpy as np"
   ]
  },
  {
   "cell_type": "code",
   "execution_count": 37,
   "metadata": {},
   "outputs": [],
   "source": [
    "dataset = pd.read_csv(\n",
    "    default_conf['single_function']['training_params']['kwargs']['data_path'])"
   ]
  },
  {
   "cell_type": "code",
   "execution_count": 55,
   "metadata": {},
   "outputs": [],
   "source": [
    "train, test = train_test_split(dataset,test_size=0.33)\n",
    "train,test = train.reset_index(drop=True), test.reset_index(drop=True)\n",
    "idx = np.random.randint(0, len(X_train),50)\n",
    "X_train, y_train = train['x'][idx], train['target'][idx]\n",
    "X_test, y_test = test['x'], test['target']\n",
    "\n",
    "X_train = X_train[:,None]\n",
    "X_test = X_test[:,None]"
   ]
  },
  {
   "cell_type": "code",
   "execution_count": 56,
   "metadata": {},
   "outputs": [],
   "source": [
    "model = GaussianProcessRegressor()"
   ]
  },
  {
   "cell_type": "code",
   "execution_count": 57,
   "metadata": {},
   "outputs": [
    {
     "data": {
      "text/plain": [
       "GaussianProcessRegressor(alpha=1e-10, copy_X_train=True, kernel=None,\n",
       "                         n_restarts_optimizer=0, normalize_y=False,\n",
       "                         optimizer='fmin_l_bfgs_b', random_state=None)"
      ]
     },
     "execution_count": 57,
     "metadata": {},
     "output_type": "execute_result"
    }
   ],
   "source": [
    "model.fit(X_train, y_train)"
   ]
  },
  {
   "cell_type": "code",
   "execution_count": 58,
   "metadata": {},
   "outputs": [],
   "source": [
    "y_pred = model.predict(X_test)"
   ]
  },
  {
   "cell_type": "code",
   "execution_count": 59,
   "metadata": {},
   "outputs": [
    {
     "data": {
      "text/plain": [
       "<matplotlib.collections.PathCollection at 0x107564670>"
      ]
     },
     "execution_count": 59,
     "metadata": {},
     "output_type": "execute_result"
    },
    {
     "data": {
      "image/png": "[encoded data removed]",
      "text/plain": [
       "<Figure size 432x288 with 1 Axes>"
      ]
     },
     "metadata": {
      "needs_background": "light"
     },
     "output_type": "display_data"
    }
   ],
   "source": [
    "plt.scatter(X_test,y_pred)\n",
    "plt.scatter(X_test,y_test)\n",
    "plt.scatter(X_train, y_train)"
   ]
  },
  {
   "cell_type": "code",
   "execution_count": null,
   "metadata": {},
   "outputs": [],
   "source": []
  }
 ],
 "metadata": {
  "accelerator": "GPU",
  "colab": {
   "collapsed_sections": [],
   "name": "train_1d_paper_model.ipynb",
   "provenance": []
  },
  "kernelspec": {
   "display_name": "tfm",
   "language": "python",
   "name": "tfm"
  },
  "language_info": {
   "codemirror_mode": {
    "name": "ipython",
    "version": 3
   },
   "file_extension": ".py",
   "mimetype": "text/x-python",
   "name": "python",
   "nbconvert_exporter": "python",
   "pygments_lexer": "ipython3",
   "version": "3.8.2+"
  },
  "pycharm": {
   "stem_cell": {
    "cell_type": "raw",
    "metadata": {
     "collapsed": false
    },
    "source": []
   }
  }
 },
 "nbformat": 4,
 "nbformat_minor": 1
}
