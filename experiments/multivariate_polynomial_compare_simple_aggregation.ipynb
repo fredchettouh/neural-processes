{
 "cells": [
  {
   "cell_type": "code",
   "execution_count": 1,
   "metadata": {
    "colab": {},
    "colab_type": "code",
    "id": "lpuLzr-cEoXt"
   },
   "outputs": [],
   "source": [
    "%load_ext autoreload\n",
    "%autoreload 2\n"
   ]
  },
  {
   "cell_type": "code",
   "execution_count": 2,
   "metadata": {
    "colab": {
     "base_uri": "https://localhost:8080/",
     "height": 156
    },
    "colab_type": "code",
    "executionInfo": {
     "elapsed": 31433,
     "status": "ok",
     "timestamp": 1592058424774,
     "user": {
      "displayName": "Fred Che",
      "photoUrl": "",
      "userId": "07612464138287230381"
     },
     "user_tz": -120
    },
    "id": "sf1IdGXyHp9b",
    "outputId": "c2c07df0-c2ae-4aef-dad6-67f108b65d8d"
   },
   "outputs": [
    {
     "name": "stdout",
     "output_type": "stream",
     "text": [
      "Running on Colab?\n",
      "\n",
      "Top level directory is set to /Users/frederik/Google Drive/University/UC3M/TFM/cnp_repo/neural-processes\n"
     ]
    }
   ],
   "source": [
    "import os\n",
    "google_colab = input('Running on Colab?\\n')\n",
    "if google_colab == 'yes' : \n",
    "    BASE_DIR = 'University/UC3M/TFM/cnp_repo/neural-processes'\n",
    "\n",
    "    # Load the Drive helper and mount\n",
    "    from google.colab import drive\n",
    "\n",
    "    # This will prompt for authorization.\n",
    "    drive.mount('/content/drive')\n",
    "\n",
    "      # Change to assignment directory ('Lab_Exercises_DASS/Lab_Exercise4' by default)\n",
    "    import os\n",
    "    os.chdir(f'/content/drive/My Drive/{BASE_DIR}')\n",
    "    \n",
    "else:\n",
    "    import sys, os \n",
    "    BASE_DIR = '/'.join(os.getcwd().split('/')[:-1])\n",
    "    sys.path.append(BASE_DIR)\n",
    "    print(f'Top level directory is set to {BASE_DIR}')\n",
    "    os.chdir(BASE_DIR)\n",
    "\n",
    "    \n",
    "# custom imports\n",
    "from cnp.trainer import RegressionTrainer\n",
    "from cnp.datageneration import DataGenerator\n",
    "from cnp.helpers import Helper\n",
    "from cnp.cnp import RegressionCNP\n",
    "\n",
    "import torch\n",
    "import numpy as np\n",
    "\n",
    "# import utils\n",
    "import json\n",
    "from datetime import date"
   ]
  },
  {
   "cell_type": "code",
   "execution_count": 3,
   "metadata": {
    "colab": {},
    "colab_type": "code",
    "id": "dgX31aWtVX9P",
    "pycharm": {
     "is_executing": false
    }
   },
   "outputs": [],
   "source": [
    "\n",
    "# we first get the variables for the configuration file\n",
    "os.environ[\"CHECKPOINT_DIR\"] = \"checkpoints\"\n",
    "os.environ[\"MODEL_PARAMS\"] = \"default\"\n",
    "\n",
    "CHECKPOINT_DIR = os.environ['CHECKPOINT_DIR']\n",
    "MODEL_PARAMS = os.environ['MODEL_PARAMS']\n",
    "\n",
    "if google_colab=='yes':\n",
    "    config_dir = 'configs'\n",
    "else:\n",
    "    config_dir = os.path.join(BASE_DIR,'configs')\n",
    "\n"
   ]
  },
  {
   "cell_type": "markdown",
   "metadata": {
    "colab_type": "text",
    "id": "2Uh33yfUVX9U"
   },
   "source": [
    "## Simple aggregation using the mean"
   ]
  },
  {
   "cell_type": "code",
   "execution_count": 4,
   "metadata": {
    "colab": {
     "base_uri": "https://localhost:8080/",
     "height": 34
    },
    "colab_type": "code",
    "executionInfo": {
     "elapsed": 541,
     "status": "ok",
     "timestamp": 1592058622960,
     "user": {
      "displayName": "Fred Che",
      "photoUrl": "",
      "userId": "07612464138287230381"
     },
     "user_tz": -120
    },
    "id": "8XoWs287EoX9",
    "outputId": "d6f17e9b-7567-400a-81c1-2ca856e5fc22"
   },
   "outputs": [
    {
     "name": "stdout",
     "output_type": "stream",
     "text": [
      "No GPU available, training on CPU\n"
     ]
    }
   ],
   "source": [
    "with open(os.path.join(config_dir,'multivar_polynomial_compare_simple_aggregation.json')) as f:\n",
    "    file = f.read()\n",
    "    default_conf = json.loads(file)\n",
    "\n",
    "# checking whether CUDA is available \n",
    "train_on_gpu = torch.cuda.is_available()\n",
    "if(train_on_gpu):\n",
    "    print('Training on GPU!')\n",
    "    default_conf['experiment_params']['train_on_gpu'] = True\n",
    "else: \n",
    "    print('No GPU available, training on CPU')\n",
    "    default_conf['experiment_params']['train_on_gpu'] = False"
   ]
  },
  {
   "cell_type": "code",
   "execution_count": 5,
   "metadata": {},
   "outputs": [],
   "source": [
    "default_conf['cnp_params']['aggregation_kwargs']['simple_aggregator_type'] = 'mean'"
   ]
  },
  {
   "cell_type": "code",
   "execution_count": 6,
   "metadata": {
    "colab": {},
    "colab_type": "code",
    "id": "jIE0pfGfEoYA"
   },
   "outputs": [
    {
     "name": "stdout",
     "output_type": "stream",
     "text": [
      "Decoder(\n",
      "  (_process_input): Sequential(\n",
      "    (0): Linear(in_features=130, out_features=128, bias=True)\n",
      "    (1): ReLU()\n",
      "    (2): Linear(in_features=128, out_features=128, bias=True)\n",
      "    (3): ReLU()\n",
      "    (4): Linear(in_features=128, out_features=2, bias=True)\n",
      "  )\n",
      ")\n",
      "Encoder(\n",
      "  (_process_input): Sequential(\n",
      "    (0): Linear(in_features=3, out_features=128, bias=True)\n",
      "    (1): ReLU()\n",
      "    (2): Linear(in_features=128, out_features=128, bias=True)\n",
      "    (3): ReLU()\n",
      "    (4): Linear(in_features=128, out_features=128, bias=True)\n",
      "    (5): ReLU()\n",
      "    (6): Linear(in_features=128, out_features=128, bias=True)\n",
      "  )\n",
      ")\n",
      "None\n"
     ]
    }
   ],
   "source": [
    "CondNeuralProcess = RegressionCNP(**default_conf['cnp_params'])"
   ]
  },
  {
   "cell_type": "code",
   "execution_count": 7,
   "metadata": {
    "colab": {},
    "colab_type": "code",
    "id": "N8QYJLp3EoYC"
   },
   "outputs": [],
   "source": [
    "trainer = RegressionTrainer(\n",
    "    cnp=CondNeuralProcess,\n",
    "    data_kwargs=default_conf['data_kwargs'],\n",
    "    **default_conf['experiment_params'])\n",
    "                         "
   ]
  },
  {
   "cell_type": "code",
   "execution_count": 8,
   "metadata": {
    "colab": {
     "base_uri": "https://localhost:8080/",
     "height": 1000
    },
    "colab_type": "code",
    "executionInfo": {
     "elapsed": 16629,
     "status": "error",
     "timestamp": 1592058905875,
     "user": {
      "displayName": "Fred Che",
      "photoUrl": "",
      "userId": "07612464138287230381"
     },
     "user_tz": -120
    },
    "id": "u7bRMf1iEoYH",
    "outputId": "1bac7517-debd-4f42-bfdb-f35ac95bed1f",
    "scrolled": true
   },
   "outputs": [
    {
     "name": "stderr",
     "output_type": "stream",
     "text": [
      "  0%|          | 22/100000 [00:00<17:00, 97.94it/s]"
     ]
    },
    {
     "name": "stdout",
     "output_type": "stream",
     "text": [
      "Mean training loss at epoch 0 :                         240715.219\n",
      "Mean Validation loss after 0 equals                     195388.969\n",
      "\n",
      "Validation loss for the function plotted:                 195388.969\n"
     ]
    },
    {
     "name": "stderr",
     "output_type": "stream",
     "text": [
      "  1%|          | 1014/100000 [00:08<14:35, 113.04it/s]"
     ]
    },
    {
     "name": "stdout",
     "output_type": "stream",
     "text": [
      "Mean training loss at epoch 1000 :                         6.662\n",
      "Mean Validation loss after 1000 equals                     12.986\n",
      "\n",
      "Validation loss for the function plotted:                 12.986\n"
     ]
    },
    {
     "name": "stderr",
     "output_type": "stream",
     "text": [
      "  2%|▏         | 2022/100000 [00:17<14:38, 111.52it/s]"
     ]
    },
    {
     "name": "stdout",
     "output_type": "stream",
     "text": [
      "Mean training loss at epoch 2000 :                         6.722\n",
      "Mean Validation loss after 2000 equals                     7.375\n",
      "\n",
      "Validation loss for the function plotted:                 7.375\n"
     ]
    },
    {
     "name": "stderr",
     "output_type": "stream",
     "text": [
      "  3%|▎         | 3015/100000 [00:26<14:26, 111.89it/s]"
     ]
    },
    {
     "name": "stdout",
     "output_type": "stream",
     "text": [
      "Mean training loss at epoch 3000 :                         7.005\n",
      "Mean Validation loss after 3000 equals                     6.625\n",
      "\n",
      "Validation loss for the function plotted:                 6.625\n"
     ]
    },
    {
     "name": "stderr",
     "output_type": "stream",
     "text": [
      "  4%|▍         | 4021/100000 [00:36<14:52, 107.57it/s]"
     ]
    },
    {
     "name": "stdout",
     "output_type": "stream",
     "text": [
      "Mean training loss at epoch 4000 :                         7.184\n",
      "Mean Validation loss after 4000 equals                     7.878\n",
      "\n",
      "Validation loss for the function plotted:                 7.878\n"
     ]
    },
    {
     "name": "stderr",
     "output_type": "stream",
     "text": [
      "  5%|▌         | 5018/100000 [00:45<15:29, 102.15it/s]"
     ]
    },
    {
     "name": "stdout",
     "output_type": "stream",
     "text": [
      "Mean training loss at epoch 5000 :                         6.789\n",
      "Mean Validation loss after 5000 equals                     7.025\n",
      "\n",
      "Validation loss for the function plotted:                 7.025\n"
     ]
    },
    {
     "name": "stderr",
     "output_type": "stream",
     "text": [
      "  6%|▌         | 6022/100000 [00:54<14:10, 110.52it/s]"
     ]
    },
    {
     "name": "stdout",
     "output_type": "stream",
     "text": [
      "Mean training loss at epoch 6000 :                         7.407\n",
      "Mean Validation loss after 6000 equals                     7.117\n",
      "\n",
      "Validation loss for the function plotted:                 7.117\n"
     ]
    },
    {
     "name": "stderr",
     "output_type": "stream",
     "text": [
      "  7%|▋         | 7022/100000 [01:03<14:02, 110.40it/s]"
     ]
    },
    {
     "name": "stdout",
     "output_type": "stream",
     "text": [
      "Mean training loss at epoch 7000 :                         6.506\n",
      "Mean Validation loss after 7000 equals                     13.03\n",
      "\n",
      "Validation loss for the function plotted:                 13.03\n"
     ]
    },
    {
     "name": "stderr",
     "output_type": "stream",
     "text": [
      "  8%|▊         | 8021/100000 [01:12<13:51, 110.57it/s]"
     ]
    },
    {
     "name": "stdout",
     "output_type": "stream",
     "text": [
      "Mean training loss at epoch 8000 :                         7.282\n",
      "Mean Validation loss after 8000 equals                     8.675\n",
      "\n",
      "Validation loss for the function plotted:                 8.675\n"
     ]
    },
    {
     "name": "stderr",
     "output_type": "stream",
     "text": [
      "  9%|▉         | 9023/100000 [01:21<13:37, 111.32it/s]"
     ]
    },
    {
     "name": "stdout",
     "output_type": "stream",
     "text": [
      "Mean training loss at epoch 9000 :                         6.734\n",
      "Mean Validation loss after 9000 equals                     8.674\n",
      "\n",
      "Validation loss for the function plotted:                 8.674\n"
     ]
    },
    {
     "name": "stderr",
     "output_type": "stream",
     "text": [
      " 10%|█         | 10013/100000 [01:30<13:13, 113.38it/s]"
     ]
    },
    {
     "name": "stdout",
     "output_type": "stream",
     "text": [
      "Mean training loss at epoch 10000 :                         7.259\n",
      "Mean Validation loss after 10000 equals                     8.297\n",
      "\n",
      "Validation loss for the function plotted:                 8.297\n"
     ]
    },
    {
     "name": "stderr",
     "output_type": "stream",
     "text": [
      " 11%|█         | 11023/100000 [01:39<13:28, 110.06it/s]"
     ]
    },
    {
     "name": "stdout",
     "output_type": "stream",
     "text": [
      "Mean training loss at epoch 11000 :                         6.677\n",
      "Mean Validation loss after 11000 equals                     8.259\n",
      "\n",
      "Validation loss for the function plotted:                 8.259\n"
     ]
    },
    {
     "name": "stderr",
     "output_type": "stream",
     "text": [
      " 12%|█▏        | 12023/100000 [01:48<13:00, 112.71it/s]"
     ]
    },
    {
     "name": "stdout",
     "output_type": "stream",
     "text": [
      "Mean training loss at epoch 12000 :                         6.797\n",
      "Mean Validation loss after 12000 equals                     7.335\n",
      "\n",
      "Validation loss for the function plotted:                 7.335\n"
     ]
    },
    {
     "name": "stderr",
     "output_type": "stream",
     "text": [
      " 13%|█▎        | 13015/100000 [01:57<12:41, 114.27it/s]"
     ]
    },
    {
     "name": "stdout",
     "output_type": "stream",
     "text": [
      "Mean training loss at epoch 13000 :                         7.423\n",
      "Mean Validation loss after 13000 equals                     7.419\n",
      "\n",
      "Validation loss for the function plotted:                 7.419\n"
     ]
    },
    {
     "name": "stderr",
     "output_type": "stream",
     "text": [
      " 14%|█▍        | 14020/100000 [02:06<14:22, 99.67it/s] "
     ]
    },
    {
     "name": "stdout",
     "output_type": "stream",
     "text": [
      "Mean training loss at epoch 14000 :                         7.384\n",
      "Mean Validation loss after 14000 equals                     7.159\n",
      "\n",
      "Validation loss for the function plotted:                 7.159\n"
     ]
    },
    {
     "name": "stderr",
     "output_type": "stream",
     "text": [
      " 15%|█▌        | 15012/100000 [02:16<13:17, 106.56it/s]"
     ]
    },
    {
     "name": "stdout",
     "output_type": "stream",
     "text": [
      "Mean training loss at epoch 15000 :                         6.495\n",
      "Mean Validation loss after 15000 equals                     9.621\n",
      "\n",
      "Validation loss for the function plotted:                 9.621\n"
     ]
    },
    {
     "name": "stderr",
     "output_type": "stream",
     "text": [
      " 16%|█▌        | 16020/100000 [02:26<13:05, 106.97it/s]"
     ]
    },
    {
     "name": "stdout",
     "output_type": "stream",
     "text": [
      "Mean training loss at epoch 16000 :                         6.873\n",
      "Mean Validation loss after 16000 equals                     7.222\n",
      "\n",
      "Validation loss for the function plotted:                 7.222\n"
     ]
    },
    {
     "name": "stderr",
     "output_type": "stream",
     "text": [
      " 17%|█▋        | 17016/100000 [02:36<13:54, 99.47it/s] "
     ]
    },
    {
     "name": "stdout",
     "output_type": "stream",
     "text": [
      "Mean training loss at epoch 17000 :                         6.451\n",
      "Mean Validation loss after 17000 equals                     7.599\n",
      "\n",
      "Validation loss for the function plotted:                 7.599\n"
     ]
    },
    {
     "name": "stderr",
     "output_type": "stream",
     "text": [
      " 18%|█▊        | 18011/100000 [02:46<14:10, 96.43it/s] "
     ]
    },
    {
     "name": "stdout",
     "output_type": "stream",
     "text": [
      "Mean training loss at epoch 18000 :                         6.737\n",
      "Mean Validation loss after 18000 equals                     7.682\n",
      "\n",
      "Validation loss for the function plotted:                 7.682\n"
     ]
    },
    {
     "name": "stderr",
     "output_type": "stream",
     "text": [
      " 19%|█▉        | 19020/100000 [02:56<13:41, 98.53it/s] "
     ]
    },
    {
     "name": "stdout",
     "output_type": "stream",
     "text": [
      "Mean training loss at epoch 19000 :                         6.839\n",
      "Mean Validation loss after 19000 equals                     7.483\n",
      "\n",
      "Validation loss for the function plotted:                 7.483\n"
     ]
    },
    {
     "name": "stderr",
     "output_type": "stream",
     "text": [
      " 20%|██        | 20013/100000 [03:05<11:45, 113.46it/s]"
     ]
    },
    {
     "name": "stdout",
     "output_type": "stream",
     "text": [
      "Mean training loss at epoch 20000 :                         6.675\n",
      "Mean Validation loss after 20000 equals                     7.9\n",
      "\n",
      "Validation loss for the function plotted:                 7.9\n"
     ]
    },
    {
     "name": "stderr",
     "output_type": "stream",
     "text": [
      " 21%|██        | 21017/100000 [03:14<11:57, 110.12it/s]"
     ]
    },
    {
     "name": "stdout",
     "output_type": "stream",
     "text": [
      "Mean training loss at epoch 21000 :                         6.878\n",
      "Mean Validation loss after 21000 equals                     7.244\n",
      "\n",
      "Validation loss for the function plotted:                 7.244\n"
     ]
    },
    {
     "name": "stderr",
     "output_type": "stream",
     "text": [
      " 22%|██▏       | 22015/100000 [03:23<11:00, 118.03it/s]"
     ]
    },
    {
     "name": "stdout",
     "output_type": "stream",
     "text": [
      "Mean training loss at epoch 22000 :                         6.49\n",
      "Mean Validation loss after 22000 equals                     7.442\n",
      "\n",
      "Validation loss for the function plotted:                 7.442\n"
     ]
    },
    {
     "name": "stderr",
     "output_type": "stream",
     "text": [
      " 23%|██▎       | 23008/100000 [03:34<26:04, 49.21it/s] "
     ]
    },
    {
     "name": "stdout",
     "output_type": "stream",
     "text": [
      "Mean training loss at epoch 23000 :                         7.446\n",
      "Mean Validation loss after 23000 equals                     7.529\n",
      "\n",
      "Validation loss for the function plotted:                 7.529\n"
     ]
    },
    {
     "name": "stderr",
     "output_type": "stream",
     "text": [
      " 24%|██▍       | 24019/100000 [03:48<11:29, 110.15it/s]"
     ]
    },
    {
     "name": "stdout",
     "output_type": "stream",
     "text": [
      "Mean training loss at epoch 24000 :                         7.083\n",
      "Mean Validation loss after 24000 equals                     7.808\n",
      "\n",
      "Validation loss for the function plotted:                 7.808\n"
     ]
    },
    {
     "name": "stderr",
     "output_type": "stream",
     "text": [
      " 25%|██▌       | 25013/100000 [03:57<12:03, 103.66it/s]"
     ]
    },
    {
     "name": "stdout",
     "output_type": "stream",
     "text": [
      "Mean training loss at epoch 25000 :                         6.954\n",
      "Mean Validation loss after 25000 equals                     7.198\n",
      "\n",
      "Validation loss for the function plotted:                 7.198\n"
     ]
    },
    {
     "name": "stderr",
     "output_type": "stream",
     "text": [
      " 26%|██▌       | 26011/100000 [04:08<12:14, 100.75it/s]"
     ]
    },
    {
     "name": "stdout",
     "output_type": "stream",
     "text": [
      "Mean training loss at epoch 26000 :                         6.936\n",
      "Mean Validation loss after 26000 equals                     9.469\n",
      "\n",
      "Validation loss for the function plotted:                 9.469\n"
     ]
    },
    {
     "name": "stderr",
     "output_type": "stream",
     "text": [
      " 27%|██▋       | 27018/100000 [04:22<21:11, 57.42it/s] "
     ]
    },
    {
     "name": "stdout",
     "output_type": "stream",
     "text": [
      "Mean training loss at epoch 27000 :                         6.517\n",
      "Mean Validation loss after 27000 equals                     7.854\n",
      "\n",
      "Validation loss for the function plotted:                 7.854\n"
     ]
    },
    {
     "name": "stderr",
     "output_type": "stream",
     "text": [
      " 28%|██▊       | 28013/100000 [04:33<13:51, 86.59it/s] "
     ]
    },
    {
     "name": "stdout",
     "output_type": "stream",
     "text": [
      "Mean training loss at epoch 28000 :                         7.228\n",
      "Mean Validation loss after 28000 equals                     7.754\n",
      "\n",
      "Validation loss for the function plotted:                 7.754\n"
     ]
    },
    {
     "name": "stderr",
     "output_type": "stream",
     "text": [
      " 29%|██▉       | 29011/100000 [04:45<14:59, 78.90it/s] "
     ]
    },
    {
     "name": "stdout",
     "output_type": "stream",
     "text": [
      "Mean training loss at epoch 29000 :                         5.44\n",
      "Mean Validation loss after 29000 equals                     6.636\n",
      "\n",
      "Validation loss for the function plotted:                 6.636\n"
     ]
    },
    {
     "name": "stderr",
     "output_type": "stream",
     "text": [
      " 30%|███       | 30016/100000 [04:55<13:28, 86.55it/s] "
     ]
    },
    {
     "name": "stdout",
     "output_type": "stream",
     "text": [
      "Mean training loss at epoch 30000 :                         4.96\n",
      "Mean Validation loss after 30000 equals                     5.335\n",
      "\n",
      "Validation loss for the function plotted:                 5.335\n"
     ]
    },
    {
     "name": "stderr",
     "output_type": "stream",
     "text": [
      " 31%|███       | 31014/100000 [05:07<10:58, 104.71it/s]"
     ]
    },
    {
     "name": "stdout",
     "output_type": "stream",
     "text": [
      "Mean training loss at epoch 31000 :                         4.497\n",
      "Mean Validation loss after 31000 equals                     5.024\n",
      "\n",
      "Validation loss for the function plotted:                 5.024\n"
     ]
    },
    {
     "name": "stderr",
     "output_type": "stream",
     "text": [
      " 32%|███▏      | 32015/100000 [05:16<10:36, 106.89it/s]"
     ]
    },
    {
     "name": "stdout",
     "output_type": "stream",
     "text": [
      "Mean training loss at epoch 32000 :                         4.826\n",
      "Mean Validation loss after 32000 equals                     5.316\n",
      "\n",
      "Validation loss for the function plotted:                 5.316\n"
     ]
    },
    {
     "name": "stderr",
     "output_type": "stream",
     "text": [
      " 33%|███▎      | 33016/100000 [05:26<10:44, 103.88it/s]"
     ]
    },
    {
     "name": "stdout",
     "output_type": "stream",
     "text": [
      "Mean training loss at epoch 33000 :                         4.251\n",
      "Mean Validation loss after 33000 equals                     5.328\n",
      "\n",
      "Validation loss for the function plotted:                 5.328\n"
     ]
    },
    {
     "name": "stderr",
     "output_type": "stream",
     "text": [
      " 34%|███▍      | 34019/100000 [05:35<10:30, 104.70it/s]"
     ]
    },
    {
     "name": "stdout",
     "output_type": "stream",
     "text": [
      "Mean training loss at epoch 34000 :                         4.137\n",
      "Mean Validation loss after 34000 equals                     4.886\n",
      "\n",
      "Validation loss for the function plotted:                 4.886\n"
     ]
    },
    {
     "name": "stderr",
     "output_type": "stream",
     "text": [
      " 35%|███▌      | 35014/100000 [05:45<10:05, 107.36it/s]"
     ]
    },
    {
     "name": "stdout",
     "output_type": "stream",
     "text": [
      "Mean training loss at epoch 35000 :                         4.742\n",
      "Mean Validation loss after 35000 equals                     4.739\n",
      "\n",
      "Validation loss for the function plotted:                 4.739\n"
     ]
    },
    {
     "name": "stderr",
     "output_type": "stream",
     "text": [
      " 36%|███▌      | 36021/100000 [05:57<10:56, 97.52it/s] "
     ]
    },
    {
     "name": "stdout",
     "output_type": "stream",
     "text": [
      "Mean training loss at epoch 36000 :                         4.079\n",
      "Mean Validation loss after 36000 equals                     4.936\n",
      "\n",
      "Validation loss for the function plotted:                 4.936\n"
     ]
    },
    {
     "name": "stderr",
     "output_type": "stream",
     "text": [
      " 37%|███▋      | 37009/100000 [06:12<15:35, 67.32it/s]  "
     ]
    },
    {
     "name": "stdout",
     "output_type": "stream",
     "text": [
      "Mean training loss at epoch 37000 :                         4.639\n",
      "Mean Validation loss after 37000 equals                     4.392\n",
      "\n",
      "Validation loss for the function plotted:                 4.392\n"
     ]
    },
    {
     "name": "stderr",
     "output_type": "stream",
     "text": [
      " 38%|███▊      | 38014/100000 [06:24<14:54, 69.32it/s] "
     ]
    },
    {
     "name": "stdout",
     "output_type": "stream",
     "text": [
      "Mean training loss at epoch 38000 :                         4.273\n",
      "Mean Validation loss after 38000 equals                     4.645\n",
      "\n",
      "Validation loss for the function plotted:                 4.645\n"
     ]
    },
    {
     "name": "stderr",
     "output_type": "stream",
     "text": [
      " 39%|███▉      | 39011/100000 [06:34<09:23, 108.27it/s]"
     ]
    },
    {
     "name": "stdout",
     "output_type": "stream",
     "text": [
      "Mean training loss at epoch 39000 :                         3.826\n",
      "Mean Validation loss after 39000 equals                     5.783\n",
      "\n",
      "Validation loss for the function plotted:                 5.783\n"
     ]
    },
    {
     "name": "stderr",
     "output_type": "stream",
     "text": [
      " 40%|████      | 40010/100000 [06:44<09:56, 100.54it/s]"
     ]
    },
    {
     "name": "stdout",
     "output_type": "stream",
     "text": [
      "Mean training loss at epoch 40000 :                         3.804\n",
      "Mean Validation loss after 40000 equals                     4.988\n",
      "\n",
      "Validation loss for the function plotted:                 4.988\n"
     ]
    },
    {
     "name": "stderr",
     "output_type": "stream",
     "text": [
      " 41%|████      | 41014/100000 [06:54<09:27, 103.98it/s]"
     ]
    },
    {
     "name": "stdout",
     "output_type": "stream",
     "text": [
      "Mean training loss at epoch 41000 :                         3.834\n",
      "Mean Validation loss after 41000 equals                     4.306\n",
      "\n",
      "Validation loss for the function plotted:                 4.306\n"
     ]
    },
    {
     "name": "stderr",
     "output_type": "stream",
     "text": [
      " 42%|████▏     | 42021/100000 [07:03<08:53, 108.62it/s]"
     ]
    },
    {
     "name": "stdout",
     "output_type": "stream",
     "text": [
      "Mean training loss at epoch 42000 :                         4.187\n",
      "Mean Validation loss after 42000 equals                     4.23\n",
      "\n",
      "Validation loss for the function plotted:                 4.23\n"
     ]
    },
    {
     "name": "stderr",
     "output_type": "stream",
     "text": [
      " 43%|████▎     | 43017/100000 [07:12<08:47, 108.00it/s]"
     ]
    },
    {
     "name": "stdout",
     "output_type": "stream",
     "text": [
      "Mean training loss at epoch 43000 :                         3.862\n",
      "Mean Validation loss after 43000 equals                     4.598\n",
      "\n",
      "Validation loss for the function plotted:                 4.598\n"
     ]
    },
    {
     "name": "stderr",
     "output_type": "stream",
     "text": [
      " 44%|████▍     | 44021/100000 [07:22<09:24, 99.25it/s] "
     ]
    },
    {
     "name": "stdout",
     "output_type": "stream",
     "text": [
      "Mean training loss at epoch 44000 :                         3.846\n",
      "Mean Validation loss after 44000 equals                     5.34\n",
      "\n",
      "Validation loss for the function plotted:                 5.34\n"
     ]
    },
    {
     "name": "stderr",
     "output_type": "stream",
     "text": [
      " 45%|████▌     | 45014/100000 [07:33<10:08, 90.36it/s] "
     ]
    },
    {
     "name": "stdout",
     "output_type": "stream",
     "text": [
      "Mean training loss at epoch 45000 :                         4.085\n",
      "Mean Validation loss after 45000 equals                     4.326\n",
      "\n",
      "Validation loss for the function plotted:                 4.326\n"
     ]
    },
    {
     "name": "stderr",
     "output_type": "stream",
     "text": [
      " 46%|████▌     | 46016/100000 [07:42<08:42, 103.24it/s]"
     ]
    },
    {
     "name": "stdout",
     "output_type": "stream",
     "text": [
      "Mean training loss at epoch 46000 :                         3.922\n",
      "Mean Validation loss after 46000 equals                     4.498\n",
      "\n",
      "Validation loss for the function plotted:                 4.498\n"
     ]
    },
    {
     "name": "stderr",
     "output_type": "stream",
     "text": [
      " 47%|████▋     | 47012/100000 [07:54<09:09, 96.34it/s] "
     ]
    },
    {
     "name": "stdout",
     "output_type": "stream",
     "text": [
      "Mean training loss at epoch 47000 :                         4.185\n",
      "Mean Validation loss after 47000 equals                     4.606\n",
      "\n",
      "Validation loss for the function plotted:                 4.606\n"
     ]
    },
    {
     "name": "stderr",
     "output_type": "stream",
     "text": [
      " 48%|████▊     | 48022/100000 [08:04<07:54, 109.45it/s]"
     ]
    },
    {
     "name": "stdout",
     "output_type": "stream",
     "text": [
      "Mean training loss at epoch 48000 :                         4.514\n",
      "Mean Validation loss after 48000 equals                     3.877\n",
      "\n",
      "Validation loss for the function plotted:                 3.877\n"
     ]
    },
    {
     "name": "stderr",
     "output_type": "stream",
     "text": [
      " 49%|████▉     | 49020/100000 [08:13<08:08, 104.40it/s]"
     ]
    },
    {
     "name": "stdout",
     "output_type": "stream",
     "text": [
      "Mean training loss at epoch 49000 :                         4.203\n",
      "Mean Validation loss after 49000 equals                     4.708\n",
      "\n",
      "Validation loss for the function plotted:                 4.708\n"
     ]
    },
    {
     "name": "stderr",
     "output_type": "stream",
     "text": [
      " 50%|█████     | 50013/100000 [08:22<08:06, 102.81it/s]"
     ]
    },
    {
     "name": "stdout",
     "output_type": "stream",
     "text": [
      "Mean training loss at epoch 50000 :                         3.927\n",
      "Mean Validation loss after 50000 equals                     4.299\n",
      "\n",
      "Validation loss for the function plotted:                 4.299\n"
     ]
    },
    {
     "name": "stderr",
     "output_type": "stream",
     "text": [
      " 51%|█████     | 51021/100000 [08:32<07:54, 103.13it/s]"
     ]
    },
    {
     "name": "stdout",
     "output_type": "stream",
     "text": [
      "Mean training loss at epoch 51000 :                         3.835\n",
      "Mean Validation loss after 51000 equals                     4.222\n",
      "\n",
      "Validation loss for the function plotted:                 4.222\n"
     ]
    },
    {
     "name": "stderr",
     "output_type": "stream",
     "text": [
      " 52%|█████▏    | 52011/100000 [08:44<09:02, 88.48it/s] "
     ]
    },
    {
     "name": "stdout",
     "output_type": "stream",
     "text": [
      "Mean training loss at epoch 52000 :                         3.83\n",
      "Mean Validation loss after 52000 equals                     5.006\n",
      "\n",
      "Validation loss for the function plotted:                 5.006\n"
     ]
    },
    {
     "name": "stderr",
     "output_type": "stream",
     "text": [
      " 53%|█████▎    | 53014/100000 [08:57<08:34, 91.27it/s]"
     ]
    },
    {
     "name": "stdout",
     "output_type": "stream",
     "text": [
      "Mean training loss at epoch 53000 :                         3.918\n",
      "Mean Validation loss after 53000 equals                     4.838\n",
      "\n",
      "Validation loss for the function plotted:                 4.838\n"
     ]
    },
    {
     "name": "stderr",
     "output_type": "stream",
     "text": [
      " 54%|█████▍    | 54022/100000 [09:08<07:37, 100.39it/s]"
     ]
    },
    {
     "name": "stdout",
     "output_type": "stream",
     "text": [
      "Mean training loss at epoch 54000 :                         3.913\n",
      "Mean Validation loss after 54000 equals                     4.699\n",
      "\n",
      "Validation loss for the function plotted:                 4.699\n"
     ]
    },
    {
     "name": "stderr",
     "output_type": "stream",
     "text": [
      " 55%|█████▌    | 55016/100000 [09:18<07:28, 100.34it/s]"
     ]
    },
    {
     "name": "stdout",
     "output_type": "stream",
     "text": [
      "Mean training loss at epoch 55000 :                         4.458\n",
      "Mean Validation loss after 55000 equals                     4.379\n",
      "\n",
      "Validation loss for the function plotted:                 4.379\n"
     ]
    },
    {
     "name": "stderr",
     "output_type": "stream",
     "text": [
      " 56%|█████▌    | 56018/100000 [09:29<07:21, 99.55it/s] "
     ]
    },
    {
     "name": "stdout",
     "output_type": "stream",
     "text": [
      "Mean training loss at epoch 56000 :                         3.782\n",
      "Mean Validation loss after 56000 equals                     5.206\n",
      "\n",
      "Validation loss for the function plotted:                 5.206\n"
     ]
    },
    {
     "name": "stderr",
     "output_type": "stream",
     "text": [
      " 57%|█████▋    | 57021/100000 [09:39<07:01, 102.02it/s]"
     ]
    },
    {
     "name": "stdout",
     "output_type": "stream",
     "text": [
      "Mean training loss at epoch 57000 :                         3.68\n",
      "Mean Validation loss after 57000 equals                     4.142\n",
      "\n",
      "Validation loss for the function plotted:                 4.142\n"
     ]
    },
    {
     "name": "stderr",
     "output_type": "stream",
     "text": [
      " 58%|█████▊    | 58019/100000 [09:49<07:07, 98.12it/s] "
     ]
    },
    {
     "name": "stdout",
     "output_type": "stream",
     "text": [
      "Mean training loss at epoch 58000 :                         4.618\n",
      "Mean Validation loss after 58000 equals                     4.451\n",
      "\n",
      "Validation loss for the function plotted:                 4.451\n"
     ]
    },
    {
     "name": "stderr",
     "output_type": "stream",
     "text": [
      " 59%|█████▉    | 59019/100000 [10:00<07:15, 94.13it/s] "
     ]
    },
    {
     "name": "stdout",
     "output_type": "stream",
     "text": [
      "Mean training loss at epoch 59000 :                         3.576\n",
      "Mean Validation loss after 59000 equals                     4.047\n",
      "\n",
      "Validation loss for the function plotted:                 4.047\n"
     ]
    },
    {
     "name": "stderr",
     "output_type": "stream",
     "text": [
      " 60%|██████    | 60019/100000 [10:10<06:48, 97.85it/s] "
     ]
    },
    {
     "name": "stdout",
     "output_type": "stream",
     "text": [
      "Mean training loss at epoch 60000 :                         3.999\n",
      "Mean Validation loss after 60000 equals                     4.151\n",
      "\n",
      "Validation loss for the function plotted:                 4.151\n"
     ]
    },
    {
     "name": "stderr",
     "output_type": "stream",
     "text": [
      " 61%|██████    | 61019/100000 [10:20<06:54, 94.04it/s] "
     ]
    },
    {
     "name": "stdout",
     "output_type": "stream",
     "text": [
      "Mean training loss at epoch 61000 :                         3.999\n",
      "Mean Validation loss after 61000 equals                     5.297\n",
      "\n",
      "Validation loss for the function plotted:                 5.297\n"
     ]
    },
    {
     "name": "stderr",
     "output_type": "stream",
     "text": [
      " 62%|██████▏   | 62019/100000 [10:30<06:22, 99.36it/s] "
     ]
    },
    {
     "name": "stdout",
     "output_type": "stream",
     "text": [
      "Mean training loss at epoch 62000 :                         3.261\n",
      "Mean Validation loss after 62000 equals                     4.373\n",
      "\n",
      "Validation loss for the function plotted:                 4.373\n"
     ]
    },
    {
     "name": "stderr",
     "output_type": "stream",
     "text": [
      " 63%|██████▎   | 63019/100000 [10:41<06:40, 92.45it/s] "
     ]
    },
    {
     "name": "stdout",
     "output_type": "stream",
     "text": [
      "Mean training loss at epoch 63000 :                         3.343\n",
      "Mean Validation loss after 63000 equals                     5.292\n",
      "\n",
      "Validation loss for the function plotted:                 5.292\n"
     ]
    },
    {
     "name": "stderr",
     "output_type": "stream",
     "text": [
      " 64%|██████▍   | 64017/100000 [10:51<06:24, 93.53it/s]"
     ]
    },
    {
     "name": "stdout",
     "output_type": "stream",
     "text": [
      "Mean training loss at epoch 64000 :                         3.426\n",
      "Mean Validation loss after 64000 equals                     4.434\n",
      "\n",
      "Validation loss for the function plotted:                 4.434\n"
     ]
    },
    {
     "name": "stderr",
     "output_type": "stream",
     "text": [
      " 65%|██████▌   | 65012/100000 [11:02<05:58, 97.69it/s]"
     ]
    },
    {
     "name": "stdout",
     "output_type": "stream",
     "text": [
      "Mean training loss at epoch 65000 :                         4.32\n",
      "Mean Validation loss after 65000 equals                     4.209\n",
      "\n",
      "Validation loss for the function plotted:                 4.209\n"
     ]
    },
    {
     "name": "stderr",
     "output_type": "stream",
     "text": [
      " 66%|██████▌   | 66013/100000 [11:12<05:53, 96.12it/s] "
     ]
    },
    {
     "name": "stdout",
     "output_type": "stream",
     "text": [
      "Mean training loss at epoch 66000 :                         3.937\n",
      "Mean Validation loss after 66000 equals                     5.926\n",
      "\n",
      "Validation loss for the function plotted:                 5.926\n"
     ]
    },
    {
     "name": "stderr",
     "output_type": "stream",
     "text": [
      " 67%|██████▋   | 67015/100000 [11:22<05:39, 97.05it/s] "
     ]
    },
    {
     "name": "stdout",
     "output_type": "stream",
     "text": [
      "Mean training loss at epoch 67000 :                         3.484\n",
      "Mean Validation loss after 67000 equals                     4.892\n",
      "\n",
      "Validation loss for the function plotted:                 4.892\n"
     ]
    },
    {
     "name": "stderr",
     "output_type": "stream",
     "text": [
      " 68%|██████▊   | 68020/100000 [11:33<05:20, 99.91it/s] "
     ]
    },
    {
     "name": "stdout",
     "output_type": "stream",
     "text": [
      "Mean training loss at epoch 68000 :                         3.782\n",
      "Mean Validation loss after 68000 equals                     4.753\n",
      "\n",
      "Validation loss for the function plotted:                 4.753\n"
     ]
    },
    {
     "name": "stderr",
     "output_type": "stream",
     "text": [
      " 69%|██████▉   | 69021/100000 [11:43<05:02, 102.28it/s]"
     ]
    },
    {
     "name": "stdout",
     "output_type": "stream",
     "text": [
      "Mean training loss at epoch 69000 :                         3.776\n",
      "Mean Validation loss after 69000 equals                     4.781\n",
      "\n",
      "Validation loss for the function plotted:                 4.781\n"
     ]
    },
    {
     "name": "stderr",
     "output_type": "stream",
     "text": [
      " 70%|███████   | 70018/100000 [11:53<06:03, 82.51it/s] "
     ]
    },
    {
     "name": "stdout",
     "output_type": "stream",
     "text": [
      "Mean training loss at epoch 70000 :                         3.792\n",
      "Mean Validation loss after 70000 equals                     4.511\n",
      "\n",
      "Validation loss for the function plotted:                 4.511\n"
     ]
    },
    {
     "name": "stderr",
     "output_type": "stream",
     "text": [
      " 71%|███████   | 71011/100000 [12:05<04:47, 100.67it/s]"
     ]
    },
    {
     "name": "stdout",
     "output_type": "stream",
     "text": [
      "Mean training loss at epoch 71000 :                         3.682\n",
      "Mean Validation loss after 71000 equals                     5.264\n",
      "\n",
      "Validation loss for the function plotted:                 5.264\n"
     ]
    },
    {
     "name": "stderr",
     "output_type": "stream",
     "text": [
      " 72%|███████▏  | 72013/100000 [12:15<05:03, 92.25it/s] "
     ]
    },
    {
     "name": "stdout",
     "output_type": "stream",
     "text": [
      "Mean training loss at epoch 72000 :                         3.656\n",
      "Mean Validation loss after 72000 equals                     4.959\n",
      "\n",
      "Validation loss for the function plotted:                 4.959\n"
     ]
    },
    {
     "name": "stderr",
     "output_type": "stream",
     "text": [
      " 73%|███████▎  | 73011/100000 [12:25<04:30, 99.72it/s] "
     ]
    },
    {
     "name": "stdout",
     "output_type": "stream",
     "text": [
      "Mean training loss at epoch 73000 :                         3.796\n",
      "Mean Validation loss after 73000 equals                     4.481\n",
      "\n",
      "Validation loss for the function plotted:                 4.481\n"
     ]
    },
    {
     "name": "stderr",
     "output_type": "stream",
     "text": [
      " 74%|███████▍  | 74020/100000 [12:35<04:30, 95.92it/s] "
     ]
    },
    {
     "name": "stdout",
     "output_type": "stream",
     "text": [
      "Mean training loss at epoch 74000 :                         4.306\n",
      "Mean Validation loss after 74000 equals                     4.055\n",
      "\n",
      "Validation loss for the function plotted:                 4.055\n"
     ]
    },
    {
     "name": "stderr",
     "output_type": "stream",
     "text": [
      " 75%|███████▌  | 75013/100000 [12:46<04:19, 96.35it/s] "
     ]
    },
    {
     "name": "stdout",
     "output_type": "stream",
     "text": [
      "Mean training loss at epoch 75000 :                         3.71\n",
      "Mean Validation loss after 75000 equals                     4.194\n",
      "\n",
      "Validation loss for the function plotted:                 4.194\n"
     ]
    },
    {
     "name": "stderr",
     "output_type": "stream",
     "text": [
      " 76%|███████▌  | 76018/100000 [12:56<04:01, 99.17it/s] "
     ]
    },
    {
     "name": "stdout",
     "output_type": "stream",
     "text": [
      "Mean training loss at epoch 76000 :                         3.938\n",
      "Mean Validation loss after 76000 equals                     4.832\n",
      "\n",
      "Validation loss for the function plotted:                 4.832\n"
     ]
    },
    {
     "name": "stderr",
     "output_type": "stream",
     "text": [
      " 77%|███████▋  | 77019/100000 [13:06<03:47, 100.99it/s]"
     ]
    },
    {
     "name": "stdout",
     "output_type": "stream",
     "text": [
      "Mean training loss at epoch 77000 :                         3.726\n",
      "Mean Validation loss after 77000 equals                     4.355\n",
      "\n",
      "Validation loss for the function plotted:                 4.355\n"
     ]
    },
    {
     "name": "stderr",
     "output_type": "stream",
     "text": [
      " 78%|███████▊  | 78013/100000 [13:18<05:57, 61.53it/s] "
     ]
    },
    {
     "name": "stdout",
     "output_type": "stream",
     "text": [
      "Mean training loss at epoch 78000 :                         3.615\n",
      "Mean Validation loss after 78000 equals                     4.234\n",
      "\n",
      "Validation loss for the function plotted:                 4.234\n"
     ]
    },
    {
     "name": "stderr",
     "output_type": "stream",
     "text": [
      " 79%|███████▉  | 79014/100000 [13:30<04:18, 81.16it/s]"
     ]
    },
    {
     "name": "stdout",
     "output_type": "stream",
     "text": [
      "Mean training loss at epoch 79000 :                         3.695\n",
      "Mean Validation loss after 79000 equals                     5.09\n",
      "\n",
      "Validation loss for the function plotted:                 5.09\n"
     ]
    },
    {
     "name": "stderr",
     "output_type": "stream",
     "text": [
      " 80%|████████  | 80012/100000 [13:42<03:33, 93.47it/s]"
     ]
    },
    {
     "name": "stdout",
     "output_type": "stream",
     "text": [
      "Mean training loss at epoch 80000 :                         3.56\n",
      "Mean Validation loss after 80000 equals                     4.256\n",
      "\n",
      "Validation loss for the function plotted:                 4.256\n"
     ]
    },
    {
     "name": "stderr",
     "output_type": "stream",
     "text": [
      " 81%|████████  | 81006/100000 [13:55<05:36, 56.41it/s] "
     ]
    },
    {
     "name": "stdout",
     "output_type": "stream",
     "text": [
      "Mean training loss at epoch 81000 :                         3.732\n",
      "Mean Validation loss after 81000 equals                     5.588\n",
      "\n",
      "Validation loss for the function plotted:                 5.588\n"
     ]
    },
    {
     "name": "stderr",
     "output_type": "stream",
     "text": [
      " 82%|████████▏ | 82000/100000 [14:13<05:11, 57.79it/s]"
     ]
    },
    {
     "name": "stdout",
     "output_type": "stream",
     "text": [
      "Mean training loss at epoch 82000 :                         3.726\n",
      "Mean Validation loss after 82000 equals                     5.395\n",
      "\n",
      "Validation loss for the function plotted:                 5.395\n"
     ]
    },
    {
     "name": "stderr",
     "output_type": "stream",
     "text": [
      " 83%|████████▎ | 83012/100000 [14:35<03:58, 71.26it/s]"
     ]
    },
    {
     "name": "stdout",
     "output_type": "stream",
     "text": [
      "Mean training loss at epoch 83000 :                         3.8\n",
      "Mean Validation loss after 83000 equals                     3.839\n",
      "\n",
      "Validation loss for the function plotted:                 3.839\n"
     ]
    },
    {
     "name": "stderr",
     "output_type": "stream",
     "text": [
      " 84%|████████▍ | 84015/100000 [14:50<03:19, 80.05it/s]"
     ]
    },
    {
     "name": "stdout",
     "output_type": "stream",
     "text": [
      "Mean training loss at epoch 84000 :                         3.681\n",
      "Mean Validation loss after 84000 equals                     4.371\n",
      "\n",
      "Validation loss for the function plotted:                 4.371\n"
     ]
    },
    {
     "name": "stderr",
     "output_type": "stream",
     "text": [
      " 85%|████████▌ | 85017/100000 [15:02<02:41, 92.80it/s]"
     ]
    },
    {
     "name": "stdout",
     "output_type": "stream",
     "text": [
      "Mean training loss at epoch 85000 :                         3.46\n",
      "Mean Validation loss after 85000 equals                     4.122\n",
      "\n",
      "Validation loss for the function plotted:                 4.122\n"
     ]
    },
    {
     "name": "stderr",
     "output_type": "stream",
     "text": [
      " 86%|████████▌ | 86016/100000 [15:16<02:31, 92.18it/s]"
     ]
    },
    {
     "name": "stdout",
     "output_type": "stream",
     "text": [
      "Mean training loss at epoch 86000 :                         3.817\n",
      "Mean Validation loss after 86000 equals                     4.228\n",
      "\n",
      "Validation loss for the function plotted:                 4.228\n"
     ]
    },
    {
     "name": "stderr",
     "output_type": "stream",
     "text": [
      " 87%|████████▋ | 87013/100000 [15:26<02:10, 99.85it/s] "
     ]
    },
    {
     "name": "stdout",
     "output_type": "stream",
     "text": [
      "Mean training loss at epoch 87000 :                         3.65\n",
      "Mean Validation loss after 87000 equals                     4.101\n",
      "\n",
      "Validation loss for the function plotted:                 4.101\n"
     ]
    },
    {
     "name": "stderr",
     "output_type": "stream",
     "text": [
      " 88%|████████▊ | 88013/100000 [15:46<02:39, 75.02it/s] "
     ]
    },
    {
     "name": "stdout",
     "output_type": "stream",
     "text": [
      "Mean training loss at epoch 88000 :                         3.678\n",
      "Mean Validation loss after 88000 equals                     4.007\n",
      "\n",
      "Validation loss for the function plotted:                 4.007\n"
     ]
    },
    {
     "name": "stderr",
     "output_type": "stream",
     "text": [
      " 89%|████████▉ | 89014/100000 [16:01<02:16, 80.62it/s]"
     ]
    },
    {
     "name": "stdout",
     "output_type": "stream",
     "text": [
      "Mean training loss at epoch 89000 :                         3.621\n",
      "Mean Validation loss after 89000 equals                     4.287\n",
      "\n",
      "Validation loss for the function plotted:                 4.287\n"
     ]
    },
    {
     "name": "stderr",
     "output_type": "stream",
     "text": [
      " 90%|█████████ | 90009/100000 [16:13<03:23, 49.10it/s]"
     ]
    },
    {
     "name": "stdout",
     "output_type": "stream",
     "text": [
      "Mean training loss at epoch 90000 :                         3.479\n",
      "Mean Validation loss after 90000 equals                     5.074\n",
      "\n",
      "Validation loss for the function plotted:                 5.074\n"
     ]
    },
    {
     "name": "stderr",
     "output_type": "stream",
     "text": [
      " 91%|█████████ | 91017/100000 [16:28<01:36, 93.53it/s]"
     ]
    },
    {
     "name": "stdout",
     "output_type": "stream",
     "text": [
      "Mean training loss at epoch 91000 :                         3.688\n",
      "Mean Validation loss after 91000 equals                     4.822\n",
      "\n",
      "Validation loss for the function plotted:                 4.822\n"
     ]
    },
    {
     "name": "stderr",
     "output_type": "stream",
     "text": [
      " 92%|█████████▏| 92007/100000 [16:38<01:27, 91.25it/s]"
     ]
    },
    {
     "name": "stdout",
     "output_type": "stream",
     "text": [
      "Mean training loss at epoch 92000 :                         3.845\n",
      "Mean Validation loss after 92000 equals                     4.018\n",
      "\n",
      "Validation loss for the function plotted:                 4.018\n"
     ]
    },
    {
     "name": "stderr",
     "output_type": "stream",
     "text": [
      " 93%|█████████▎| 93013/100000 [16:49<01:17, 90.71it/s]"
     ]
    },
    {
     "name": "stdout",
     "output_type": "stream",
     "text": [
      "Mean training loss at epoch 93000 :                         3.565\n",
      "Mean Validation loss after 93000 equals                     5.123\n",
      "\n",
      "Validation loss for the function plotted:                 5.123\n"
     ]
    },
    {
     "name": "stderr",
     "output_type": "stream",
     "text": [
      " 94%|█████████▍| 94011/100000 [17:00<01:02, 96.39it/s]"
     ]
    },
    {
     "name": "stdout",
     "output_type": "stream",
     "text": [
      "Mean training loss at epoch 94000 :                         3.748\n",
      "Mean Validation loss after 94000 equals                     4.304\n",
      "\n",
      "Validation loss for the function plotted:                 4.304\n"
     ]
    },
    {
     "name": "stderr",
     "output_type": "stream",
     "text": [
      " 95%|█████████▌| 95011/100000 [17:11<00:54, 92.03it/s] "
     ]
    },
    {
     "name": "stdout",
     "output_type": "stream",
     "text": [
      "Mean training loss at epoch 95000 :                         3.457\n",
      "Mean Validation loss after 95000 equals                     5.15\n",
      "\n",
      "Validation loss for the function plotted:                 5.15\n"
     ]
    },
    {
     "name": "stderr",
     "output_type": "stream",
     "text": [
      " 96%|█████████▌| 96012/100000 [17:21<00:44, 89.93it/s]"
     ]
    },
    {
     "name": "stdout",
     "output_type": "stream",
     "text": [
      "Mean training loss at epoch 96000 :                         3.608\n",
      "Mean Validation loss after 96000 equals                     5.443\n",
      "\n",
      "Validation loss for the function plotted:                 5.443\n"
     ]
    },
    {
     "name": "stderr",
     "output_type": "stream",
     "text": [
      " 97%|█████████▋| 97017/100000 [17:32<00:31, 96.15it/s] "
     ]
    },
    {
     "name": "stdout",
     "output_type": "stream",
     "text": [
      "Mean training loss at epoch 97000 :                         3.362\n",
      "Mean Validation loss after 97000 equals                     4.581\n",
      "\n",
      "Validation loss for the function plotted:                 4.581\n"
     ]
    },
    {
     "name": "stderr",
     "output_type": "stream",
     "text": [
      " 98%|█████████▊| 98015/100000 [17:43<00:22, 88.50it/s]"
     ]
    },
    {
     "name": "stdout",
     "output_type": "stream",
     "text": [
      "Mean training loss at epoch 98000 :                         3.89\n",
      "Mean Validation loss after 98000 equals                     4.599\n",
      "\n",
      "Validation loss for the function plotted:                 4.599\n"
     ]
    },
    {
     "name": "stderr",
     "output_type": "stream",
     "text": [
      " 99%|█████████▉| 99013/100000 [17:54<00:10, 93.53it/s]"
     ]
    },
    {
     "name": "stdout",
     "output_type": "stream",
     "text": [
      "Mean training loss at epoch 99000 :                         3.839\n",
      "Mean Validation loss after 99000 equals                     4.238\n",
      "\n",
      "Validation loss for the function plotted:                 4.238\n"
     ]
    },
    {
     "name": "stderr",
     "output_type": "stream",
     "text": [
      "100%|██████████| 100000/100000 [18:05<00:00, 92.13it/s]\n"
     ]
    },
    {
     "data": {
      "image/png": "[encoded data removed]",
      "text/plain": [
       "<Figure size 432x288 with 1 Axes>"
      ]
     },
     "metadata": {
      "needs_background": "light"
     },
     "output_type": "display_data"
    }
   ],
   "source": [
    "state_dict_encoder, state_dict_decoder, state_dict_aggregator, train_loss, vali_loss = trainer.run_training(\n",
    "    batch_size_train=default_conf['train_kwargs']['batch_size_train'],\n",
    "    batch_size_vali=default_conf['train_kwargs']['batch_size_vali'],\n",
    "    print_after=default_conf['train_kwargs']['print_after'])"
   ]
  },
  {
   "cell_type": "code",
   "execution_count": 9,
   "metadata": {},
   "outputs": [],
   "source": [
    "values = [state_dict_encoder, state_dict_decoder, state_dict_aggregator, train_loss, vali_loss]\n",
    "names = ['encoder', 'decoder', 'aggregator', 'train_loss', 'vali_loss', 'mse']\n",
    "to_save = [(name, value) for name, value in zip(names, values)]\n",
    "directory = os.path.join(BASE_DIR,'experiments/results')\n",
    "\n",
    "\n",
    "Helper.save_results(directory, 'multivariate_polynomial_paper_setting_simple_mean', to_save)"
   ]
  },
  {
   "cell_type": "markdown",
   "metadata": {},
   "source": [
    "## Simple aggregation using the max as aggregation"
   ]
  },
  {
   "cell_type": "code",
   "execution_count": 16,
   "metadata": {
    "colab": {},
    "colab_type": "code",
    "id": "ocjwEeZkEoYM",
    "outputId": "b5f11d8b-1b1e-40a4-d5bc-477b6a3fad5c"
   },
   "outputs": [
    {
     "name": "stderr",
     "output_type": "stream",
     "text": [
      "  0%|          | 0/100000 [00:00<?, ?it/s]"
     ]
    },
    {
     "name": "stdout",
     "output_type": "stream",
     "text": [
      "No GPU available, training on CPU\n",
      "Decoder(\n",
      "  (_process_input): Sequential(\n",
      "    (0): Linear(in_features=129, out_features=128, bias=True)\n",
      "    (1): ReLU()\n",
      "    (2): Linear(in_features=128, out_features=128, bias=True)\n",
      "    (3): ReLU()\n",
      "    (4): Linear(in_features=128, out_features=2, bias=True)\n",
      "  )\n",
      ")\n",
      "Encoder(\n",
      "  (_process_input): Sequential(\n",
      "    (0): Linear(in_features=2, out_features=128, bias=True)\n",
      "    (1): ReLU()\n",
      "    (2): Linear(in_features=128, out_features=128, bias=True)\n",
      "    (3): ReLU()\n",
      "    (4): Linear(in_features=128, out_features=128, bias=True)\n",
      "    (5): ReLU()\n",
      "    (6): Linear(in_features=128, out_features=128, bias=True)\n",
      "  )\n",
      ")\n",
      "None\n",
      "1\n",
      "torch.Size([64, 50, 1])\n",
      "1\n",
      "torch.Size([64, 50, 1])\n",
      "torch.Size([128, 1])\n"
     ]
    },
    {
     "name": "stderr",
     "output_type": "stream",
     "text": [
      "\n"
     ]
    },
    {
     "ename": "AttributeError",
     "evalue": "'torch.return_types.max' object has no attribute 'unsqueeze'",
     "output_type": "error",
     "traceback": [
      "\u001b[0;31m---------------------------------------------------------------------------\u001b[0m",
      "\u001b[0;31mAttributeError\u001b[0m                            Traceback (most recent call last)",
      "\u001b[0;32m<ipython-input-16-ec6fd43e1cbd>\u001b[0m in \u001b[0;36m<module>\u001b[0;34m\u001b[0m\n\u001b[1;32m     21\u001b[0m     \u001b[0mdata_kwargs\u001b[0m\u001b[0;34m=\u001b[0m\u001b[0mdefault_conf\u001b[0m\u001b[0;34m[\u001b[0m\u001b[0;34m'data_kwargs'\u001b[0m\u001b[0;34m]\u001b[0m\u001b[0;34m,\u001b[0m\u001b[0;34m\u001b[0m\u001b[0;34m\u001b[0m\u001b[0m\n\u001b[1;32m     22\u001b[0m     **default_conf['experiment_params'])\n\u001b[0;32m---> 23\u001b[0;31m state_dict_encoder, state_dict_decoder, state_dict_aggregator, train_loss, vali_loss = trainer.run_training(\n\u001b[0m\u001b[1;32m     24\u001b[0m     \u001b[0mbatch_size_train\u001b[0m\u001b[0;34m=\u001b[0m\u001b[0mdefault_conf\u001b[0m\u001b[0;34m[\u001b[0m\u001b[0;34m'train_kwargs'\u001b[0m\u001b[0;34m]\u001b[0m\u001b[0;34m[\u001b[0m\u001b[0;34m'batch_size_train'\u001b[0m\u001b[0;34m]\u001b[0m\u001b[0;34m,\u001b[0m\u001b[0;34m\u001b[0m\u001b[0;34m\u001b[0m\u001b[0m\n\u001b[1;32m     25\u001b[0m     \u001b[0mbatch_size_vali\u001b[0m\u001b[0;34m=\u001b[0m\u001b[0mdefault_conf\u001b[0m\u001b[0;34m[\u001b[0m\u001b[0;34m'train_kwargs'\u001b[0m\u001b[0;34m]\u001b[0m\u001b[0;34m[\u001b[0m\u001b[0;34m'batch_size_vali'\u001b[0m\u001b[0;34m]\u001b[0m\u001b[0;34m,\u001b[0m\u001b[0;34m\u001b[0m\u001b[0;34m\u001b[0m\u001b[0m\n",
      "\u001b[0;32m~/Google Drive/University/UC3M/TFM/cnp_repo/neural-processes/cnp/trainer.py\u001b[0m in \u001b[0;36mrun_training\u001b[0;34m(self, print_after, batch_size_train, batch_size_vali)\u001b[0m\n\u001b[1;32m    245\u001b[0m                 \u001b[0mcontxt_idx\u001b[0m\u001b[0;34m,\u001b[0m \u001b[0mxvalues\u001b[0m\u001b[0;34m,\u001b[0m \u001b[0mfuncvalues\u001b[0m\u001b[0;34m,\u001b[0m \u001b[0mtarget_y\u001b[0m\u001b[0;34m,\u001b[0m \u001b[0mtarget_x\u001b[0m\u001b[0;34m,\u001b[0m \u001b[0mmu\u001b[0m\u001b[0;34m,\u001b[0m\u001b[0;31m \u001b[0m\u001b[0;31m\\\u001b[0m\u001b[0;34m\u001b[0m\u001b[0;34m\u001b[0m\u001b[0m\n\u001b[1;32m    246\u001b[0m                     \u001b[0msigma_transformed\u001b[0m\u001b[0;34m,\u001b[0m \u001b[0mdistribution\u001b[0m \u001b[0;34m=\u001b[0m\u001b[0;31m \u001b[0m\u001b[0;31m\\\u001b[0m\u001b[0;34m\u001b[0m\u001b[0;34m\u001b[0m\u001b[0m\n\u001b[0;32m--> 247\u001b[0;31m                     self._cnp.prep_and_pass(\n\u001b[0m\u001b[1;32m    248\u001b[0m                         xvalues, funcvalues, training=True)\n\u001b[1;32m    249\u001b[0m \u001b[0;34m\u001b[0m\u001b[0m\n",
      "\u001b[0;32m~/Google Drive/University/UC3M/TFM/cnp_repo/neural-processes/cnp/cnp.py\u001b[0m in \u001b[0;36mprep_and_pass\u001b[0;34m(self, xvalues, funcvalues, training)\u001b[0m\n\u001b[1;32m    236\u001b[0m             \u001b[0mself\u001b[0m\u001b[0;34m.\u001b[0m\u001b[0mprep_data\u001b[0m\u001b[0;34m(\u001b[0m\u001b[0mxvalues\u001b[0m\u001b[0;34m,\u001b[0m \u001b[0mfuncvalues\u001b[0m\u001b[0;34m,\u001b[0m \u001b[0mtraining\u001b[0m\u001b[0;34m)\u001b[0m\u001b[0;34m\u001b[0m\u001b[0;34m\u001b[0m\u001b[0m\n\u001b[1;32m    237\u001b[0m \u001b[0;34m\u001b[0m\u001b[0m\n\u001b[0;32m--> 238\u001b[0;31m         mu, sigma_transformed, distribution = self.network_pass(\n\u001b[0m\u001b[1;32m    239\u001b[0m             \u001b[0mcontext_x_stacked\u001b[0m\u001b[0;34m,\u001b[0m \u001b[0mcontext_y_stacked\u001b[0m\u001b[0;34m,\u001b[0m \u001b[0mtarget_x_stacked\u001b[0m\u001b[0;34m,\u001b[0m\u001b[0;34m\u001b[0m\u001b[0;34m\u001b[0m\u001b[0m\n\u001b[1;32m    240\u001b[0m             batch_size, num_trgt, num_contxt)\n",
      "\u001b[0;32m~/Google Drive/University/UC3M/TFM/cnp_repo/neural-processes/cnp/cnp.py\u001b[0m in \u001b[0;36mnetwork_pass\u001b[0;34m(self, context_x_stacked, context_y_stacked, target_x_stacked, batch_size, num_trgt, num_contxt, hidden)\u001b[0m\n\u001b[1;32m    211\u001b[0m                 encoding_batch_view)\n\u001b[1;32m    212\u001b[0m         \u001b[0;32melse\u001b[0m\u001b[0;34m:\u001b[0m\u001b[0;34m\u001b[0m\u001b[0;34m\u001b[0m\u001b[0m\n\u001b[0;32m--> 213\u001b[0;31m             aggregated_enconding = simple_aggregation(\n\u001b[0m\u001b[1;32m    214\u001b[0m                 encoding_batch_view, self.simple_aggregator_type)\n\u001b[1;32m    215\u001b[0m \u001b[0;34m\u001b[0m\u001b[0m\n",
      "\u001b[0;32m~/Google Drive/University/UC3M/TFM/cnp_repo/neural-processes/cnp/networks.py\u001b[0m in \u001b[0;36msimple_aggregation\u001b[0;34m(encoding, aggregation_operation)\u001b[0m\n\u001b[1;32m     38\u001b[0m \u001b[0;34m\u001b[0m\u001b[0m\n\u001b[1;32m     39\u001b[0m \u001b[0;34m\u001b[0m\u001b[0m\n\u001b[0;32m---> 40\u001b[0;31m     \u001b[0maggregated_encoding\u001b[0m \u001b[0;34m=\u001b[0m \u001b[0maggregated_encoding\u001b[0m\u001b[0;34m.\u001b[0m\u001b[0munsqueeze\u001b[0m\u001b[0;34m(\u001b[0m\u001b[0;36m1\u001b[0m\u001b[0;34m)\u001b[0m\u001b[0;34m\u001b[0m\u001b[0;34m\u001b[0m\u001b[0m\n\u001b[0m\u001b[1;32m     41\u001b[0m \u001b[0;34m\u001b[0m\u001b[0m\n\u001b[1;32m     42\u001b[0m     \u001b[0;32mreturn\u001b[0m \u001b[0maggregated_encoding\u001b[0m\u001b[0;34m\u001b[0m\u001b[0;34m\u001b[0m\u001b[0m\n",
      "\u001b[0;31mAttributeError\u001b[0m: 'torch.return_types.max' object has no attribute 'unsqueeze'"
     ]
    }
   ],
   "source": [
    "with open(os.path.join(config_dir,'1d_polynomial_compare_simple_aggregation.json')) as f:\n",
    "    file = f.read()\n",
    "    default_conf = json.loads(file)\n",
    "\n",
    "# checking whether CUDA is available \n",
    "train_on_gpu = torch.cuda.is_available()\n",
    "if(train_on_gpu):\n",
    "    print('Training on GPU!')\n",
    "    default_conf['experiment_params']['train_on_gpu'] = True\n",
    "else: \n",
    "    print('No GPU available, training on CPU')\n",
    "    default_conf['experiment_params']['train_on_gpu'] = False\n",
    "\n",
    "\n",
    "default_conf['cnp_params']['aggregation_kwargs']['simple_aggregator_type'] = 'max'    \n",
    "    \n",
    "    \n",
    "CondNeuralProcess = RegressionCNP(**default_conf['cnp_params'])\n",
    "trainer = RegressionTrainer(\n",
    "    cnp=CondNeuralProcess,\n",
    "    data_kwargs=default_conf['data_kwargs'],\n",
    "    **default_conf['experiment_params'])\n",
    "state_dict_encoder, state_dict_decoder, state_dict_aggregator, train_loss, vali_loss = trainer.run_training(\n",
    "    batch_size_train=default_conf['train_kwargs']['batch_size_train'],\n",
    "    batch_size_vali=default_conf['train_kwargs']['batch_size_vali'],\n",
    "    print_after=default_conf['train_kwargs']['print_after'])"
   ]
  },
  {
   "cell_type": "code",
   "execution_count": 9,
   "metadata": {},
   "outputs": [
    {
     "data": {
      "image/png": "[encoded data removed]",
      "text/plain": [
       "<Figure size 432x288 with 1 Axes>"
      ]
     },
     "metadata": {
      "needs_background": "light"
     },
     "output_type": "display_data"
    },
    {
     "name": "stdout",
     "output_type": "stream",
     "text": [
      "7.093549728393555\n"
     ]
    }
   ],
   "source": [
    "MSE = trainer.run_test(encoder_state_dict=state_dict_encoder,\n",
    "              decoder_state_dict=state_dict_decoder,\n",
    "              aggregator_state_dict=state_dict_aggregator,\n",
    "              batch_size_test=default_conf['train_kwargs']['batch_size_test'])\n",
    "print(MSE)"
   ]
  },
  {
   "cell_type": "code",
   "execution_count": 38,
   "metadata": {},
   "outputs": [],
   "source": [
    "values = [state_dict_encoder, state_dict_decoder, state_dict_aggregator, train_loss, vali_loss]\n",
    "names = ['encoder', 'decoder', 'aggregator', 'train_loss', 'vali_loss', 'mse']\n",
    "to_save = [(name, value) for name, value in zip(names, values)]\n",
    "directory = os.path.join(BASE_DIR,'experiments/results')\n",
    "\n",
    "\n",
    "Helper.save_results(directory, '1d_polynomial_paper_setting_simple_sum', to_save)"
   ]
  },
  {
   "cell_type": "markdown",
   "metadata": {},
   "source": [
    "## Simple aggregation using the sum operation  as aggregation"
   ]
  },
  {
   "cell_type": "code",
   "execution_count": 13,
   "metadata": {
    "scrolled": false
   },
   "outputs": [
    {
     "name": "stderr",
     "output_type": "stream",
     "text": [
      "\r",
      "  0%|          | 0/100000 [00:00<?, ?it/s]"
     ]
    },
    {
     "name": "stdout",
     "output_type": "stream",
     "text": [
      "No GPU available, training on CPU\n",
      "Decoder(\n",
      "  (_process_input): Sequential(\n",
      "    (0): Linear(in_features=129, out_features=128, bias=True)\n",
      "    (1): ReLU()\n",
      "    (2): Linear(in_features=128, out_features=128, bias=True)\n",
      "    (3): ReLU()\n",
      "    (4): Linear(in_features=128, out_features=2, bias=True)\n",
      "  )\n",
      ")\n",
      "Encoder(\n",
      "  (_process_input): Sequential(\n",
      "    (0): Linear(in_features=2, out_features=128, bias=True)\n",
      "    (1): ReLU()\n",
      "    (2): Linear(in_features=128, out_features=128, bias=True)\n",
      "    (3): ReLU()\n",
      "    (4): Linear(in_features=128, out_features=128, bias=True)\n",
      "    (5): ReLU()\n",
      "    (6): Linear(in_features=128, out_features=128, bias=True)\n",
      "  )\n",
      ")\n",
      "None\n",
      "torch.Size([64, 50, 1])\n",
      "torch.Size([64, 50, 1])\n",
      "torch.Size([192, 1])\n",
      "Mean training loss at epoch 0 :                         124717.508\n",
      "torch.Size([35, 1])\n",
      "Mean Validation loss after 0 equals                     37158.93\n",
      "\n",
      "Validation loss for the function plotted:                 37158.93\n"
     ]
    },
    {
     "data": {
      "image/png": "[encoded data removed]",
      "text/plain": [
       "<Figure size 432x288 with 1 Axes>"
      ]
     },
     "metadata": {
      "needs_background": "light"
     },
     "output_type": "display_data"
    },
    {
     "name": "stderr",
     "output_type": "stream",
     "text": [
      "  0%|          | 12/100000 [00:00<5:16:46,  5.26it/s]"
     ]
    },
    {
     "name": "stdout",
     "output_type": "stream",
     "text": [
      "torch.Size([64, 50, 1])\n",
      "torch.Size([64, 50, 1])\n",
      "torch.Size([256, 1])\n",
      "torch.Size([64, 50, 1])\n",
      "torch.Size([64, 50, 1])\n",
      "torch.Size([448, 1])\n",
      "torch.Size([64, 50, 1])\n",
      "torch.Size([64, 50, 1])\n",
      "torch.Size([192, 1])\n",
      "torch.Size([64, 50, 1])\n",
      "torch.Size([64, 50, 1])\n",
      "torch.Size([192, 1])\n",
      "torch.Size([64, 50, 1])\n",
      "torch.Size([64, 50, 1])\n",
      "torch.Size([192, 1])\n",
      "torch.Size([64, 50, 1])\n",
      "torch.Size([64, 50, 1])\n",
      "torch.Size([256, 1])\n",
      "torch.Size([64, 50, 1])\n",
      "torch.Size([64, 50, 1])\n",
      "torch.Size([256, 1])\n",
      "torch.Size([64, 50, 1])\n",
      "torch.Size([64, 50, 1])\n",
      "torch.Size([192, 1])\n",
      "torch.Size([64, 50, 1])\n",
      "torch.Size([64, 50, 1])\n",
      "torch.Size([256, 1])\n",
      "torch.Size([64, 50, 1])\n",
      "torch.Size([64, 50, 1])\n",
      "torch.Size([256, 1])\n",
      "torch.Size([64, 50, 1])\n",
      "torch.Size([64, 50, 1])\n",
      "torch.Size([512, 1])\n",
      "torch.Size([64, 50, 1])\n",
      "torch.Size([64, 50, 1])\n",
      "torch.Size([448, 1])\n",
      "torch.Size([64, 50, 1])\n",
      "torch.Size([64, 50, 1])\n",
      "torch.Size([192, 1])\n",
      "torch.Size([64, 50, 1])\n",
      "torch.Size([64, 50, 1])\n",
      "torch.Size([192, 1])\n",
      "torch.Size([64, 50, 1])\n",
      "torch.Size([64, 50, 1])\n",
      "torch.Size([320, 1])\n",
      "torch.Size([64, 50, 1])\n",
      "torch.Size([64, 50, 1])\n",
      "torch.Size([320, 1])\n",
      "torch.Size([64, 50, 1])\n",
      "torch.Size([64, 50, 1])\n",
      "torch.Size([256, 1])\n",
      "torch.Size([64, 50, 1])\n",
      "torch.Size([64, 50, 1])\n",
      "torch.Size([384, 1])\n",
      "torch.Size([64, 50, 1])\n",
      "torch.Size([64, 50, 1])\n",
      "torch.Size([256, 1])\n",
      "torch.Size([64, 50, 1])\n",
      "torch.Size([64, 50, 1])\n",
      "torch.Size([320, 1])\n",
      "torch.Size([64, 50, 1])\n",
      "torch.Size([64, 50, 1])\n"
     ]
    },
    {
     "name": "stderr",
     "output_type": "stream",
     "text": [
      "  0%|          | 31/100000 [00:00<2:45:51, 10.05it/s]"
     ]
    },
    {
     "name": "stdout",
     "output_type": "stream",
     "text": [
      "torch.Size([256, 1])\n",
      "torch.Size([64, 50, 1])\n",
      "torch.Size([64, 50, 1])\n",
      "torch.Size([192, 1])\n",
      "torch.Size([64, 50, 1])\n",
      "torch.Size([64, 50, 1])\n",
      "torch.Size([448, 1])\n",
      "torch.Size([64, 50, 1])\n",
      "torch.Size([64, 50, 1])\n",
      "torch.Size([320, 1])\n",
      "torch.Size([64, 50, 1])\n",
      "torch.Size([64, 50, 1])\n",
      "torch.Size([192, 1])\n",
      "torch.Size([64, 50, 1])\n",
      "torch.Size([64, 50, 1])\n",
      "torch.Size([320, 1])\n",
      "torch.Size([64, 50, 1])\n",
      "torch.Size([64, 50, 1])\n",
      "torch.Size([256, 1])\n",
      "torch.Size([64, 50, 1])\n",
      "torch.Size([64, 50, 1])\n",
      "torch.Size([448, 1])\n",
      "torch.Size([64, 50, 1])\n",
      "torch.Size([64, 50, 1])\n",
      "torch.Size([128, 1])\n",
      "torch.Size([64, 50, 1])\n",
      "torch.Size([64, 50, 1])\n",
      "torch.Size([320, 1])\n",
      "torch.Size([64, 50, 1])\n",
      "torch.Size([64, 50, 1])\n",
      "torch.Size([384, 1])\n",
      "torch.Size([64, 50, 1])\n",
      "torch.Size([64, 50, 1])\n",
      "torch.Size([384, 1])\n",
      "torch.Size([64, 50, 1])\n",
      "torch.Size([64, 50, 1])\n",
      "torch.Size([320, 1])\n",
      "torch.Size([64, 50, 1])\n",
      "torch.Size([64, 50, 1])\n",
      "torch.Size([192, 1])\n",
      "torch.Size([64, 50, 1])\n",
      "torch.Size([64, 50, 1])\n",
      "torch.Size([320, 1])\n",
      "torch.Size([64, 50, 1])\n",
      "torch.Size([64, 50, 1])\n",
      "torch.Size([128, 1])\n",
      "torch.Size([64, 50, 1])"
     ]
    },
    {
     "name": "stderr",
     "output_type": "stream",
     "text": [
      "  0%|          | 51/100000 [00:00<1:29:56, 18.52it/s]"
     ]
    },
    {
     "name": "stdout",
     "output_type": "stream",
     "text": [
      "\n",
      "torch.Size([64, 50, 1])\n",
      "torch.Size([192, 1])\n",
      "torch.Size([64, 50, 1])\n",
      "torch.Size([64, 50, 1])\n",
      "torch.Size([256, 1])\n",
      "torch.Size([64, 50, 1])\n",
      "torch.Size([64, 50, 1])\n",
      "torch.Size([256, 1])\n",
      "torch.Size([64, 50, 1])\n",
      "torch.Size([64, 50, 1])\n",
      "torch.Size([512, 1])\n",
      "torch.Size([64, 50, 1])\n",
      "torch.Size([64, 50, 1])\n",
      "torch.Size([256, 1])\n",
      "torch.Size([64, 50, 1])\n",
      "torch.Size([64, 50, 1])\n",
      "torch.Size([192, 1])\n",
      "torch.Size([64, 50, 1])\n",
      "torch.Size([64, 50, 1])\n",
      "torch.Size([256, 1])\n",
      "torch.Size([64, 50, 1])\n",
      "torch.Size([64, 50, 1])\n",
      "torch.Size([256, 1])\n",
      "torch.Size([64, 50, 1])\n",
      "torch.Size([64, 50, 1])\n",
      "torch.Size([576, 1])\n",
      "torch.Size([64, 50, 1])\n",
      "torch.Size([64, 50, 1])\n",
      "torch.Size([384, 1])\n",
      "torch.Size([64, 50, 1])\n",
      "torch.Size([64, 50, 1])\n",
      "torch.Size([128, 1])\n",
      "torch.Size([64, 50, 1])\n",
      "torch.Size([64, 50, 1])\n",
      "torch.Size([512, 1])\n",
      "torch.Size([64, 50, 1])\n",
      "torch.Size([64, 50, 1])\n",
      "torch.Size([128, 1])\n",
      "torch.Size([64, 50, 1])\n",
      "torch.Size([64, 50, 1])\n",
      "torch.Size([448, 1])\n",
      "torch.Size([64, 50, 1])\n",
      "torch.Size([64, 50, 1])\n",
      "torch.Size([256, 1])\n",
      "torch.Size([64, 50, 1])\n",
      "torch.Size([64, 50, 1])\n",
      "torch.Size([320, 1])\n",
      "torch.Size([64, 50, 1])\n",
      "torch.Size([64, 50, 1])\n",
      "torch.Size([448, 1])\n",
      "torch.Size([64, 50, 1])\n",
      "torch.Size([64, 50, 1])\n",
      "torch.Size([512, 1])\n",
      "torch.Size([64, 50, 1])\n",
      "torch.Size([64, 50, 1])\n",
      "torch.Size([256, 1])\n",
      "torch.Size([64, 50, 1])\n",
      "torch.Size([64, 50, 1])\n",
      "torch.Size([192, 1])\n",
      "torch.Size([64, 50, 1])\n",
      "torch.Size([64, 50, 1])\n",
      "torch.Size([128, 1])\n"
     ]
    },
    {
     "name": "stderr",
     "output_type": "stream",
     "text": [
      "  0%|          | 71/100000 [00:01<52:47, 31.54it/s]  "
     ]
    },
    {
     "name": "stdout",
     "output_type": "stream",
     "text": [
      "torch.Size([64, 50, 1])\n",
      "torch.Size([64, 50, 1])\n",
      "torch.Size([256, 1])\n",
      "torch.Size([64, 50, 1])\n",
      "torch.Size([64, 50, 1])\n",
      "torch.Size([256, 1])\n",
      "torch.Size([64, 50, 1])\n",
      "torch.Size([64, 50, 1])\n",
      "torch.Size([128, 1])\n",
      "torch.Size([64, 50, 1])\n",
      "torch.Size([64, 50, 1])\n",
      "torch.Size([192, 1])\n",
      "torch.Size([64, 50, 1])\n",
      "torch.Size([64, 50, 1])\n",
      "torch.Size([192, 1])\n",
      "torch.Size([64, 50, 1])\n",
      "torch.Size([64, 50, 1])\n",
      "torch.Size([192, 1])\n",
      "torch.Size([64, 50, 1])\n",
      "torch.Size([64, 50, 1])\n",
      "torch.Size([320, 1])\n",
      "torch.Size([64, 50, 1])\n",
      "torch.Size([64, 50, 1])\n",
      "torch.Size([192, 1])\n",
      "torch.Size([64, 50, 1])\n",
      "torch.Size([64, 50, 1])\n",
      "torch.Size([448, 1])\n",
      "torch.Size([64, 50, 1])\n",
      "torch.Size([64, 50, 1])\n",
      "torch.Size([256, 1])\n",
      "torch.Size([64, 50, 1])\n",
      "torch.Size([64, 50, 1])\n",
      "torch.Size([384, 1])\n",
      "torch.Size([64, 50, 1])\n",
      "torch.Size([64, 50, 1])\n",
      "torch.Size([448, 1])\n",
      "torch.Size([64, 50, 1])\n",
      "torch.Size([64, 50, 1])\n",
      "torch.Size([256, 1])\n",
      "torch.Size([64, 50, 1])\n",
      "torch.Size([64, 50, 1])\n",
      "torch.Size([448, 1])\n",
      "torch.Size([64, 50, 1])\n",
      "torch.Size([64, 50, 1])\n",
      "torch.Size([192, 1])\n",
      "torch.Size([64, 50, 1])\n",
      "torch.Size([64, 50, 1])\n",
      "torch.Size([448, 1])\n",
      "torch.Size([64, 50, 1])\n",
      "torch.Size([64, 50, 1])\n",
      "torch.Size([384, 1])\n",
      "torch.Size([64, 50, 1])\n",
      "torch.Size([64, 50, 1])\n",
      "torch.Size([256, 1])\n",
      "torch.Size([64, 50, 1])\n",
      "torch.Size([64, 50, 1])\n",
      "torch.Size([256, 1])\n",
      "torch.Size([64, 50, 1])\n",
      "torch.Size([64, 50, 1])\n",
      "torch.Size([256, 1])\n"
     ]
    },
    {
     "name": "stderr",
     "output_type": "stream",
     "text": [
      "  0%|          | 91/100000 [00:01<35:35, 46.78it/s]"
     ]
    },
    {
     "name": "stdout",
     "output_type": "stream",
     "text": [
      "torch.Size([64, 50, 1])\n",
      "torch.Size([64, 50, 1])\n",
      "torch.Size([448, 1])\n",
      "torch.Size([64, 50, 1])\n",
      "torch.Size([64, 50, 1])\n",
      "torch.Size([384, 1])\n",
      "torch.Size([64, 50, 1])\n",
      "torch.Size([64, 50, 1])\n",
      "torch.Size([128, 1])\n",
      "torch.Size([64, 50, 1])\n",
      "torch.Size([64, 50, 1])\n",
      "torch.Size([448, 1])\n",
      "torch.Size([64, 50, 1])\n",
      "torch.Size([64, 50, 1])\n",
      "torch.Size([192, 1])\n",
      "torch.Size([64, 50, 1])\n",
      "torch.Size([64, 50, 1])\n",
      "torch.Size([384, 1])\n",
      "torch.Size([64, 50, 1])\n",
      "torch.Size([64, 50, 1])\n",
      "torch.Size([384, 1])\n",
      "torch.Size([64, 50, 1])\n",
      "torch.Size([64, 50, 1])\n",
      "torch.Size([512, 1])\n",
      "torch.Size([64, 50, 1])\n",
      "torch.Size([64, 50, 1])\n",
      "torch.Size([192, 1])\n",
      "torch.Size([64, 50, 1])\n",
      "torch.Size([64, 50, 1])\n",
      "torch.Size([320, 1])\n",
      "torch.Size([64, 50, 1])\n",
      "torch.Size([64, 50, 1])\n",
      "torch.Size([384, 1])\n",
      "torch.Size([64, 50, 1])\n",
      "torch.Size([64, 50, 1])\n",
      "torch.Size([448, 1])\n",
      "torch.Size([64, 50, 1])\n",
      "torch.Size([64, 50, 1])\n",
      "torch.Size([384, 1])\n",
      "torch.Size([64, 50, 1])\n",
      "torch.Size([64, 50, 1])\n",
      "torch.Size([192, 1])\n",
      "torch.Size([64, 50, 1])\n",
      "torch.Size([64, 50, 1])\n",
      "torch.Size([192, 1])\n",
      "torch.Size([64, 50, 1])\n",
      "torch.Size([64, 50, 1])\n",
      "torch.Size([448, 1])\n",
      "torch.Size([64, 50, 1])\n",
      "torch.Size([64, 50, 1])\n",
      "torch.Size([128, 1])\n",
      "torch.Size([64, 50, 1])\n",
      "torch.Size([64, 50, 1])\n",
      "torch.Size([192, 1])\n",
      "torch.Size([64, 50, 1])\n",
      "torch.Size([64, 50, 1])\n",
      "torch.Size([128, 1])\n",
      "torch.Size([64, 50, 1])\n",
      "torch.Size([64, 50, 1])\n",
      "torch.Size([320, 1])\n",
      "torch.Size([64, 50, 1])\n",
      "torch.Size([64, 50, 1])\n",
      "torch.Size([128, 1])\n",
      "torch.Size([64, 50, 1])\n",
      "torch.Size([64, 50, 1])\n",
      "torch.Size([576, 1])\n",
      "torch.Size([64, 50, 1])\n",
      "torch.Size([64, 50, 1])\n",
      "torch.Size([512, 1])\n",
      "Mean training loss at epoch 100 :                         6.444\n",
      "torch.Size([30, 1])\n",
      "Mean Validation loss after 100 equals                     6.647\n",
      "\n",
      "Validation loss for the function plotted:                 6.647\n"
     ]
    },
    {
     "data": {
      "image/png": "[encoded data removed]",
      "text/plain": [
       "<Figure size 432x288 with 1 Axes>"
      ]
     },
     "metadata": {
      "needs_background": "light"
     },
     "output_type": "display_data"
    },
    {
     "name": "stderr",
     "output_type": "stream",
     "text": [
      "  0%|          | 110/100000 [00:01<33:03, 50.37it/s]"
     ]
    },
    {
     "name": "stdout",
     "output_type": "stream",
     "text": [
      "torch.Size([64, 50, 1])\n",
      "torch.Size([64, 50, 1])\n",
      "torch.Size([192, 1])\n",
      "torch.Size([64, 50, 1])\n",
      "torch.Size([64, 50, 1])\n",
      "torch.Size([256, 1])\n",
      "torch.Size([64, 50, 1])\n",
      "torch.Size([64, 50, 1])\n",
      "torch.Size([256, 1])\n",
      "torch.Size([64, 50, 1])\n",
      "torch.Size([64, 50, 1])\n",
      "torch.Size([128, 1])\n",
      "torch.Size([64, 50, 1])\n",
      "torch.Size([64, 50, 1])\n",
      "torch.Size([256, 1])\n",
      "torch.Size([64, 50, 1])\n",
      "torch.Size([64, 50, 1])\n",
      "torch.Size([192, 1])\n",
      "torch.Size([64, 50, 1])\n",
      "torch.Size([64, 50, 1])\n",
      "torch.Size([320, 1])\n",
      "torch.Size([64, 50, 1])\n",
      "torch.Size([64, 50, 1])\n",
      "torch.Size([320, 1])\n",
      "torch.Size([64, 50, 1])\n",
      "torch.Size([64, 50, 1])\n",
      "torch.Size([128, 1])\n",
      "torch.Size([64, 50, 1])\n",
      "torch.Size([64, 50, 1])\n",
      "torch.Size([256, 1])\n",
      "torch.Size([64, 50, 1])\n",
      "torch.Size([64, 50, 1])\n",
      "torch.Size([384, 1])\n",
      "torch.Size([64, 50, 1])\n",
      "torch.Size([64, 50, 1])\n",
      "torch.Size([256, 1])\n",
      "torch.Size([64, 50, 1])\n",
      "torch.Size([64, 50, 1])\n",
      "torch.Size([256, 1])\n",
      "torch.Size([64, 50, 1])\n",
      "torch.Size([64, 50, 1])\n",
      "torch.Size([384, 1])\n",
      "torch.Size([64, 50, 1])\n",
      "torch.Size([64, 50, 1])\n",
      "torch.Size([320, 1])\n",
      "torch.Size([64, 50, 1])\n",
      "torch.Size([64, 50, 1])\n",
      "torch.Size([512, 1])\n",
      "torch.Size([64, 50, 1])\n",
      "torch.Size([64, 50, 1])\n",
      "torch.Size([448, 1])\n"
     ]
    },
    {
     "name": "stderr",
     "output_type": "stream",
     "text": [
      "  0%|          | 128/100000 [00:01<25:48, 64.50it/s]"
     ]
    },
    {
     "name": "stdout",
     "output_type": "stream",
     "text": [
      "torch.Size([64, 50, 1])\n",
      "torch.Size([64, 50, 1])\n",
      "torch.Size([192, 1])\n",
      "torch.Size([64, 50, 1])\n",
      "torch.Size([64, 50, 1])\n",
      "torch.Size([256, 1])\n",
      "torch.Size([64, 50, 1])\n",
      "torch.Size([64, 50, 1])\n",
      "torch.Size([192, 1])\n",
      "torch.Size([64, 50, 1])\n",
      "torch.Size([64, 50, 1])\n",
      "torch.Size([192, 1])\n",
      "torch.Size([64, 50, 1])\n",
      "torch.Size([64, 50, 1])\n",
      "torch.Size([128, 1])\n",
      "torch.Size([64, 50, 1])\n",
      "torch.Size([64, 50, 1])\n",
      "torch.Size([128, 1])\n",
      "torch.Size([64, 50, 1])\n",
      "torch.Size([64, 50, 1])\n",
      "torch.Size([192, 1])\n",
      "torch.Size([64, 50, 1])\n",
      "torch.Size([64, 50, 1])\n",
      "torch.Size([192, 1])\n",
      "torch.Size([64, 50, 1])\n",
      "torch.Size([64, 50, 1])\n",
      "torch.Size([128, 1])\n",
      "torch.Size([64, 50, 1])\n",
      "torch.Size([64, 50, 1])\n",
      "torch.Size([256, 1])\n",
      "torch.Size([64, 50, 1])\n",
      "torch.Size([64, 50, 1])\n",
      "torch.Size([384, 1])\n",
      "torch.Size([64, 50, 1])\n",
      "torch.Size([64, 50, 1])\n",
      "torch.Size([320, 1])\n",
      "torch.Size([64, 50, 1])\n",
      "torch.Size([64, 50, 1])\n",
      "torch.Size([320, 1])\n",
      "torch.Size([64, 50, 1])\n",
      "torch.Size([64, 50, 1])\n",
      "torch.Size([192, 1])\n",
      "torch.Size([64, 50, 1])\n",
      "torch.Size([64, 50, 1])\n",
      "torch.Size([320, 1])\n",
      "torch.Size([64, 50, 1])\n",
      "torch.Size([64, 50, 1])\n",
      "torch.Size([192, 1])\n",
      "torch.Size([64, 50, 1])\n",
      "torch.Size([64, 50, 1])\n",
      "torch.Size([128, 1])\n",
      "torch.Size([64, 50, 1])\n",
      "torch.Size([64, 50, 1])\n",
      "torch.Size([384, 1])\n",
      "torch.Size([64, 50, 1])\n"
     ]
    },
    {
     "name": "stderr",
     "output_type": "stream",
     "text": [
      "\r",
      "  0%|          | 137/100000 [00:02<28:07, 59.18it/s]"
     ]
    },
    {
     "name": "stdout",
     "output_type": "stream",
     "text": [
      "torch.Size([64, 50, 1])\n",
      "torch.Size([512, 1])\n",
      "torch.Size([64, 50, 1])\n",
      "torch.Size([64, 50, 1])\n",
      "torch.Size([256, 1])\n",
      "torch.Size([64, 50, 1])\n",
      "torch.Size([64, 50, 1])\n",
      "torch.Size([192, 1])\n",
      "torch.Size([64, 50, 1])\n",
      "torch.Size([64, 50, 1])\n",
      "torch.Size([256, 1])\n",
      "torch.Size([64, 50, 1])\n",
      "torch.Size([64, 50, 1])\n",
      "torch.Size([448, 1])\n",
      "torch.Size([64, 50, 1])\n",
      "torch.Size([64, 50, 1])\n",
      "torch.Size([256, 1])\n",
      "torch.Size([64, 50, 1])\n",
      "torch.Size([64, 50, 1])\n",
      "torch.Size([192, 1])\n",
      "torch.Size([64, 50, 1])\n",
      "torch.Size([64, 50, 1])\n",
      "torch.Size([192, 1])\n"
     ]
    },
    {
     "name": "stderr",
     "output_type": "stream",
     "text": [
      "  0%|          | 152/100000 [00:02<28:28, 58.45it/s]"
     ]
    },
    {
     "name": "stdout",
     "output_type": "stream",
     "text": [
      "torch.Size([64, 50, 1])\n",
      "torch.Size([64, 50, 1])\n",
      "torch.Size([512, 1])\n",
      "torch.Size([64, 50, 1])\n",
      "torch.Size([64, 50, 1])\n",
      "torch.Size([384, 1])\n",
      "torch.Size([64, 50, 1])\n",
      "torch.Size([64, 50, 1])\n",
      "torch.Size([448, 1])\n",
      "torch.Size([64, 50, 1])\n",
      "torch.Size([64, 50, 1])\n",
      "torch.Size([384, 1])\n",
      "torch.Size([64, 50, 1])\n",
      "torch.Size([64, 50, 1])\n",
      "torch.Size([192, 1])\n",
      "torch.Size([64, 50, 1])\n",
      "torch.Size([64, 50, 1])\n",
      "torch.Size([192, 1])\n",
      "torch.Size([64, 50, 1])\n",
      "torch.Size([64, 50, 1])\n",
      "torch.Size([384, 1])\n",
      "torch.Size([64, 50, 1])\n",
      "torch.Size([64, 50, 1])\n",
      "torch.Size([384, 1])\n",
      "torch.Size([64, 50, 1])\n",
      "torch.Size([64, 50, 1])\n",
      "torch.Size([512, 1])\n",
      "torch.Size([64, 50, 1])\n",
      "torch.Size([64, 50, 1])\n",
      "torch.Size([128, 1])\n",
      "torch.Size([64, 50, 1])\n",
      "torch.Size([64, 50, 1])\n",
      "torch.Size([256, 1])\n"
     ]
    },
    {
     "name": "stderr",
     "output_type": "stream",
     "text": [
      "  0%|          | 166/100000 [00:02<28:49, 57.72it/s]"
     ]
    },
    {
     "name": "stdout",
     "output_type": "stream",
     "text": [
      "torch.Size([64, 50, 1])\n",
      "torch.Size([64, 50, 1])\n",
      "torch.Size([256, 1])\n",
      "torch.Size([64, 50, 1])\n",
      "torch.Size([64, 50, 1])\n",
      "torch.Size([448, 1])\n",
      "torch.Size([64, 50, 1])\n",
      "torch.Size([64, 50, 1])\n",
      "torch.Size([192, 1])\n",
      "torch.Size([64, 50, 1])\n",
      "torch.Size([64, 50, 1])\n",
      "torch.Size([320, 1])\n",
      "torch.Size([64, 50, 1])\n",
      "torch.Size([64, 50, 1])\n",
      "torch.Size([256, 1])\n",
      "torch.Size([64, 50, 1])\n",
      "torch.Size([64, 50, 1])\n",
      "torch.Size([384, 1])\n",
      "torch.Size([64, 50, 1])\n",
      "torch.Size([64, 50, 1])\n",
      "torch.Size([192, 1])\n",
      "torch.Size([64, 50, 1])\n",
      "torch.Size([64, 50, 1])\n",
      "torch.Size([256, 1])\n",
      "torch.Size([64, 50, 1])\n",
      "torch.Size([64, 50, 1])\n",
      "torch.Size([256, 1])\n",
      "torch.Size([64, 50, 1])\n",
      "torch.Size([64, 50, 1])\n",
      "torch.Size([320, 1])\n",
      "torch.Size([64, 50, 1])\n",
      "torch.Size([64, 50, 1])\n",
      "torch.Size([448, 1])\n",
      "torch.Size([64, 50, 1])\n",
      "torch.Size([64, 50, 1])\n",
      "torch.Size([384, 1])\n",
      "torch.Size([64, 50, 1])\n",
      "torch.Size([64, 50, 1])\n",
      "torch.Size([256, 1])\n"
     ]
    },
    {
     "name": "stderr",
     "output_type": "stream",
     "text": [
      "  0%|          | 182/100000 [00:02<25:38, 64.89it/s]"
     ]
    },
    {
     "name": "stdout",
     "output_type": "stream",
     "text": [
      "torch.Size([64, 50, 1])\n",
      "torch.Size([64, 50, 1])\n",
      "torch.Size([448, 1])\n",
      "torch.Size([64, 50, 1])\n",
      "torch.Size([64, 50, 1])\n",
      "torch.Size([256, 1])\n",
      "torch.Size([64, 50, 1])\n",
      "torch.Size([64, 50, 1])\n",
      "torch.Size([384, 1])\n",
      "torch.Size([64, 50, 1])\n",
      "torch.Size([64, 50, 1])\n",
      "torch.Size([256, 1])\n",
      "torch.Size([64, 50, 1])\n",
      "torch.Size([64, 50, 1])\n",
      "torch.Size([256, 1])\n",
      "torch.Size([64, 50, 1])\n",
      "torch.Size([64, 50, 1])\n",
      "torch.Size([256, 1])\n",
      "torch.Size([64, 50, 1])\n",
      "torch.Size([64, 50, 1])\n",
      "torch.Size([384, 1])\n",
      "torch.Size([64, 50, 1])\n",
      "torch.Size([64, 50, 1])\n",
      "torch.Size([384, 1])\n",
      "torch.Size([64, 50, 1])\n",
      "torch.Size([64, 50, 1])\n",
      "torch.Size([320, 1])\n",
      "torch.Size([64, 50, 1])\n",
      "torch.Size([64, 50, 1])\n",
      "torch.Size([384, 1])\n",
      "torch.Size([64, 50, 1])\n",
      "torch.Size([64, 50, 1])\n",
      "torch.Size([192, 1])\n",
      "torch.Size([64, 50, 1])\n",
      "torch.Size([64, 50, 1])\n",
      "torch.Size([192, 1])\n",
      "torch.Size([64, 50, 1])\n",
      "torch.Size([64, 50, 1])\n",
      "torch.Size([384, 1])\n",
      "torch.Size([64, 50, 1])\n",
      "torch.Size([64, 50, 1])\n",
      "torch.Size([576, 1])\n",
      "torch.Size([64, 50, 1])\n",
      "torch.Size([64, 50, 1])\n",
      "torch.Size([320, 1])\n"
     ]
    },
    {
     "name": "stderr",
     "output_type": "stream",
     "text": [
      "\r",
      "  0%|          | 191/100000 [00:02<23:53, 69.64it/s]"
     ]
    },
    {
     "name": "stdout",
     "output_type": "stream",
     "text": [
      "torch.Size([64, 50, 1])\n",
      "torch.Size([64, 50, 1])\n",
      "torch.Size([576, 1])\n",
      "torch.Size([64, 50, 1])\n",
      "torch.Size([64, 50, 1])\n",
      "torch.Size([448, 1])\n",
      "torch.Size([64, 50, 1])\n",
      "torch.Size([64, 50, 1])\n",
      "torch.Size([512, 1])\n",
      "torch.Size([64, 50, 1])\n",
      "torch.Size([64, 50, 1])\n",
      "torch.Size([384, 1])\n",
      "torch.Size([64, 50, 1])\n",
      "torch.Size([64, 50, 1])\n",
      "torch.Size([256, 1])\n",
      "torch.Size([64, 50, 1])\n",
      "torch.Size([64, 50, 1])\n",
      "torch.Size([192, 1])\n",
      "torch.Size([64, 50, 1])\n",
      "torch.Size([64, 50, 1])\n",
      "torch.Size([192, 1])\n",
      "torch.Size([64, 50, 1])\n",
      "torch.Size([64, 50, 1])\n",
      "torch.Size([384, 1])\n",
      "torch.Size([64, 50, 1])\n",
      "torch.Size([64, 50, 1])\n",
      "torch.Size([512, 1])\n",
      "torch.Size([64, 50, 1])\n",
      "torch.Size([64, 50, 1])\n",
      "torch.Size([256, 1])\n",
      "torch.Size([64, 50, 1])\n",
      "torch.Size([64, 50, 1])\n",
      "torch.Size([384, 1])\n",
      "torch.Size([64, 50, 1])\n",
      "torch.Size([64, 50, 1])\n",
      "torch.Size([128, 1])\n",
      "torch.Size([64, 50, 1])\n",
      "torch.Size([64, 50, 1])\n",
      "torch.Size([128, 1])\n",
      "torch.Size([64, 50, 1])\n",
      "torch.Size([64, 50, 1])\n",
      "torch.Size([320, 1])\n",
      "torch.Size([64, 50, 1])\n",
      "torch.Size([64, 50, 1])\n",
      "torch.Size([384, 1])\n",
      "torch.Size([64, 50, 1])\n",
      "torch.Size([64, 50, 1])\n",
      "torch.Size([448, 1])\n",
      "torch.Size([64, 50, 1])\n",
      "torch.Size([64, 50, 1])\n",
      "torch.Size([128, 1])\n",
      "torch.Size([64, 50, 1])\n",
      "torch.Size([64, 50, 1])\n",
      "torch.Size([192, 1])\n",
      "Mean training loss at epoch 200 :                         5.693\n",
      "torch.Size([10, 1])\n",
      "Mean Validation loss after 200 equals                     46.232\n",
      "\n",
      "Validation loss for the function plotted:                 46.232\n"
     ]
    },
    {
     "data": {
      "image/png": "[encoded data removed]",
      "text/plain": [
       "<Figure size 432x288 with 1 Axes>"
      ]
     },
     "metadata": {
      "needs_background": "light"
     },
     "output_type": "display_data"
    },
    {
     "name": "stderr",
     "output_type": "stream",
     "text": [
      "  0%|          | 221/100000 [00:03<24:59, 66.54it/s]"
     ]
    },
    {
     "name": "stdout",
     "output_type": "stream",
     "text": [
      "torch.Size([64, 50, 1])\n",
      "torch.Size([64, 50, 1])\n",
      "torch.Size([512, 1])\n",
      "torch.Size([64, 50, 1])\n",
      "torch.Size([64, 50, 1])\n",
      "torch.Size([320, 1])\n",
      "torch.Size([64, 50, 1])\n",
      "torch.Size([64, 50, 1])\n",
      "torch.Size([128, 1])\n",
      "torch.Size([64, 50, 1])\n",
      "torch.Size([64, 50, 1])\n",
      "torch.Size([128, 1])\n",
      "torch.Size([64, 50, 1])\n",
      "torch.Size([64, 50, 1])\n",
      "torch.Size([128, 1])\n",
      "torch.Size([64, 50, 1])\n",
      "torch.Size([64, 50, 1])\n",
      "torch.Size([320, 1])\n",
      "torch.Size([64, 50, 1])\n",
      "torch.Size([64, 50, 1])\n",
      "torch.Size([192, 1])\n",
      "torch.Size([64, 50, 1])\n",
      "torch.Size([64, 50, 1])\n",
      "torch.Size([320, 1])\n",
      "torch.Size([64, 50, 1])\n",
      "torch.Size([64, 50, 1])\n",
      "torch.Size([256, 1])\n",
      "torch.Size([64, 50, 1])\n",
      "torch.Size([64, 50, 1])\n",
      "torch.Size([320, 1])\n",
      "torch.Size([64, 50, 1])\n",
      "torch.Size([64, 50, 1])\n",
      "torch.Size([192, 1])\n",
      "torch.Size([64, 50, 1])\n",
      "torch.Size([64, 50, 1])\n",
      "torch.Size([192, 1])\n",
      "torch.Size([64, 50, 1])\n",
      "torch.Size([64, 50, 1])\n",
      "torch.Size([384, 1])\n",
      "torch.Size([64, 50, 1])\n",
      "torch.Size([64, 50, 1])\n",
      "torch.Size([256, 1])\n",
      "torch.Size([64, 50, 1])\n",
      "torch.Size([64, 50, 1])\n",
      "torch.Size([512, 1])\n",
      "torch.Size([64, 50, 1])\n",
      "torch.Size([64, 50, 1])\n",
      "torch.Size([192, 1])\n",
      "torch.Size([64, 50, 1])\n",
      "torch.Size([64, 50, 1])\n",
      "torch.Size([192, 1])\n",
      "torch.Size([64, 50, 1])\n",
      "torch.Size([64, 50, 1])\n",
      "torch.Size([256, 1])\n",
      "torch.Size([64, 50, 1])\n",
      "torch.Size([64, 50, 1])\n",
      "torch.Size([384, 1])\n",
      "torch.Size([64, 50, 1])\n",
      "torch.Size([64, 50, 1])\n",
      "torch.Size([192, 1])\n"
     ]
    },
    {
     "name": "stderr",
     "output_type": "stream",
     "text": [
      "\r",
      "  0%|          | 229/100000 [00:03<23:45, 70.00it/s]"
     ]
    },
    {
     "name": "stdout",
     "output_type": "stream",
     "text": [
      "torch.Size([64, 50, 1])\n",
      "torch.Size([64, 50, 1])\n",
      "torch.Size([256, 1])\n",
      "torch.Size([64, 50, 1])\n",
      "torch.Size([64, 50, 1])\n",
      "torch.Size([192, 1])\n",
      "torch.Size([64, 50, 1])\n",
      "torch.Size([64, 50, 1])\n",
      "torch.Size([256, 1])\n",
      "torch.Size([64, 50, 1])\n",
      "torch.Size([64, 50, 1])\n",
      "torch.Size([448, 1])\n",
      "torch.Size([64, 50, 1])\n",
      "torch.Size([64, 50, 1])\n",
      "torch.Size([384, 1])\n",
      "torch.Size([64, 50, 1])\n",
      "torch.Size([64, 50, 1])\n",
      "torch.Size([448, 1])\n",
      "torch.Size([64, 50, 1])\n",
      "torch.Size([64, 50, 1])\n",
      "torch.Size([256, 1])\n",
      "torch.Size([64, 50, 1])\n",
      "torch.Size([64, 50, 1])\n",
      "torch.Size([256, 1])\n",
      "torch.Size([64, 50, 1])\n",
      "torch.Size([64, 50, 1])\n",
      "torch.Size([512, 1])\n",
      "torch.Size([64, 50, 1])\n",
      "torch.Size([64, 50, 1])\n",
      "torch.Size([448, 1])\n",
      "torch.Size([64, 50, 1])\n",
      "torch.Size([64, 50, 1])\n",
      "torch.Size([384, 1])\n",
      "torch.Size([64, 50, 1])\n",
      "torch.Size([64, 50, 1])\n",
      "torch.Size([320, 1])\n",
      "torch.Size([64, 50, 1])\n",
      "torch.Size([64, 50, 1])\n",
      "torch.Size([320, 1])\n",
      "torch.Size([64, 50, 1])\n",
      "torch.Size([64, 50, 1])\n",
      "torch.Size([512, 1])\n",
      "torch.Size([64, 50, 1])\n",
      "torch.Size([64, 50, 1])\n",
      "torch.Size([256, 1])\n",
      "torch.Size([64, 50, 1])\n",
      "torch.Size([64, 50, 1])\n",
      "torch.Size([128, 1])\n",
      "torch.Size([64, 50, 1])\n",
      "torch.Size([64, 50, 1])\n",
      "torch.Size([256, 1])\n",
      "torch.Size([64, 50, 1])\n",
      "torch.Size([64, 50, 1])\n",
      "torch.Size([384, 1])\n"
     ]
    },
    {
     "name": "stderr",
     "output_type": "stream",
     "text": [
      "  0%|          | 250/100000 [00:03<20:15, 82.08it/s]"
     ]
    },
    {
     "name": "stdout",
     "output_type": "stream",
     "text": [
      "torch.Size([64, 50, 1])\n",
      "torch.Size([64, 50, 1])\n",
      "torch.Size([192, 1])\n",
      "torch.Size([64, 50, 1])\n",
      "torch.Size([64, 50, 1])\n",
      "torch.Size([192, 1])\n",
      "torch.Size([64, 50, 1])\n",
      "torch.Size([64, 50, 1])\n",
      "torch.Size([192, 1])\n",
      "torch.Size([64, 50, 1])\n",
      "torch.Size([64, 50, 1])\n",
      "torch.Size([128, 1])\n",
      "torch.Size([64, 50, 1])\n",
      "torch.Size([64, 50, 1])\n",
      "torch.Size([256, 1])\n",
      "torch.Size([64, 50, 1])\n",
      "torch.Size([64, 50, 1])\n",
      "torch.Size([384, 1])\n",
      "torch.Size([64, 50, 1])\n",
      "torch.Size([64, 50, 1])\n",
      "torch.Size([320, 1])\n",
      "torch.Size([64, 50, 1])\n",
      "torch.Size([64, 50, 1])\n",
      "torch.Size([256, 1])\n",
      "torch.Size([64, 50, 1])\n",
      "torch.Size([64, 50, 1])\n",
      "torch.Size([448, 1])\n",
      "torch.Size([64, 50, 1])\n",
      "torch.Size([64, 50, 1])\n",
      "torch.Size([256, 1])\n",
      "torch.Size([64, 50, 1])\n",
      "torch.Size([64, 50, 1])\n",
      "torch.Size([320, 1])\n",
      "torch.Size([64, 50, 1])\n",
      "torch.Size([64, 50, 1])\n",
      "torch.Size([320, 1])\n",
      "torch.Size([64, 50, 1])\n",
      "torch.Size([64, 50, 1])\n",
      "torch.Size([128, 1])\n",
      "torch.Size([64, 50, 1])\n",
      "torch.Size([64, 50, 1])\n",
      "torch.Size([320, 1])\n",
      "torch.Size([64, 50, 1])\n",
      "torch.Size([64, 50, 1])\n",
      "torch.Size([128, 1])\n",
      "torch.Size([64, 50, 1])\n",
      "torch.Size([64, 50, 1])\n",
      "torch.Size([256, 1])\n",
      "torch.Size([64, 50, 1])\n",
      "torch.Size([64, 50, 1])\n",
      "torch.Size([448, 1])\n",
      "torch.Size([64, 50, 1])\n",
      "torch.Size([64, 50, 1])\n",
      "torch.Size([320, 1])\n",
      "torch.Size([64, 50, 1])\n",
      "torch.Size([64, 50, 1])\n",
      "torch.Size([128, 1])\n",
      "torch.Size([64, 50, 1])\n",
      "torch.Size([64, 50, 1])\n",
      "torch.Size([384, 1])\n",
      "torch.Size([64, 50, 1])\n",
      "torch.Size([64, 50, 1])\n",
      "torch.Size([320, 1])\n",
      "torch.Size([64, 50, 1])\n",
      "torch.Size([64, 50, 1])\n",
      "torch.Size([192, 1])\n",
      "torch.Size([64, 50, 1])\n",
      "torch.Size([64, 50, 1])\n",
      "torch.Size([320, 1])\n"
     ]
    },
    {
     "name": "stderr",
     "output_type": "stream",
     "text": [
      "  0%|          | 272/100000 [00:03<18:10, 91.41it/s]"
     ]
    },
    {
     "name": "stdout",
     "output_type": "stream",
     "text": [
      "torch.Size([64, 50, 1])\n",
      "torch.Size([64, 50, 1])\n",
      "torch.Size([256, 1])\n",
      "torch.Size([64, 50, 1])\n",
      "torch.Size([64, 50, 1])\n",
      "torch.Size([256, 1])\n",
      "torch.Size([64, 50, 1])\n",
      "torch.Size([64, 50, 1])\n",
      "torch.Size([512, 1])\n",
      "torch.Size([64, 50, 1])\n",
      "torch.Size([64, 50, 1])\n",
      "torch.Size([320, 1])\n",
      "torch.Size([64, 50, 1])\n",
      "torch.Size([64, 50, 1])\n",
      "torch.Size([256, 1])\n",
      "torch.Size([64, 50, 1])\n",
      "torch.Size([64, 50, 1])\n",
      "torch.Size([128, 1])\n",
      "torch.Size([64, 50, 1])\n",
      "torch.Size([64, 50, 1])\n",
      "torch.Size([192, 1])\n",
      "torch.Size([64, 50, 1])\n",
      "torch.Size([64, 50, 1])\n",
      "torch.Size([448, 1])\n",
      "torch.Size([64, 50, 1])\n",
      "torch.Size([64, 50, 1])\n",
      "torch.Size([256, 1])\n",
      "torch.Size([64, 50, 1])\n",
      "torch.Size([64, 50, 1])\n",
      "torch.Size([192, 1])\n",
      "torch.Size([64, 50, 1])\n",
      "torch.Size([64, 50, 1])\n",
      "torch.Size([320, 1])\n",
      "torch.Size([64, 50, 1])\n",
      "torch.Size([64, 50, 1])\n",
      "torch.Size([256, 1])\n",
      "torch.Size([64, 50, 1])\n",
      "torch.Size([64, 50, 1])\n",
      "torch.Size([128, 1])\n",
      "torch.Size([64, 50, 1])\n",
      "torch.Size([64, 50, 1])\n",
      "torch.Size([192, 1])\n",
      "torch.Size([64, 50, 1])\n",
      "torch.Size([64, 50, 1])\n",
      "torch.Size([256, 1])\n",
      "torch.Size([64, 50, 1])\n",
      "torch.Size([64, 50, 1])\n",
      "torch.Size([448, 1])\n",
      "torch.Size([64, 50, 1])\n",
      "torch.Size([64, 50, 1])\n",
      "torch.Size([576, 1])\n",
      "torch.Size([64, 50, 1])\n",
      "torch.Size([64, 50, 1])\n",
      "torch.Size([256, 1])\n",
      "torch.Size([64, 50, 1])\n",
      "torch.Size([64, 50, 1])\n",
      "torch.Size([128, 1])\n",
      "torch.Size([64, 50, 1])\n",
      "torch.Size([64, 50, 1])\n",
      "torch.Size([384, 1])\n",
      "torch.Size([64, 50, 1])\n"
     ]
    },
    {
     "name": "stderr",
     "output_type": "stream",
     "text": [
      "  0%|          | 293/100000 [00:04<18:20, 90.64it/s]"
     ]
    },
    {
     "name": "stdout",
     "output_type": "stream",
     "text": [
      "torch.Size([64, 50, 1])\n",
      "torch.Size([256, 1])\n",
      "torch.Size([64, 50, 1])\n",
      "torch.Size([64, 50, 1])\n",
      "torch.Size([192, 1])\n",
      "torch.Size([64, 50, 1])\n",
      "torch.Size([64, 50, 1])\n",
      "torch.Size([384, 1])\n",
      "torch.Size([64, 50, 1])\n",
      "torch.Size([64, 50, 1])\n",
      "torch.Size([192, 1])\n",
      "torch.Size([64, 50, 1])\n",
      "torch.Size([64, 50, 1])\n",
      "torch.Size([256, 1])\n",
      "torch.Size([64, 50, 1])\n",
      "torch.Size([64, 50, 1])\n",
      "torch.Size([448, 1])\n",
      "torch.Size([64, 50, 1])\n",
      "torch.Size([64, 50, 1])\n",
      "torch.Size([192, 1])\n",
      "torch.Size([64, 50, 1])\n",
      "torch.Size([64, 50, 1])\n",
      "torch.Size([320, 1])\n",
      "torch.Size([64, 50, 1])\n",
      "torch.Size([64, 50, 1])\n",
      "torch.Size([320, 1])\n",
      "torch.Size([64, 50, 1])\n",
      "torch.Size([64, 50, 1])\n",
      "torch.Size([256, 1])\n",
      "torch.Size([64, 50, 1])\n",
      "torch.Size([64, 50, 1])\n",
      "torch.Size([256, 1])\n",
      "torch.Size([64, 50, 1])\n",
      "torch.Size([64, 50, 1])\n",
      "torch.Size([512, 1])\n",
      "torch.Size([64, 50, 1])\n",
      "torch.Size([64, 50, 1])\n",
      "torch.Size([320, 1])\n",
      "torch.Size([64, 50, 1])\n",
      "torch.Size([64, 50, 1])\n",
      "torch.Size([256, 1])\n",
      "torch.Size([64, 50, 1])\n",
      "torch.Size([64, 50, 1])\n",
      "torch.Size([384, 1])\n",
      "torch.Size([64, 50, 1])\n",
      "torch.Size([64, 50, 1])\n",
      "torch.Size([128, 1])\n",
      "torch.Size([64, 50, 1])\n",
      "torch.Size([64, 50, 1])\n",
      "torch.Size([192, 1])\n",
      "torch.Size([64, 50, 1])\n",
      "torch.Size([64, 50, 1])\n",
      "torch.Size([192, 1])\n",
      "torch.Size([64, 50, 1])\n",
      "torch.Size([64, 50, 1])\n",
      "torch.Size([256, 1])\n",
      "Mean training loss at epoch 300 :                         8.336\n",
      "torch.Size([15, 1])\n",
      "Mean Validation loss after 300 equals                     7.585\n",
      "\n",
      "Validation loss for the function plotted:                 7.585\n"
     ]
    },
    {
     "data": {
      "image/png": "[encoded data removed]",
      "text/plain": [
       "<Figure size 432x288 with 1 Axes>"
      ]
     },
     "metadata": {
      "needs_background": "light"
     },
     "output_type": "display_data"
    },
    {
     "name": "stderr",
     "output_type": "stream",
     "text": [
      "  0%|          | 313/100000 [00:04<25:15, 65.76it/s]"
     ]
    },
    {
     "name": "stdout",
     "output_type": "stream",
     "text": [
      "torch.Size([64, 50, 1])\n",
      "torch.Size([64, 50, 1])\n",
      "torch.Size([192, 1])\n",
      "torch.Size([64, 50, 1])\n",
      "torch.Size([64, 50, 1])\n",
      "torch.Size([192, 1])\n",
      "torch.Size([64, 50, 1])\n",
      "torch.Size([64, 50, 1])\n",
      "torch.Size([192, 1])\n",
      "torch.Size([64, 50, 1])\n",
      "torch.Size([64, 50, 1])\n",
      "torch.Size([448, 1])\n",
      "torch.Size([64, 50, 1])\n",
      "torch.Size([64, 50, 1])\n",
      "torch.Size([512, 1])\n",
      "torch.Size([64, 50, 1])\n",
      "torch.Size([64, 50, 1])\n",
      "torch.Size([256, 1])\n",
      "torch.Size([64, 50, 1])\n",
      "torch.Size([64, 50, 1])\n",
      "torch.Size([320, 1])\n",
      "torch.Size([64, 50, 1])\n",
      "torch.Size([64, 50, 1])\n",
      "torch.Size([320, 1])\n",
      "torch.Size([64, 50, 1])\n",
      "torch.Size([64, 50, 1])\n",
      "torch.Size([448, 1])\n",
      "torch.Size([64, 50, 1])\n",
      "torch.Size([64, 50, 1])\n",
      "torch.Size([512, 1])\n",
      "torch.Size([64, 50, 1])\n",
      "torch.Size([64, 50, 1])\n",
      "torch.Size([384, 1])\n",
      "torch.Size([64, 50, 1])\n",
      "torch.Size([64, 50, 1])\n",
      "torch.Size([256, 1])\n",
      "torch.Size([64, 50, 1])\n",
      "torch.Size([64, 50, 1])\n",
      "torch.Size([384, 1])\n",
      "torch.Size([64, 50, 1])\n",
      "torch.Size([64, 50, 1])\n",
      "torch.Size([448, 1])\n",
      "torch.Size([64, 50, 1])\n",
      "torch.Size([64, 50, 1])\n",
      "torch.Size([320, 1])\n",
      "torch.Size([64, 50, 1])\n",
      "torch.Size([64, 50, 1])\n",
      "torch.Size([384, 1])\n",
      "torch.Size([64, 50, 1])\n",
      "torch.Size([64, 50, 1])\n",
      "torch.Size([192, 1])\n",
      "torch.Size([64, 50, 1])\n",
      "torch.Size([64, 50, 1])\n",
      "torch.Size([448, 1])\n",
      "torch.Size([64, 50, 1])\n",
      "torch.Size([64, 50, 1])\n",
      "torch.Size([192, 1])\n",
      "torch.Size([64, 50, 1])\n"
     ]
    },
    {
     "name": "stderr",
     "output_type": "stream",
     "text": [
      "  0%|          | 331/100000 [00:04<22:23, 74.20it/s]"
     ]
    },
    {
     "name": "stdout",
     "output_type": "stream",
     "text": [
      "torch.Size([64, 50, 1])\n",
      "torch.Size([128, 1])\n",
      "torch.Size([64, 50, 1])\n",
      "torch.Size([64, 50, 1])\n",
      "torch.Size([192, 1])\n",
      "torch.Size([64, 50, 1])\n",
      "torch.Size([64, 50, 1])\n",
      "torch.Size([512, 1])\n",
      "torch.Size([64, 50, 1])\n",
      "torch.Size([64, 50, 1])\n",
      "torch.Size([320, 1])\n",
      "torch.Size([64, 50, 1])\n",
      "torch.Size([64, 50, 1])\n",
      "torch.Size([128, 1])\n",
      "torch.Size([64, 50, 1])\n",
      "torch.Size([64, 50, 1])\n",
      "torch.Size([256, 1])\n",
      "torch.Size([64, 50, 1])\n",
      "torch.Size([64, 50, 1])\n",
      "torch.Size([256, 1])\n",
      "torch.Size([64, 50, 1])\n",
      "torch.Size([64, 50, 1])\n",
      "torch.Size([448, 1])\n",
      "torch.Size([64, 50, 1])\n",
      "torch.Size([64, 50, 1])\n",
      "torch.Size([192, 1])\n",
      "torch.Size([64, 50, 1])\n",
      "torch.Size([64, 50, 1])\n",
      "torch.Size([320, 1])\n",
      "torch.Size([64, 50, 1])\n",
      "torch.Size([64, 50, 1])\n",
      "torch.Size([384, 1])\n",
      "torch.Size([64, 50, 1])\n",
      "torch.Size([64, 50, 1])\n",
      "torch.Size([320, 1])\n",
      "torch.Size([64, 50, 1])\n",
      "torch.Size([64, 50, 1])\n",
      "torch.Size([384, 1])\n",
      "torch.Size([64, 50, 1])\n",
      "torch.Size([64, 50, 1])\n",
      "torch.Size([384, 1])\n",
      "torch.Size([64, 50, 1])\n",
      "torch.Size([64, 50, 1])\n",
      "torch.Size([320, 1])\n",
      "torch.Size([64, 50, 1])\n",
      "torch.Size([64, 50, 1])\n",
      "torch.Size([448, 1])\n",
      "torch.Size([64, 50, 1])\n",
      "torch.Size([64, 50, 1])\n",
      "torch.Size([256, 1])\n",
      "torch.Size([64, 50, 1])\n",
      "torch.Size([64, 50, 1])\n",
      "torch.Size([448, 1])\n",
      "torch.Size([64, 50, 1])\n",
      "torch.Size([64, 50, 1])\n",
      "torch.Size([320, 1])\n"
     ]
    },
    {
     "name": "stderr",
     "output_type": "stream",
     "text": [
      "  0%|          | 354/100000 [00:04<18:35, 89.32it/s]"
     ]
    },
    {
     "name": "stdout",
     "output_type": "stream",
     "text": [
      "torch.Size([64, 50, 1])\n",
      "torch.Size([64, 50, 1])\n",
      "torch.Size([192, 1])\n",
      "torch.Size([64, 50, 1])\n",
      "torch.Size([64, 50, 1])\n",
      "torch.Size([512, 1])\n",
      "torch.Size([64, 50, 1])\n",
      "torch.Size([64, 50, 1])\n",
      "torch.Size([384, 1])\n",
      "torch.Size([64, 50, 1])\n",
      "torch.Size([64, 50, 1])\n",
      "torch.Size([192, 1])\n",
      "torch.Size([64, 50, 1])\n",
      "torch.Size([64, 50, 1])\n",
      "torch.Size([192, 1])\n",
      "torch.Size([64, 50, 1])\n",
      "torch.Size([64, 50, 1])\n",
      "torch.Size([192, 1])\n",
      "torch.Size([64, 50, 1])\n",
      "torch.Size([64, 50, 1])\n",
      "torch.Size([256, 1])\n",
      "torch.Size([64, 50, 1])\n",
      "torch.Size([64, 50, 1])\n",
      "torch.Size([192, 1])\n",
      "torch.Size([64, 50, 1])\n",
      "torch.Size([64, 50, 1])\n",
      "torch.Size([128, 1])\n",
      "torch.Size([64, 50, 1])\n",
      "torch.Size([64, 50, 1])\n",
      "torch.Size([256, 1])\n",
      "torch.Size([64, 50, 1])\n",
      "torch.Size([64, 50, 1])\n",
      "torch.Size([384, 1])\n",
      "torch.Size([64, 50, 1])\n",
      "torch.Size([64, 50, 1])\n",
      "torch.Size([192, 1])\n",
      "torch.Size([64, 50, 1])\n",
      "torch.Size([64, 50, 1])\n",
      "torch.Size([320, 1])\n",
      "torch.Size([64, 50, 1])\n",
      "torch.Size([64, 50, 1])\n",
      "torch.Size([384, 1])\n",
      "torch.Size([64, 50, 1])\n",
      "torch.Size([64, 50, 1])\n",
      "torch.Size([192, 1])\n",
      "torch.Size([64, 50, 1])\n",
      "torch.Size([64, 50, 1])\n",
      "torch.Size([448, 1])\n",
      "torch.Size([64, 50, 1])\n",
      "torch.Size([64, 50, 1])\n",
      "torch.Size([384, 1])\n",
      "torch.Size([64, 50, 1])\n",
      "torch.Size([64, 50, 1])\n",
      "torch.Size([128, 1])\n",
      "torch.Size([64, 50, 1])\n",
      "torch.Size([64, 50, 1])\n",
      "torch.Size([448, 1])\n",
      "torch.Size([64, 50, 1])\n",
      "torch.Size([64, 50, 1])\n",
      "torch.Size([320, 1])\n",
      "torch.Size([64, 50, 1])\n",
      "torch.Size([64, 50, 1])\n",
      "torch.Size([192, 1])\n",
      "torch.Size([64, 50, 1])\n",
      "torch.Size([64, 50, 1])\n",
      "torch.Size([192, 1])\n",
      "torch.Size([64, 50, 1])\n"
     ]
    },
    {
     "name": "stderr",
     "output_type": "stream",
     "text": [
      "  0%|          | 376/100000 [00:05<17:03, 97.32it/s]"
     ]
    },
    {
     "name": "stdout",
     "output_type": "stream",
     "text": [
      "torch.Size([64, 50, 1])\n",
      "torch.Size([384, 1])\n",
      "torch.Size([64, 50, 1])\n",
      "torch.Size([64, 50, 1])\n",
      "torch.Size([256, 1])\n",
      "torch.Size([64, 50, 1])\n",
      "torch.Size([64, 50, 1])\n",
      "torch.Size([256, 1])\n",
      "torch.Size([64, 50, 1])\n",
      "torch.Size([64, 50, 1])\n",
      "torch.Size([256, 1])\n",
      "torch.Size([64, 50, 1])\n",
      "torch.Size([64, 50, 1])\n",
      "torch.Size([256, 1])\n",
      "torch.Size([64, 50, 1])\n",
      "torch.Size([64, 50, 1])\n",
      "torch.Size([192, 1])\n",
      "torch.Size([64, 50, 1])\n",
      "torch.Size([64, 50, 1])\n",
      "torch.Size([448, 1])\n",
      "torch.Size([64, 50, 1])\n",
      "torch.Size([64, 50, 1])\n",
      "torch.Size([512, 1])\n",
      "torch.Size([64, 50, 1])\n",
      "torch.Size([64, 50, 1])\n",
      "torch.Size([256, 1])\n",
      "torch.Size([64, 50, 1])\n",
      "torch.Size([64, 50, 1])\n",
      "torch.Size([448, 1])\n",
      "torch.Size([64, 50, 1])\n",
      "torch.Size([64, 50, 1])\n",
      "torch.Size([384, 1])\n",
      "torch.Size([64, 50, 1])\n",
      "torch.Size([64, 50, 1])\n",
      "torch.Size([128, 1])\n",
      "torch.Size([64, 50, 1])\n",
      "torch.Size([64, 50, 1])\n",
      "torch.Size([192, 1])\n",
      "torch.Size([64, 50, 1])\n",
      "torch.Size([64, 50, 1])\n",
      "torch.Size([320, 1])\n",
      "torch.Size([64, 50, 1])\n",
      "torch.Size([64, 50, 1])\n",
      "torch.Size([192, 1])\n",
      "torch.Size([64, 50, 1])\n",
      "torch.Size([64, 50, 1])\n",
      "torch.Size([512, 1])\n",
      "torch.Size([64, 50, 1])\n",
      "torch.Size([64, 50, 1])\n",
      "torch.Size([320, 1])\n",
      "torch.Size([64, 50, 1])\n",
      "torch.Size([64, 50, 1])\n",
      "torch.Size([512, 1])\n",
      "torch.Size([64, 50, 1])\n",
      "torch.Size([64, 50, 1])\n",
      "torch.Size([384, 1])\n",
      "torch.Size([64, 50, 1])\n",
      "torch.Size([64, 50, 1])\n",
      "torch.Size([256, 1])\n",
      "torch.Size([64, 50, 1])\n",
      "torch.Size([64, 50, 1])\n",
      "torch.Size([128, 1])\n",
      "torch.Size([64, 50, 1])\n"
     ]
    },
    {
     "name": "stderr",
     "output_type": "stream",
     "text": [
      "  0%|          | 398/100000 [00:05<16:49, 98.71it/s]"
     ]
    },
    {
     "name": "stdout",
     "output_type": "stream",
     "text": [
      "torch.Size([64, 50, 1])\n",
      "torch.Size([192, 1])\n",
      "torch.Size([64, 50, 1])\n",
      "torch.Size([64, 50, 1])\n",
      "torch.Size([448, 1])\n",
      "torch.Size([64, 50, 1])\n",
      "torch.Size([64, 50, 1])\n",
      "torch.Size([448, 1])\n",
      "torch.Size([64, 50, 1])\n",
      "torch.Size([64, 50, 1])\n",
      "torch.Size([128, 1])\n",
      "torch.Size([64, 50, 1])\n",
      "torch.Size([64, 50, 1])\n",
      "torch.Size([256, 1])\n",
      "torch.Size([64, 50, 1])\n",
      "torch.Size([64, 50, 1])\n",
      "torch.Size([320, 1])\n",
      "torch.Size([64, 50, 1])\n",
      "torch.Size([64, 50, 1])\n",
      "torch.Size([320, 1])\n",
      "torch.Size([64, 50, 1])\n",
      "torch.Size([64, 50, 1])\n",
      "torch.Size([320, 1])\n",
      "torch.Size([64, 50, 1])\n",
      "torch.Size([64, 50, 1])\n",
      "torch.Size([256, 1])\n",
      "torch.Size([64, 50, 1])\n",
      "torch.Size([64, 50, 1])\n",
      "torch.Size([384, 1])\n",
      "torch.Size([64, 50, 1])\n",
      "torch.Size([64, 50, 1])\n",
      "torch.Size([384, 1])\n",
      "torch.Size([64, 50, 1])\n",
      "torch.Size([64, 50, 1])\n",
      "torch.Size([448, 1])\n",
      "torch.Size([64, 50, 1])\n",
      "torch.Size([64, 50, 1])\n",
      "torch.Size([320, 1])\n",
      "torch.Size([64, 50, 1])\n",
      "torch.Size([64, 50, 1])\n",
      "torch.Size([192, 1])\n",
      "torch.Size([64, 50, 1])\n",
      "torch.Size([64, 50, 1])\n",
      "torch.Size([384, 1])\n",
      "torch.Size([64, 50, 1])\n",
      "torch.Size([64, 50, 1])\n",
      "torch.Size([192, 1])\n",
      "torch.Size([64, 50, 1])\n",
      "torch.Size([64, 50, 1])\n",
      "torch.Size([448, 1])\n",
      "torch.Size([64, 50, 1])\n",
      "torch.Size([64, 50, 1])\n",
      "torch.Size([256, 1])\n",
      "torch.Size([64, 50, 1])\n",
      "torch.Size([64, 50, 1])\n",
      "torch.Size([192, 1])\n",
      "Mean training loss at epoch 400 :                         6.783\n",
      "torch.Size([25, 1])\n",
      "Mean Validation loss after 400 equals                     7.66\n",
      "\n",
      "Validation loss for the function plotted:                 7.66\n"
     ]
    },
    {
     "data": {
      "image/png": "[encoded data removed]",
      "text/plain": [
       "<Figure size 432x288 with 1 Axes>"
      ]
     },
     "metadata": {
      "needs_background": "light"
     },
     "output_type": "display_data"
    },
    {
     "name": "stderr",
     "output_type": "stream",
     "text": [
      "  0%|          | 420/100000 [00:05<21:57, 75.57it/s]"
     ]
    },
    {
     "name": "stdout",
     "output_type": "stream",
     "text": [
      "torch.Size([64, 50, 1])\n",
      "torch.Size([64, 50, 1])\n",
      "torch.Size([256, 1])\n",
      "torch.Size([64, 50, 1])\n",
      "torch.Size([64, 50, 1])\n",
      "torch.Size([192, 1])\n",
      "torch.Size([64, 50, 1])\n",
      "torch.Size([64, 50, 1])\n",
      "torch.Size([448, 1])\n",
      "torch.Size([64, 50, 1])\n",
      "torch.Size([64, 50, 1])\n",
      "torch.Size([512, 1])\n",
      "torch.Size([64, 50, 1])\n",
      "torch.Size([64, 50, 1])\n",
      "torch.Size([320, 1])\n",
      "torch.Size([64, 50, 1])\n",
      "torch.Size([64, 50, 1])\n",
      "torch.Size([320, 1])\n",
      "torch.Size([64, 50, 1])\n",
      "torch.Size([64, 50, 1])\n",
      "torch.Size([128, 1])\n",
      "torch.Size([64, 50, 1])\n",
      "torch.Size([64, 50, 1])\n",
      "torch.Size([384, 1])\n",
      "torch.Size([64, 50, 1])\n",
      "torch.Size([64, 50, 1])\n",
      "torch.Size([384, 1])\n",
      "torch.Size([64, 50, 1])\n",
      "torch.Size([64, 50, 1])\n",
      "torch.Size([320, 1])\n",
      "torch.Size([64, 50, 1])\n",
      "torch.Size([64, 50, 1])\n",
      "torch.Size([448, 1])\n",
      "torch.Size([64, 50, 1])\n",
      "torch.Size([64, 50, 1])\n",
      "torch.Size([192, 1])\n",
      "torch.Size([64, 50, 1])\n",
      "torch.Size([64, 50, 1])\n",
      "torch.Size([448, 1])\n",
      "torch.Size([64, 50, 1])\n",
      "torch.Size([64, 50, 1])\n",
      "torch.Size([192, 1])\n",
      "torch.Size([64, 50, 1])\n",
      "torch.Size([64, 50, 1])\n",
      "torch.Size([256, 1])\n",
      "torch.Size([64, 50, 1])\n",
      "torch.Size([64, 50, 1])\n",
      "torch.Size([512, 1])\n",
      "torch.Size([64, 50, 1])\n",
      "torch.Size([64, 50, 1])\n",
      "torch.Size([256, 1])\n",
      "torch.Size([64, 50, 1])\n",
      "torch.Size([64, 50, 1])\n",
      "torch.Size([192, 1])\n",
      "torch.Size([64, 50, 1])\n",
      "torch.Size([64, 50, 1])\n",
      "torch.Size([256, 1])\n",
      "torch.Size([64, 50, 1])\n",
      "torch.Size([64, 50, 1])\n",
      "torch.Size([384, 1])\n",
      "torch.Size([64, 50, 1])\n",
      "torch.Size([64, 50, 1])\n",
      "torch.Size([512, 1])\n"
     ]
    },
    {
     "name": "stderr",
     "output_type": "stream",
     "text": [
      "  0%|          | 442/100000 [00:06<18:49, 88.12it/s]"
     ]
    },
    {
     "name": "stdout",
     "output_type": "stream",
     "text": [
      "torch.Size([64, 50, 1])\n",
      "torch.Size([64, 50, 1])\n",
      "torch.Size([384, 1])\n",
      "torch.Size([64, 50, 1])\n",
      "torch.Size([64, 50, 1])\n",
      "torch.Size([192, 1])\n",
      "torch.Size([64, 50, 1])\n",
      "torch.Size([64, 50, 1])\n",
      "torch.Size([512, 1])\n",
      "torch.Size([64, 50, 1])\n",
      "torch.Size([64, 50, 1])\n",
      "torch.Size([128, 1])\n",
      "torch.Size([64, 50, 1])\n",
      "torch.Size([64, 50, 1])\n",
      "torch.Size([192, 1])\n",
      "torch.Size([64, 50, 1])\n",
      "torch.Size([64, 50, 1])\n",
      "torch.Size([256, 1])\n",
      "torch.Size([64, 50, 1])\n",
      "torch.Size([64, 50, 1])\n",
      "torch.Size([576, 1])\n",
      "torch.Size([64, 50, 1])\n",
      "torch.Size([64, 50, 1])\n",
      "torch.Size([256, 1])\n",
      "torch.Size([64, 50, 1])\n",
      "torch.Size([64, 50, 1])\n",
      "torch.Size([384, 1])\n",
      "torch.Size([64, 50, 1])\n",
      "torch.Size([64, 50, 1])\n",
      "torch.Size([128, 1])\n",
      "torch.Size([64, 50, 1])\n",
      "torch.Size([64, 50, 1])\n",
      "torch.Size([384, 1])\n",
      "torch.Size([64, 50, 1])\n",
      "torch.Size([64, 50, 1])\n",
      "torch.Size([256, 1])\n",
      "torch.Size([64, 50, 1])\n",
      "torch.Size([64, 50, 1])\n",
      "torch.Size([512, 1])\n",
      "torch.Size([64, 50, 1])\n",
      "torch.Size([64, 50, 1])\n",
      "torch.Size([192, 1])\n",
      "torch.Size([64, 50, 1])\n",
      "torch.Size([64, 50, 1])\n",
      "torch.Size([576, 1])\n",
      "torch.Size([64, 50, 1])\n",
      "torch.Size([64, 50, 1])\n",
      "torch.Size([256, 1])\n",
      "torch.Size([64, 50, 1])\n",
      "torch.Size([64, 50, 1])\n",
      "torch.Size([448, 1])\n",
      "torch.Size([64, 50, 1])\n",
      "torch.Size([64, 50, 1])\n",
      "torch.Size([128, 1])\n",
      "torch.Size([64, 50, 1])\n",
      "torch.Size([64, 50, 1])\n",
      "torch.Size([256, 1])\n",
      "torch.Size([64, 50, 1])\n",
      "torch.Size([64, 50, 1])\n",
      "torch.Size([192, 1])\n",
      "torch.Size([64, 50, 1])\n",
      "torch.Size([64, 50, 1])\n",
      "torch.Size([128, 1])\n",
      "torch.Size([64, 50, 1])\n",
      "torch.Size([64, 50, 1])\n",
      "torch.Size([192, 1])\n"
     ]
    },
    {
     "name": "stderr",
     "output_type": "stream",
     "text": [
      "  0%|          | 466/100000 [00:06<16:45, 98.95it/s]"
     ]
    },
    {
     "name": "stdout",
     "output_type": "stream",
     "text": [
      "torch.Size([64, 50, 1])\n",
      "torch.Size([64, 50, 1])\n",
      "torch.Size([128, 1])\n",
      "torch.Size([64, 50, 1])\n",
      "torch.Size([64, 50, 1])\n",
      "torch.Size([320, 1])\n",
      "torch.Size([64, 50, 1])\n",
      "torch.Size([64, 50, 1])\n",
      "torch.Size([192, 1])\n",
      "torch.Size([64, 50, 1])\n",
      "torch.Size([64, 50, 1])\n",
      "torch.Size([192, 1])\n",
      "torch.Size([64, 50, 1])\n",
      "torch.Size([64, 50, 1])\n",
      "torch.Size([320, 1])\n",
      "torch.Size([64, 50, 1])\n",
      "torch.Size([64, 50, 1])\n",
      "torch.Size([192, 1])\n",
      "torch.Size([64, 50, 1])\n",
      "torch.Size([64, 50, 1])\n",
      "torch.Size([256, 1])\n",
      "torch.Size([64, 50, 1])\n",
      "torch.Size([64, 50, 1])\n",
      "torch.Size([576, 1])\n",
      "torch.Size([64, 50, 1])\n",
      "torch.Size([64, 50, 1])\n",
      "torch.Size([192, 1])\n",
      "torch.Size([64, 50, 1])\n",
      "torch.Size([64, 50, 1])\n",
      "torch.Size([384, 1])\n",
      "torch.Size([64, 50, 1])\n",
      "torch.Size([64, 50, 1])\n",
      "torch.Size([384, 1])\n",
      "torch.Size([64, 50, 1])\n",
      "torch.Size([64, 50, 1])\n",
      "torch.Size([128, 1])\n",
      "torch.Size([64, 50, 1])\n",
      "torch.Size([64, 50, 1])\n",
      "torch.Size([512, 1])\n",
      "torch.Size([64, 50, 1])\n",
      "torch.Size([64, 50, 1])\n",
      "torch.Size([192, 1])\n",
      "torch.Size([64, 50, 1])\n",
      "torch.Size([64, 50, 1])\n",
      "torch.Size([256, 1])\n",
      "torch.Size([64, 50, 1])\n",
      "torch.Size([64, 50, 1])\n",
      "torch.Size([192, 1])\n",
      "torch.Size([64, 50, 1])\n",
      "torch.Size([64, 50, 1])\n",
      "torch.Size([320, 1])\n",
      "torch.Size([64, 50, 1])\n",
      "torch.Size([64, 50, 1])\n",
      "torch.Size([192, 1])\n",
      "torch.Size([64, 50, 1])\n",
      "torch.Size([64, 50, 1])\n",
      "torch.Size([192, 1])\n",
      "torch.Size([64, 50, 1])\n",
      "torch.Size([64, 50, 1])\n",
      "torch.Size([192, 1])\n",
      "torch.Size([64, 50, 1])\n",
      "torch.Size([64, 50, 1])\n",
      "torch.Size([384, 1])\n",
      "torch.Size([64, 50, 1])\n",
      "torch.Size([64, 50, 1])\n",
      "torch.Size([320, 1])\n",
      "torch.Size([64, 50, 1])\n",
      "torch.Size([64, 50, 1])\n",
      "torch.Size([192, 1])\n"
     ]
    },
    {
     "name": "stderr",
     "output_type": "stream",
     "text": [
      "\r",
      "  0%|          | 477/100000 [00:06<17:13, 96.31it/s]"
     ]
    },
    {
     "name": "stdout",
     "output_type": "stream",
     "text": [
      "torch.Size([64, 50, 1])\n",
      "torch.Size([64, 50, 1])\n",
      "torch.Size([384, 1])\n",
      "torch.Size([64, 50, 1])\n",
      "torch.Size([64, 50, 1])\n",
      "torch.Size([128, 1])\n",
      "torch.Size([64, 50, 1])\n",
      "torch.Size([64, 50, 1])\n",
      "torch.Size([256, 1])\n",
      "torch.Size([64, 50, 1])\n",
      "torch.Size([64, 50, 1])\n",
      "torch.Size([320, 1])\n",
      "torch.Size([64, 50, 1])\n",
      "torch.Size([64, 50, 1])\n",
      "torch.Size([192, 1])\n",
      "torch.Size([64, 50, 1])\n",
      "torch.Size([64, 50, 1])\n",
      "torch.Size([192, 1])\n",
      "torch.Size([64, 50, 1])\n",
      "torch.Size([64, 50, 1])\n",
      "torch.Size([256, 1])\n",
      "torch.Size([64, 50, 1])\n",
      "torch.Size([64, 50, 1])\n",
      "torch.Size([192, 1])\n",
      "torch.Size([64, 50, 1])\n",
      "torch.Size([64, 50, 1])\n",
      "torch.Size([384, 1])\n",
      "torch.Size([64, 50, 1])\n",
      "torch.Size([64, 50, 1])\n",
      "torch.Size([384, 1])\n",
      "torch.Size([64, 50, 1])\n",
      "torch.Size([64, 50, 1])\n",
      "torch.Size([256, 1])\n",
      "torch.Size([64, 50, 1])\n",
      "torch.Size([64, 50, 1])\n",
      "torch.Size([384, 1])\n",
      "torch.Size([64, 50, 1])\n",
      "torch.Size([64, 50, 1])\n",
      "torch.Size([320, 1])\n",
      "torch.Size([64, 50, 1])\n",
      "torch.Size([64, 50, 1])\n",
      "torch.Size([384, 1])\n",
      "torch.Size([64, 50, 1])\n",
      "torch.Size([64, 50, 1])\n",
      "torch.Size([320, 1])\n",
      "torch.Size([64, 50, 1])\n",
      "torch.Size([64, 50, 1])\n",
      "torch.Size([384, 1])\n",
      "torch.Size([64, 50, 1])\n",
      "torch.Size([64, 50, 1])\n",
      "torch.Size([448, 1])\n",
      "torch.Size([64, 50, 1])\n",
      "torch.Size([64, 50, 1])\n",
      "torch.Size([384, 1])\n",
      "torch.Size([64, 50, 1])\n",
      "torch.Size([64, 50, 1])\n",
      "torch.Size([256, 1])\n",
      "torch.Size([64, 50, 1])\n",
      "torch.Size([64, 50, 1])\n",
      "torch.Size([128, 1])\n"
     ]
    },
    {
     "name": "stderr",
     "output_type": "stream",
     "text": [
      "  0%|          | 499/100000 [00:06<16:42, 99.28it/s]"
     ]
    },
    {
     "name": "stdout",
     "output_type": "stream",
     "text": [
      "torch.Size([64, 50, 1])\n",
      "torch.Size([64, 50, 1])\n",
      "torch.Size([192, 1])\n",
      "torch.Size([64, 50, 1])\n",
      "torch.Size([64, 50, 1])\n",
      "torch.Size([192, 1])\n",
      "torch.Size([64, 50, 1])\n",
      "torch.Size([64, 50, 1])\n",
      "torch.Size([192, 1])\n",
      "torch.Size([64, 50, 1])\n",
      "torch.Size([64, 50, 1])\n",
      "torch.Size([256, 1])\n",
      "torch.Size([64, 50, 1])\n",
      "torch.Size([64, 50, 1])\n",
      "torch.Size([128, 1])\n",
      "torch.Size([64, 50, 1])\n",
      "torch.Size([64, 50, 1])\n",
      "torch.Size([320, 1])\n",
      "torch.Size([64, 50, 1])\n",
      "torch.Size([64, 50, 1])\n",
      "torch.Size([448, 1])\n",
      "torch.Size([64, 50, 1])\n",
      "torch.Size([64, 50, 1])\n",
      "torch.Size([256, 1])\n",
      "torch.Size([64, 50, 1])\n",
      "torch.Size([64, 50, 1])\n",
      "torch.Size([192, 1])\n",
      "torch.Size([64, 50, 1])\n",
      "torch.Size([64, 50, 1])\n",
      "torch.Size([384, 1])\n",
      "torch.Size([64, 50, 1])\n",
      "torch.Size([64, 50, 1])\n",
      "torch.Size([512, 1])\n",
      "torch.Size([64, 50, 1])\n",
      "torch.Size([64, 50, 1])\n",
      "torch.Size([192, 1])\n",
      "torch.Size([64, 50, 1])\n",
      "torch.Size([64, 50, 1])\n",
      "torch.Size([192, 1])\n",
      "torch.Size([64, 50, 1])\n",
      "torch.Size([64, 50, 1])\n",
      "torch.Size([192, 1])\n",
      "Mean training loss at epoch 500 :                         6.107\n",
      "torch.Size([25, 1])\n",
      "Mean Validation loss after 500 equals                     7.556\n",
      "\n",
      "Validation loss for the function plotted:                 7.556\n"
     ]
    },
    {
     "data": {
      "image/png": "[encoded data removed]",
      "text/plain": [
       "<Figure size 432x288 with 1 Axes>"
      ]
     },
     "metadata": {
      "needs_background": "light"
     },
     "output_type": "display_data"
    },
    {
     "name": "stderr",
     "output_type": "stream",
     "text": [
      "  1%|          | 522/100000 [00:06<20:59, 79.01it/s]"
     ]
    },
    {
     "name": "stdout",
     "output_type": "stream",
     "text": [
      "torch.Size([64, 50, 1])\n",
      "torch.Size([64, 50, 1])\n",
      "torch.Size([320, 1])\n",
      "torch.Size([64, 50, 1])\n",
      "torch.Size([64, 50, 1])\n",
      "torch.Size([448, 1])\n",
      "torch.Size([64, 50, 1])\n",
      "torch.Size([64, 50, 1])\n",
      "torch.Size([384, 1])\n",
      "torch.Size([64, 50, 1])\n",
      "torch.Size([64, 50, 1])\n",
      "torch.Size([512, 1])\n",
      "torch.Size([64, 50, 1])\n",
      "torch.Size([64, 50, 1])\n",
      "torch.Size([128, 1])\n",
      "torch.Size([64, 50, 1])\n",
      "torch.Size([64, 50, 1])\n",
      "torch.Size([256, 1])\n",
      "torch.Size([64, 50, 1])\n",
      "torch.Size([64, 50, 1])\n",
      "torch.Size([320, 1])\n",
      "torch.Size([64, 50, 1])\n",
      "torch.Size([64, 50, 1])\n",
      "torch.Size([192, 1])\n",
      "torch.Size([64, 50, 1])\n",
      "torch.Size([64, 50, 1])\n",
      "torch.Size([192, 1])\n",
      "torch.Size([64, 50, 1])\n",
      "torch.Size([64, 50, 1])\n",
      "torch.Size([320, 1])\n",
      "torch.Size([64, 50, 1])\n",
      "torch.Size([64, 50, 1])\n",
      "torch.Size([192, 1])\n",
      "torch.Size([64, 50, 1])\n",
      "torch.Size([64, 50, 1])\n",
      "torch.Size([256, 1])\n",
      "torch.Size([64, 50, 1])\n",
      "torch.Size([64, 50, 1])\n",
      "torch.Size([128, 1])\n",
      "torch.Size([64, 50, 1])\n",
      "torch.Size([64, 50, 1])\n",
      "torch.Size([192, 1])\n",
      "torch.Size([64, 50, 1])\n",
      "torch.Size([64, 50, 1])\n",
      "torch.Size([192, 1])\n",
      "torch.Size([64, 50, 1])\n",
      "torch.Size([64, 50, 1])\n",
      "torch.Size([256, 1])\n",
      "torch.Size([64, 50, 1])\n",
      "torch.Size([64, 50, 1])\n",
      "torch.Size([384, 1])\n",
      "torch.Size([64, 50, 1])\n",
      "torch.Size([64, 50, 1])\n",
      "torch.Size([448, 1])\n",
      "torch.Size([64, 50, 1])\n",
      "torch.Size([64, 50, 1])\n",
      "torch.Size([128, 1])\n",
      "torch.Size([64, 50, 1])\n",
      "torch.Size([64, 50, 1])\n",
      "torch.Size([192, 1])\n",
      "torch.Size([64, 50, 1])\n",
      "torch.Size([64, 50, 1])\n",
      "torch.Size([256, 1])\n",
      "torch.Size([64, 50, 1])\n",
      "torch.Size([64, 50, 1])\n",
      "torch.Size([448, 1])\n"
     ]
    },
    {
     "name": "stderr",
     "output_type": "stream",
     "text": [
      "  1%|          | 545/100000 [00:07<17:42, 93.64it/s]"
     ]
    },
    {
     "name": "stdout",
     "output_type": "stream",
     "text": [
      "torch.Size([64, 50, 1])\n",
      "torch.Size([64, 50, 1])\n",
      "torch.Size([384, 1])\n",
      "torch.Size([64, 50, 1])\n",
      "torch.Size([64, 50, 1])\n",
      "torch.Size([256, 1])\n",
      "torch.Size([64, 50, 1])\n",
      "torch.Size([64, 50, 1])\n",
      "torch.Size([384, 1])\n",
      "torch.Size([64, 50, 1])\n",
      "torch.Size([64, 50, 1])\n",
      "torch.Size([128, 1])\n",
      "torch.Size([64, 50, 1])\n",
      "torch.Size([64, 50, 1])\n",
      "torch.Size([128, 1])\n",
      "torch.Size([64, 50, 1])\n",
      "torch.Size([64, 50, 1])\n",
      "torch.Size([192, 1])\n",
      "torch.Size([64, 50, 1])\n",
      "torch.Size([64, 50, 1])\n",
      "torch.Size([512, 1])\n",
      "torch.Size([64, 50, 1])\n",
      "torch.Size([64, 50, 1])\n",
      "torch.Size([192, 1])\n",
      "torch.Size([64, 50, 1])\n",
      "torch.Size([64, 50, 1])\n",
      "torch.Size([320, 1])\n",
      "torch.Size([64, 50, 1])\n",
      "torch.Size([64, 50, 1])\n",
      "torch.Size([256, 1])\n",
      "torch.Size([64, 50, 1])\n",
      "torch.Size([64, 50, 1])\n",
      "torch.Size([192, 1])\n",
      "torch.Size([64, 50, 1])\n",
      "torch.Size([64, 50, 1])\n",
      "torch.Size([384, 1])\n",
      "torch.Size([64, 50, 1])\n",
      "torch.Size([64, 50, 1])\n",
      "torch.Size([256, 1])\n",
      "torch.Size([64, 50, 1])\n",
      "torch.Size([64, 50, 1])\n",
      "torch.Size([256, 1])\n",
      "torch.Size([64, 50, 1])\n",
      "torch.Size([64, 50, 1])\n",
      "torch.Size([128, 1])\n",
      "torch.Size([64, 50, 1])\n",
      "torch.Size([64, 50, 1])\n",
      "torch.Size([384, 1])\n",
      "torch.Size([64, 50, 1])\n",
      "torch.Size([64, 50, 1])\n",
      "torch.Size([128, 1])\n",
      "torch.Size([64, 50, 1])\n",
      "torch.Size([64, 50, 1])\n",
      "torch.Size([512, 1])\n",
      "torch.Size([64, 50, 1])\n",
      "torch.Size([64, 50, 1])\n",
      "torch.Size([576, 1])\n",
      "torch.Size([64, 50, 1])\n",
      "torch.Size([64, 50, 1])\n",
      "torch.Size([320, 1])\n",
      "torch.Size([64, 50, 1])\n",
      "torch.Size([64, 50, 1])\n",
      "torch.Size([128, 1])\n",
      "torch.Size([64, 50, 1])\n",
      "torch.Size([64, 50, 1])\n",
      "torch.Size([128, 1])\n",
      "torch.Size([64, 50, 1])\n",
      "torch.Size([64, 50, 1])\n",
      "torch.Size([384, 1])\n"
     ]
    },
    {
     "name": "stderr",
     "output_type": "stream",
     "text": [
      "\r",
      "  1%|          | 556/100000 [00:07<17:19, 95.64it/s]"
     ]
    },
    {
     "name": "stdout",
     "output_type": "stream",
     "text": [
      "torch.Size([64, 50, 1])\n",
      "torch.Size([64, 50, 1])\n",
      "torch.Size([256, 1])\n",
      "torch.Size([64, 50, 1])\n",
      "torch.Size([64, 50, 1])\n",
      "torch.Size([448, 1])\n",
      "torch.Size([64, 50, 1])\n",
      "torch.Size([64, 50, 1])\n",
      "torch.Size([192, 1])\n",
      "torch.Size([64, 50, 1])\n",
      "torch.Size([64, 50, 1])\n",
      "torch.Size([128, 1])\n",
      "torch.Size([64, 50, 1])\n",
      "torch.Size([64, 50, 1])\n",
      "torch.Size([192, 1])\n",
      "torch.Size([64, 50, 1])\n",
      "torch.Size([64, 50, 1])\n",
      "torch.Size([128, 1])\n",
      "torch.Size([64, 50, 1])\n",
      "torch.Size([64, 50, 1])\n",
      "torch.Size([256, 1])\n",
      "torch.Size([64, 50, 1])\n",
      "torch.Size([64, 50, 1])\n",
      "torch.Size([192, 1])\n",
      "torch.Size([64, 50, 1])\n",
      "torch.Size([64, 50, 1])\n",
      "torch.Size([192, 1])\n",
      "torch.Size([64, 50, 1])\n",
      "torch.Size([64, 50, 1])\n",
      "torch.Size([384, 1])\n",
      "torch.Size([64, 50, 1])\n",
      "torch.Size([64, 50, 1])\n",
      "torch.Size([384, 1])\n",
      "torch.Size([64, 50, 1])\n",
      "torch.Size([64, 50, 1])\n",
      "torch.Size([320, 1])\n",
      "torch.Size([64, 50, 1])\n",
      "torch.Size([64, 50, 1])\n",
      "torch.Size([256, 1])\n",
      "torch.Size([64, 50, 1])\n",
      "torch.Size([64, 50, 1])\n",
      "torch.Size([384, 1])\n",
      "torch.Size([64, 50, 1])\n",
      "torch.Size([64, 50, 1])\n",
      "torch.Size([192, 1])\n",
      "torch.Size([64, 50, 1])\n",
      "torch.Size([64, 50, 1])\n",
      "torch.Size([320, 1])\n",
      "torch.Size([64, 50, 1])\n",
      "torch.Size([64, 50, 1])\n",
      "torch.Size([192, 1])\n",
      "torch.Size([64, 50, 1])\n",
      "torch.Size([64, 50, 1])\n",
      "torch.Size([256, 1])\n",
      "torch.Size([64, 50, 1])\n",
      "torch.Size([64, 50, 1])\n",
      "torch.Size([384, 1])\n",
      "torch.Size([64, 50, 1])\n",
      "torch.Size([64, 50, 1])\n",
      "torch.Size([448, 1])\n",
      "torch.Size([64, 50, 1])\n"
     ]
    },
    {
     "name": "stderr",
     "output_type": "stream",
     "text": [
      "  1%|          | 578/100000 [00:07<16:39, 99.47it/s]"
     ]
    },
    {
     "name": "stdout",
     "output_type": "stream",
     "text": [
      "torch.Size([64, 50, 1])\n",
      "torch.Size([192, 1])\n",
      "torch.Size([64, 50, 1])\n",
      "torch.Size([64, 50, 1])\n",
      "torch.Size([128, 1])\n",
      "torch.Size([64, 50, 1])\n",
      "torch.Size([64, 50, 1])\n",
      "torch.Size([192, 1])\n",
      "torch.Size([64, 50, 1])\n",
      "torch.Size([64, 50, 1])\n",
      "torch.Size([128, 1])\n",
      "torch.Size([64, 50, 1])\n",
      "torch.Size([64, 50, 1])\n",
      "torch.Size([320, 1])\n",
      "torch.Size([64, 50, 1])\n",
      "torch.Size([64, 50, 1])\n",
      "torch.Size([192, 1])\n",
      "torch.Size([64, 50, 1])\n",
      "torch.Size([64, 50, 1])\n",
      "torch.Size([192, 1])\n",
      "torch.Size([64, 50, 1])\n",
      "torch.Size([64, 50, 1])\n",
      "torch.Size([320, 1])\n",
      "torch.Size([64, 50, 1])\n",
      "torch.Size([64, 50, 1])\n",
      "torch.Size([128, 1])\n",
      "torch.Size([64, 50, 1])\n",
      "torch.Size([64, 50, 1])\n",
      "torch.Size([256, 1])\n",
      "torch.Size([64, 50, 1])\n",
      "torch.Size([64, 50, 1])\n",
      "torch.Size([192, 1])\n",
      "torch.Size([64, 50, 1])\n",
      "torch.Size([64, 50, 1])\n",
      "torch.Size([128, 1])\n",
      "torch.Size([64, 50, 1])\n",
      "torch.Size([64, 50, 1])\n",
      "torch.Size([320, 1])\n",
      "torch.Size([64, 50, 1])\n",
      "torch.Size([64, 50, 1])\n",
      "torch.Size([192, 1])\n",
      "torch.Size([64, 50, 1])\n",
      "torch.Size([64, 50, 1])\n",
      "torch.Size([192, 1])\n",
      "torch.Size([64, 50, 1])\n",
      "torch.Size([64, 50, 1])\n",
      "torch.Size([128, 1])\n",
      "torch.Size([64, 50, 1])\n",
      "torch.Size([64, 50, 1])\n",
      "torch.Size([384, 1])\n",
      "torch.Size([64, 50, 1])\n",
      "torch.Size([64, 50, 1])\n",
      "torch.Size([192, 1])\n",
      "torch.Size([64, 50, 1])\n",
      "torch.Size([64, 50, 1])\n",
      "torch.Size([384, 1])\n",
      "torch.Size([64, 50, 1])\n",
      "torch.Size([64, 50, 1])\n",
      "torch.Size([192, 1])\n",
      "torch.Size([64, 50, 1])\n",
      "torch.Size([64, 50, 1])\n",
      "torch.Size([448, 1])\n",
      "torch.Size([64, 50, 1])\n",
      "torch.Size([64, 50, 1])\n",
      "torch.Size([256, 1])\n"
     ]
    },
    {
     "name": "stderr",
     "output_type": "stream",
     "text": [
      "  1%|          | 600/100000 [00:07<16:31, 100.26it/s]"
     ]
    },
    {
     "name": "stdout",
     "output_type": "stream",
     "text": [
      "torch.Size([64, 50, 1])\n",
      "torch.Size([64, 50, 1])\n",
      "torch.Size([192, 1])\n",
      "torch.Size([64, 50, 1])\n",
      "torch.Size([64, 50, 1])\n",
      "torch.Size([128, 1])\n",
      "torch.Size([64, 50, 1])\n",
      "torch.Size([64, 50, 1])\n",
      "torch.Size([256, 1])\n",
      "torch.Size([64, 50, 1])\n",
      "torch.Size([64, 50, 1])\n",
      "torch.Size([320, 1])\n",
      "torch.Size([64, 50, 1])\n",
      "torch.Size([64, 50, 1])\n",
      "torch.Size([384, 1])\n",
      "torch.Size([64, 50, 1])\n",
      "torch.Size([64, 50, 1])\n",
      "torch.Size([192, 1])\n",
      "torch.Size([64, 50, 1])\n",
      "torch.Size([64, 50, 1])\n",
      "torch.Size([192, 1])\n",
      "torch.Size([64, 50, 1])\n",
      "torch.Size([64, 50, 1])\n",
      "torch.Size([192, 1])\n",
      "torch.Size([64, 50, 1])\n",
      "torch.Size([64, 50, 1])\n",
      "torch.Size([256, 1])\n",
      "torch.Size([64, 50, 1])\n",
      "torch.Size([64, 50, 1])\n",
      "torch.Size([192, 1])\n",
      "torch.Size([64, 50, 1])\n",
      "torch.Size([64, 50, 1])\n",
      "torch.Size([192, 1])\n",
      "torch.Size([64, 50, 1])\n",
      "torch.Size([64, 50, 1])\n",
      "torch.Size([448, 1])\n",
      "torch.Size([64, 50, 1])\n",
      "torch.Size([64, 50, 1])\n",
      "torch.Size([192, 1])\n",
      "Mean training loss at epoch 600 :                         6.496\n",
      "torch.Size([45, 1])\n",
      "Mean Validation loss after 600 equals                     7.705\n",
      "\n",
      "Validation loss for the function plotted:                 7.705\n"
     ]
    },
    {
     "data": {
      "image/png": "[encoded data removed]",
      "text/plain": [
       "<Figure size 432x288 with 1 Axes>"
      ]
     },
     "metadata": {
      "needs_background": "light"
     },
     "output_type": "display_data"
    },
    {
     "name": "stderr",
     "output_type": "stream",
     "text": [
      "\r",
      "  1%|          | 611/100000 [00:08<26:10, 63.30it/s] "
     ]
    },
    {
     "name": "stdout",
     "output_type": "stream",
     "text": [
      "torch.Size([64, 50, 1])\n",
      "torch.Size([64, 50, 1])\n",
      "torch.Size([448, 1])\n",
      "torch.Size([64, 50, 1])\n",
      "torch.Size([64, 50, 1])\n",
      "torch.Size([192, 1])\n",
      "torch.Size([64, 50, 1])\n",
      "torch.Size([64, 50, 1])\n",
      "torch.Size([320, 1])\n",
      "torch.Size([64, 50, 1])\n",
      "torch.Size([64, 50, 1])\n",
      "torch.Size([192, 1])\n",
      "torch.Size([64, 50, 1])\n",
      "torch.Size([64, 50, 1])\n",
      "torch.Size([256, 1])\n",
      "torch.Size([64, 50, 1])\n",
      "torch.Size([64, 50, 1])\n",
      "torch.Size([384, 1])\n",
      "torch.Size([64, 50, 1])\n",
      "torch.Size([64, 50, 1])\n",
      "torch.Size([512, 1])\n",
      "torch.Size([64, 50, 1])\n",
      "torch.Size([64, 50, 1])\n",
      "torch.Size([448, 1])\n",
      "torch.Size([64, 50, 1])\n",
      "torch.Size([64, 50, 1])\n",
      "torch.Size([320, 1])\n",
      "torch.Size([64, 50, 1])\n",
      "torch.Size([64, 50, 1])\n",
      "torch.Size([192, 1])\n",
      "torch.Size([64, 50, 1])\n",
      "torch.Size([64, 50, 1])\n",
      "torch.Size([128, 1])\n",
      "torch.Size([64, 50, 1])\n",
      "torch.Size([64, 50, 1])\n",
      "torch.Size([192, 1])\n",
      "torch.Size([64, 50, 1])\n",
      "torch.Size([64, 50, 1])\n",
      "torch.Size([320, 1])\n",
      "torch.Size([64, 50, 1])\n",
      "torch.Size([64, 50, 1])\n",
      "torch.Size([384, 1])\n",
      "torch.Size([64, 50, 1])\n",
      "torch.Size([64, 50, 1])\n",
      "torch.Size([192, 1])\n",
      "torch.Size([64, 50, 1])\n",
      "torch.Size([64, 50, 1])\n",
      "torch.Size([192, 1])\n",
      "torch.Size([64, 50, 1])\n",
      "torch.Size([64, 50, 1])\n",
      "torch.Size([512, 1])\n",
      "torch.Size([64, 50, 1])\n",
      "torch.Size([64, 50, 1])\n",
      "torch.Size([448, 1])\n"
     ]
    },
    {
     "name": "stderr",
     "output_type": "stream",
     "text": [
      "  1%|          | 629/100000 [00:08<22:54, 72.32it/s]"
     ]
    },
    {
     "name": "stdout",
     "output_type": "stream",
     "text": [
      "torch.Size([64, 50, 1])\n",
      "torch.Size([64, 50, 1])\n",
      "torch.Size([128, 1])\n",
      "torch.Size([64, 50, 1])\n",
      "torch.Size([64, 50, 1])\n",
      "torch.Size([256, 1])\n",
      "torch.Size([64, 50, 1])\n",
      "torch.Size([64, 50, 1])\n",
      "torch.Size([384, 1])\n",
      "torch.Size([64, 50, 1])\n",
      "torch.Size([64, 50, 1])\n",
      "torch.Size([192, 1])\n",
      "torch.Size([64, 50, 1])\n",
      "torch.Size([64, 50, 1])\n",
      "torch.Size([192, 1])\n",
      "torch.Size([64, 50, 1])\n",
      "torch.Size([64, 50, 1])\n",
      "torch.Size([192, 1])\n",
      "torch.Size([64, 50, 1])\n",
      "torch.Size([64, 50, 1])\n",
      "torch.Size([448, 1])\n",
      "torch.Size([64, 50, 1])\n",
      "torch.Size([64, 50, 1])\n",
      "torch.Size([320, 1])\n",
      "torch.Size([64, 50, 1])\n",
      "torch.Size([64, 50, 1])\n",
      "torch.Size([256, 1])\n",
      "torch.Size([64, 50, 1])\n",
      "torch.Size([64, 50, 1])\n",
      "torch.Size([320, 1])\n",
      "torch.Size([64, 50, 1])\n",
      "torch.Size([64, 50, 1])\n",
      "torch.Size([512, 1])\n",
      "torch.Size([64, 50, 1])\n",
      "torch.Size([64, 50, 1])\n",
      "torch.Size([320, 1])\n",
      "torch.Size([64, 50, 1])\n",
      "torch.Size([64, 50, 1])\n",
      "torch.Size([128, 1])\n",
      "torch.Size([64, 50, 1])\n",
      "torch.Size([64, 50, 1])\n",
      "torch.Size([192, 1])\n",
      "torch.Size([64, 50, 1])\n",
      "torch.Size([64, 50, 1])\n",
      "torch.Size([320, 1])\n",
      "torch.Size([64, 50, 1])\n",
      "torch.Size([64, 50, 1])\n",
      "torch.Size([320, 1])\n",
      "torch.Size([64, 50, 1])\n",
      "torch.Size([64, 50, 1])\n",
      "torch.Size([128, 1])\n",
      "torch.Size([64, 50, 1])\n",
      "torch.Size([64, 50, 1])\n",
      "torch.Size([256, 1])\n"
     ]
    },
    {
     "name": "stderr",
     "output_type": "stream",
     "text": [
      "  1%|          | 648/100000 [00:08<20:40, 80.12it/s]"
     ]
    },
    {
     "name": "stdout",
     "output_type": "stream",
     "text": [
      "torch.Size([64, 50, 1])\n",
      "torch.Size([64, 50, 1])\n",
      "torch.Size([320, 1])\n",
      "torch.Size([64, 50, 1])\n",
      "torch.Size([64, 50, 1])\n",
      "torch.Size([448, 1])\n",
      "torch.Size([64, 50, 1])\n",
      "torch.Size([64, 50, 1])\n",
      "torch.Size([448, 1])\n",
      "torch.Size([64, 50, 1])\n",
      "torch.Size([64, 50, 1])\n",
      "torch.Size([256, 1])\n",
      "torch.Size([64, 50, 1])\n",
      "torch.Size([64, 50, 1])\n",
      "torch.Size([256, 1])\n",
      "torch.Size([64, 50, 1])\n",
      "torch.Size([64, 50, 1])\n",
      "torch.Size([192, 1])\n",
      "torch.Size([64, 50, 1])\n",
      "torch.Size([64, 50, 1])\n",
      "torch.Size([384, 1])\n",
      "torch.Size([64, 50, 1])\n",
      "torch.Size([64, 50, 1])\n",
      "torch.Size([576, 1])\n",
      "torch.Size([64, 50, 1])\n",
      "torch.Size([64, 50, 1])\n",
      "torch.Size([512, 1])\n",
      "torch.Size([64, 50, 1])\n",
      "torch.Size([64, 50, 1])\n",
      "torch.Size([320, 1])\n",
      "torch.Size([64, 50, 1])\n",
      "torch.Size([64, 50, 1])\n",
      "torch.Size([192, 1])\n",
      "torch.Size([64, 50, 1])\n",
      "torch.Size([64, 50, 1])\n",
      "torch.Size([128, 1])\n",
      "torch.Size([64, 50, 1])\n",
      "torch.Size([64, 50, 1])\n",
      "torch.Size([192, 1])\n",
      "torch.Size([64, 50, 1])\n",
      "torch.Size([64, 50, 1])\n",
      "torch.Size([128, 1])\n",
      "torch.Size([64, 50, 1])\n",
      "torch.Size([64, 50, 1])\n",
      "torch.Size([320, 1])\n",
      "torch.Size([64, 50, 1])\n",
      "torch.Size([64, 50, 1])\n",
      "torch.Size([256, 1])\n",
      "torch.Size([64, 50, 1])\n",
      "torch.Size([64, 50, 1])\n",
      "torch.Size([192, 1])\n",
      "torch.Size([64, 50, 1])\n",
      "torch.Size([64, 50, 1])\n",
      "torch.Size([448, 1])\n",
      "torch.Size([64, 50, 1])\n",
      "torch.Size([64, 50, 1])\n",
      "torch.Size([128, 1])\n"
     ]
    },
    {
     "name": "stderr",
     "output_type": "stream",
     "text": [
      "  1%|          | 668/100000 [00:08<20:45, 79.78it/s]"
     ]
    },
    {
     "name": "stdout",
     "output_type": "stream",
     "text": [
      "torch.Size([64, 50, 1])\n",
      "torch.Size([64, 50, 1])\n",
      "torch.Size([448, 1])\n",
      "torch.Size([64, 50, 1])\n",
      "torch.Size([64, 50, 1])\n",
      "torch.Size([192, 1])\n",
      "torch.Size([64, 50, 1])\n",
      "torch.Size([64, 50, 1])\n",
      "torch.Size([384, 1])\n",
      "torch.Size([64, 50, 1])\n",
      "torch.Size([64, 50, 1])\n",
      "torch.Size([512, 1])\n",
      "torch.Size([64, 50, 1])\n",
      "torch.Size([64, 50, 1])\n",
      "torch.Size([128, 1])\n",
      "torch.Size([64, 50, 1])\n",
      "torch.Size([64, 50, 1])\n",
      "torch.Size([320, 1])\n",
      "torch.Size([64, 50, 1])\n",
      "torch.Size([64, 50, 1])\n",
      "torch.Size([128, 1])\n",
      "torch.Size([64, 50, 1])\n",
      "torch.Size([64, 50, 1])\n",
      "torch.Size([192, 1])\n",
      "torch.Size([64, 50, 1])\n",
      "torch.Size([64, 50, 1])\n",
      "torch.Size([320, 1])\n",
      "torch.Size([64, 50, 1])\n",
      "torch.Size([64, 50, 1])\n",
      "torch.Size([192, 1])\n",
      "torch.Size([64, 50, 1])\n",
      "torch.Size([64, 50, 1])\n",
      "torch.Size([384, 1])\n",
      "torch.Size([64, 50, 1])\n",
      "torch.Size([64, 50, 1])\n",
      "torch.Size([384, 1])\n",
      "torch.Size([64, 50, 1])\n",
      "torch.Size([64, 50, 1])\n",
      "torch.Size([192, 1])\n",
      "torch.Size([64, 50, 1])\n",
      "torch.Size([64, 50, 1])\n",
      "torch.Size([384, 1])\n"
     ]
    },
    {
     "name": "stderr",
     "output_type": "stream",
     "text": [
      "  1%|          | 688/100000 [00:08<19:39, 84.18it/s]"
     ]
    },
    {
     "name": "stdout",
     "output_type": "stream",
     "text": [
      "torch.Size([64, 50, 1])\n",
      "torch.Size([64, 50, 1])\n",
      "torch.Size([192, 1])\n",
      "torch.Size([64, 50, 1])\n",
      "torch.Size([64, 50, 1])\n",
      "torch.Size([192, 1])\n",
      "torch.Size([64, 50, 1])\n",
      "torch.Size([64, 50, 1])\n",
      "torch.Size([384, 1])\n",
      "torch.Size([64, 50, 1])\n",
      "torch.Size([64, 50, 1])\n",
      "torch.Size([512, 1])\n",
      "torch.Size([64, 50, 1])\n",
      "torch.Size([64, 50, 1])\n",
      "torch.Size([256, 1])\n",
      "torch.Size([64, 50, 1])\n",
      "torch.Size([64, 50, 1])\n",
      "torch.Size([128, 1])\n",
      "torch.Size([64, 50, 1])\n",
      "torch.Size([64, 50, 1])\n",
      "torch.Size([512, 1])\n",
      "torch.Size([64, 50, 1])\n",
      "torch.Size([64, 50, 1])\n",
      "torch.Size([192, 1])\n",
      "torch.Size([64, 50, 1])\n",
      "torch.Size([64, 50, 1])\n",
      "torch.Size([192, 1])\n",
      "torch.Size([64, 50, 1])\n",
      "torch.Size([64, 50, 1])\n",
      "torch.Size([192, 1])\n",
      "torch.Size([64, 50, 1])\n",
      "torch.Size([64, 50, 1])\n",
      "torch.Size([576, 1])\n",
      "torch.Size([64, 50, 1])\n",
      "torch.Size([64, 50, 1])\n",
      "torch.Size([384, 1])\n",
      "torch.Size([64, 50, 1])\n",
      "torch.Size([64, 50, 1])\n",
      "torch.Size([448, 1])\n",
      "torch.Size([64, 50, 1])\n",
      "torch.Size([64, 50, 1])\n",
      "torch.Size([256, 1])\n",
      "torch.Size([64, 50, 1])\n",
      "torch.Size([64, 50, 1])\n",
      "torch.Size([192, 1])\n",
      "torch.Size([64, 50, 1])\n",
      "torch.Size([64, 50, 1])\n",
      "torch.Size([128, 1])\n",
      "torch.Size([64, 50, 1])\n",
      "torch.Size([64, 50, 1])\n",
      "torch.Size([128, 1])\n",
      "torch.Size([64, 50, 1])\n",
      "torch.Size([64, 50, 1])\n",
      "torch.Size([128, 1])\n",
      "torch.Size([64, 50, 1])\n",
      "torch.Size([64, 50, 1])\n",
      "torch.Size([320, 1])\n"
     ]
    },
    {
     "name": "stderr",
     "output_type": "stream",
     "text": [
      "\r",
      "  1%|          | 698/100000 [00:09<19:00, 87.06it/s]"
     ]
    },
    {
     "name": "stdout",
     "output_type": "stream",
     "text": [
      "torch.Size([64, 50, 1])\n",
      "torch.Size([64, 50, 1])\n",
      "torch.Size([128, 1])\n",
      "torch.Size([64, 50, 1])\n",
      "torch.Size([64, 50, 1])\n",
      "torch.Size([128, 1])\n",
      "torch.Size([64, 50, 1])\n",
      "torch.Size([64, 50, 1])\n",
      "torch.Size([320, 1])\n",
      "torch.Size([64, 50, 1])\n",
      "torch.Size([64, 50, 1])\n",
      "torch.Size([128, 1])\n",
      "torch.Size([64, 50, 1])\n",
      "torch.Size([64, 50, 1])\n",
      "torch.Size([256, 1])\n",
      "torch.Size([64, 50, 1])\n",
      "torch.Size([64, 50, 1])\n",
      "torch.Size([384, 1])\n",
      "torch.Size([64, 50, 1])\n",
      "torch.Size([64, 50, 1])\n",
      "torch.Size([256, 1])\n",
      "torch.Size([64, 50, 1])\n",
      "torch.Size([64, 50, 1])\n",
      "torch.Size([192, 1])\n",
      "torch.Size([64, 50, 1])\n",
      "torch.Size([64, 50, 1])\n",
      "torch.Size([384, 1])\n",
      "torch.Size([64, 50, 1])\n",
      "torch.Size([64, 50, 1])\n",
      "torch.Size([128, 1])\n",
      "torch.Size([64, 50, 1])\n",
      "torch.Size([64, 50, 1])\n",
      "torch.Size([192, 1])\n",
      "torch.Size([64, 50, 1])\n",
      "torch.Size([64, 50, 1])\n",
      "torch.Size([320, 1])\n",
      "Mean training loss at epoch 700 :                         7.443\n",
      "torch.Size([35, 1])\n",
      "Mean Validation loss after 700 equals                     7.269\n",
      "\n",
      "Validation loss for the function plotted:                 7.269\n"
     ]
    },
    {
     "data": {
      "image/png": "[encoded data removed]",
      "text/plain": [
       "<Figure size 432x288 with 1 Axes>"
      ]
     },
     "metadata": {
      "needs_background": "light"
     },
     "output_type": "display_data"
    },
    {
     "name": "stderr",
     "output_type": "stream",
     "text": [
      "\r",
      "  1%|          | 708/100000 [00:09<30:07, 54.94it/s]"
     ]
    },
    {
     "name": "stdout",
     "output_type": "stream",
     "text": [
      "torch.Size([64, 50, 1])\n",
      "torch.Size([64, 50, 1])\n",
      "torch.Size([448, 1])\n",
      "torch.Size([64, 50, 1])\n",
      "torch.Size([64, 50, 1])\n",
      "torch.Size([448, 1])\n",
      "torch.Size([64, 50, 1])\n",
      "torch.Size([64, 50, 1])\n",
      "torch.Size([192, 1])\n",
      "torch.Size([64, 50, 1])\n",
      "torch.Size([64, 50, 1])\n",
      "torch.Size([192, 1])\n",
      "torch.Size([64, 50, 1])\n",
      "torch.Size([64, 50, 1])\n",
      "torch.Size([192, 1])\n",
      "torch.Size([64, 50, 1])\n",
      "torch.Size([64, 50, 1])\n",
      "torch.Size([128, 1])\n",
      "torch.Size([64, 50, 1])\n",
      "torch.Size([64, 50, 1])\n",
      "torch.Size([448, 1])\n",
      "torch.Size([64, 50, 1])\n",
      "torch.Size([64, 50, 1])\n",
      "torch.Size([128, 1])\n",
      "torch.Size([64, 50, 1])\n",
      "torch.Size([64, 50, 1])\n",
      "torch.Size([256, 1])\n",
      "torch.Size([64, 50, 1])\n",
      "torch.Size([64, 50, 1])\n",
      "torch.Size([384, 1])\n",
      "torch.Size([64, 50, 1])\n",
      "torch.Size([64, 50, 1])\n",
      "torch.Size([320, 1])\n",
      "torch.Size([64, 50, 1])\n",
      "torch.Size([64, 50, 1])\n",
      "torch.Size([128, 1])\n",
      "torch.Size([64, 50, 1])\n",
      "torch.Size([64, 50, 1])\n",
      "torch.Size([576, 1])\n",
      "torch.Size([64, 50, 1])\n",
      "torch.Size([64, 50, 1])\n",
      "torch.Size([256, 1])\n",
      "torch.Size([64, 50, 1])\n",
      "torch.Size([64, 50, 1])\n",
      "torch.Size([128, 1])\n"
     ]
    },
    {
     "name": "stderr",
     "output_type": "stream",
     "text": [
      "  1%|          | 723/100000 [00:09<28:23, 58.29it/s]"
     ]
    },
    {
     "name": "stdout",
     "output_type": "stream",
     "text": [
      "torch.Size([64, 50, 1])\n",
      "torch.Size([64, 50, 1])\n",
      "torch.Size([192, 1])\n",
      "torch.Size([64, 50, 1])\n",
      "torch.Size([64, 50, 1])\n",
      "torch.Size([320, 1])\n",
      "torch.Size([64, 50, 1])\n",
      "torch.Size([64, 50, 1])\n",
      "torch.Size([320, 1])\n",
      "torch.Size([64, 50, 1])\n",
      "torch.Size([64, 50, 1])\n",
      "torch.Size([320, 1])\n",
      "torch.Size([64, 50, 1])\n",
      "torch.Size([64, 50, 1])\n",
      "torch.Size([192, 1])\n",
      "torch.Size([64, 50, 1])\n",
      "torch.Size([64, 50, 1])\n",
      "torch.Size([512, 1])\n",
      "torch.Size([64, 50, 1])\n",
      "torch.Size([64, 50, 1])\n",
      "torch.Size([512, 1])\n",
      "torch.Size([64, 50, 1])\n",
      "torch.Size([64, 50, 1])\n",
      "torch.Size([512, 1])\n",
      "torch.Size([64, 50, 1])\n",
      "torch.Size([64, 50, 1])\n",
      "torch.Size([128, 1])\n"
     ]
    },
    {
     "name": "stderr",
     "output_type": "stream",
     "text": [
      "  1%|          | 738/100000 [00:09<29:49, 55.46it/s]"
     ]
    },
    {
     "name": "stdout",
     "output_type": "stream",
     "text": [
      "torch.Size([64, 50, 1])\n",
      "torch.Size([64, 50, 1])\n",
      "torch.Size([256, 1])\n",
      "torch.Size([64, 50, 1])\n",
      "torch.Size([64, 50, 1])\n",
      "torch.Size([384, 1])\n",
      "torch.Size([64, 50, 1])\n",
      "torch.Size([64, 50, 1])\n",
      "torch.Size([256, 1])\n",
      "torch.Size([64, 50, 1])\n",
      "torch.Size([64, 50, 1])\n",
      "torch.Size([320, 1])\n",
      "torch.Size([64, 50, 1])\n",
      "torch.Size([64, 50, 1])\n",
      "torch.Size([192, 1])\n",
      "torch.Size([64, 50, 1])\n",
      "torch.Size([64, 50, 1])\n",
      "torch.Size([320, 1])\n",
      "torch.Size([64, 50, 1])\n",
      "torch.Size([64, 50, 1])\n",
      "torch.Size([384, 1])\n",
      "torch.Size([64, 50, 1])\n",
      "torch.Size([64, 50, 1])\n",
      "torch.Size([320, 1])\n",
      "torch.Size([64, 50, 1])\n",
      "torch.Size([64, 50, 1])\n",
      "torch.Size([384, 1])\n",
      "torch.Size([64, 50, 1])\n",
      "torch.Size([64, 50, 1])\n",
      "torch.Size([192, 1])\n",
      "torch.Size([64, 50, 1])\n",
      "torch.Size([64, 50, 1])\n",
      "torch.Size([320, 1])\n",
      "torch.Size([64, 50, 1])\n",
      "torch.Size([64, 50, 1])\n",
      "torch.Size([192, 1])\n",
      "torch.Size([64, 50, 1])\n",
      "torch.Size([64, 50, 1])\n",
      "torch.Size([192, 1])\n",
      "torch.Size([64, 50, 1])\n",
      "torch.Size([64, 50, 1])\n",
      "torch.Size([448, 1])\n"
     ]
    },
    {
     "name": "stderr",
     "output_type": "stream",
     "text": [
      "\r",
      "  1%|          | 746/100000 [00:09<27:45, 59.58it/s]"
     ]
    },
    {
     "name": "stdout",
     "output_type": "stream",
     "text": [
      "torch.Size([64, 50, 1])\n",
      "torch.Size([64, 50, 1])\n",
      "torch.Size([384, 1])\n",
      "torch.Size([64, 50, 1])\n",
      "torch.Size([64, 50, 1])\n",
      "torch.Size([192, 1])\n",
      "torch.Size([64, 50, 1])\n",
      "torch.Size([64, 50, 1])\n",
      "torch.Size([192, 1])\n",
      "torch.Size([64, 50, 1])\n",
      "torch.Size([64, 50, 1])\n",
      "torch.Size([256, 1])\n",
      "torch.Size([64, 50, 1])\n",
      "torch.Size([64, 50, 1])\n",
      "torch.Size([128, 1])\n",
      "torch.Size([64, 50, 1])\n",
      "torch.Size([64, 50, 1])\n",
      "torch.Size([320, 1])\n",
      "torch.Size([64, 50, 1])\n",
      "torch.Size([64, 50, 1])\n",
      "torch.Size([512, 1])\n",
      "torch.Size([64, 50, 1])\n",
      "torch.Size([64, 50, 1])\n",
      "torch.Size([320, 1])\n",
      "torch.Size([64, 50, 1])\n",
      "torch.Size([64, 50, 1])\n",
      "torch.Size([192, 1])\n",
      "torch.Size([64, 50, 1])\n",
      "torch.Size([64, 50, 1])\n",
      "torch.Size([192, 1])\n",
      "torch.Size([64, 50, 1])\n",
      "torch.Size([64, 50, 1])\n",
      "torch.Size([192, 1])\n",
      "torch.Size([64, 50, 1])\n",
      "torch.Size([64, 50, 1])\n",
      "torch.Size([256, 1])\n",
      "torch.Size([64, 50, 1])\n"
     ]
    },
    {
     "name": "stderr",
     "output_type": "stream",
     "text": [
      "  1%|          | 759/100000 [00:10<31:34, 52.39it/s]"
     ]
    },
    {
     "name": "stdout",
     "output_type": "stream",
     "text": [
      "torch.Size([64, 50, 1])\n",
      "torch.Size([320, 1])\n",
      "torch.Size([64, 50, 1])\n",
      "torch.Size([64, 50, 1])\n",
      "torch.Size([256, 1])\n",
      "torch.Size([64, 50, 1])\n",
      "torch.Size([64, 50, 1])\n",
      "torch.Size([128, 1])\n",
      "torch.Size([64, 50, 1])\n",
      "torch.Size([64, 50, 1])\n",
      "torch.Size([128, 1])\n",
      "torch.Size([64, 50, 1])\n",
      "torch.Size([64, 50, 1])\n",
      "torch.Size([256, 1])\n",
      "torch.Size([64, 50, 1])\n",
      "torch.Size([64, 50, 1])\n",
      "torch.Size([192, 1])\n",
      "torch.Size([64, 50, 1])\n",
      "torch.Size([64, 50, 1])\n",
      "torch.Size([384, 1])\n",
      "torch.Size([64, 50, 1])\n",
      "torch.Size([64, 50, 1])\n",
      "torch.Size([192, 1])\n",
      "torch.Size([64, 50, 1])\n",
      "torch.Size([64, 50, 1])\n",
      "torch.Size([256, 1])\n",
      "torch.Size([64, 50, 1])\n",
      "torch.Size([64, 50, 1])\n",
      "torch.Size([256, 1])\n",
      "torch.Size([64, 50, 1])\n"
     ]
    },
    {
     "name": "stderr",
     "output_type": "stream",
     "text": [
      "  1%|          | 777/100000 [00:10<25:45, 64.19it/s]"
     ]
    },
    {
     "name": "stdout",
     "output_type": "stream",
     "text": [
      "torch.Size([64, 50, 1])\n",
      "torch.Size([192, 1])\n",
      "torch.Size([64, 50, 1])\n",
      "torch.Size([64, 50, 1])\n",
      "torch.Size([256, 1])\n",
      "torch.Size([64, 50, 1])\n",
      "torch.Size([64, 50, 1])\n",
      "torch.Size([320, 1])\n",
      "torch.Size([64, 50, 1])\n",
      "torch.Size([64, 50, 1])\n",
      "torch.Size([512, 1])\n",
      "torch.Size([64, 50, 1])\n",
      "torch.Size([64, 50, 1])\n",
      "torch.Size([192, 1])\n",
      "torch.Size([64, 50, 1])\n",
      "torch.Size([64, 50, 1])\n",
      "torch.Size([128, 1])\n",
      "torch.Size([64, 50, 1])\n",
      "torch.Size([64, 50, 1])\n",
      "torch.Size([576, 1])\n",
      "torch.Size([64, 50, 1])\n",
      "torch.Size([64, 50, 1])\n",
      "torch.Size([192, 1])\n",
      "torch.Size([64, 50, 1])\n",
      "torch.Size([64, 50, 1])\n",
      "torch.Size([192, 1])\n",
      "torch.Size([64, 50, 1])\n",
      "torch.Size([64, 50, 1])\n",
      "torch.Size([448, 1])\n",
      "torch.Size([64, 50, 1])\n",
      "torch.Size([64, 50, 1])\n",
      "torch.Size([256, 1])\n",
      "torch.Size([64, 50, 1])\n",
      "torch.Size([64, 50, 1])\n",
      "torch.Size([448, 1])\n",
      "torch.Size([64, 50, 1])\n",
      "torch.Size([64, 50, 1])\n",
      "torch.Size([192, 1])\n",
      "torch.Size([64, 50, 1])\n",
      "torch.Size([64, 50, 1])\n",
      "torch.Size([192, 1])\n",
      "torch.Size([64, 50, 1])\n",
      "torch.Size([64, 50, 1])\n",
      "torch.Size([384, 1])\n",
      "torch.Size([64, 50, 1])\n",
      "torch.Size([64, 50, 1])\n",
      "torch.Size([128, 1])\n",
      "torch.Size([64, 50, 1])\n",
      "torch.Size([64, 50, 1])\n",
      "torch.Size([192, 1])\n",
      "torch.Size([64, 50, 1])\n"
     ]
    },
    {
     "name": "stderr",
     "output_type": "stream",
     "text": [
      "  1%|          | 796/100000 [00:10<22:03, 74.94it/s]"
     ]
    },
    {
     "name": "stdout",
     "output_type": "stream",
     "text": [
      "torch.Size([64, 50, 1])\n",
      "torch.Size([320, 1])\n",
      "torch.Size([64, 50, 1])\n",
      "torch.Size([64, 50, 1])\n",
      "torch.Size([192, 1])\n",
      "torch.Size([64, 50, 1])\n",
      "torch.Size([64, 50, 1])\n",
      "torch.Size([128, 1])\n",
      "torch.Size([64, 50, 1])\n",
      "torch.Size([64, 50, 1])\n",
      "torch.Size([512, 1])\n",
      "torch.Size([64, 50, 1])\n",
      "torch.Size([64, 50, 1])\n",
      "torch.Size([128, 1])\n",
      "torch.Size([64, 50, 1])\n",
      "torch.Size([64, 50, 1])\n",
      "torch.Size([192, 1])\n",
      "torch.Size([64, 50, 1])\n",
      "torch.Size([64, 50, 1])\n",
      "torch.Size([384, 1])\n",
      "torch.Size([64, 50, 1])\n",
      "torch.Size([64, 50, 1])\n",
      "torch.Size([192, 1])\n",
      "torch.Size([64, 50, 1])\n",
      "torch.Size([64, 50, 1])\n",
      "torch.Size([128, 1])\n",
      "torch.Size([64, 50, 1])\n",
      "torch.Size([64, 50, 1])\n",
      "torch.Size([384, 1])\n",
      "torch.Size([64, 50, 1])\n",
      "torch.Size([64, 50, 1])\n",
      "torch.Size([384, 1])\n",
      "torch.Size([64, 50, 1])\n",
      "torch.Size([64, 50, 1])\n",
      "torch.Size([256, 1])\n",
      "torch.Size([64, 50, 1])\n",
      "torch.Size([64, 50, 1])\n",
      "torch.Size([384, 1])\n",
      "torch.Size([64, 50, 1])\n",
      "torch.Size([64, 50, 1])\n",
      "torch.Size([256, 1])\n",
      "torch.Size([64, 50, 1])\n",
      "torch.Size([64, 50, 1])\n",
      "torch.Size([576, 1])\n",
      "torch.Size([64, 50, 1])\n",
      "torch.Size([64, 50, 1])\n",
      "torch.Size([512, 1])\n",
      "torch.Size([64, 50, 1])\n",
      "torch.Size([64, 50, 1])\n",
      "torch.Size([128, 1])\n",
      "torch.Size([64, 50, 1])\n",
      "torch.Size([64, 50, 1])\n",
      "torch.Size([512, 1])\n",
      "torch.Size([64, 50, 1])\n",
      "torch.Size([64, 50, 1])\n",
      "torch.Size([384, 1])\n",
      "torch.Size([64, 50, 1])\n",
      "torch.Size([64, 50, 1])\n",
      "torch.Size([320, 1])\n",
      "torch.Size([64, 50, 1])\n",
      "torch.Size([64, 50, 1])\n",
      "torch.Size([256, 1])\n",
      "torch.Size([64, 50, 1])\n",
      "torch.Size([64, 50, 1])\n",
      "torch.Size([448, 1])\n",
      "torch.Size([64, 50, 1])\n",
      "torch.Size([64, 50, 1])\n",
      "torch.Size([448, 1])\n",
      "Mean training loss at epoch 800 :                         7.381\n",
      "torch.Size([20, 1])\n",
      "Mean Validation loss after 800 equals                     7.249\n",
      "\n",
      "Validation loss for the function plotted:                 7.249\n"
     ]
    },
    {
     "data": {
      "image/png": "[encoded data removed]",
      "text/plain": [
       "<Figure size 432x288 with 1 Axes>"
      ]
     },
     "metadata": {
      "needs_background": "light"
     },
     "output_type": "display_data"
    },
    {
     "name": "stderr",
     "output_type": "stream",
     "text": [
      "  1%|          | 801/100000 [00:10<22:34, 73.25it/s]\n"
     ]
    },
    {
     "ename": "KeyboardInterrupt",
     "evalue": "",
     "output_type": "error",
     "traceback": [
      "\u001b[0;31m---------------------------------------------------------------------------\u001b[0m",
      "\u001b[0;31mKeyboardInterrupt\u001b[0m                         Traceback (most recent call last)",
      "\u001b[0;32m<ipython-input-13-606f3ca9ee69>\u001b[0m in \u001b[0;36m<module>\u001b[0;34m\u001b[0m\n\u001b[1;32m     21\u001b[0m     \u001b[0mdata_kwargs\u001b[0m\u001b[0;34m=\u001b[0m\u001b[0mdefault_conf\u001b[0m\u001b[0;34m[\u001b[0m\u001b[0;34m'data_kwargs'\u001b[0m\u001b[0;34m]\u001b[0m\u001b[0;34m,\u001b[0m\u001b[0;34m\u001b[0m\u001b[0;34m\u001b[0m\u001b[0m\n\u001b[1;32m     22\u001b[0m     **default_conf['experiment_params'])\n\u001b[0;32m---> 23\u001b[0;31m state_dict_encoder, state_dict_decoder, state_dict_aggregator, train_loss, vali_loss = trainer.run_training(\n\u001b[0m\u001b[1;32m     24\u001b[0m     \u001b[0mbatch_size_train\u001b[0m\u001b[0;34m=\u001b[0m\u001b[0mdefault_conf\u001b[0m\u001b[0;34m[\u001b[0m\u001b[0;34m'train_kwargs'\u001b[0m\u001b[0;34m]\u001b[0m\u001b[0;34m[\u001b[0m\u001b[0;34m'batch_size_train'\u001b[0m\u001b[0;34m]\u001b[0m\u001b[0;34m,\u001b[0m\u001b[0;34m\u001b[0m\u001b[0;34m\u001b[0m\u001b[0m\n\u001b[1;32m     25\u001b[0m     \u001b[0mbatch_size_vali\u001b[0m\u001b[0;34m=\u001b[0m\u001b[0mdefault_conf\u001b[0m\u001b[0;34m[\u001b[0m\u001b[0;34m'train_kwargs'\u001b[0m\u001b[0;34m]\u001b[0m\u001b[0;34m[\u001b[0m\u001b[0;34m'batch_size_vali'\u001b[0m\u001b[0;34m]\u001b[0m\u001b[0;34m,\u001b[0m\u001b[0;34m\u001b[0m\u001b[0;34m\u001b[0m\u001b[0m\n",
      "\u001b[0;32m~/Google Drive/University/UC3M/TFM/cnp_repo/neural-processes/cnp/trainer.py\u001b[0m in \u001b[0;36mrun_training\u001b[0;34m(self, print_after, batch_size_train, batch_size_vali)\u001b[0m\n\u001b[1;32m    213\u001b[0m             \u001b[0;32mif\u001b[0m \u001b[0mself\u001b[0m\u001b[0;34m.\u001b[0m\u001b[0m_datagenerator\u001b[0m\u001b[0;34m:\u001b[0m  \u001b[0;31m# generate data on the fly for every epoch\u001b[0m\u001b[0;34m\u001b[0m\u001b[0;34m\u001b[0m\u001b[0m\n\u001b[1;32m    214\u001b[0m \u001b[0;34m\u001b[0m\u001b[0m\n\u001b[0;32m--> 215\u001b[0;31m                 trainloader = self._datagenerator.generate_loader_on_fly(\n\u001b[0m\u001b[1;32m    216\u001b[0m                     batch_size_train, self.data_kwargs, purpose='train')\n\u001b[1;32m    217\u001b[0m \u001b[0;34m\u001b[0m\u001b[0m\n",
      "\u001b[0;32m~/Google Drive/University/UC3M/TFM/cnp_repo/neural-processes/cnp/datageneration.py\u001b[0m in \u001b[0;36mgenerate_loader_on_fly\u001b[0;34m(self, batch_size, kwargs, purpose)\u001b[0m\n\u001b[1;32m     47\u001b[0m         \u001b[0mkwargs\u001b[0m\u001b[0;34m[\u001b[0m\u001b[0;34m'purpose'\u001b[0m\u001b[0;34m]\u001b[0m \u001b[0;34m=\u001b[0m \u001b[0mpurpose\u001b[0m\u001b[0;34m\u001b[0m\u001b[0;34m\u001b[0m\u001b[0m\n\u001b[1;32m     48\u001b[0m \u001b[0;34m\u001b[0m\u001b[0m\n\u001b[0;32m---> 49\u001b[0;31m         \u001b[0mX\u001b[0m\u001b[0;34m,\u001b[0m \u001b[0my\u001b[0m \u001b[0;34m=\u001b[0m \u001b[0mself\u001b[0m\u001b[0;34m.\u001b[0m\u001b[0mgenerate_curves\u001b[0m\u001b[0;34m(\u001b[0m\u001b[0;34m**\u001b[0m\u001b[0mkwargs\u001b[0m\u001b[0;34m)\u001b[0m\u001b[0;34m\u001b[0m\u001b[0;34m\u001b[0m\u001b[0m\n\u001b[0m\u001b[1;32m     50\u001b[0m \u001b[0;34m\u001b[0m\u001b[0m\n\u001b[1;32m     51\u001b[0m         loader = Helper.create_loader(\n",
      "\u001b[0;32m~/Google Drive/University/UC3M/TFM/cnp_repo/neural-processes/cnp/datageneration.py\u001b[0m in \u001b[0;36mgenerate_curves\u001b[0;34m(self, mu_gen, sigma_gen, mu_noise, sigma_noise, min_coef, max_coef, num_instances_train, num_instances_vali, num_instances_test, purpose, seed)\u001b[0m\n\u001b[1;32m    171\u001b[0m \u001b[0;34m\u001b[0m\u001b[0m\n\u001b[1;32m    172\u001b[0m         \u001b[0;32mfor\u001b[0m \u001b[0mi\u001b[0m \u001b[0;32min\u001b[0m \u001b[0mrange\u001b[0m\u001b[0;34m(\u001b[0m\u001b[0;36m0\u001b[0m\u001b[0;34m,\u001b[0m \u001b[0mself\u001b[0m\u001b[0;34m.\u001b[0m\u001b[0m_xdim\u001b[0m\u001b[0;34m)\u001b[0m\u001b[0;34m:\u001b[0m\u001b[0;34m\u001b[0m\u001b[0;34m\u001b[0m\u001b[0m\n\u001b[0;32m--> 173\u001b[0;31m             x_values_copy = torch.cat((\n\u001b[0m\u001b[1;32m    174\u001b[0m                 \u001b[0mx_values_copy\u001b[0m\u001b[0;34m,\u001b[0m\u001b[0;34m\u001b[0m\u001b[0;34m\u001b[0m\u001b[0m\n\u001b[1;32m    175\u001b[0m                 \u001b[0;34m(\u001b[0m\u001b[0mx_values_copy\u001b[0m\u001b[0;34m[\u001b[0m\u001b[0;34m:\u001b[0m\u001b[0;34m,\u001b[0m \u001b[0;34m:\u001b[0m\u001b[0;34m,\u001b[0m \u001b[0mi\u001b[0m\u001b[0;34m]\u001b[0m \u001b[0;34m**\u001b[0m \u001b[0;36m2\u001b[0m\u001b[0;34m)\u001b[0m\u001b[0;34m[\u001b[0m\u001b[0;34m:\u001b[0m\u001b[0;34m,\u001b[0m \u001b[0;34m:\u001b[0m\u001b[0;34m,\u001b[0m \u001b[0;32mNone\u001b[0m\u001b[0;34m]\u001b[0m\u001b[0;34m,\u001b[0m\u001b[0;34m\u001b[0m\u001b[0;34m\u001b[0m\u001b[0m\n",
      "\u001b[0;31mKeyboardInterrupt\u001b[0m: "
     ]
    }
   ],
   "source": [
    "with open(os.path.join(config_dir,'1d_polynomial_compare_simple_aggregation.json')) as f:\n",
    "    file = f.read()\n",
    "    default_conf = json.loads(file)\n",
    "\n",
    "# checking whether CUDA is available \n",
    "train_on_gpu = torch.cuda.is_available()\n",
    "if(train_on_gpu):\n",
    "    print('Training on GPU!')\n",
    "    default_conf['experiment_params']['train_on_gpu'] = True\n",
    "else: \n",
    "    print('No GPU available, training on CPU')\n",
    "    default_conf['experiment_params']['train_on_gpu'] = False\n",
    "\n",
    "\n",
    "default_conf['cnp_params']['aggregation_kwargs']['simple_aggregator_type'] = 'sum'    \n",
    "    \n",
    "    \n",
    "CondNeuralProcess = RegressionCNP(**default_conf['cnp_params'])\n",
    "trainer = RegressionTrainer(\n",
    "    cnp=CondNeuralProcess,\n",
    "    data_kwargs=default_conf['data_kwargs'],\n",
    "    **default_conf['experiment_params'])\n",
    "state_dict_encoder, state_dict_decoder, state_dict_aggregator, train_loss, vali_loss = trainer.run_training(\n",
    "    batch_size_train=default_conf['train_kwargs']['batch_size_train'],\n",
    "    batch_size_vali=default_conf['train_kwargs']['batch_size_vali'],\n",
    "    print_after=default_conf['train_kwargs']['print_after'])"
   ]
  },
  {
   "cell_type": "code",
   "execution_count": 11,
   "metadata": {},
   "outputs": [
    {
     "data": {
      "text/plain": [
       "tensor([[[7.9436e-01],\n",
       "         [3.6594e-01],\n",
       "         [8.4121e-01],\n",
       "         [1.4722e-01],\n",
       "         [6.4939e-01],\n",
       "         [7.4191e-01],\n",
       "         [2.5715e-01],\n",
       "         [5.8786e-01],\n",
       "         [5.4713e-01],\n",
       "         [3.4016e-01],\n",
       "         [1.4250e-01],\n",
       "         [6.0306e-01]],\n",
       "\n",
       "        [[9.7779e-01],\n",
       "         [3.5256e-01],\n",
       "         [6.3830e-01],\n",
       "         [2.8637e-01],\n",
       "         [5.6761e-01],\n",
       "         [9.5166e-01],\n",
       "         [5.7443e-02],\n",
       "         [5.5721e-01],\n",
       "         [6.1298e-01],\n",
       "         [3.2428e-01],\n",
       "         [3.7792e-02],\n",
       "         [7.9349e-01]],\n",
       "\n",
       "        [[5.8874e-01],\n",
       "         [4.0066e-01],\n",
       "         [3.0929e-01],\n",
       "         [3.5649e-01],\n",
       "         [6.5353e-01],\n",
       "         [4.3834e-01],\n",
       "         [7.9219e-01],\n",
       "         [6.7270e-01],\n",
       "         [3.5426e-01],\n",
       "         [5.0705e-01],\n",
       "         [2.6545e-01],\n",
       "         [1.1756e-01]],\n",
       "\n",
       "        [[7.6378e-01],\n",
       "         [5.7094e-01],\n",
       "         [8.4841e-01],\n",
       "         [6.3334e-01],\n",
       "         [1.7959e-01],\n",
       "         [9.0344e-01],\n",
       "         [5.9470e-03],\n",
       "         [6.3650e-01],\n",
       "         [6.9430e-01],\n",
       "         [8.7809e-01],\n",
       "         [1.8649e-01],\n",
       "         [9.2317e-01]],\n",
       "\n",
       "        [[4.1989e-01],\n",
       "         [5.1244e-01],\n",
       "         [7.9076e-01],\n",
       "         [7.6507e-01],\n",
       "         [1.6011e-01],\n",
       "         [6.8587e-01],\n",
       "         [3.5169e-01],\n",
       "         [1.1704e-01],\n",
       "         [6.1789e-01],\n",
       "         [3.7997e-01],\n",
       "         [1.6050e-01],\n",
       "         [1.8205e-01]],\n",
       "\n",
       "        [[4.7440e-01],\n",
       "         [7.9339e-01],\n",
       "         [3.6135e-01],\n",
       "         [3.8412e-01],\n",
       "         [9.1748e-02],\n",
       "         [1.8376e-01],\n",
       "         [8.9034e-01],\n",
       "         [9.9935e-01],\n",
       "         [3.9234e-01],\n",
       "         [4.8280e-01],\n",
       "         [2.4256e-01],\n",
       "         [4.9786e-01]],\n",
       "\n",
       "        [[8.6361e-01],\n",
       "         [4.2623e-01],\n",
       "         [2.6620e-02],\n",
       "         [8.8803e-01],\n",
       "         [7.2074e-01],\n",
       "         [7.9242e-01],\n",
       "         [8.5476e-01],\n",
       "         [6.0707e-01],\n",
       "         [9.1211e-01],\n",
       "         [6.6453e-01],\n",
       "         [8.2612e-01],\n",
       "         [3.7534e-01]],\n",
       "\n",
       "        [[8.4635e-01],\n",
       "         [9.5300e-01],\n",
       "         [4.0040e-01],\n",
       "         [7.4277e-02],\n",
       "         [2.7018e-02],\n",
       "         [9.8841e-01],\n",
       "         [3.4582e-01],\n",
       "         [7.8181e-01],\n",
       "         [1.4729e-01],\n",
       "         [3.9088e-01],\n",
       "         [5.4374e-01],\n",
       "         [1.3311e-02]],\n",
       "\n",
       "        [[1.0357e-02],\n",
       "         [3.6370e-01],\n",
       "         [5.3798e-01],\n",
       "         [5.9263e-01],\n",
       "         [3.1508e-01],\n",
       "         [8.8899e-01],\n",
       "         [5.8251e-01],\n",
       "         [1.3456e-01],\n",
       "         [5.5465e-01],\n",
       "         [2.4076e-01],\n",
       "         [4.9087e-01],\n",
       "         [3.0584e-01]],\n",
       "\n",
       "        [[5.0440e-01],\n",
       "         [9.2527e-01],\n",
       "         [4.0138e-01],\n",
       "         [7.4228e-01],\n",
       "         [2.8202e-01],\n",
       "         [1.4277e-01],\n",
       "         [4.7852e-01],\n",
       "         [3.6347e-01],\n",
       "         [4.8305e-01],\n",
       "         [6.1835e-01],\n",
       "         [5.3403e-01],\n",
       "         [7.1368e-01]],\n",
       "\n",
       "        [[2.3142e-01],\n",
       "         [5.3676e-02],\n",
       "         [5.4104e-01],\n",
       "         [2.5647e-01],\n",
       "         [9.6068e-01],\n",
       "         [9.9194e-01],\n",
       "         [6.4878e-01],\n",
       "         [8.9874e-01],\n",
       "         [3.6171e-01],\n",
       "         [7.6651e-01],\n",
       "         [7.8573e-02],\n",
       "         [1.9508e-01]],\n",
       "\n",
       "        [[3.6047e-01],\n",
       "         [3.6190e-01],\n",
       "         [1.6466e-01],\n",
       "         [8.5583e-01],\n",
       "         [9.6276e-01],\n",
       "         [3.9296e-01],\n",
       "         [3.9212e-02],\n",
       "         [5.8024e-01],\n",
       "         [9.9695e-01],\n",
       "         [9.0680e-01],\n",
       "         [4.8678e-01],\n",
       "         [9.7224e-02]],\n",
       "\n",
       "        [[9.2597e-01],\n",
       "         [7.1613e-01],\n",
       "         [8.0634e-01],\n",
       "         [4.1217e-01],\n",
       "         [1.2160e-01],\n",
       "         [6.8064e-01],\n",
       "         [5.8862e-01],\n",
       "         [3.2939e-01],\n",
       "         [3.6485e-01],\n",
       "         [3.3644e-01],\n",
       "         [7.1573e-02],\n",
       "         [8.6818e-01]],\n",
       "\n",
       "        [[7.0893e-01],\n",
       "         [1.0388e-01],\n",
       "         [4.8711e-01],\n",
       "         [2.5825e-01],\n",
       "         [3.5061e-01],\n",
       "         [1.9808e-01],\n",
       "         [1.4366e-01],\n",
       "         [1.7263e-01],\n",
       "         [6.7040e-01],\n",
       "         [7.1832e-01],\n",
       "         [2.5082e-01],\n",
       "         [4.2943e-01]],\n",
       "\n",
       "        [[5.9476e-02],\n",
       "         [1.2335e-01],\n",
       "         [9.8808e-01],\n",
       "         [3.1241e-01],\n",
       "         [5.5948e-01],\n",
       "         [3.0201e-01],\n",
       "         [7.9863e-01],\n",
       "         [6.5327e-01],\n",
       "         [1.6698e-01],\n",
       "         [2.8478e-01],\n",
       "         [9.9267e-01],\n",
       "         [1.3065e-01]],\n",
       "\n",
       "        [[9.0485e-01],\n",
       "         [4.2234e-01],\n",
       "         [1.0199e-01],\n",
       "         [5.6953e-01],\n",
       "         [8.7495e-01],\n",
       "         [9.3534e-01],\n",
       "         [9.3224e-01],\n",
       "         [3.3448e-01],\n",
       "         [7.5478e-02],\n",
       "         [7.0560e-01],\n",
       "         [9.3136e-01],\n",
       "         [7.8437e-01]],\n",
       "\n",
       "        [[9.3340e-01],\n",
       "         [5.9838e-01],\n",
       "         [3.5593e-01],\n",
       "         [4.2110e-01],\n",
       "         [9.2359e-01],\n",
       "         [9.5944e-01],\n",
       "         [2.1496e-01],\n",
       "         [4.7110e-01],\n",
       "         [3.0925e-02],\n",
       "         [1.6927e-01],\n",
       "         [2.3610e-01],\n",
       "         [2.9972e-01]],\n",
       "\n",
       "        [[7.4765e-01],\n",
       "         [2.3236e-01],\n",
       "         [7.3473e-01],\n",
       "         [5.7621e-01],\n",
       "         [6.0223e-01],\n",
       "         [8.9605e-01],\n",
       "         [3.9902e-01],\n",
       "         [5.9309e-01],\n",
       "         [7.3834e-01],\n",
       "         [1.8094e-01],\n",
       "         [7.5586e-01],\n",
       "         [7.3278e-01]],\n",
       "\n",
       "        [[8.6791e-01],\n",
       "         [3.5737e-01],\n",
       "         [5.7608e-01],\n",
       "         [1.6578e-01],\n",
       "         [7.4205e-01],\n",
       "         [5.8501e-01],\n",
       "         [9.8679e-01],\n",
       "         [5.1222e-01],\n",
       "         [2.7708e-01],\n",
       "         [1.4624e-01],\n",
       "         [2.5228e-01],\n",
       "         [9.3801e-01]],\n",
       "\n",
       "        [[3.0909e-01],\n",
       "         [9.0930e-01],\n",
       "         [3.8736e-01],\n",
       "         [8.4135e-01],\n",
       "         [1.5085e-01],\n",
       "         [7.1485e-02],\n",
       "         [5.5948e-01],\n",
       "         [2.7514e-02],\n",
       "         [7.4423e-01],\n",
       "         [6.5203e-01],\n",
       "         [1.5967e-01],\n",
       "         [8.8147e-01]],\n",
       "\n",
       "        [[2.0369e-01],\n",
       "         [5.6214e-01],\n",
       "         [6.0179e-01],\n",
       "         [2.2405e-02],\n",
       "         [4.4236e-01],\n",
       "         [7.1555e-01],\n",
       "         [8.5558e-01],\n",
       "         [5.6860e-01],\n",
       "         [4.9322e-01],\n",
       "         [8.0864e-01],\n",
       "         [7.9361e-01],\n",
       "         [5.1113e-01]],\n",
       "\n",
       "        [[6.8296e-01],\n",
       "         [8.2102e-01],\n",
       "         [7.9117e-02],\n",
       "         [5.3659e-01],\n",
       "         [1.5546e-01],\n",
       "         [3.3962e-01],\n",
       "         [1.6816e-01],\n",
       "         [4.7348e-01],\n",
       "         [6.0804e-01],\n",
       "         [2.4636e-01],\n",
       "         [8.8986e-01],\n",
       "         [7.3443e-01]],\n",
       "\n",
       "        [[3.8898e-01],\n",
       "         [4.7806e-01],\n",
       "         [1.9864e-01],\n",
       "         [7.0788e-01],\n",
       "         [3.6127e-01],\n",
       "         [2.0652e-01],\n",
       "         [7.3773e-02],\n",
       "         [4.6804e-01],\n",
       "         [3.4399e-01],\n",
       "         [6.0808e-01],\n",
       "         [1.6323e-01],\n",
       "         [7.0706e-01]],\n",
       "\n",
       "        [[5.1130e-01],\n",
       "         [5.5663e-01],\n",
       "         [8.3940e-01],\n",
       "         [2.2265e-01],\n",
       "         [8.8784e-01],\n",
       "         [9.2872e-01],\n",
       "         [1.2885e-02],\n",
       "         [4.8787e-01],\n",
       "         [1.6218e-01],\n",
       "         [6.0059e-03],\n",
       "         [5.1668e-02],\n",
       "         [9.2368e-01]],\n",
       "\n",
       "        [[5.6303e-01],\n",
       "         [9.6808e-01],\n",
       "         [5.3793e-02],\n",
       "         [9.4484e-01],\n",
       "         [8.0067e-01],\n",
       "         [3.2818e-01],\n",
       "         [8.8089e-01],\n",
       "         [3.4504e-01],\n",
       "         [5.5276e-01],\n",
       "         [4.7014e-02],\n",
       "         [3.3165e-01],\n",
       "         [8.2011e-01]],\n",
       "\n",
       "        [[7.3860e-01],\n",
       "         [3.8118e-01],\n",
       "         [4.6514e-02],\n",
       "         [5.8379e-02],\n",
       "         [3.4917e-02],\n",
       "         [3.6979e-01],\n",
       "         [2.1980e-02],\n",
       "         [1.1956e-01],\n",
       "         [9.9893e-01],\n",
       "         [3.7465e-01],\n",
       "         [4.7215e-02],\n",
       "         [5.2389e-01]],\n",
       "\n",
       "        [[4.1290e-01],\n",
       "         [7.8447e-01],\n",
       "         [7.7679e-01],\n",
       "         [7.5409e-02],\n",
       "         [5.0143e-01],\n",
       "         [7.3755e-01],\n",
       "         [4.4861e-01],\n",
       "         [8.0862e-01],\n",
       "         [8.4838e-01],\n",
       "         [4.9051e-02],\n",
       "         [9.5664e-02],\n",
       "         [4.5338e-01]],\n",
       "\n",
       "        [[5.8334e-01],\n",
       "         [4.0694e-01],\n",
       "         [4.8050e-01],\n",
       "         [8.0543e-01],\n",
       "         [1.6761e-02],\n",
       "         [7.6039e-01],\n",
       "         [2.1260e-01],\n",
       "         [4.7778e-01],\n",
       "         [8.4007e-01],\n",
       "         [5.8255e-01],\n",
       "         [8.0294e-01],\n",
       "         [2.3372e-01]],\n",
       "\n",
       "        [[3.2754e-01],\n",
       "         [8.2673e-01],\n",
       "         [1.4837e-01],\n",
       "         [9.5069e-02],\n",
       "         [3.7652e-01],\n",
       "         [1.6193e-01],\n",
       "         [5.5201e-01],\n",
       "         [7.0141e-01],\n",
       "         [9.1396e-01],\n",
       "         [6.9980e-01],\n",
       "         [9.4027e-01],\n",
       "         [5.4825e-01]],\n",
       "\n",
       "        [[3.4718e-01],\n",
       "         [4.6933e-02],\n",
       "         [4.7264e-01],\n",
       "         [4.9198e-01],\n",
       "         [8.1164e-02],\n",
       "         [9.1766e-01],\n",
       "         [9.1295e-01],\n",
       "         [8.8731e-02],\n",
       "         [9.3255e-01],\n",
       "         [1.4758e-02],\n",
       "         [1.6648e-01],\n",
       "         [2.8163e-01]],\n",
       "\n",
       "        [[2.8733e-01],\n",
       "         [7.8296e-01],\n",
       "         [5.2004e-01],\n",
       "         [6.8820e-01],\n",
       "         [7.5990e-01],\n",
       "         [5.3082e-02],\n",
       "         [8.7971e-01],\n",
       "         [8.7780e-01],\n",
       "         [8.3947e-01],\n",
       "         [7.2267e-01],\n",
       "         [5.6121e-01],\n",
       "         [5.5164e-01]],\n",
       "\n",
       "        [[4.8731e-01],\n",
       "         [7.1865e-01],\n",
       "         [3.1381e-01],\n",
       "         [1.5497e-01],\n",
       "         [6.2985e-01],\n",
       "         [3.4480e-01],\n",
       "         [7.6898e-01],\n",
       "         [6.8030e-02],\n",
       "         [4.0611e-01],\n",
       "         [6.4716e-01],\n",
       "         [8.5123e-01],\n",
       "         [1.1466e-01]],\n",
       "\n",
       "        [[3.8513e-01],\n",
       "         [6.1780e-01],\n",
       "         [4.5883e-01],\n",
       "         [9.5876e-01],\n",
       "         [3.8891e-01],\n",
       "         [2.3521e-02],\n",
       "         [8.4104e-01],\n",
       "         [4.1151e-01],\n",
       "         [4.3969e-01],\n",
       "         [2.4020e-01],\n",
       "         [6.2287e-01],\n",
       "         [4.9092e-01]],\n",
       "\n",
       "        [[2.1531e-02],\n",
       "         [6.0261e-01],\n",
       "         [7.7811e-01],\n",
       "         [2.3397e-01],\n",
       "         [6.5565e-01],\n",
       "         [3.6828e-01],\n",
       "         [3.3914e-01],\n",
       "         [5.6971e-01],\n",
       "         [9.7631e-01],\n",
       "         [4.2556e-01],\n",
       "         [9.9693e-01],\n",
       "         [1.1402e-01]],\n",
       "\n",
       "        [[4.7312e-01],\n",
       "         [2.5884e-01],\n",
       "         [5.9814e-01],\n",
       "         [6.6618e-01],\n",
       "         [7.0054e-01],\n",
       "         [6.8894e-01],\n",
       "         [2.3725e-01],\n",
       "         [3.7454e-01],\n",
       "         [7.2246e-01],\n",
       "         [6.7503e-01],\n",
       "         [3.1208e-01],\n",
       "         [6.2399e-03]],\n",
       "\n",
       "        [[3.2992e-01],\n",
       "         [2.9875e-01],\n",
       "         [2.9847e-01],\n",
       "         [2.2872e-01],\n",
       "         [7.7146e-01],\n",
       "         [3.7876e-01],\n",
       "         [3.0930e-01],\n",
       "         [2.1355e-01],\n",
       "         [7.1863e-02],\n",
       "         [4.7548e-01],\n",
       "         [1.6945e-01],\n",
       "         [4.8135e-01]],\n",
       "\n",
       "        [[2.9628e-01],\n",
       "         [2.0649e-01],\n",
       "         [9.8770e-01],\n",
       "         [9.9942e-01],\n",
       "         [8.1818e-01],\n",
       "         [7.7343e-01],\n",
       "         [6.1138e-01],\n",
       "         [5.1956e-01],\n",
       "         [5.2156e-01],\n",
       "         [5.7553e-01],\n",
       "         [3.6964e-01],\n",
       "         [2.2376e-01]],\n",
       "\n",
       "        [[1.3230e-01],\n",
       "         [9.2611e-02],\n",
       "         [1.6977e-02],\n",
       "         [1.8898e-01],\n",
       "         [3.9095e-02],\n",
       "         [5.1084e-01],\n",
       "         [6.8269e-01],\n",
       "         [5.0470e-02],\n",
       "         [2.7371e-01],\n",
       "         [3.5279e-01],\n",
       "         [2.4042e-01],\n",
       "         [4.7803e-03]],\n",
       "\n",
       "        [[6.6252e-02],\n",
       "         [1.0914e-01],\n",
       "         [1.0523e-01],\n",
       "         [4.0193e-01],\n",
       "         [5.5742e-01],\n",
       "         [6.8577e-01],\n",
       "         [3.9405e-01],\n",
       "         [9.8638e-01],\n",
       "         [1.0799e-01],\n",
       "         [1.2357e-01],\n",
       "         [3.2342e-01],\n",
       "         [7.7201e-01]],\n",
       "\n",
       "        [[4.3512e-01],\n",
       "         [1.3463e-01],\n",
       "         [3.8797e-01],\n",
       "         [7.3190e-02],\n",
       "         [9.4753e-02],\n",
       "         [5.9002e-02],\n",
       "         [1.3038e-01],\n",
       "         [9.3279e-01],\n",
       "         [7.0662e-01],\n",
       "         [9.0238e-01],\n",
       "         [4.9061e-01],\n",
       "         [3.4709e-01]],\n",
       "\n",
       "        [[5.8800e-01],\n",
       "         [8.8576e-01],\n",
       "         [3.3660e-01],\n",
       "         [4.7081e-01],\n",
       "         [4.7561e-01],\n",
       "         [8.9300e-01],\n",
       "         [6.0278e-02],\n",
       "         [2.1869e-01],\n",
       "         [5.9539e-01],\n",
       "         [6.9120e-02],\n",
       "         [8.0583e-01],\n",
       "         [1.0280e-01]],\n",
       "\n",
       "        [[1.9395e-02],\n",
       "         [2.4507e-01],\n",
       "         [9.8958e-01],\n",
       "         [3.1170e-01],\n",
       "         [3.2590e-01],\n",
       "         [5.2131e-01],\n",
       "         [3.2638e-01],\n",
       "         [9.9380e-01],\n",
       "         [1.4627e-01],\n",
       "         [4.3486e-01],\n",
       "         [3.6911e-02],\n",
       "         [6.9113e-01]],\n",
       "\n",
       "        [[4.3399e-01],\n",
       "         [1.2270e-01],\n",
       "         [8.7281e-01],\n",
       "         [8.9453e-02],\n",
       "         [5.2562e-01],\n",
       "         [1.9947e-01],\n",
       "         [2.6077e-01],\n",
       "         [5.8129e-01],\n",
       "         [9.1338e-01],\n",
       "         [4.3100e-01],\n",
       "         [4.4626e-01],\n",
       "         [2.2779e-01]],\n",
       "\n",
       "        [[6.6523e-02],\n",
       "         [2.4171e-01],\n",
       "         [8.0920e-01],\n",
       "         [6.5308e-01],\n",
       "         [8.2546e-01],\n",
       "         [4.6494e-01],\n",
       "         [4.6594e-02],\n",
       "         [7.7979e-01],\n",
       "         [4.3918e-01],\n",
       "         [4.9834e-01],\n",
       "         [8.0480e-01],\n",
       "         [7.3104e-01]],\n",
       "\n",
       "        [[2.2769e-01],\n",
       "         [1.6844e-01],\n",
       "         [6.8645e-01],\n",
       "         [9.3569e-01],\n",
       "         [1.3404e-02],\n",
       "         [8.6347e-01],\n",
       "         [2.0487e-01],\n",
       "         [6.5222e-01],\n",
       "         [3.8222e-01],\n",
       "         [3.2849e-01],\n",
       "         [5.5843e-01],\n",
       "         [6.5763e-02]],\n",
       "\n",
       "        [[9.6806e-01],\n",
       "         [3.6016e-01],\n",
       "         [9.5852e-01],\n",
       "         [8.4721e-01],\n",
       "         [9.5621e-01],\n",
       "         [6.2329e-01],\n",
       "         [4.3105e-01],\n",
       "         [6.1870e-02],\n",
       "         [9.1144e-01],\n",
       "         [1.6544e-01],\n",
       "         [2.6854e-01],\n",
       "         [4.5507e-01]],\n",
       "\n",
       "        [[7.7090e-04],\n",
       "         [8.2826e-01],\n",
       "         [1.7701e-01],\n",
       "         [2.0660e-01],\n",
       "         [6.7306e-01],\n",
       "         [3.9453e-01],\n",
       "         [3.1347e-01],\n",
       "         [2.3495e-02],\n",
       "         [5.1208e-01],\n",
       "         [7.3933e-01],\n",
       "         [6.8974e-01],\n",
       "         [8.7502e-01]],\n",
       "\n",
       "        [[3.4886e-01],\n",
       "         [3.8803e-01],\n",
       "         [6.9388e-01],\n",
       "         [6.0685e-01],\n",
       "         [3.9148e-01],\n",
       "         [6.4132e-01],\n",
       "         [2.3830e-01],\n",
       "         [5.8726e-01],\n",
       "         [6.5928e-01],\n",
       "         [7.3370e-01],\n",
       "         [5.9609e-01],\n",
       "         [4.8666e-01]],\n",
       "\n",
       "        [[1.6713e-02],\n",
       "         [3.2088e-01],\n",
       "         [4.4956e-01],\n",
       "         [2.2240e-02],\n",
       "         [3.1901e-03],\n",
       "         [7.3422e-01],\n",
       "         [9.4225e-01],\n",
       "         [8.1743e-01],\n",
       "         [7.6163e-01],\n",
       "         [3.8410e-01],\n",
       "         [2.6917e-01],\n",
       "         [8.4839e-01]],\n",
       "\n",
       "        [[6.8102e-01],\n",
       "         [8.7520e-01],\n",
       "         [1.7630e-01],\n",
       "         [2.1570e-01],\n",
       "         [6.9208e-01],\n",
       "         [9.2489e-01],\n",
       "         [9.8717e-01],\n",
       "         [4.3622e-01],\n",
       "         [9.2462e-01],\n",
       "         [7.4497e-02],\n",
       "         [7.2123e-01],\n",
       "         [5.4889e-01]],\n",
       "\n",
       "        [[1.0638e-01],\n",
       "         [9.9457e-01],\n",
       "         [1.1725e-01],\n",
       "         [8.4761e-01],\n",
       "         [8.1838e-01],\n",
       "         [6.0436e-01],\n",
       "         [2.0909e-01],\n",
       "         [7.4247e-01],\n",
       "         [6.6303e-01],\n",
       "         [8.7301e-02],\n",
       "         [4.5977e-01],\n",
       "         [7.8520e-01]],\n",
       "\n",
       "        [[1.5251e-01],\n",
       "         [2.3368e-01],\n",
       "         [3.7859e-01],\n",
       "         [2.6352e-01],\n",
       "         [2.9094e-01],\n",
       "         [7.3796e-01],\n",
       "         [1.6329e-01],\n",
       "         [2.7620e-01],\n",
       "         [8.9267e-01],\n",
       "         [6.3829e-01],\n",
       "         [7.6076e-01],\n",
       "         [1.5669e-01]],\n",
       "\n",
       "        [[7.3842e-01],\n",
       "         [4.9337e-02],\n",
       "         [4.7740e-01],\n",
       "         [6.6106e-01],\n",
       "         [6.3936e-01],\n",
       "         [8.2268e-01],\n",
       "         [8.9925e-01],\n",
       "         [3.8328e-01],\n",
       "         [2.7700e-01],\n",
       "         [6.3908e-01],\n",
       "         [3.2287e-01],\n",
       "         [1.6553e-01]],\n",
       "\n",
       "        [[7.0966e-02],\n",
       "         [5.6287e-01],\n",
       "         [2.5866e-01],\n",
       "         [8.0835e-03],\n",
       "         [4.9749e-01],\n",
       "         [9.2903e-01],\n",
       "         [5.9171e-01],\n",
       "         [3.4901e-01],\n",
       "         [3.7208e-01],\n",
       "         [3.3524e-01],\n",
       "         [5.8798e-02],\n",
       "         [7.3116e-01]],\n",
       "\n",
       "        [[3.5716e-01],\n",
       "         [4.8460e-01],\n",
       "         [5.9587e-02],\n",
       "         [6.8017e-02],\n",
       "         [9.4050e-01],\n",
       "         [3.7360e-01],\n",
       "         [7.4040e-01],\n",
       "         [6.8498e-01],\n",
       "         [3.6354e-01],\n",
       "         [4.8205e-01],\n",
       "         [9.1049e-01],\n",
       "         [6.9249e-01]],\n",
       "\n",
       "        [[8.2407e-01],\n",
       "         [1.6246e-02],\n",
       "         [6.9126e-01],\n",
       "         [6.8345e-01],\n",
       "         [5.8258e-01],\n",
       "         [7.7337e-01],\n",
       "         [6.3935e-02],\n",
       "         [6.2933e-01],\n",
       "         [2.7849e-01],\n",
       "         [5.9762e-01],\n",
       "         [8.2230e-01],\n",
       "         [1.8920e-01]],\n",
       "\n",
       "        [[6.3215e-01],\n",
       "         [7.0932e-01],\n",
       "         [3.7487e-01],\n",
       "         [8.5119e-02],\n",
       "         [8.8080e-01],\n",
       "         [4.5508e-01],\n",
       "         [6.5026e-01],\n",
       "         [6.5357e-01],\n",
       "         [8.9877e-01],\n",
       "         [9.3164e-01],\n",
       "         [8.2687e-01],\n",
       "         [8.3062e-01]],\n",
       "\n",
       "        [[8.5680e-01],\n",
       "         [8.5965e-01],\n",
       "         [6.8183e-01],\n",
       "         [7.5842e-01],\n",
       "         [7.2890e-01],\n",
       "         [9.1166e-01],\n",
       "         [7.5297e-01],\n",
       "         [8.1040e-01],\n",
       "         [3.6262e-01],\n",
       "         [3.0673e-01],\n",
       "         [9.8150e-01],\n",
       "         [1.0843e-01]],\n",
       "\n",
       "        [[9.7653e-01],\n",
       "         [5.1709e-01],\n",
       "         [5.3156e-01],\n",
       "         [9.9407e-01],\n",
       "         [2.7398e-01],\n",
       "         [8.7861e-01],\n",
       "         [8.5288e-02],\n",
       "         [3.1396e-01],\n",
       "         [1.0313e-01],\n",
       "         [4.4987e-01],\n",
       "         [7.0288e-01],\n",
       "         [3.5644e-01]],\n",
       "\n",
       "        [[9.6897e-01],\n",
       "         [1.1656e-02],\n",
       "         [7.5630e-01],\n",
       "         [8.1326e-01],\n",
       "         [2.5211e-01],\n",
       "         [5.4120e-01],\n",
       "         [7.1232e-01],\n",
       "         [4.0768e-01],\n",
       "         [8.3172e-01],\n",
       "         [5.5736e-01],\n",
       "         [4.8923e-01],\n",
       "         [2.8639e-02]],\n",
       "\n",
       "        [[5.7668e-01],\n",
       "         [8.4236e-01],\n",
       "         [5.9673e-01],\n",
       "         [4.2223e-01],\n",
       "         [6.8534e-02],\n",
       "         [1.6874e-01],\n",
       "         [8.7904e-01],\n",
       "         [1.7946e-02],\n",
       "         [7.5367e-01],\n",
       "         [2.0296e-01],\n",
       "         [3.4844e-01],\n",
       "         [7.6430e-01]],\n",
       "\n",
       "        [[5.2504e-02],\n",
       "         [4.2300e-01],\n",
       "         [7.6152e-01],\n",
       "         [8.4085e-01],\n",
       "         [6.6340e-01],\n",
       "         [7.3559e-01],\n",
       "         [9.0670e-01],\n",
       "         [9.4087e-01],\n",
       "         [3.1315e-01],\n",
       "         [5.4209e-01],\n",
       "         [4.1717e-01],\n",
       "         [7.3552e-01]],\n",
       "\n",
       "        [[9.4665e-01],\n",
       "         [9.6472e-01],\n",
       "         [9.1945e-01],\n",
       "         [6.7864e-01],\n",
       "         [7.8528e-01],\n",
       "         [4.6005e-01],\n",
       "         [1.8083e-01],\n",
       "         [5.5690e-01],\n",
       "         [6.2487e-01],\n",
       "         [4.8600e-01],\n",
       "         [8.0006e-01],\n",
       "         [1.3955e-01]],\n",
       "\n",
       "        [[9.5812e-01],\n",
       "         [3.8131e-01],\n",
       "         [2.1419e-01],\n",
       "         [6.8528e-01],\n",
       "         [5.4237e-01],\n",
       "         [5.9313e-01],\n",
       "         [3.0968e-01],\n",
       "         [7.5560e-01],\n",
       "         [9.4453e-01],\n",
       "         [9.5198e-01],\n",
       "         [7.5472e-01],\n",
       "         [8.4085e-01]]], dtype=torch.float64)"
      ]
     },
     "execution_count": 11,
     "metadata": {},
     "output_type": "execute_result"
    }
   ],
   "source": [
    "torch.from_numpy(\n",
    "            np.random.rand(64, 4 * 3, 1),d)"
   ]
  },
  {
   "cell_type": "code",
   "execution_count": 14,
   "metadata": {},
   "outputs": [
    {
     "data": {
      "text/plain": [
       "tensor([[[0.0374],\n",
       "         [0.0854],\n",
       "         [0.2178],\n",
       "         [0.6604],\n",
       "         [0.1558],\n",
       "         [0.2826],\n",
       "         [0.4924],\n",
       "         [0.9951],\n",
       "         [0.6838],\n",
       "         [0.9983],\n",
       "         [0.6604],\n",
       "         [0.7350]],\n",
       "\n",
       "        [[0.7873],\n",
       "         [0.6823],\n",
       "         [0.0323],\n",
       "         [0.5636],\n",
       "         [0.4414],\n",
       "         [0.6668],\n",
       "         [0.2529],\n",
       "         [0.4492],\n",
       "         [0.0205],\n",
       "         [0.6720],\n",
       "         [0.5171],\n",
       "         [0.7526]],\n",
       "\n",
       "        [[0.9046],\n",
       "         [0.5706],\n",
       "         [0.2876],\n",
       "         [0.0184],\n",
       "         [0.5231],\n",
       "         [0.1418],\n",
       "         [0.5809],\n",
       "         [0.5110],\n",
       "         [0.5110],\n",
       "         [0.4545],\n",
       "         [0.8152],\n",
       "         [0.2469]],\n",
       "\n",
       "        [[0.8671],\n",
       "         [0.5424],\n",
       "         [0.4746],\n",
       "         [0.7600],\n",
       "         [0.7537],\n",
       "         [0.0841],\n",
       "         [0.7187],\n",
       "         [0.0684],\n",
       "         [0.5024],\n",
       "         [0.1897],\n",
       "         [0.1648],\n",
       "         [0.7930]],\n",
       "\n",
       "        [[0.8827],\n",
       "         [0.2368],\n",
       "         [0.1666],\n",
       "         [0.8586],\n",
       "         [0.6964],\n",
       "         [0.4523],\n",
       "         [0.2082],\n",
       "         [0.5680],\n",
       "         [0.7206],\n",
       "         [0.9916],\n",
       "         [0.1991],\n",
       "         [0.8660]],\n",
       "\n",
       "        [[0.3489],\n",
       "         [0.4425],\n",
       "         [0.3352],\n",
       "         [0.6756],\n",
       "         [0.1967],\n",
       "         [0.1511],\n",
       "         [0.9524],\n",
       "         [0.5812],\n",
       "         [0.1307],\n",
       "         [0.4270],\n",
       "         [0.2326],\n",
       "         [0.9603]],\n",
       "\n",
       "        [[0.5055],\n",
       "         [0.6526],\n",
       "         [0.8170],\n",
       "         [0.5457],\n",
       "         [0.6114],\n",
       "         [0.9697],\n",
       "         [0.0552],\n",
       "         [0.8296],\n",
       "         [0.9734],\n",
       "         [0.0454],\n",
       "         [0.2614],\n",
       "         [0.5425]],\n",
       "\n",
       "        [[0.6418],\n",
       "         [0.5977],\n",
       "         [0.6350],\n",
       "         [0.8374],\n",
       "         [0.0112],\n",
       "         [0.6897],\n",
       "         [0.3363],\n",
       "         [0.7324],\n",
       "         [0.5567],\n",
       "         [0.9495],\n",
       "         [0.3491],\n",
       "         [0.8698]],\n",
       "\n",
       "        [[0.6976],\n",
       "         [0.0730],\n",
       "         [0.9944],\n",
       "         [0.7242],\n",
       "         [0.6555],\n",
       "         [0.7348],\n",
       "         [0.1522],\n",
       "         [0.7778],\n",
       "         [0.2758],\n",
       "         [0.6515],\n",
       "         [0.9493],\n",
       "         [0.3895]],\n",
       "\n",
       "        [[0.7393],\n",
       "         [0.6596],\n",
       "         [0.5301],\n",
       "         [0.7305],\n",
       "         [0.8834],\n",
       "         [0.2917],\n",
       "         [0.0590],\n",
       "         [0.8353],\n",
       "         [0.4538],\n",
       "         [0.8092],\n",
       "         [0.2520],\n",
       "         [0.6603]],\n",
       "\n",
       "        [[0.0831],\n",
       "         [0.7484],\n",
       "         [0.2355],\n",
       "         [0.7217],\n",
       "         [0.0089],\n",
       "         [0.8446],\n",
       "         [0.2754],\n",
       "         [0.8740],\n",
       "         [0.7869],\n",
       "         [0.2978],\n",
       "         [0.2464],\n",
       "         [0.3418]],\n",
       "\n",
       "        [[0.1005],\n",
       "         [0.8645],\n",
       "         [0.5976],\n",
       "         [0.1281],\n",
       "         [0.7380],\n",
       "         [0.3563],\n",
       "         [0.6841],\n",
       "         [0.5910],\n",
       "         [0.0425],\n",
       "         [0.9116],\n",
       "         [0.8837],\n",
       "         [0.0506]],\n",
       "\n",
       "        [[0.4723],\n",
       "         [0.1153],\n",
       "         [0.0726],\n",
       "         [0.1309],\n",
       "         [0.5778],\n",
       "         [0.4322],\n",
       "         [0.7271],\n",
       "         [0.5564],\n",
       "         [0.9938],\n",
       "         [0.6501],\n",
       "         [0.6526],\n",
       "         [0.8033]],\n",
       "\n",
       "        [[0.3066],\n",
       "         [0.8956],\n",
       "         [0.9214],\n",
       "         [0.4650],\n",
       "         [0.2539],\n",
       "         [0.7080],\n",
       "         [0.2441],\n",
       "         [0.4328],\n",
       "         [0.3260],\n",
       "         [0.5415],\n",
       "         [0.0915],\n",
       "         [0.6372]],\n",
       "\n",
       "        [[0.0682],\n",
       "         [0.0647],\n",
       "         [0.1495],\n",
       "         [0.4206],\n",
       "         [0.2394],\n",
       "         [0.8727],\n",
       "         [0.8676],\n",
       "         [0.0308],\n",
       "         [0.2217],\n",
       "         [0.2785],\n",
       "         [0.0928],\n",
       "         [0.3895]],\n",
       "\n",
       "        [[0.4361],\n",
       "         [0.7471],\n",
       "         [0.2283],\n",
       "         [0.7361],\n",
       "         [0.7892],\n",
       "         [0.6671],\n",
       "         [0.6521],\n",
       "         [0.9551],\n",
       "         [0.7403],\n",
       "         [0.2164],\n",
       "         [0.6159],\n",
       "         [0.8915]],\n",
       "\n",
       "        [[0.2022],\n",
       "         [0.8389],\n",
       "         [0.3557],\n",
       "         [0.1791],\n",
       "         [0.2950],\n",
       "         [0.5051],\n",
       "         [0.1956],\n",
       "         [0.1178],\n",
       "         [0.6341],\n",
       "         [0.1027],\n",
       "         [0.6529],\n",
       "         [0.6539]],\n",
       "\n",
       "        [[0.1527],\n",
       "         [0.6987],\n",
       "         [0.0345],\n",
       "         [0.7547],\n",
       "         [0.1891],\n",
       "         [0.8460],\n",
       "         [0.8329],\n",
       "         [0.8848],\n",
       "         [0.8647],\n",
       "         [0.5488],\n",
       "         [0.8642],\n",
       "         [0.2605]],\n",
       "\n",
       "        [[0.3608],\n",
       "         [0.6365],\n",
       "         [0.3246],\n",
       "         [0.0447],\n",
       "         [0.0540],\n",
       "         [0.3014],\n",
       "         [0.3356],\n",
       "         [0.1852],\n",
       "         [0.2828],\n",
       "         [0.2104],\n",
       "         [0.0287],\n",
       "         [0.5054]],\n",
       "\n",
       "        [[0.4389],\n",
       "         [0.2345],\n",
       "         [0.6321],\n",
       "         [0.5580],\n",
       "         [0.1905],\n",
       "         [0.6245],\n",
       "         [0.4739],\n",
       "         [0.8474],\n",
       "         [0.8806],\n",
       "         [0.6259],\n",
       "         [0.5773],\n",
       "         [0.8307]],\n",
       "\n",
       "        [[0.6310],\n",
       "         [0.7163],\n",
       "         [0.7309],\n",
       "         [0.1582],\n",
       "         [0.3029],\n",
       "         [0.8199],\n",
       "         [0.9575],\n",
       "         [0.6450],\n",
       "         [0.8714],\n",
       "         [0.4559],\n",
       "         [0.5465],\n",
       "         [0.4957]],\n",
       "\n",
       "        [[0.2141],\n",
       "         [0.3279],\n",
       "         [0.3918],\n",
       "         [0.6089],\n",
       "         [0.4759],\n",
       "         [0.2835],\n",
       "         [0.0473],\n",
       "         [0.9693],\n",
       "         [0.8024],\n",
       "         [0.7717],\n",
       "         [0.6050],\n",
       "         [0.4616]],\n",
       "\n",
       "        [[0.8320],\n",
       "         [0.8636],\n",
       "         [0.5615],\n",
       "         [0.5974],\n",
       "         [0.7270],\n",
       "         [0.3244],\n",
       "         [0.8001],\n",
       "         [0.6459],\n",
       "         [0.0277],\n",
       "         [0.6762],\n",
       "         [0.1828],\n",
       "         [0.2726]],\n",
       "\n",
       "        [[0.1265],\n",
       "         [0.2042],\n",
       "         [0.8224],\n",
       "         [0.9644],\n",
       "         [0.5499],\n",
       "         [0.0107],\n",
       "         [0.3783],\n",
       "         [0.0417],\n",
       "         [0.9191],\n",
       "         [0.6179],\n",
       "         [0.6817],\n",
       "         [0.5713]],\n",
       "\n",
       "        [[0.5988],\n",
       "         [0.6887],\n",
       "         [0.8083],\n",
       "         [0.0171],\n",
       "         [0.7386],\n",
       "         [0.2894],\n",
       "         [0.0700],\n",
       "         [0.7767],\n",
       "         [0.5523],\n",
       "         [0.8189],\n",
       "         [0.1237],\n",
       "         [0.4447]],\n",
       "\n",
       "        [[0.2338],\n",
       "         [0.6894],\n",
       "         [0.4866],\n",
       "         [0.3011],\n",
       "         [0.3713],\n",
       "         [0.4073],\n",
       "         [0.8028],\n",
       "         [0.6852],\n",
       "         [0.5345],\n",
       "         [0.6947],\n",
       "         [0.2467],\n",
       "         [0.8579]],\n",
       "\n",
       "        [[0.0230],\n",
       "         [0.3747],\n",
       "         [0.4796],\n",
       "         [0.2781],\n",
       "         [0.0494],\n",
       "         [0.5219],\n",
       "         [0.3736],\n",
       "         [0.2699],\n",
       "         [0.7166],\n",
       "         [0.6991],\n",
       "         [0.2015],\n",
       "         [0.2629]],\n",
       "\n",
       "        [[0.5145],\n",
       "         [0.5094],\n",
       "         [0.8603],\n",
       "         [0.5971],\n",
       "         [0.1031],\n",
       "         [0.6737],\n",
       "         [0.0014],\n",
       "         [0.8683],\n",
       "         [0.0075],\n",
       "         [0.9834],\n",
       "         [0.1874],\n",
       "         [0.4915]],\n",
       "\n",
       "        [[0.3314],\n",
       "         [0.1726],\n",
       "         [0.6214],\n",
       "         [0.5635],\n",
       "         [0.5453],\n",
       "         [0.5766],\n",
       "         [0.1263],\n",
       "         [0.9434],\n",
       "         [0.9577],\n",
       "         [0.2476],\n",
       "         [0.9189],\n",
       "         [0.0751]],\n",
       "\n",
       "        [[0.1840],\n",
       "         [0.7185],\n",
       "         [0.4181],\n",
       "         [0.1595],\n",
       "         [0.4010],\n",
       "         [0.0959],\n",
       "         [0.6564],\n",
       "         [0.7787],\n",
       "         [0.7974],\n",
       "         [0.8269],\n",
       "         [0.5304],\n",
       "         [0.1796]],\n",
       "\n",
       "        [[0.0730],\n",
       "         [0.3995],\n",
       "         [0.7820],\n",
       "         [0.3454],\n",
       "         [0.3987],\n",
       "         [0.5155],\n",
       "         [0.3031],\n",
       "         [0.5153],\n",
       "         [0.7353],\n",
       "         [0.6944],\n",
       "         [0.6143],\n",
       "         [0.7091]],\n",
       "\n",
       "        [[0.2288],\n",
       "         [0.9173],\n",
       "         [0.2959],\n",
       "         [0.1373],\n",
       "         [0.4567],\n",
       "         [0.1103],\n",
       "         [0.1217],\n",
       "         [0.7638],\n",
       "         [0.1776],\n",
       "         [0.3193],\n",
       "         [0.8552],\n",
       "         [0.5565]],\n",
       "\n",
       "        [[0.5215],\n",
       "         [0.8168],\n",
       "         [0.6386],\n",
       "         [0.4439],\n",
       "         [0.1000],\n",
       "         [0.7420],\n",
       "         [0.0917],\n",
       "         [0.2125],\n",
       "         [0.2525],\n",
       "         [0.2292],\n",
       "         [0.4527],\n",
       "         [0.3634]],\n",
       "\n",
       "        [[0.9085],\n",
       "         [0.7847],\n",
       "         [0.5898],\n",
       "         [0.3597],\n",
       "         [0.7177],\n",
       "         [0.7511],\n",
       "         [0.6155],\n",
       "         [0.3238],\n",
       "         [0.8561],\n",
       "         [0.6937],\n",
       "         [0.1990],\n",
       "         [0.0893]],\n",
       "\n",
       "        [[0.7993],\n",
       "         [0.8999],\n",
       "         [0.5845],\n",
       "         [0.0451],\n",
       "         [0.0654],\n",
       "         [0.5748],\n",
       "         [0.4473],\n",
       "         [0.1225],\n",
       "         [0.2489],\n",
       "         [0.7850],\n",
       "         [0.7828],\n",
       "         [0.1550]],\n",
       "\n",
       "        [[0.3235],\n",
       "         [0.4109],\n",
       "         [0.9562],\n",
       "         [0.0305],\n",
       "         [0.4434],\n",
       "         [0.7685],\n",
       "         [0.1276],\n",
       "         [0.2651],\n",
       "         [0.1283],\n",
       "         [0.0754],\n",
       "         [0.6435],\n",
       "         [0.5667]],\n",
       "\n",
       "        [[0.3016],\n",
       "         [0.8466],\n",
       "         [0.1018],\n",
       "         [0.4844],\n",
       "         [0.3546],\n",
       "         [0.2110],\n",
       "         [0.2714],\n",
       "         [0.5896],\n",
       "         [0.0629],\n",
       "         [0.9365],\n",
       "         [0.9737],\n",
       "         [0.1988]],\n",
       "\n",
       "        [[0.7916],\n",
       "         [0.9846],\n",
       "         [0.2903],\n",
       "         [0.5313],\n",
       "         [0.7202],\n",
       "         [0.3557],\n",
       "         [0.3784],\n",
       "         [0.5299],\n",
       "         [0.7788],\n",
       "         [0.0698],\n",
       "         [0.0366],\n",
       "         [0.0952]],\n",
       "\n",
       "        [[0.5661],\n",
       "         [0.5374],\n",
       "         [0.8356],\n",
       "         [0.0930],\n",
       "         [0.4864],\n",
       "         [0.9105],\n",
       "         [0.1395],\n",
       "         [0.9310],\n",
       "         [0.5934],\n",
       "         [0.9766],\n",
       "         [0.5859],\n",
       "         [0.8525]],\n",
       "\n",
       "        [[0.1032],\n",
       "         [0.7172],\n",
       "         [0.0345],\n",
       "         [0.5045],\n",
       "         [0.0910],\n",
       "         [0.5169],\n",
       "         [0.3883],\n",
       "         [0.0978],\n",
       "         [0.5534],\n",
       "         [0.1708],\n",
       "         [0.9881],\n",
       "         [0.7609]],\n",
       "\n",
       "        [[0.4977],\n",
       "         [0.6898],\n",
       "         [0.2867],\n",
       "         [0.6841],\n",
       "         [0.1427],\n",
       "         [0.5047],\n",
       "         [0.7379],\n",
       "         [0.9475],\n",
       "         [0.6626],\n",
       "         [0.3097],\n",
       "         [0.7298],\n",
       "         [0.7092]],\n",
       "\n",
       "        [[0.2539],\n",
       "         [0.8280],\n",
       "         [0.0580],\n",
       "         [0.0651],\n",
       "         [0.1078],\n",
       "         [0.4770],\n",
       "         [0.6760],\n",
       "         [0.3576],\n",
       "         [0.1431],\n",
       "         [0.3120],\n",
       "         [0.0368],\n",
       "         [0.0769]],\n",
       "\n",
       "        [[0.0413],\n",
       "         [0.4441],\n",
       "         [0.8330],\n",
       "         [0.6368],\n",
       "         [0.1593],\n",
       "         [0.9620],\n",
       "         [0.2635],\n",
       "         [0.4134],\n",
       "         [0.2376],\n",
       "         [0.1720],\n",
       "         [0.9951],\n",
       "         [0.7101]],\n",
       "\n",
       "        [[0.7466],\n",
       "         [0.4443],\n",
       "         [0.9586],\n",
       "         [0.3821],\n",
       "         [0.7651],\n",
       "         [0.3042],\n",
       "         [0.2210],\n",
       "         [0.0316],\n",
       "         [0.3761],\n",
       "         [0.9334],\n",
       "         [0.2614],\n",
       "         [0.9182]],\n",
       "\n",
       "        [[0.7607],\n",
       "         [0.3063],\n",
       "         [0.3485],\n",
       "         [0.2906],\n",
       "         [0.5032],\n",
       "         [0.9025],\n",
       "         [0.0987],\n",
       "         [0.1405],\n",
       "         [0.5551],\n",
       "         [0.0878],\n",
       "         [0.4819],\n",
       "         [0.0747]],\n",
       "\n",
       "        [[0.5064],\n",
       "         [0.6280],\n",
       "         [0.9181],\n",
       "         [0.0433],\n",
       "         [0.4853],\n",
       "         [0.9836],\n",
       "         [0.4920],\n",
       "         [0.5884],\n",
       "         [0.8050],\n",
       "         [0.9121],\n",
       "         [0.2826],\n",
       "         [0.5698]],\n",
       "\n",
       "        [[0.7290],\n",
       "         [0.3219],\n",
       "         [0.7177],\n",
       "         [0.3668],\n",
       "         [0.7510],\n",
       "         [0.1591],\n",
       "         [0.6830],\n",
       "         [0.9991],\n",
       "         [0.3647],\n",
       "         [0.8438],\n",
       "         [0.3383],\n",
       "         [0.8750]],\n",
       "\n",
       "        [[0.7349],\n",
       "         [0.3678],\n",
       "         [0.1175],\n",
       "         [0.2626],\n",
       "         [0.8427],\n",
       "         [0.2553],\n",
       "         [0.1760],\n",
       "         [0.4011],\n",
       "         [0.0630],\n",
       "         [0.0791],\n",
       "         [0.2255],\n",
       "         [0.6874]],\n",
       "\n",
       "        [[0.3608],\n",
       "         [0.1599],\n",
       "         [0.5238],\n",
       "         [0.8052],\n",
       "         [0.4374],\n",
       "         [0.5424],\n",
       "         [0.4919],\n",
       "         [0.1938],\n",
       "         [0.7607],\n",
       "         [0.3702],\n",
       "         [0.1664],\n",
       "         [0.2505]],\n",
       "\n",
       "        [[0.5466],\n",
       "         [0.2929],\n",
       "         [0.9837],\n",
       "         [0.0100],\n",
       "         [0.7722],\n",
       "         [0.4612],\n",
       "         [0.0132],\n",
       "         [0.6582],\n",
       "         [0.8156],\n",
       "         [0.2055],\n",
       "         [0.7595],\n",
       "         [0.1997]],\n",
       "\n",
       "        [[0.1213],\n",
       "         [0.8402],\n",
       "         [0.6439],\n",
       "         [0.6229],\n",
       "         [0.0230],\n",
       "         [0.1531],\n",
       "         [0.8065],\n",
       "         [0.0259],\n",
       "         [0.3692],\n",
       "         [0.6367],\n",
       "         [0.6587],\n",
       "         [0.9692]],\n",
       "\n",
       "        [[0.9323],\n",
       "         [0.8565],\n",
       "         [0.1054],\n",
       "         [0.1289],\n",
       "         [0.7381],\n",
       "         [0.1140],\n",
       "         [0.9959],\n",
       "         [0.2754],\n",
       "         [0.1010],\n",
       "         [0.2965],\n",
       "         [0.9855],\n",
       "         [0.8072]],\n",
       "\n",
       "        [[0.6997],\n",
       "         [0.1395],\n",
       "         [0.4298],\n",
       "         [0.2335],\n",
       "         [0.7906],\n",
       "         [0.1172],\n",
       "         [0.3846],\n",
       "         [0.5652],\n",
       "         [0.5597],\n",
       "         [0.5112],\n",
       "         [0.0439],\n",
       "         [0.9901]],\n",
       "\n",
       "        [[0.9680],\n",
       "         [0.0050],\n",
       "         [0.1090],\n",
       "         [0.8077],\n",
       "         [0.1797],\n",
       "         [0.3303],\n",
       "         [0.2513],\n",
       "         [0.5412],\n",
       "         [0.6008],\n",
       "         [0.8903],\n",
       "         [0.2109],\n",
       "         [0.5741]],\n",
       "\n",
       "        [[0.9799],\n",
       "         [0.3809],\n",
       "         [0.4506],\n",
       "         [0.2739],\n",
       "         [0.6315],\n",
       "         [0.6798],\n",
       "         [0.8537],\n",
       "         [0.1325],\n",
       "         [0.3651],\n",
       "         [0.8354],\n",
       "         [0.0025],\n",
       "         [0.1944]],\n",
       "\n",
       "        [[0.2079],\n",
       "         [0.5239],\n",
       "         [0.0977],\n",
       "         [0.1909],\n",
       "         [0.0045],\n",
       "         [0.6410],\n",
       "         [0.7995],\n",
       "         [0.1108],\n",
       "         [0.7339],\n",
       "         [0.6406],\n",
       "         [0.5717],\n",
       "         [0.8726]],\n",
       "\n",
       "        [[0.5200],\n",
       "         [0.1373],\n",
       "         [0.9083],\n",
       "         [0.3612],\n",
       "         [0.6888],\n",
       "         [0.0962],\n",
       "         [0.4430],\n",
       "         [0.6250],\n",
       "         [0.7980],\n",
       "         [0.1442],\n",
       "         [0.5719],\n",
       "         [0.1755]],\n",
       "\n",
       "        [[0.0325],\n",
       "         [0.7660],\n",
       "         [0.8202],\n",
       "         [0.0402],\n",
       "         [0.9907],\n",
       "         [0.4569],\n",
       "         [0.8543],\n",
       "         [0.5575],\n",
       "         [0.6638],\n",
       "         [0.1611],\n",
       "         [0.9219],\n",
       "         [0.1652]],\n",
       "\n",
       "        [[0.5635],\n",
       "         [0.6458],\n",
       "         [0.7341],\n",
       "         [0.5048],\n",
       "         [0.2048],\n",
       "         [0.7926],\n",
       "         [0.8084],\n",
       "         [0.3475],\n",
       "         [0.3515],\n",
       "         [0.9921],\n",
       "         [0.4320],\n",
       "         [0.5941]],\n",
       "\n",
       "        [[0.5780],\n",
       "         [0.5276],\n",
       "         [0.4030],\n",
       "         [0.5409],\n",
       "         [0.1909],\n",
       "         [0.9624],\n",
       "         [0.9773],\n",
       "         [0.3242],\n",
       "         [0.9145],\n",
       "         [0.6365],\n",
       "         [0.4576],\n",
       "         [0.3885]],\n",
       "\n",
       "        [[0.2903],\n",
       "         [0.4728],\n",
       "         [0.5080],\n",
       "         [0.8702],\n",
       "         [0.6551],\n",
       "         [0.1103],\n",
       "         [0.1355],\n",
       "         [0.7180],\n",
       "         [0.4557],\n",
       "         [0.6099],\n",
       "         [0.1939],\n",
       "         [0.1718]],\n",
       "\n",
       "        [[0.4507],\n",
       "         [0.5295],\n",
       "         [0.6119],\n",
       "         [0.2534],\n",
       "         [0.5842],\n",
       "         [0.7020],\n",
       "         [0.4466],\n",
       "         [0.5737],\n",
       "         [0.3019],\n",
       "         [0.7968],\n",
       "         [0.6659],\n",
       "         [0.7288]],\n",
       "\n",
       "        [[0.4342],\n",
       "         [0.7192],\n",
       "         [0.5051],\n",
       "         [0.8794],\n",
       "         [0.4789],\n",
       "         [0.6927],\n",
       "         [0.2115],\n",
       "         [0.7291],\n",
       "         [0.5855],\n",
       "         [0.3040],\n",
       "         [0.2774],\n",
       "         [0.3858]],\n",
       "\n",
       "        [[0.9944],\n",
       "         [0.7569],\n",
       "         [0.8353],\n",
       "         [0.8179],\n",
       "         [0.4483],\n",
       "         [0.4017],\n",
       "         [0.7810],\n",
       "         [0.3983],\n",
       "         [0.0409],\n",
       "         [0.0239],\n",
       "         [0.3837],\n",
       "         [0.2947]]], dtype=torch.float64)"
      ]
     },
     "execution_count": 14,
     "metadata": {},
     "output_type": "execute_result"
    }
   ],
   "source": [
    "torch.rand((64, 4 * 3, 1),dtype=torch.float64)"
   ]
  },
  {
   "cell_type": "code",
   "execution_count": null,
   "metadata": {},
   "outputs": [],
   "source": []
  }
 ],
 "metadata": {
  "accelerator": "GPU",
  "colab": {
   "collapsed_sections": [],
   "name": "1d_single_function.ipynb",
   "provenance": []
  },
  "kernelspec": {
   "display_name": "tfm",
   "language": "python",
   "name": "tfm"
  },
  "language_info": {
   "codemirror_mode": {
    "name": "ipython",
    "version": 3
   },
   "file_extension": ".py",
   "mimetype": "text/x-python",
   "name": "python",
   "nbconvert_exporter": "python",
   "pygments_lexer": "ipython3",
   "version": "3.8.2+"
  },
  "pycharm": {
   "stem_cell": {
    "cell_type": "raw",
    "metadata": {
     "collapsed": false
    },
    "source": []
   }
  }
 },
 "nbformat": 4,
 "nbformat_minor": 1
}
