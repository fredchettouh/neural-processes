{
 "cells": [
  {
   "cell_type": "code",
   "execution_count": 1,
   "metadata": {
    "colab": {
     "base_uri": "https://localhost:8080/",
     "height": 51
    },
    "colab_type": "code",
    "executionInfo": {
     "elapsed": 94695,
     "status": "ok",
     "timestamp": 1587914095907,
     "user": {
      "displayName": "Fred Che",
      "photoUrl": "",
      "userId": "07612464138287230381"
     },
     "user_tz": -120
    },
    "id": "KbC4i4fB5fu4",
    "outputId": "de6e01be-6679-4588-8bd6-f08cdf01c35f"
   },
   "outputs": [
    {
     "name": "stdout",
     "output_type": "stream",
     "text": [
      "Running on Colab?\n",
      "yes\n"
     ]
    }
   ],
   "source": [
    "#%%\n",
    "\n",
    "# google colab configurations \n",
    "# these might change\n",
    "DATA_GENERATION = '13kwW8C01etWsqTYoE2eeFlD4Ft9YVhrw'\n",
    "DATA_GENERATION_FILE = 'datageneration.py'\n",
    "\n",
    "HELPERS = '1zskLM0-ZtEQYVI7zvd2ePqtkTOkJmVIL'\n",
    "HELPERS_FILE = 'helpers.py'\n",
    "\n",
    "EXPERIMENT = '1OrYHcTvUXHOrg-86_6oWaN2muDpuzn9a'\n",
    "EXPERIMENT_FILE = 'experiment.py'\n",
    "\n",
    "NETWORK = '1iFbCIY8IMaqO4I8mu2J7ie7UDJsLGtRv'\n",
    "NETWORK_FILE = 'networks.py'\n",
    "\n",
    "MODEL_CONFIG = '14OF6o1luI8u10Nq96FLBP1M1k-VvQKq-'\n",
    "MODEL_CONFIG_FILE ='config.json'\n",
    "\n",
    "HYPER_CONFIG = '1VWlMZnDhE9yhtBi5LrjZoZjTE6nmXsuk'\n",
    "HYPER_CONFIG_FILE ='hyperparameter_tuning.json'\n",
    "\n",
    "TUNER = '1I1K9whIpWvzWYjJQjfHLLrE9GXCuRbb1'\n",
    "TUNER_FILE = 'param_tuner.py'\n",
    "\n",
    "google_colab = input('Running on Colab?\\n')\n",
    "if google_colab=='yes' : \n",
    "    import os\n",
    "    os.system('pip install ax ax-platform')\n",
    "    from pydrive.auth import GoogleAuth\n",
    "    from pydrive.drive import GoogleDrive\n",
    "    from google.colab import auth\n",
    "    from oauth2client.client import GoogleCredentials\n",
    "\n",
    "    auth.authenticate_user()\n",
    "    gauth = GoogleAuth()\n",
    "    gauth.credentials = GoogleCredentials.get_application_default()\n",
    "    drive = GoogleDrive(gauth)\n",
    "\n",
    "    datageneration = drive.CreateFile({'id':DATA_GENERATION})\n",
    "    datageneration.GetContentFile(DATA_GENERATION_FILE)\n",
    "    \n",
    "\n",
    "    helpers = drive.CreateFile({'id':HELPERS})\n",
    "    helpers.GetContentFile(HELPERS_FILE)\n",
    "\n",
    "    network = drive.CreateFile({'id':NETWORK})\n",
    "    network.GetContentFile(NETWORK_FILE)\n",
    "\n",
    "    experiment = drive.CreateFile({'id':EXPERIMENT})\n",
    "    experiment.GetContentFile(EXPERIMENT_FILE)\n",
    "\n",
    "    model_json = drive.CreateFile({'id':MODEL_CONFIG})\n",
    "    model_json.GetContentFile(MODEL_CONFIG_FILE)\n",
    "\n",
    "    hyper_json = drive.CreateFile({'id':HYPER_CONFIG})\n",
    "    hyper_json.GetContentFile(HYPER_CONFIG_FILE)\n",
    "\n",
    "    param_tuner = drive.CreateFile({'id':TUNER})\n",
    "    param_tuner.GetContentFile(TUNER_FILE)\n",
    "    \n"
   ]
  },
  {
   "cell_type": "code",
   "execution_count": 0,
   "metadata": {
    "colab": {},
    "colab_type": "code",
    "id": "qnf3GqlY5fu9"
   },
   "outputs": [],
   "source": [
    "# custom imports\n",
    "from datageneration import DataGenerator\n",
    "from helpers import Helper\n",
    "\n",
    "# torch imports\n",
    "from torch.utils import data\n",
    "import torch\n",
    "\n",
    "# import utils\n",
    "import json\n",
    "from datetime import date\n",
    "import os\n",
    "from functools import partial\n",
    "import numpy as np\n",
    "\n",
    "\n",
    "\n",
    "#custom imports\n",
    "from param_tuner import HyperParam"
   ]
  },
  {
   "cell_type": "code",
   "execution_count": 0,
   "metadata": {
    "colab": {},
    "colab_type": "code",
    "id": "_XxHt3Dd5fvD"
   },
   "outputs": [],
   "source": [
    "# we first get the variables for the configuration file\n",
    "os.environ[\"CHECKPOINT_DIR\"] = \"checkpoints\"\n",
    "os.environ[\"MODEL_PARAMS\"] = \"default\"\n",
    "\n",
    "CHECKPOINT_DIR = os.environ['CHECKPOINT_DIR']\n",
    "MODEL_PARAMS = os.environ['MODEL_PARAMS']"
   ]
  },
  {
   "cell_type": "code",
   "execution_count": 0,
   "metadata": {
    "colab": {},
    "colab_type": "code",
    "id": "NLpibo_85fvF"
   },
   "outputs": [],
   "source": [
    "if google_colab=='yes':\n",
    "    config_director = ''\n",
    "else:\n",
    "    config_director = 'configs/'\n",
    "\n",
    "with open(f'{config_director}config.json') as f:\n",
    "    file = f.read()\n",
    "    default_conf = json.loads(file)\n",
    "\n",
    "with open(f'{config_director}hyperparameter_tuning.json') as f:\n",
    "    file = f.read()\n",
    "    hyper_conf = json.loads(file)"
   ]
  },
  {
   "cell_type": "code",
   "execution_count": 0,
   "metadata": {
    "colab": {},
    "colab_type": "code",
    "id": "AoYhrgjF5fvK"
   },
   "outputs": [],
   "source": [
    "test_params = hyper_conf['one_d_regression']"
   ]
  },
  {
   "cell_type": "code",
   "execution_count": 7,
   "metadata": {
    "colab": {
     "base_uri": "https://localhost:8080/",
     "height": 34
    },
    "colab_type": "code",
    "executionInfo": {
     "elapsed": 508,
     "status": "ok",
     "timestamp": 1587914721798,
     "user": {
      "displayName": "Fred Che",
      "photoUrl": "",
      "userId": "07612464138287230381"
     },
     "user_tz": -120
    },
    "id": "YFbK6aDs5fvA",
    "outputId": "3a6d8df3-297a-4c65-a294-314750155cf3"
   },
   "outputs": [
    {
     "name": "stdout",
     "output_type": "stream",
     "text": [
      "Training on GPU!\n"
     ]
    }
   ],
   "source": [
    "dtype = torch.float\n",
    "train_on_gpu = torch.cuda.is_available()\n",
    "if(train_on_gpu):\n",
    "    print('Training on GPU!')\n",
    "    device = torch.device(\"cuda\")\n",
    "\n",
    "else: \n",
    "    print('No GPU available, training on CPU')\n",
    "    device = torch.device(\"cpu\")\n",
    "    test_params[-1]['value']=False"
   ]
  },
  {
   "cell_type": "code",
   "execution_count": 0,
   "metadata": {
    "colab": {},
    "colab_type": "code",
    "id": "mcb_CJzL5fvM"
   },
   "outputs": [],
   "source": [
    "datagenerator = DataGenerator(**default_conf[MODEL_PARAMS]['data_gen_params'])\n",
    "x_values, func_x = datagenerator.generate_curves()\n",
    "func_x = Helper.list_np_to_sensor(func_x)\n",
    "x_values = x_values.repeat(func_x.shape[0], 1, 1)\n",
    "\n",
    "\n",
    "\n",
    "train_len = int(x_values.shape[0] * default_conf[MODEL_PARAMS]['train_share'])\n",
    "traindata = data.TensorDataset(x_values[:train_len], func_x[:train_len])\n",
    "trainloader = data.DataLoader(traindata, batch_size=100)\n",
    "validata = data.TensorDataset(x_values[train_len:], func_x[train_len:])\n",
    "valiloader = data.DataLoader(validata, batch_size=1)"
   ]
  },
  {
   "cell_type": "code",
   "execution_count": 0,
   "metadata": {
    "colab": {},
    "colab_type": "code",
    "id": "NiXobULb5fvR"
   },
   "outputs": [],
   "source": [
    "tuner = HyperParam(test_params, 20)"
   ]
  },
  {
   "cell_type": "code",
   "execution_count": 12,
   "metadata": {
    "colab": {
     "base_uri": "https://localhost:8080/",
     "height": 1000
    },
    "colab_type": "code",
    "executionInfo": {
     "elapsed": 2100940,
     "status": "ok",
     "timestamp": 1587916861919,
     "user": {
      "displayName": "Fred Che",
      "photoUrl": "",
      "userId": "07612464138287230381"
     },
     "user_tz": -120
    },
    "id": "0AdBfX9w5fvT",
    "outputId": "88b19afa-90a5-4c81-c2f9-2c0592795844"
   },
   "outputs": [
    {
     "name": "stderr",
     "output_type": "stream",
     "text": [
      "[INFO 04-26 15:26:01] ax.modelbridge.dispatch_utils: Using Sobol generation strategy.\n",
      "[INFO 04-26 15:26:01] ax.service.managed_loop: Started full optimization with 20 steps.\n",
      "[INFO 04-26 15:26:01] ax.service.managed_loop: Running optimization trial 1...\n",
      "  0%|          | 17/10000 [00:00<02:00, 83.13it/s]"
     ]
    },
    {
     "name": "stdout",
     "output_type": "stream",
     "text": [
      "Mean loss at epoch 0 : 1.614452838897705\n"
     ]
    },
    {
     "name": "stderr",
     "output_type": "stream",
     "text": [
      " 20%|██        | 2011/10000 [00:24<01:36, 82.75it/s]"
     ]
    },
    {
     "name": "stdout",
     "output_type": "stream",
     "text": [
      "Mean loss at epoch 2000 : 1.2732746601104736\n"
     ]
    },
    {
     "name": "stderr",
     "output_type": "stream",
     "text": [
      " 40%|████      | 4013/10000 [00:48<01:11, 83.29it/s]"
     ]
    },
    {
     "name": "stdout",
     "output_type": "stream",
     "text": [
      "Mean loss at epoch 4000 : 1.383845567703247\n"
     ]
    },
    {
     "name": "stderr",
     "output_type": "stream",
     "text": [
      " 60%|██████    | 6015/10000 [01:13<00:50, 78.40it/s]"
     ]
    },
    {
     "name": "stdout",
     "output_type": "stream",
     "text": [
      "Mean loss at epoch 6000 : 1.270458459854126\n"
     ]
    },
    {
     "name": "stderr",
     "output_type": "stream",
     "text": [
      " 80%|████████  | 8015/10000 [01:38<00:23, 84.53it/s]"
     ]
    },
    {
     "name": "stdout",
     "output_type": "stream",
     "text": [
      "Mean loss at epoch 8000 : 1.1795512437820435\n"
     ]
    },
    {
     "name": "stderr",
     "output_type": "stream",
     "text": [
      "100%|██████████| 10000/10000 [02:02<00:00, 81.61it/s]\n",
      "[INFO 04-26 15:28:04] ax.service.managed_loop: Running optimization trial 2...\n",
      "  0%|          | 8/10000 [00:00<02:20, 71.27it/s]"
     ]
    },
    {
     "name": "stdout",
     "output_type": "stream",
     "text": [
      "Mean loss at epoch 0 : 1.530019998550415\n"
     ]
    },
    {
     "name": "stderr",
     "output_type": "stream",
     "text": [
      " 20%|██        | 2009/10000 [00:25<01:37, 81.88it/s]"
     ]
    },
    {
     "name": "stdout",
     "output_type": "stream",
     "text": [
      "Mean loss at epoch 2000 : 1.3834165334701538\n"
     ]
    },
    {
     "name": "stderr",
     "output_type": "stream",
     "text": [
      " 40%|████      | 4014/10000 [00:50<01:15, 79.15it/s]"
     ]
    },
    {
     "name": "stdout",
     "output_type": "stream",
     "text": [
      "Mean loss at epoch 4000 : 1.3353831768035889\n"
     ]
    },
    {
     "name": "stderr",
     "output_type": "stream",
     "text": [
      " 60%|██████    | 6016/10000 [01:15<00:50, 79.12it/s]"
     ]
    },
    {
     "name": "stdout",
     "output_type": "stream",
     "text": [
      "Mean loss at epoch 6000 : 1.3071794509887695\n"
     ]
    },
    {
     "name": "stderr",
     "output_type": "stream",
     "text": [
      " 80%|████████  | 8014/10000 [01:41<00:24, 80.45it/s]"
     ]
    },
    {
     "name": "stdout",
     "output_type": "stream",
     "text": [
      "Mean loss at epoch 8000 : 0.9719509482383728\n"
     ]
    },
    {
     "name": "stderr",
     "output_type": "stream",
     "text": [
      "100%|██████████| 10000/10000 [02:06<00:00, 78.85it/s]\n",
      "[INFO 04-26 15:30:11] ax.service.managed_loop: Running optimization trial 3...\n",
      "  0%|          | 24/10000 [00:00<01:27, 113.99it/s]"
     ]
    },
    {
     "name": "stdout",
     "output_type": "stream",
     "text": [
      "Mean loss at epoch 0 : 1.6351498365402222\n"
     ]
    },
    {
     "name": "stderr",
     "output_type": "stream",
     "text": [
      " 20%|██        | 2013/10000 [00:18<01:12, 110.44it/s]"
     ]
    },
    {
     "name": "stdout",
     "output_type": "stream",
     "text": [
      "Mean loss at epoch 2000 : 0.8091614842414856\n"
     ]
    },
    {
     "name": "stderr",
     "output_type": "stream",
     "text": [
      " 40%|████      | 4013/10000 [00:36<00:56, 106.82it/s]"
     ]
    },
    {
     "name": "stdout",
     "output_type": "stream",
     "text": [
      "Mean loss at epoch 4000 : 0.8692069053649902\n"
     ]
    },
    {
     "name": "stderr",
     "output_type": "stream",
     "text": [
      " 60%|██████    | 6013/10000 [00:55<00:36, 108.29it/s]"
     ]
    },
    {
     "name": "stdout",
     "output_type": "stream",
     "text": [
      "Mean loss at epoch 6000 : 0.9826757311820984\n"
     ]
    },
    {
     "name": "stderr",
     "output_type": "stream",
     "text": [
      " 80%|████████  | 8010/10000 [01:13<00:17, 110.73it/s]"
     ]
    },
    {
     "name": "stdout",
     "output_type": "stream",
     "text": [
      "Mean loss at epoch 8000 : 0.6959760189056396\n"
     ]
    },
    {
     "name": "stderr",
     "output_type": "stream",
     "text": [
      "100%|██████████| 10000/10000 [01:31<00:00, 109.12it/s]\n",
      "[INFO 04-26 15:31:43] ax.service.managed_loop: Running optimization trial 4...\n",
      "  0%|          | 9/10000 [00:00<02:03, 80.72it/s]"
     ]
    },
    {
     "name": "stdout",
     "output_type": "stream",
     "text": [
      "Mean loss at epoch 0 : 1.5637463331222534\n"
     ]
    },
    {
     "name": "stderr",
     "output_type": "stream",
     "text": [
      " 20%|██        | 2012/10000 [00:25<01:38, 81.17it/s]"
     ]
    },
    {
     "name": "stdout",
     "output_type": "stream",
     "text": [
      "Mean loss at epoch 2000 : 1.429137945175171\n"
     ]
    },
    {
     "name": "stderr",
     "output_type": "stream",
     "text": [
      " 40%|████      | 4011/10000 [00:50<01:21, 73.05it/s]"
     ]
    },
    {
     "name": "stdout",
     "output_type": "stream",
     "text": [
      "Mean loss at epoch 4000 : 1.3831003904342651\n"
     ]
    },
    {
     "name": "stderr",
     "output_type": "stream",
     "text": [
      " 60%|██████    | 6009/10000 [01:15<00:49, 81.20it/s]"
     ]
    },
    {
     "name": "stdout",
     "output_type": "stream",
     "text": [
      "Mean loss at epoch 6000 : 1.3118997812271118\n"
     ]
    },
    {
     "name": "stderr",
     "output_type": "stream",
     "text": [
      " 80%|████████  | 8017/10000 [01:40<00:25, 78.54it/s]"
     ]
    },
    {
     "name": "stdout",
     "output_type": "stream",
     "text": [
      "Mean loss at epoch 8000 : 1.2741056680679321\n"
     ]
    },
    {
     "name": "stderr",
     "output_type": "stream",
     "text": [
      "100%|██████████| 10000/10000 [02:05<00:00, 79.76it/s]\n",
      "[INFO 04-26 15:33:49] ax.service.managed_loop: Running optimization trial 5...\n",
      "  0%|          | 28/10000 [00:00<01:16, 129.89it/s]"
     ]
    },
    {
     "name": "stdout",
     "output_type": "stream",
     "text": [
      "Mean loss at epoch 0 : 1.4998093843460083\n"
     ]
    },
    {
     "name": "stderr",
     "output_type": "stream",
     "text": [
      " 20%|██        | 2018/10000 [00:14<00:57, 138.07it/s]"
     ]
    },
    {
     "name": "stdout",
     "output_type": "stream",
     "text": [
      "Mean loss at epoch 2000 : 1.1231982707977295\n"
     ]
    },
    {
     "name": "stderr",
     "output_type": "stream",
     "text": [
      " 40%|████      | 4030/10000 [00:29<00:42, 140.14it/s]"
     ]
    },
    {
     "name": "stdout",
     "output_type": "stream",
     "text": [
      "Mean loss at epoch 4000 : 0.8644315600395203\n"
     ]
    },
    {
     "name": "stderr",
     "output_type": "stream",
     "text": [
      " 60%|██████    | 6015/10000 [00:43<00:28, 140.70it/s]"
     ]
    },
    {
     "name": "stdout",
     "output_type": "stream",
     "text": [
      "Mean loss at epoch 6000 : 0.98807293176651\n"
     ]
    },
    {
     "name": "stderr",
     "output_type": "stream",
     "text": [
      " 80%|████████  | 8027/10000 [00:57<00:14, 138.78it/s]"
     ]
    },
    {
     "name": "stdout",
     "output_type": "stream",
     "text": [
      "Mean loss at epoch 8000 : 1.4396089315414429\n"
     ]
    },
    {
     "name": "stderr",
     "output_type": "stream",
     "text": [
      "100%|██████████| 10000/10000 [01:12<00:00, 138.80it/s]\n",
      "[INFO 04-26 15:35:02] ax.service.managed_loop: Running optimization trial 6...\n",
      "  0%|          | 12/10000 [00:00<01:29, 111.63it/s]"
     ]
    },
    {
     "name": "stdout",
     "output_type": "stream",
     "text": [
      "Mean loss at epoch 0 : 1.5636241436004639\n"
     ]
    },
    {
     "name": "stderr",
     "output_type": "stream",
     "text": [
      " 20%|██        | 2017/10000 [00:17<01:08, 116.14it/s]"
     ]
    },
    {
     "name": "stdout",
     "output_type": "stream",
     "text": [
      "Mean loss at epoch 2000 : 0.9231792688369751\n"
     ]
    },
    {
     "name": "stderr",
     "output_type": "stream",
     "text": [
      " 40%|████      | 4024/10000 [00:35<00:51, 115.42it/s]"
     ]
    },
    {
     "name": "stdout",
     "output_type": "stream",
     "text": [
      "Mean loss at epoch 4000 : 0.6959301829338074\n"
     ]
    },
    {
     "name": "stderr",
     "output_type": "stream",
     "text": [
      " 60%|██████    | 6012/10000 [00:52<00:34, 114.15it/s]"
     ]
    },
    {
     "name": "stdout",
     "output_type": "stream",
     "text": [
      "Mean loss at epoch 6000 : 0.8442513942718506\n"
     ]
    },
    {
     "name": "stderr",
     "output_type": "stream",
     "text": [
      " 80%|████████  | 8018/10000 [01:09<00:17, 113.22it/s]"
     ]
    },
    {
     "name": "stdout",
     "output_type": "stream",
     "text": [
      "Mean loss at epoch 8000 : 0.7101864218711853\n"
     ]
    },
    {
     "name": "stderr",
     "output_type": "stream",
     "text": [
      "100%|██████████| 10000/10000 [01:27<00:00, 114.63it/s]\n",
      "[INFO 04-26 15:36:29] ax.service.managed_loop: Running optimization trial 7...\n",
      "  0%|          | 30/10000 [00:00<01:07, 147.20it/s]"
     ]
    },
    {
     "name": "stdout",
     "output_type": "stream",
     "text": [
      "Mean loss at epoch 0 : 1.6073938608169556\n"
     ]
    },
    {
     "name": "stderr",
     "output_type": "stream",
     "text": [
      " 20%|██        | 2030/10000 [00:13<00:53, 148.11it/s]"
     ]
    },
    {
     "name": "stdout",
     "output_type": "stream",
     "text": [
      "Mean loss at epoch 2000 : 0.5203476548194885\n"
     ]
    },
    {
     "name": "stderr",
     "output_type": "stream",
     "text": [
      " 40%|████      | 4028/10000 [00:27<00:41, 144.26it/s]"
     ]
    },
    {
     "name": "stdout",
     "output_type": "stream",
     "text": [
      "Mean loss at epoch 4000 : 0.659348726272583\n"
     ]
    },
    {
     "name": "stderr",
     "output_type": "stream",
     "text": [
      " 60%|██████    | 6015/10000 [00:41<00:28, 138.28it/s]"
     ]
    },
    {
     "name": "stdout",
     "output_type": "stream",
     "text": [
      "Mean loss at epoch 6000 : 0.7745130062103271\n"
     ]
    },
    {
     "name": "stderr",
     "output_type": "stream",
     "text": [
      " 80%|████████  | 8023/10000 [00:55<00:13, 141.49it/s]"
     ]
    },
    {
     "name": "stdout",
     "output_type": "stream",
     "text": [
      "Mean loss at epoch 8000 : 0.8663938641548157\n"
     ]
    },
    {
     "name": "stderr",
     "output_type": "stream",
     "text": [
      "100%|██████████| 10000/10000 [01:09<00:00, 144.72it/s]\n",
      "[INFO 04-26 15:37:39] ax.service.managed_loop: Running optimization trial 8...\n",
      "  0%|          | 25/10000 [00:00<01:21, 122.99it/s]"
     ]
    },
    {
     "name": "stdout",
     "output_type": "stream",
     "text": [
      "Mean loss at epoch 0 : 1.6557918787002563\n"
     ]
    },
    {
     "name": "stderr",
     "output_type": "stream",
     "text": [
      " 20%|██        | 2026/10000 [00:16<01:03, 124.94it/s]"
     ]
    },
    {
     "name": "stdout",
     "output_type": "stream",
     "text": [
      "Mean loss at epoch 2000 : 0.7076405882835388\n"
     ]
    },
    {
     "name": "stderr",
     "output_type": "stream",
     "text": [
      " 40%|████      | 4019/10000 [00:32<00:49, 121.30it/s]"
     ]
    },
    {
     "name": "stdout",
     "output_type": "stream",
     "text": [
      "Mean loss at epoch 4000 : 0.5867149829864502\n"
     ]
    },
    {
     "name": "stderr",
     "output_type": "stream",
     "text": [
      " 60%|██████    | 6016/10000 [00:48<00:30, 129.85it/s]"
     ]
    },
    {
     "name": "stdout",
     "output_type": "stream",
     "text": [
      "Mean loss at epoch 6000 : 0.6390182971954346\n"
     ]
    },
    {
     "name": "stderr",
     "output_type": "stream",
     "text": [
      " 80%|████████  | 8014/10000 [01:04<00:16, 122.70it/s]"
     ]
    },
    {
     "name": "stdout",
     "output_type": "stream",
     "text": [
      "Mean loss at epoch 8000 : 0.6194700002670288\n"
     ]
    },
    {
     "name": "stderr",
     "output_type": "stream",
     "text": [
      "100%|██████████| 10000/10000 [01:20<00:00, 123.84it/s]\n",
      "[INFO 04-26 15:39:00] ax.service.managed_loop: Running optimization trial 9...\n",
      "  0%|          | 9/10000 [00:00<02:00, 83.17it/s]"
     ]
    },
    {
     "name": "stdout",
     "output_type": "stream",
     "text": [
      "Mean loss at epoch 0 : 1.687156319618225\n"
     ]
    },
    {
     "name": "stderr",
     "output_type": "stream",
     "text": [
      " 20%|██        | 2014/10000 [00:22<01:30, 88.27it/s]"
     ]
    },
    {
     "name": "stdout",
     "output_type": "stream",
     "text": [
      "Mean loss at epoch 2000 : 1.0823053121566772\n"
     ]
    },
    {
     "name": "stderr",
     "output_type": "stream",
     "text": [
      " 40%|████      | 4018/10000 [00:45<01:05, 90.88it/s]"
     ]
    },
    {
     "name": "stdout",
     "output_type": "stream",
     "text": [
      "Mean loss at epoch 4000 : 0.6627697348594666\n"
     ]
    },
    {
     "name": "stderr",
     "output_type": "stream",
     "text": [
      " 60%|██████    | 6011/10000 [01:07<00:45, 88.42it/s]"
     ]
    },
    {
     "name": "stdout",
     "output_type": "stream",
     "text": [
      "Mean loss at epoch 6000 : 0.916266918182373\n"
     ]
    },
    {
     "name": "stderr",
     "output_type": "stream",
     "text": [
      " 80%|████████  | 8018/10000 [01:30<00:21, 92.57it/s]"
     ]
    },
    {
     "name": "stdout",
     "output_type": "stream",
     "text": [
      "Mean loss at epoch 8000 : 0.7948074340820312\n"
     ]
    },
    {
     "name": "stderr",
     "output_type": "stream",
     "text": [
      "100%|██████████| 10000/10000 [01:53<00:00, 88.39it/s]\n",
      "[INFO 04-26 15:40:54] ax.service.managed_loop: Running optimization trial 10...\n",
      "  0%|          | 7/10000 [00:00<02:37, 63.35it/s]"
     ]
    },
    {
     "name": "stdout",
     "output_type": "stream",
     "text": [
      "Mean loss at epoch 0 : 1.6244564056396484\n"
     ]
    },
    {
     "name": "stderr",
     "output_type": "stream",
     "text": [
      " 20%|██        | 2014/10000 [00:31<02:05, 63.77it/s]"
     ]
    },
    {
     "name": "stdout",
     "output_type": "stream",
     "text": [
      "Mean loss at epoch 2000 : 1.3974260091781616\n"
     ]
    },
    {
     "name": "stderr",
     "output_type": "stream",
     "text": [
      " 40%|████      | 4007/10000 [01:03<01:35, 62.74it/s]"
     ]
    },
    {
     "name": "stdout",
     "output_type": "stream",
     "text": [
      "Mean loss at epoch 4000 : 1.3578654527664185\n"
     ]
    },
    {
     "name": "stderr",
     "output_type": "stream",
     "text": [
      " 60%|██████    | 6011/10000 [01:34<01:02, 64.33it/s]"
     ]
    },
    {
     "name": "stdout",
     "output_type": "stream",
     "text": [
      "Mean loss at epoch 6000 : 1.3187880516052246\n"
     ]
    },
    {
     "name": "stderr",
     "output_type": "stream",
     "text": [
      " 80%|████████  | 8007/10000 [02:05<00:30, 65.47it/s]"
     ]
    },
    {
     "name": "stdout",
     "output_type": "stream",
     "text": [
      "Mean loss at epoch 8000 : 1.3358758687973022\n"
     ]
    },
    {
     "name": "stderr",
     "output_type": "stream",
     "text": [
      "100%|██████████| 10000/10000 [02:37<00:00, 63.64it/s]\n",
      "[INFO 04-26 15:43:31] ax.service.managed_loop: Running optimization trial 11...\n",
      "  0%|          | 26/10000 [00:00<01:20, 123.64it/s]"
     ]
    },
    {
     "name": "stdout",
     "output_type": "stream",
     "text": [
      "Mean loss at epoch 0 : 1.5340732336044312\n"
     ]
    },
    {
     "name": "stderr",
     "output_type": "stream",
     "text": [
      " 20%|██        | 2021/10000 [00:15<01:01, 130.56it/s]"
     ]
    },
    {
     "name": "stdout",
     "output_type": "stream",
     "text": [
      "Mean loss at epoch 2000 : 0.8517269492149353\n"
     ]
    },
    {
     "name": "stderr",
     "output_type": "stream",
     "text": [
      " 40%|████      | 4022/10000 [00:30<00:44, 134.67it/s]"
     ]
    },
    {
     "name": "stdout",
     "output_type": "stream",
     "text": [
      "Mean loss at epoch 4000 : 0.671542227268219\n"
     ]
    },
    {
     "name": "stderr",
     "output_type": "stream",
     "text": [
      " 60%|██████    | 6013/10000 [00:44<00:30, 129.23it/s]"
     ]
    },
    {
     "name": "stdout",
     "output_type": "stream",
     "text": [
      "Mean loss at epoch 6000 : 0.8873969912528992\n"
     ]
    },
    {
     "name": "stderr",
     "output_type": "stream",
     "text": [
      " 80%|████████  | 8021/10000 [00:59<00:14, 138.42it/s]"
     ]
    },
    {
     "name": "stdout",
     "output_type": "stream",
     "text": [
      "Mean loss at epoch 8000 : 0.6432924270629883\n"
     ]
    },
    {
     "name": "stderr",
     "output_type": "stream",
     "text": [
      "100%|██████████| 10000/10000 [01:14<00:00, 134.57it/s]\n",
      "[INFO 04-26 15:44:46] ax.service.managed_loop: Running optimization trial 12...\n",
      "  0%|          | 6/10000 [00:00<03:05, 53.99it/s]"
     ]
    },
    {
     "name": "stdout",
     "output_type": "stream",
     "text": [
      "Mean loss at epoch 0 : 1.5719619989395142\n"
     ]
    },
    {
     "name": "stderr",
     "output_type": "stream",
     "text": [
      " 20%|██        | 2009/10000 [00:30<01:58, 67.69it/s]"
     ]
    },
    {
     "name": "stdout",
     "output_type": "stream",
     "text": [
      "Mean loss at epoch 2000 : 0.9432867169380188\n"
     ]
    },
    {
     "name": "stderr",
     "output_type": "stream",
     "text": [
      " 40%|████      | 4007/10000 [00:59<01:34, 63.73it/s]"
     ]
    },
    {
     "name": "stdout",
     "output_type": "stream",
     "text": [
      "Mean loss at epoch 4000 : 0.8022310733795166\n"
     ]
    },
    {
     "name": "stderr",
     "output_type": "stream",
     "text": [
      " 60%|██████    | 6012/10000 [01:29<00:58, 68.61it/s]"
     ]
    },
    {
     "name": "stdout",
     "output_type": "stream",
     "text": [
      "Mean loss at epoch 6000 : 0.8449921011924744\n"
     ]
    },
    {
     "name": "stderr",
     "output_type": "stream",
     "text": [
      " 80%|████████  | 8014/10000 [01:59<00:30, 64.14it/s]"
     ]
    },
    {
     "name": "stdout",
     "output_type": "stream",
     "text": [
      "Mean loss at epoch 8000 : 0.5034452676773071\n"
     ]
    },
    {
     "name": "stderr",
     "output_type": "stream",
     "text": [
      "100%|██████████| 10000/10000 [02:29<00:00, 67.07it/s]\n",
      "[INFO 04-26 15:47:16] ax.service.managed_loop: Running optimization trial 13...\n",
      "  0%|          | 8/10000 [00:00<02:22, 70.06it/s]"
     ]
    },
    {
     "name": "stdout",
     "output_type": "stream",
     "text": [
      "Mean loss at epoch 0 : 1.5283350944519043\n"
     ]
    },
    {
     "name": "stderr",
     "output_type": "stream",
     "text": [
      " 20%|██        | 2008/10000 [00:30<02:00, 66.14it/s]"
     ]
    },
    {
     "name": "stdout",
     "output_type": "stream",
     "text": [
      "Mean loss at epoch 2000 : 1.0508334636688232\n"
     ]
    },
    {
     "name": "stderr",
     "output_type": "stream",
     "text": [
      " 40%|████      | 4008/10000 [01:00<01:27, 68.70it/s]"
     ]
    },
    {
     "name": "stdout",
     "output_type": "stream",
     "text": [
      "Mean loss at epoch 4000 : 0.621735692024231\n"
     ]
    },
    {
     "name": "stderr",
     "output_type": "stream",
     "text": [
      " 60%|██████    | 6013/10000 [01:30<01:00, 66.01it/s]"
     ]
    },
    {
     "name": "stdout",
     "output_type": "stream",
     "text": [
      "Mean loss at epoch 6000 : 0.8328830003738403\n"
     ]
    },
    {
     "name": "stderr",
     "output_type": "stream",
     "text": [
      " 80%|████████  | 8011/10000 [02:00<00:30, 66.14it/s]"
     ]
    },
    {
     "name": "stdout",
     "output_type": "stream",
     "text": [
      "Mean loss at epoch 8000 : 0.5345103740692139\n"
     ]
    },
    {
     "name": "stderr",
     "output_type": "stream",
     "text": [
      "100%|██████████| 10000/10000 [02:30<00:00, 66.59it/s]\n",
      "[INFO 04-26 15:49:46] ax.service.managed_loop: Running optimization trial 14...\n",
      "  0%|          | 23/10000 [00:00<01:29, 111.70it/s]"
     ]
    },
    {
     "name": "stdout",
     "output_type": "stream",
     "text": [
      "Mean loss at epoch 0 : 1.576817274093628\n"
     ]
    },
    {
     "name": "stderr",
     "output_type": "stream",
     "text": [
      " 20%|██        | 2021/10000 [00:16<01:06, 120.12it/s]"
     ]
    },
    {
     "name": "stdout",
     "output_type": "stream",
     "text": [
      "Mean loss at epoch 2000 : 1.368042230606079\n"
     ]
    },
    {
     "name": "stderr",
     "output_type": "stream",
     "text": [
      " 40%|████      | 4025/10000 [00:33<00:49, 121.17it/s]"
     ]
    },
    {
     "name": "stdout",
     "output_type": "stream",
     "text": [
      "Mean loss at epoch 4000 : 1.3892046213150024\n"
     ]
    },
    {
     "name": "stderr",
     "output_type": "stream",
     "text": [
      " 60%|██████    | 6015/10000 [00:50<00:33, 120.55it/s]"
     ]
    },
    {
     "name": "stdout",
     "output_type": "stream",
     "text": [
      "Mean loss at epoch 6000 : 1.373066782951355\n"
     ]
    },
    {
     "name": "stderr",
     "output_type": "stream",
     "text": [
      " 80%|████████  | 8024/10000 [01:06<00:16, 118.56it/s]"
     ]
    },
    {
     "name": "stdout",
     "output_type": "stream",
     "text": [
      "Mean loss at epoch 8000 : 1.3231126070022583\n"
     ]
    },
    {
     "name": "stderr",
     "output_type": "stream",
     "text": [
      "100%|██████████| 10000/10000 [01:23<00:00, 120.08it/s]\n",
      "[INFO 04-26 15:51:10] ax.service.managed_loop: Running optimization trial 15...\n",
      "  0%|          | 18/10000 [00:00<01:58, 84.42it/s]"
     ]
    },
    {
     "name": "stdout",
     "output_type": "stream",
     "text": [
      "Mean loss at epoch 0 : 1.5352585315704346\n"
     ]
    },
    {
     "name": "stderr",
     "output_type": "stream",
     "text": [
      " 20%|██        | 2015/10000 [00:22<01:30, 88.44it/s]"
     ]
    },
    {
     "name": "stdout",
     "output_type": "stream",
     "text": [
      "Mean loss at epoch 2000 : 1.0195990800857544\n"
     ]
    },
    {
     "name": "stderr",
     "output_type": "stream",
     "text": [
      " 40%|████      | 4015/10000 [00:45<01:09, 86.49it/s]"
     ]
    },
    {
     "name": "stdout",
     "output_type": "stream",
     "text": [
      "Mean loss at epoch 4000 : 1.087009310722351\n"
     ]
    },
    {
     "name": "stderr",
     "output_type": "stream",
     "text": [
      " 60%|██████    | 6016/10000 [01:07<00:44, 90.14it/s]"
     ]
    },
    {
     "name": "stdout",
     "output_type": "stream",
     "text": [
      "Mean loss at epoch 6000 : 0.7972564101219177\n"
     ]
    },
    {
     "name": "stderr",
     "output_type": "stream",
     "text": [
      " 80%|████████  | 8013/10000 [01:29<00:21, 91.45it/s]"
     ]
    },
    {
     "name": "stdout",
     "output_type": "stream",
     "text": [
      "Mean loss at epoch 8000 : 0.9012582898139954\n"
     ]
    },
    {
     "name": "stderr",
     "output_type": "stream",
     "text": [
      "100%|██████████| 10000/10000 [01:51<00:00, 89.31it/s]\n",
      "[INFO 04-26 15:53:03] ax.service.managed_loop: Running optimization trial 16...\n",
      "  0%|          | 25/10000 [00:00<01:24, 118.71it/s]"
     ]
    },
    {
     "name": "stdout",
     "output_type": "stream",
     "text": [
      "Mean loss at epoch 0 : 1.6463383436203003\n"
     ]
    },
    {
     "name": "stderr",
     "output_type": "stream",
     "text": [
      " 20%|██        | 2016/10000 [00:16<01:06, 119.22it/s]"
     ]
    },
    {
     "name": "stdout",
     "output_type": "stream",
     "text": [
      "Mean loss at epoch 2000 : 0.8965983986854553\n"
     ]
    },
    {
     "name": "stderr",
     "output_type": "stream",
     "text": [
      " 40%|████      | 4016/10000 [00:32<00:49, 122.08it/s]"
     ]
    },
    {
     "name": "stdout",
     "output_type": "stream",
     "text": [
      "Mean loss at epoch 4000 : 0.8742009997367859\n"
     ]
    },
    {
     "name": "stderr",
     "output_type": "stream",
     "text": [
      " 60%|██████    | 6027/10000 [00:49<00:31, 124.27it/s]"
     ]
    },
    {
     "name": "stdout",
     "output_type": "stream",
     "text": [
      "Mean loss at epoch 6000 : 0.748678982257843\n"
     ]
    },
    {
     "name": "stderr",
     "output_type": "stream",
     "text": [
      " 80%|████████  | 8017/10000 [01:05<00:15, 125.54it/s]"
     ]
    },
    {
     "name": "stdout",
     "output_type": "stream",
     "text": [
      "Mean loss at epoch 8000 : 0.7289639115333557\n"
     ]
    },
    {
     "name": "stderr",
     "output_type": "stream",
     "text": [
      "100%|██████████| 10000/10000 [01:21<00:00, 122.77it/s]\n",
      "[INFO 04-26 15:54:24] ax.service.managed_loop: Running optimization trial 17...\n",
      "  0%|          | 17/10000 [00:00<02:05, 79.49it/s]"
     ]
    },
    {
     "name": "stdout",
     "output_type": "stream",
     "text": [
      "Mean loss at epoch 0 : 1.6602942943572998\n"
     ]
    },
    {
     "name": "stderr",
     "output_type": "stream",
     "text": [
      " 20%|██        | 2017/10000 [00:22<01:32, 86.16it/s]"
     ]
    },
    {
     "name": "stdout",
     "output_type": "stream",
     "text": [
      "Mean loss at epoch 2000 : 1.1598929166793823\n"
     ]
    },
    {
     "name": "stderr",
     "output_type": "stream",
     "text": [
      " 40%|████      | 4017/10000 [00:45<01:08, 86.71it/s]"
     ]
    },
    {
     "name": "stdout",
     "output_type": "stream",
     "text": [
      "Mean loss at epoch 4000 : 1.219283103942871\n"
     ]
    },
    {
     "name": "stderr",
     "output_type": "stream",
     "text": [
      " 60%|██████    | 6018/10000 [01:08<00:44, 89.13it/s]"
     ]
    },
    {
     "name": "stdout",
     "output_type": "stream",
     "text": [
      "Mean loss at epoch 6000 : 0.801910400390625\n"
     ]
    },
    {
     "name": "stderr",
     "output_type": "stream",
     "text": [
      " 80%|████████  | 8015/10000 [01:31<00:23, 83.07it/s]"
     ]
    },
    {
     "name": "stdout",
     "output_type": "stream",
     "text": [
      "Mean loss at epoch 8000 : 0.9615063667297363\n"
     ]
    },
    {
     "name": "stderr",
     "output_type": "stream",
     "text": [
      "100%|██████████| 10000/10000 [01:54<00:00, 87.07it/s]\n",
      "[INFO 04-26 15:56:20] ax.service.managed_loop: Running optimization trial 18...\n",
      "  0%|          | 11/10000 [00:00<01:36, 103.32it/s]"
     ]
    },
    {
     "name": "stdout",
     "output_type": "stream",
     "text": [
      "Mean loss at epoch 0 : 1.594637393951416\n"
     ]
    },
    {
     "name": "stderr",
     "output_type": "stream",
     "text": [
      " 20%|██        | 2021/10000 [00:20<01:18, 101.03it/s]"
     ]
    },
    {
     "name": "stdout",
     "output_type": "stream",
     "text": [
      "Mean loss at epoch 2000 : 1.2749974727630615\n"
     ]
    },
    {
     "name": "stderr",
     "output_type": "stream",
     "text": [
      " 40%|████      | 4017/10000 [00:40<00:57, 103.44it/s]"
     ]
    },
    {
     "name": "stdout",
     "output_type": "stream",
     "text": [
      "Mean loss at epoch 4000 : 1.3782099485397339\n"
     ]
    },
    {
     "name": "stderr",
     "output_type": "stream",
     "text": [
      " 60%|██████    | 6018/10000 [01:00<00:40, 98.06it/s]"
     ]
    },
    {
     "name": "stdout",
     "output_type": "stream",
     "text": [
      "Mean loss at epoch 6000 : 1.120197057723999\n"
     ]
    },
    {
     "name": "stderr",
     "output_type": "stream",
     "text": [
      " 80%|████████  | 8016/10000 [01:20<00:20, 98.01it/s]"
     ]
    },
    {
     "name": "stdout",
     "output_type": "stream",
     "text": [
      "Mean loss at epoch 8000 : 1.1948096752166748\n"
     ]
    },
    {
     "name": "stderr",
     "output_type": "stream",
     "text": [
      "100%|██████████| 10000/10000 [01:39<00:00, 100.04it/s]\n",
      "[INFO 04-26 15:58:00] ax.service.managed_loop: Running optimization trial 19...\n",
      "  0%|          | 22/10000 [00:00<01:36, 102.92it/s]"
     ]
    },
    {
     "name": "stdout",
     "output_type": "stream",
     "text": [
      "Mean loss at epoch 0 : 1.595399022102356\n"
     ]
    },
    {
     "name": "stderr",
     "output_type": "stream",
     "text": [
      " 20%|██        | 2014/10000 [00:19<01:18, 101.38it/s]"
     ]
    },
    {
     "name": "stdout",
     "output_type": "stream",
     "text": [
      "Mean loss at epoch 2000 : 1.2384999990463257\n"
     ]
    },
    {
     "name": "stderr",
     "output_type": "stream",
     "text": [
      " 40%|████      | 4012/10000 [00:39<00:58, 102.18it/s]"
     ]
    },
    {
     "name": "stdout",
     "output_type": "stream",
     "text": [
      "Mean loss at epoch 4000 : 1.3426313400268555\n"
     ]
    },
    {
     "name": "stderr",
     "output_type": "stream",
     "text": [
      " 60%|██████    | 6015/10000 [00:58<00:38, 103.71it/s]"
     ]
    },
    {
     "name": "stdout",
     "output_type": "stream",
     "text": [
      "Mean loss at epoch 6000 : 1.251702070236206\n"
     ]
    },
    {
     "name": "stderr",
     "output_type": "stream",
     "text": [
      " 80%|████████  | 8019/10000 [01:17<00:19, 102.39it/s]"
     ]
    },
    {
     "name": "stdout",
     "output_type": "stream",
     "text": [
      "Mean loss at epoch 8000 : 1.3678447008132935\n"
     ]
    },
    {
     "name": "stderr",
     "output_type": "stream",
     "text": [
      "100%|██████████| 10000/10000 [01:36<00:00, 103.21it/s]\n",
      "[INFO 04-26 15:59:38] ax.service.managed_loop: Running optimization trial 20...\n",
      "  0%|          | 12/10000 [00:00<01:25, 116.86it/s]"
     ]
    },
    {
     "name": "stdout",
     "output_type": "stream",
     "text": [
      "Mean loss at epoch 0 : 1.6071455478668213\n"
     ]
    },
    {
     "name": "stderr",
     "output_type": "stream",
     "text": [
      " 20%|██        | 2013/10000 [00:16<01:05, 122.37it/s]"
     ]
    },
    {
     "name": "stdout",
     "output_type": "stream",
     "text": [
      "Mean loss at epoch 2000 : 1.3488887548446655\n"
     ]
    },
    {
     "name": "stderr",
     "output_type": "stream",
     "text": [
      " 40%|████      | 4025/10000 [00:33<00:49, 119.89it/s]"
     ]
    },
    {
     "name": "stdout",
     "output_type": "stream",
     "text": [
      "Mean loss at epoch 4000 : 1.2575315237045288\n"
     ]
    },
    {
     "name": "stderr",
     "output_type": "stream",
     "text": [
      " 60%|██████    | 6023/10000 [00:49<00:32, 120.98it/s]"
     ]
    },
    {
     "name": "stdout",
     "output_type": "stream",
     "text": [
      "Mean loss at epoch 6000 : 1.1535930633544922\n"
     ]
    },
    {
     "name": "stderr",
     "output_type": "stream",
     "text": [
      " 80%|████████  | 8024/10000 [01:06<00:16, 119.73it/s]"
     ]
    },
    {
     "name": "stdout",
     "output_type": "stream",
     "text": [
      "Mean loss at epoch 8000 : 1.1322364807128906\n"
     ]
    },
    {
     "name": "stderr",
     "output_type": "stream",
     "text": [
      "100%|██████████| 10000/10000 [01:22<00:00, 120.62it/s]\n"
     ]
    }
   ],
   "source": [
    "best_parameters, values, experiment, model = tuner.run_experiment(trainloader, valiloader)"
   ]
  },
  {
   "cell_type": "code",
   "execution_count": 0,
   "metadata": {
    "colab": {},
    "colab_type": "code",
    "id": "lyQnGFZO5fvV"
   },
   "outputs": [],
   "source": [
    "best_parameters['type'] = '1_d_regression'"
   ]
  },
  {
   "cell_type": "code",
   "execution_count": 15,
   "metadata": {
    "colab": {
     "base_uri": "https://localhost:8080/",
     "height": 215
    },
    "colab_type": "code",
    "executionInfo": {
     "elapsed": 473,
     "status": "error",
     "timestamp": 1587917195333,
     "user": {
      "displayName": "Fred Che",
      "photoUrl": "",
      "userId": "07612464138287230381"
     },
     "user_tz": -120
    },
    "id": "aGgPAtmV5fvY",
    "outputId": "d5ef18d3-824e-4280-ab3b-1815987fcdbe"
   },
   "outputs": [
    {
     "ename": "FileNotFoundError",
     "evalue": "ignored",
     "output_type": "error",
     "traceback": [
      "\u001b[0;31m---------------------------------------------------------------------------\u001b[0m",
      "\u001b[0;31mFileNotFoundError\u001b[0m                         Traceback (most recent call last)",
      "\u001b[0;32m<ipython-input-15-9f08c461dfb4>\u001b[0m in \u001b[0;36m<module>\u001b[0;34m()\u001b[0m\n\u001b[1;32m      1\u001b[0m \u001b[0mdate\u001b[0m \u001b[0;34m=\u001b[0m \u001b[0;34mf'{str(date.today().year)}_{str(date.today().month).zfill(2)}_{date.today().day}'\u001b[0m\u001b[0;34m\u001b[0m\u001b[0;34m\u001b[0m\u001b[0m\n\u001b[1;32m      2\u001b[0m \u001b[0mpath_to_results\u001b[0m \u001b[0;34m=\u001b[0m \u001b[0mos\u001b[0m\u001b[0;34m.\u001b[0m\u001b[0mpath\u001b[0m\u001b[0;34m.\u001b[0m\u001b[0mjoin\u001b[0m\u001b[0;34m(\u001b[0m\u001b[0mos\u001b[0m\u001b[0;34m.\u001b[0m\u001b[0mgetcwd\u001b[0m\u001b[0;34m(\u001b[0m\u001b[0;34m)\u001b[0m\u001b[0;34m,\u001b[0m\u001b[0;34m'tuning_results'\u001b[0m\u001b[0;34m,\u001b[0m\u001b[0mdate\u001b[0m\u001b[0;34m)\u001b[0m\u001b[0;34m\u001b[0m\u001b[0;34m\u001b[0m\u001b[0m\n\u001b[0;32m----> 3\u001b[0;31m \u001b[0;32mwith\u001b[0m \u001b[0mopen\u001b[0m \u001b[0;34m(\u001b[0m\u001b[0mpath_to_results\u001b[0m\u001b[0;34m,\u001b[0m\u001b[0;34m'w'\u001b[0m\u001b[0;34m)\u001b[0m \u001b[0;32mas\u001b[0m \u001b[0mfile\u001b[0m\u001b[0;34m:\u001b[0m\u001b[0;34m\u001b[0m\u001b[0;34m\u001b[0m\u001b[0m\n\u001b[0m\u001b[1;32m      4\u001b[0m     \u001b[0mjson\u001b[0m\u001b[0;34m.\u001b[0m\u001b[0mdump\u001b[0m\u001b[0;34m(\u001b[0m\u001b[0mtest_params\u001b[0m\u001b[0;34m,\u001b[0m \u001b[0mfp\u001b[0m\u001b[0;34m)\u001b[0m\u001b[0;34m\u001b[0m\u001b[0;34m\u001b[0m\u001b[0m\n",
      "\u001b[0;31mFileNotFoundError\u001b[0m: [Errno 2] No such file or directory: '/content/tuning_results/2020_04_26'"
     ]
    }
   ],
   "source": [
    "date = f'{str(date.today().year)}_{str(date.today().month).zfill(2)}_{date.today().day}'\n",
    "path_to_results = os.path.join(os.getcwd(),'tuning_results',date)\n",
    "with open (path_to_results,'w') as file:\n",
    "    json.dump(test_params, fp)"
   ]
  }
 ],
 "metadata": {
  "accelerator": "GPU",
  "colab": {
   "collapsed_sections": [],
   "name": "hyperparam_tuning.ipynb",
   "provenance": []
  },
  "kernelspec": {
   "display_name": "tfm",
   "language": "python",
   "name": "tfm"
  },
  "language_info": {
   "codemirror_mode": {
    "name": "ipython",
    "version": 3
   },
   "file_extension": ".py",
   "mimetype": "text/x-python",
   "name": "python",
   "nbconvert_exporter": "python",
   "pygments_lexer": "ipython3",
   "version": "3.8.2+"
  }
 },
 "nbformat": 4,
 "nbformat_minor": 1
}
