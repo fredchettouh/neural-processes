{
 "cells": [
  {
   "cell_type": "code",
   "execution_count": 1,
   "metadata": {},
   "outputs": [],
   "source": [
    "%load_ext autoreload\n",
    "%autoreload 2"
   ]
  },
  {
   "cell_type": "code",
   "execution_count": 2,
   "metadata": {
    "colab": {
     "base_uri": "https://localhost:8080/",
     "height": 51
    },
    "colab_type": "code",
    "executionInfo": {
     "elapsed": 10717,
     "status": "ok",
     "timestamp": 1588854751226,
     "user": {
      "displayName": "Fred Che",
      "photoUrl": "",
      "userId": "07612464138287230381"
     },
     "user_tz": -120
    },
    "id": "sf1IdGXyHp9b",
    "outputId": "89035aa9-87b7-4814-dee7-f678e97a8a6e"
   },
   "outputs": [
    {
     "name": "stdout",
     "output_type": "stream",
     "text": [
      "Running on Colab?\n",
      "no\n",
      "Top level directory is set to /Users/frederik/Google Drive/University/UC3M/TFM/cnp_repo/neural-processes\n"
     ]
    }
   ],
   "source": [
    "import os\n",
    "google_colab = input('Running on Colab?\\n')\n",
    "if google_colab=='yes' : \n",
    "    BASE_DIR = 'University/UC3M/TFM/cnp_repo/neural-processes'\n",
    "\n",
    "    # Load the Drive helper and mount\n",
    "    from google.colab import drive\n",
    "\n",
    "    # This will prompt for authorization.\n",
    "    drive.mount('/content/drive')\n",
    "\n",
    "      # Change to assignment directory ('Lab_Exercises_DASS/Lab_Exercise4' by default)\n",
    "    import os\n",
    "    os.chdir(f'/content/drive/My Drive/{BASE_DIR}')\n",
    "    \n",
    "else:\n",
    "    import sys, os \n",
    "    BASE_DIR = '/'.join(os.getcwd().split('/')[:-1])\n",
    "    sys.path.append(BASE_DIR)\n",
    "    print(f'Top level directory is set to {BASE_DIR}')\n",
    "    os.chdir(BASE_DIR)\n",
    "\n",
    "    \n",
    "# custom imports\n",
    "from cnp.trainer import RegressionTrainer\n",
    "from cnp.datageneration import DataGenerator\n",
    "from cnp.helpers import Helper\n",
    "\n",
    "import torch\n",
    "import numpy as np\n",
    "\n",
    "# import utils\n",
    "import json\n",
    "from datetime import date"
   ]
  },
  {
   "cell_type": "code",
   "execution_count": 20,
   "metadata": {},
   "outputs": [
    {
     "name": "stdout",
     "output_type": "stream",
     "text": [
      "No GPU available, training on CPU\n"
     ]
    },
    {
     "data": {
      "text/plain": [
       "{'datagenerator': 'cnp.datageneration.PolynomialRegression',\n",
       " 'dim_observation': 50,\n",
       " 'dimout': 2,\n",
       " 'dimr': 128,\n",
       " 'dimx': 1,\n",
       " 'dimy': 1,\n",
       " 'dropout': 0,\n",
       " 'lr': 0.0001,\n",
       " 'max_contx': 10,\n",
       " 'max_funcs': 10,\n",
       " 'min_contx': 3,\n",
       " 'min_funcs': 2,\n",
       " 'n_epochs': 1000,\n",
       " 'num_layers_decoder': 3,\n",
       " 'num_layers_encoder': 4,\n",
       " 'aggregation_kwargs': {'aggregator': 'AggrLSTM',\n",
       "  'insize': 10,\n",
       "  'dimout': 1,\n",
       "  'num_layers': 2,\n",
       "  'num_neurons': 128,\n",
       "  'batch_first': True},\n",
       " 'num_neurons_decoder': 128,\n",
       " 'num_neurons_encoder': 128,\n",
       " 'print_after': 100,\n",
       " 'range_x': [-2, 2],\n",
       " 'seed': 0,\n",
       " 'train_on_gpu': False}"
      ]
     },
     "execution_count": 20,
     "metadata": {},
     "output_type": "execute_result"
    }
   ],
   "source": [
    "\n",
    "# we first get the variables for the configuration file\n",
    "os.environ[\"CHECKPOINT_DIR\"] = \"checkpoints\"\n",
    "os.environ[\"MODEL_PARAMS\"] = \"default\"\n",
    "\n",
    "CHECKPOINT_DIR = os.environ['CHECKPOINT_DIR']\n",
    "MODEL_PARAMS = os.environ['MODEL_PARAMS']\n",
    "\n",
    "if google_colab=='yes':\n",
    "    config_dir = ''\n",
    "else:\n",
    "    config_dir = os.path.join(BASE_DIR,'configs')\n",
    "\n",
    "with open(os.path.join(config_dir,'1d_singlefunc_config.json')) as f:\n",
    "    file = f.read()\n",
    "    default_conf = json.loads(file)\n",
    "\n",
    "\n",
    "# checking whether CUDA is available \n",
    "train_on_gpu = torch.cuda.is_available()\n",
    "if(train_on_gpu):\n",
    "    print('Training on GPU!')\n",
    "    default_conf['single_function']['experiment_params']['train_on_gpu'] = True\n",
    "else: \n",
    "    print('No GPU available, training on CPU')\n",
    "    default_conf['single_function']['experiment_params']['train_on_gpu'] = False\n",
    "    \n",
    "default_conf['multiple_functions']['experiment_params']"
   ]
  },
  {
   "cell_type": "markdown",
   "metadata": {
    "colab_type": "text",
    "id": "2Uh33yfUVX9U"
   },
   "source": [
    "## Simple MLP aggregation"
   ]
  },
  {
   "cell_type": "code",
   "execution_count": 33,
   "metadata": {},
   "outputs": [],
   "source": [
    "kwargs = default_conf['multiple_functions']['training_params']['kwargs']"
   ]
  },
  {
   "cell_type": "code",
   "execution_count": 34,
   "metadata": {
    "colab": {},
    "colab_type": "code",
    "id": "5ihjWlKq5ylu"
   },
   "outputs": [],
   "source": [
    "# creating an instance of to orchestrate the training\n",
    "trainer = RegressionTrainer(**default_conf['multiple_functions']['experiment_params'])"
   ]
  },
  {
   "cell_type": "code",
   "execution_count": 35,
   "metadata": {
    "colab": {},
    "colab_type": "code",
    "id": "Herzps7VVX91",
    "scrolled": false
   },
   "outputs": [
    {
     "name": "stderr",
     "output_type": "stream",
     "text": [
      "\r",
      "  0%|          | 0/1000 [00:00<?, ?it/s]"
     ]
    },
    {
     "name": "stdout",
     "output_type": "stream",
     "text": [
      "Mean training loss at epoch 0 :                         9.166\n",
      "Mean Validation loss after 0 equals                     4.547\n",
      "\n",
      "Validation loss for the function plotted:                 4.547\n"
     ]
    },
    {
     "data": {
      "image/png": "[encoded data removed]",
      "text/plain": [
       "<Figure size 432x288 with 1 Axes>"
      ]
     },
     "metadata": {
      "needs_background": "light"
     },
     "output_type": "display_data"
    },
    {
     "name": "stderr",
     "output_type": "stream",
     "text": [
      "  0%|          | 2/1000 [00:13<1:54:27,  6.88s/it]\n"
     ]
    },
    {
     "ename": "KeyboardInterrupt",
     "evalue": "",
     "output_type": "error",
     "traceback": [
      "\u001b[0;31m---------------------------------------------------------------------------\u001b[0m",
      "\u001b[0;31mKeyboardInterrupt\u001b[0m                         Traceback (most recent call last)",
      "\u001b[0;32m<ipython-input-35-39f3a6b984aa>\u001b[0m in \u001b[0;36m<module>\u001b[0;34m\u001b[0m\n\u001b[0;32m----> 1\u001b[0;31m state_dict_encoder, state_dict_decoder = trainer.run_training(batch_size_train=1,\n\u001b[0m\u001b[1;32m      2\u001b[0m              \u001b[0mbatch_size_vali\u001b[0m\u001b[0;34m=\u001b[0m\u001b[0;36m1\u001b[0m\u001b[0;34m,\u001b[0m\u001b[0;34m\u001b[0m\u001b[0;34m\u001b[0m\u001b[0m\n\u001b[1;32m      3\u001b[0m              \u001b[0mplotting\u001b[0m\u001b[0;34m=\u001b[0m\u001b[0;32mTrue\u001b[0m\u001b[0;34m,\u001b[0m\u001b[0;34m\u001b[0m\u001b[0;34m\u001b[0m\u001b[0m\n\u001b[1;32m      4\u001b[0m              kwargs=kwargs)\n",
      "\u001b[0;32m~/Google Drive/University/UC3M/TFM/cnp_repo/neural-processes/cnp/trainer.py\u001b[0m in \u001b[0;36mrun_training\u001b[0;34m(self, plotting, batch_size_train, batch_size_vali, kwargs)\u001b[0m\n\u001b[1;32m    258\u001b[0m                 \u001b[0mrunning_loss\u001b[0m \u001b[0;34m+=\u001b[0m \u001b[0mloss\u001b[0m\u001b[0;34m.\u001b[0m\u001b[0mitem\u001b[0m\u001b[0;34m(\u001b[0m\u001b[0;34m)\u001b[0m\u001b[0;34m\u001b[0m\u001b[0;34m\u001b[0m\u001b[0m\n\u001b[1;32m    259\u001b[0m \u001b[0;34m\u001b[0m\u001b[0m\n\u001b[0;32m--> 260\u001b[0;31m                 \u001b[0mloss\u001b[0m\u001b[0;34m.\u001b[0m\u001b[0mbackward\u001b[0m\u001b[0;34m(\u001b[0m\u001b[0;34m)\u001b[0m\u001b[0;34m\u001b[0m\u001b[0;34m\u001b[0m\u001b[0m\n\u001b[0m\u001b[1;32m    261\u001b[0m                 \u001b[0moptimizer\u001b[0m\u001b[0;34m.\u001b[0m\u001b[0mstep\u001b[0m\u001b[0;34m(\u001b[0m\u001b[0;34m)\u001b[0m\u001b[0;34m\u001b[0m\u001b[0;34m\u001b[0m\u001b[0m\n\u001b[1;32m    262\u001b[0m \u001b[0;34m\u001b[0m\u001b[0m\n",
      "\u001b[0;32m~/Google Drive/University/UC3M/TFM/cnp_repo/neural-processes/tfm/lib/python3.8/site-packages/torch/tensor.py\u001b[0m in \u001b[0;36mbackward\u001b[0;34m(self, gradient, retain_graph, create_graph)\u001b[0m\n\u001b[1;32m    193\u001b[0m                 \u001b[0mproducts\u001b[0m\u001b[0;34m.\u001b[0m \u001b[0mDefaults\u001b[0m \u001b[0mto\u001b[0m\u001b[0;31m \u001b[0m\u001b[0;31m`\u001b[0m\u001b[0;31m`\u001b[0m\u001b[0;32mFalse\u001b[0m\u001b[0;31m`\u001b[0m\u001b[0;31m`\u001b[0m\u001b[0;34m.\u001b[0m\u001b[0;34m\u001b[0m\u001b[0;34m\u001b[0m\u001b[0m\n\u001b[1;32m    194\u001b[0m         \"\"\"\n\u001b[0;32m--> 195\u001b[0;31m         \u001b[0mtorch\u001b[0m\u001b[0;34m.\u001b[0m\u001b[0mautograd\u001b[0m\u001b[0;34m.\u001b[0m\u001b[0mbackward\u001b[0m\u001b[0;34m(\u001b[0m\u001b[0mself\u001b[0m\u001b[0;34m,\u001b[0m \u001b[0mgradient\u001b[0m\u001b[0;34m,\u001b[0m \u001b[0mretain_graph\u001b[0m\u001b[0;34m,\u001b[0m \u001b[0mcreate_graph\u001b[0m\u001b[0;34m)\u001b[0m\u001b[0;34m\u001b[0m\u001b[0;34m\u001b[0m\u001b[0m\n\u001b[0m\u001b[1;32m    196\u001b[0m \u001b[0;34m\u001b[0m\u001b[0m\n\u001b[1;32m    197\u001b[0m     \u001b[0;32mdef\u001b[0m \u001b[0mregister_hook\u001b[0m\u001b[0;34m(\u001b[0m\u001b[0mself\u001b[0m\u001b[0;34m,\u001b[0m \u001b[0mhook\u001b[0m\u001b[0;34m)\u001b[0m\u001b[0;34m:\u001b[0m\u001b[0;34m\u001b[0m\u001b[0;34m\u001b[0m\u001b[0m\n",
      "\u001b[0;32m~/Google Drive/University/UC3M/TFM/cnp_repo/neural-processes/tfm/lib/python3.8/site-packages/torch/autograd/__init__.py\u001b[0m in \u001b[0;36mbackward\u001b[0;34m(tensors, grad_tensors, retain_graph, create_graph, grad_variables)\u001b[0m\n\u001b[1;32m     95\u001b[0m         \u001b[0mretain_graph\u001b[0m \u001b[0;34m=\u001b[0m \u001b[0mcreate_graph\u001b[0m\u001b[0;34m\u001b[0m\u001b[0;34m\u001b[0m\u001b[0m\n\u001b[1;32m     96\u001b[0m \u001b[0;34m\u001b[0m\u001b[0m\n\u001b[0;32m---> 97\u001b[0;31m     Variable._execution_engine.run_backward(\n\u001b[0m\u001b[1;32m     98\u001b[0m         \u001b[0mtensors\u001b[0m\u001b[0;34m,\u001b[0m \u001b[0mgrad_tensors\u001b[0m\u001b[0;34m,\u001b[0m \u001b[0mretain_graph\u001b[0m\u001b[0;34m,\u001b[0m \u001b[0mcreate_graph\u001b[0m\u001b[0;34m,\u001b[0m\u001b[0;34m\u001b[0m\u001b[0;34m\u001b[0m\u001b[0m\n\u001b[1;32m     99\u001b[0m         allow_unreachable=True)  # allow_unreachable flag\n",
      "\u001b[0;31mKeyboardInterrupt\u001b[0m: "
     ]
    }
   ],
   "source": [
    "state_dict_encoder, state_dict_decoder = trainer.run_training(batch_size_train=1,\n",
    "             batch_size_vali=1,\n",
    "             plotting=True,\n",
    "             kwargs=kwargs)"
   ]
  },
  {
   "cell_type": "markdown",
   "metadata": {},
   "source": [
    "## Simple RNN aggregation"
   ]
  },
  {
   "cell_type": "code",
   "execution_count": 9,
   "metadata": {},
   "outputs": [
    {
     "name": "stdout",
     "output_type": "stream",
     "text": [
      "No GPU available, training on CPU\n"
     ]
    },
    {
     "data": {
      "text/plain": [
       "{'datagenerator': 'cnp.datageneration.PolynomialRegression',\n",
       " 'dim_observation': 50,\n",
       " 'dimout': 2,\n",
       " 'dimr': 128,\n",
       " 'dimx': 1,\n",
       " 'dimy': 1,\n",
       " 'dropout': 0,\n",
       " 'lr': 0.0001,\n",
       " 'max_contx': 10,\n",
       " 'max_funcs': 10,\n",
       " 'min_contx': 3,\n",
       " 'min_funcs': 2,\n",
       " 'n_epochs': 1000,\n",
       " 'num_layers_aggr': 3,\n",
       " 'num_layers_decoder': 3,\n",
       " 'num_layers_encoder': 4,\n",
       " 'num_neurons_aggr': 10,\n",
       " 'num_neurons_decoder': 128,\n",
       " 'num_neurons_encoder': 128,\n",
       " 'print_after': 100,\n",
       " 'range_x': [-2, 2],\n",
       " 'seed': 0,\n",
       " 'train_on_gpu': False}"
      ]
     },
     "execution_count": 9,
     "metadata": {},
     "output_type": "execute_result"
    }
   ],
   "source": [
    "\n",
    "# we first get the variables for the configuration file\n",
    "os.environ[\"CHECKPOINT_DIR\"] = \"checkpoints\"\n",
    "os.environ[\"MODEL_PARAMS\"] = \"default\"\n",
    "\n",
    "CHECKPOINT_DIR = os.environ['CHECKPOINT_DIR']\n",
    "MODEL_PARAMS = os.environ['MODEL_PARAMS']\n",
    "\n",
    "if google_colab=='yes':\n",
    "    config_dir = ''\n",
    "else:\n",
    "    config_dir = os.path.join(BASE_DIR,'configs')\n",
    "\n",
    "with open(os.path.join(config_dir,'1d_singlefunc_config.json')) as f:\n",
    "    file = f.read()\n",
    "    default_conf = json.loads(file)\n",
    "\n",
    "\n",
    "# checking whether CUDA is available \n",
    "train_on_gpu = torch.cuda.is_available()\n",
    "if(train_on_gpu):\n",
    "    print('Training on GPU!')\n",
    "    default_conf['single_function']['experiment_params']['train_on_gpu'] = True\n",
    "else: \n",
    "    print('No GPU available, training on CPU')\n",
    "    default_conf['single_function']['experiment_params']['train_on_gpu'] = False\n",
    "    \n",
    "default_conf['multiple_functions']['experiment_params']"
   ]
  },
  {
   "cell_type": "code",
   "execution_count": 10,
   "metadata": {},
   "outputs": [],
   "source": [
    "kwargs = default_conf['multiple_functions']['training_params']['kwargs']"
   ]
  },
  {
   "cell_type": "code",
   "execution_count": null,
   "metadata": {},
   "outputs": [],
   "source": [
    "# creating an instance of to orchestrate the training\n",
    "trainer = RegressionTrainer(**default_conf['multiple_functions']['experiment_params'])"
   ]
  },
  {
   "cell_type": "code",
   "execution_count": null,
   "metadata": {},
   "outputs": [],
   "source": [
    "state_dict_encoder, state_dict_decoder = trainer.run_training(batch_size_train=1,\n",
    "             batch_size_vali=1,\n",
    "             plotting=True,\n",
    "             kwargs=kwargs)"
   ]
  }
 ],
 "metadata": {
  "accelerator": "GPU",
  "colab": {
   "collapsed_sections": [],
   "name": "train_1d_paper_model.ipynb",
   "provenance": []
  },
  "kernelspec": {
   "display_name": "tfm",
   "language": "python",
   "name": "tfm"
  },
  "language_info": {
   "codemirror_mode": {
    "name": "ipython",
    "version": 3
   },
   "file_extension": ".py",
   "mimetype": "text/x-python",
   "name": "python",
   "nbconvert_exporter": "python",
   "pygments_lexer": "ipython3",
   "version": "3.8.2+"
  },
  "pycharm": {
   "stem_cell": {
    "cell_type": "raw",
    "metadata": {
     "collapsed": false
    },
    "source": []
   }
  }
 },
 "nbformat": 4,
 "nbformat_minor": 1
}
